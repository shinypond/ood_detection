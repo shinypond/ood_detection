{
 "cells": [
  {
   "cell_type": "markdown",
   "metadata": {},
   "source": [
    "# Setting"
   ]
  },
  {
   "cell_type": "code",
   "execution_count": 9,
   "metadata": {},
   "outputs": [],
   "source": [
    "import numpy as np\n",
    "import torch\n",
    "from torch import nn\n",
    "import matplotlib.pyplot as plt\n",
    "\n",
    "class config:\n",
    "    dataroot = 'data'\n",
    "    workers = 2\n",
    "    imageSize = 32\n",
    "    nc = 3 # input image channels\n",
    "    nz = 100 # size of the latent z vector\n",
    "    ngf = 64\n",
    "    ngpu = 1\n",
    "    state_E = '../../saved_models/VAE_cifar10/netE_pixel.pth'\n",
    "    state_G = '../../saved_models/VAE_cifar10/netG_pixel.pth'\n",
    "    batch_size = 1\n",
    "    train_batchsize = 1\n",
    "    num_samples=20\n",
    "    beta = 1\n",
    "    maxiter = 10000\n",
    "opt = config\n",
    "\n",
    "np.random.seed(1234)\n",
    "torch.manual_seed(1234)\n",
    "torch.backends.cudnn.deterministic = True\n",
    "torch.set_deterministic(True)"
   ]
  },
  {
   "cell_type": "markdown",
   "metadata": {},
   "source": [
    "# DataLoader"
   ]
  },
  {
   "cell_type": "code",
   "execution_count": 10,
   "metadata": {
    "scrolled": true
   },
   "outputs": [
    {
     "data": {
      "text/plain": [
       "DCGAN_G(\n",
       "  (main): Sequential(\n",
       "    (initial:100-256:convt): ConvTranspose2d(100, 256, kernel_size=(4, 4), stride=(1, 1), bias=False)\n",
       "    (initial:256:batchnorm): BatchNorm2d(256, eps=1e-05, momentum=0.1, affine=True, track_running_stats=True)\n",
       "    (initial:256:relu): ReLU(inplace=True)\n",
       "    (pyramid:256-128:convt): ConvTranspose2d(256, 128, kernel_size=(4, 4), stride=(2, 2), padding=(1, 1), bias=False)\n",
       "    (pyramid:128:batchnorm): BatchNorm2d(128, eps=1e-05, momentum=0.1, affine=True, track_running_stats=True)\n",
       "    (pyramid:128:relu): ReLU(inplace=True)\n",
       "    (pyramid:128-64:convt): ConvTranspose2d(128, 64, kernel_size=(4, 4), stride=(2, 2), padding=(1, 1), bias=False)\n",
       "    (pyramid:64:batchnorm): BatchNorm2d(64, eps=1e-05, momentum=0.1, affine=True, track_running_stats=True)\n",
       "    (pyramid:64:relu): ReLU(inplace=True)\n",
       "    (final:64-3:convt): ConvTranspose2d(64, 768, kernel_size=(4, 4), stride=(2, 2), padding=(1, 1), bias=False)\n",
       "  )\n",
       ")"
      ]
     },
     "execution_count": 10,
     "metadata": {},
     "output_type": "execute_result"
    }
   ],
   "source": [
    "import torch\n",
    "import DCGAN_VAE_pixel as DVAE\n",
    "device = 'cuda:0' if torch.cuda.is_available() else 'cpu'\n",
    "\n",
    "netG = DVAE.DCGAN_G(opt.imageSize, opt.nz, opt.nc, opt.ngf, opt.ngpu)\n",
    "\n",
    "state_G = torch.load(opt.state_G, map_location = device)\n",
    "netG.load_state_dict(state_G)\n",
    "\n",
    "netE = DVAE.Encoder(opt.imageSize, opt.nz, opt.nc, opt.ngf, opt.ngpu)\n",
    "state_E = torch.load(opt.state_E, map_location = device)\n",
    "netE.load_state_dict(state_E)\n",
    "\n",
    "netG.to(device)\n",
    "netE.to(device)\n",
    "netE.eval()\n",
    "netG.eval()"
   ]
  },
  {
   "cell_type": "code",
   "execution_count": 8,
   "metadata": {
    "scrolled": true
   },
   "outputs": [],
   "source": [
    "import argparse\n",
    "import numpy as np\n",
    "import torch\n",
    "import torch.nn as nn\n",
    "import torch.nn.parallel\n",
    "import torch.backends.cudnn as cudnn\n",
    "import torch.optim as optim\n",
    "import torch.utils.data\n",
    "import torchvision.datasets as dset\n",
    "import torchvision.transforms as transforms\n",
    "from torch.autograd import Variable\n",
    "import torch.nn.functional as F\n",
    "from torchvision.datasets import ImageFolder\n",
    "import os\n",
    "import cv2\n",
    "from PIL import Image"
   ]
  },
  {
   "cell_type": "markdown",
   "metadata": {},
   "source": [
    "cifar"
   ]
  },
  {
   "cell_type": "code",
   "execution_count": null,
   "metadata": {},
   "outputs": [],
   "source": [
    "dataset_cifar = dset.CIFAR10(root=opt.dataroot, train=False, download=True, transform=transforms.Compose([\n",
    "                                transforms.Resize((opt.imageSize)),\n",
    "                                transforms.ToTensor(),\n",
    "                            ]))\n",
    "test_loader_cifar = torch.utils.data.DataLoader(dataset_cifar, batch_size=opt.batch_size,\n",
    "                                            shuffle=False, num_workers=int(opt.workers))"
   ]
  },
  {
   "cell_type": "markdown",
   "metadata": {},
   "source": [
    "svhn"
   ]
  },
  {
   "cell_type": "code",
   "execution_count": null,
   "metadata": {},
   "outputs": [],
   "source": [
    "dataset_svhn = dset.SVHN(root=opt.dataroot, split='test',  transform=transforms.Compose([\n",
    "                                transforms.Resize((opt.imageSize,opt.imageSize)),\n",
    "                                transforms.ToTensor(),\n",
    "                            ]),download=True)\n",
    "\n",
    "test_loader_svhn = torch.utils.data.DataLoader(dataset_svhn, batch_size=opt.batch_size,\n",
    "                                            shuffle=False, num_workers=int(opt.workers))"
   ]
  },
  {
   "cell_type": "markdown",
   "metadata": {},
   "source": [
    "celeba"
   ]
  },
  {
   "cell_type": "code",
   "execution_count": null,
   "metadata": {},
   "outputs": [],
   "source": [
    "import torch.utils.data as data\n",
    "\n",
    "class CelebA(data.Dataset):\n",
    "    def __init__(self, db_path, transform=None):\n",
    "        super(CelebA, self).__init__()\n",
    "        self.db_path = db_path\n",
    "        elements = os.listdir(self.db_path)\n",
    "        self.total_path = [self.db_path+'/'+element for element in elements]\n",
    "        self.transform = transform\n",
    "    def __len__(self):\n",
    "        return len(self.total_path)\n",
    "    \n",
    "    def __getitem__(self, index):\n",
    "        current_path = self.total_path[index]\n",
    "        img = cv2.imread(current_path)\n",
    "        img = Image.fromarray(img)\n",
    "        img = self.transform(img)\n",
    "        return img\n",
    "\n",
    "transform=transforms.Compose([\n",
    "                                transforms.Resize((opt.imageSize,opt.imageSize)),\n",
    "                                transforms.ToTensor(),\n",
    "                            ])\n",
    "\n",
    "celeba = CelebA('data/celeba/archive', transform = transform)\n",
    "test_loader_celeba = torch.utils.data.DataLoader(celeba, batch_size=opt.batch_size,\n",
    "                                            shuffle=False, num_workers=0)\n"
   ]
  },
  {
   "cell_type": "markdown",
   "metadata": {},
   "source": [
    "noise"
   ]
  },
  {
   "cell_type": "code",
   "execution_count": null,
   "metadata": {},
   "outputs": [],
   "source": [
    "class Noise(data.Dataset):\n",
    "    def __init__(self, number=10000, transform=None):\n",
    "        super(Noise, self).__init__()\n",
    "        self.transform = transform\n",
    "        self.number = number\n",
    "        self.total_data = np.random.randint(0,256, (self.number, 3, 32, 32))\n",
    "        \n",
    "    def __len__(self):\n",
    "        return self.number\n",
    "    \n",
    "    def __getitem__(self, index):\n",
    "        if self.transform is not None:\n",
    "            return self.transform(self.total_data[index])\n",
    "        else:\n",
    "            return np.array(self.total_data[index]/255, dtype='float32')\n",
    "\n",
    "noise = Noise()\n",
    "test_loader_noise = torch.utils.data.DataLoader(noise, batch_size=opt.batch_size,\n",
    "                                               shuffle=False, num_workers=0)"
   ]
  },
  {
   "cell_type": "markdown",
   "metadata": {},
   "source": [
    "# Loss function"
   ]
  },
  {
   "cell_type": "code",
   "execution_count": 5,
   "metadata": {},
   "outputs": [],
   "source": [
    "loss_fn = nn.CrossEntropyLoss(reduction = 'none')\n",
    "\n",
    "def KL_div(mu,logvar,reduction = 'avg'):\n",
    "    mu = mu.view(mu.size(0),mu.size(1))\n",
    "    logvar = logvar.view(logvar.size(0), logvar.size(1))\n",
    "    if reduction == 'sum':\n",
    "        return -0.5 * torch.sum(1 + logvar - mu.pow(2) - logvar.exp()) \n",
    "    else:\n",
    "        KL = -0.5 * torch.sum(1 + logvar - mu.pow(2) - logvar.exp(),1) \n",
    "        return KL\n",
    "\n",
    "def loss_function(x, kernel_output):\n",
    "    y, mu, logvar = kernel_output\n",
    "    b = x.size(0)\n",
    "    target = Variable(x.data.view(-1) * 255).long()\n",
    "    y = y.contiguous()\n",
    "    y = y.view(-1,256)\n",
    "    recl = loss_fn(y, target)\n",
    "    recl = torch.sum(recl)/b\n",
    "    kld = KL_div(mu,logvar)\n",
    "    return recl+kld.mean()"
   ]
  },
  {
   "cell_type": "markdown",
   "metadata": {},
   "source": [
    "# Fisher score"
   ]
  },
  {
   "cell_type": "markdown",
   "metadata": {},
   "source": [
    "cifar"
   ]
  },
  {
   "cell_type": "code",
   "execution_count": 12,
   "metadata": {},
   "outputs": [
    {
     "name": "stdout",
     "output_type": "stream",
     "text": [
      "Files already downloaded and verified\n"
     ]
    }
   ],
   "source": [
    "dataset = dset.CIFAR10(root=opt.dataroot, download=True,train = True,\n",
    "                       transform=transforms.Compose([\n",
    "                            transforms.Resize((opt.imageSize)),\n",
    "                           transforms.ToTensor(),\n",
    "                       ]))\n",
    "dataloader_cifar = torch.utils.data.DataLoader(dataset, batch_size=opt.train_batchsize,\n",
    "                                        shuffle=True, num_workers=int(opt.workers))"
   ]
  },
  {
   "cell_type": "markdown",
   "metadata": {},
   "source": [
    "Calculate Fisher Score"
   ]
  },
  {
   "cell_type": "code",
   "execution_count": 7,
   "metadata": {},
   "outputs": [],
   "source": [
    "from fisherutils import *"
   ]
  },
  {
   "cell_type": "code",
   "execution_count": 13,
   "metadata": {},
   "outputs": [],
   "source": [
    "dicts = [netG.main[-1].weight,netE.conv1.weight]\n",
    "Grads, normalize_factor = Calculate_fisher(netE, netG, dataset, dicts, max_iter=10000, num_samples=opt.num_samples, opt=opt)"
   ]
  },
  {
   "cell_type": "markdown",
   "metadata": {},
   "source": [
    "Observe fisher distribution"
   ]
  },
  {
   "cell_type": "code",
   "execution_count": 14,
   "metadata": {
    "scrolled": true
   },
   "outputs": [
    {
     "data": {
      "image/png": "[encoded data removed]",
      "text/plain": [
       "<Figure size 432x288 with 1 Axes>"
      ]
     },
     "metadata": {
      "needs_background": "light"
     },
     "output_type": "display_data"
    },
    {
     "name": "stdout",
     "output_type": "stream",
     "text": [
      "tensor(0.0010)\n"
     ]
    }
   ],
   "source": [
    "plt.hist(np.where(Grads.detach().cpu()>10, 10,Grads.detach().cpu()), bins=100)\n",
    "plt.xlim(0,50)\n",
    "plt.show()\n",
    "print(Grads.detach().cpu().min())"
   ]
  },
  {
   "cell_type": "markdown",
   "metadata": {},
   "source": [
    "Calculate score statistic"
   ]
  },
  {
   "cell_type": "code",
   "execution_count": 15,
   "metadata": {},
   "outputs": [],
   "source": [
    "cifar_Gradients = Calculate_score(netE, netG, dataset_cifar, dicts, Grads, normalize_factor, 2000, opt.num_samples, opt=opt)"
   ]
  },
  {
   "cell_type": "code",
   "execution_count": 16,
   "metadata": {},
   "outputs": [],
   "source": [
    "svhn_Gradients = Calculate_score(netE, netG, dataset_svhn, dicts, Grads, normalize_factor, 2000, opt.num_samples, opt=opt)"
   ]
  },
  {
   "cell_type": "code",
   "execution_count": 21,
   "metadata": {},
   "outputs": [],
   "source": [
    "#celeba_Gradients = Calculate_score(netE, netG, celeba, dicts, Grads, normalize_factor, 2000, opt.num_samples, opt=opt)"
   ]
  },
  {
   "cell_type": "code",
   "execution_count": 25,
   "metadata": {
    "scrolled": true
   },
   "outputs": [],
   "source": [
    "#noise_Gradients = Calculate_score(netE, netG, noise, dicts, Grads, normalize_factor, 2000, opt.num_samples, opt=opt)"
   ]
  },
  {
   "cell_type": "markdown",
   "metadata": {},
   "source": [
    "plot histogram of in-dist vs ood"
   ]
  },
  {
   "cell_type": "code",
   "execution_count": 19,
   "metadata": {
    "scrolled": true
   },
   "outputs": [
    {
     "data": {
      "image/png": "[encoded data removed]",
      "text/plain": [
       "<Figure size 432x288 with 1 Axes>"
      ]
     },
     "metadata": {
      "needs_background": "light"
     },
     "output_type": "display_data"
    }
   ],
   "source": [
    "plot_hist(cifar_Gradients, svhn_Gradients)"
   ]
  },
  {
   "cell_type": "markdown",
   "metadata": {},
   "source": [
    "plot auroc curve"
   ]
  },
  {
   "cell_type": "code",
   "execution_count": 17,
   "metadata": {},
   "outputs": [
    {
     "name": "stdout",
     "output_type": "stream",
     "text": [
      "AUC for Gradient Norm is: 0.84872375\n"
     ]
    },
    {
     "data": {
      "image/png": "[encoded data removed]",
      "text/plain": [
       "<Figure size 432x288 with 1 Axes>"
      ]
     },
     "metadata": {
      "needs_background": "light"
     },
     "output_type": "display_data"
    }
   ],
   "source": [
    "AUROC(cifar_Gradients, svhn_Gradients)"
   ]
  }
 ],
 "metadata": {
  "kernelspec": {
   "display_name": "ycy",
   "language": "python",
   "name": "ycy"
  },
  "language_info": {
   "codemirror_mode": {
    "name": "ipython",
    "version": 3
   },
   "file_extension": ".py",
   "mimetype": "text/x-python",
   "name": "python",
   "nbconvert_exporter": "python",
   "pygments_lexer": "ipython3",
   "version": "3.8.5"
  }
 },
 "nbformat": 4,
 "nbformat_minor": 4
}
