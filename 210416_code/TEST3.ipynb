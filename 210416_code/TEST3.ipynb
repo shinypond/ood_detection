{
 "cells": [
  {
   "cell_type": "code",
   "execution_count": 1,
   "id": "outdoor-digest",
   "metadata": {},
   "outputs": [],
   "source": [
    "%load_ext autoreload\n",
    "%autoreload 2\n",
    "import os\n",
    "import sys\n",
    "sys.path.append(os.getcwd() + '/core')\n",
    "import numpy as np\n",
    "import pandas as pd\n",
    "import matplotlib.pyplot as plt\n",
    "import torch\n",
    "import torch.nn as nn\n",
    "\n",
    "import core.config as config\n",
    "from core.model_loader import load_pretrained_VAE, load_pretrained_GLOW\n",
    "from core.data_loader import TRAIN_loader, TEST_loader\n",
    "from core.custom_loss import KL_div, VAE_loss\n",
    "from core.fisher_utils_VAE import Calculate_fisher_VAE, Calculate_score_VAE\n",
    "from core.fisher_utils_VAE import AUTO_VAE_CIFAR, AUTO_VAE_FMNIST\n",
    "from core.fisher_utils_GLOW import Calculate_fisher_GLOW, Calculate_score_GLOW\n",
    "from core.fisher_utils_GLOW import AUTO_GLOW_CIFAR, AUTO_GLOW_FMNIST\n",
    "from core.visualize import plot_hist, AUROC"
   ]
  },
  {
   "cell_type": "code",
   "execution_count": null,
   "id": "accredited-necklace",
   "metadata": {},
   "outputs": [],
   "source": []
  }
 ],
 "metadata": {
  "kernelspec": {
   "display_name": "styleclip",
   "language": "python",
   "name": "styleclip"
  },
  "language_info": {
   "codemirror_mode": {
    "name": "ipython",
    "version": 3
   },
   "file_extension": ".py",
   "mimetype": "text/x-python",
   "name": "python",
   "nbconvert_exporter": "python",
   "pygments_lexer": "ipython3",
   "version": "3.8.5"
  }
 },
 "nbformat": 4,
 "nbformat_minor": 5
}
