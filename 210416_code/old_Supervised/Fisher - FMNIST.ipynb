{
 "cells": [
  {
   "cell_type": "code",
   "execution_count": 9,
   "metadata": {},
   "outputs": [],
   "source": [
    "import numpy as np\n",
    "import torch\n",
    "from torch import nn\n",
    "import torch\n",
    "from basic_CNN import basic_CNN as CNN\n",
    "import argparse\n",
    "import numpy as np\n",
    "import torch\n",
    "import torch.nn as nn\n",
    "import torch.nn.parallel\n",
    "import torch.backends.cudnn as cudnn\n",
    "import torch.optim as optim\n",
    "import torch.utils.data\n",
    "import torchvision.datasets as dset\n",
    "import torchvision.transforms as transforms\n",
    "from torch.autograd import Variable\n",
    "import torch.nn.functional as F\n",
    "from torchvision.datasets import ImageFolder\n",
    "import matplotlib.pyplot as plt"
   ]
  },
  {
   "cell_type": "markdown",
   "metadata": {},
   "source": [
    "# Setting"
   ]
  },
  {
   "cell_type": "code",
   "execution_count": 1,
   "metadata": {},
   "outputs": [],
   "source": [
    "class config:\n",
    "    dataroot = 'data'\n",
    "    workers = 1\n",
    "    imageSize = 32\n",
    "    nc = 1 # input image channels\n",
    "    ngpu = 1\n",
    "    state_cnn = 'saved_models/models/fmnist/cnn.pth'\n",
    "    batch_size = 1\n",
    "    train_batchsize = 1\n",
    "    num_samples=20\n",
    "opt = config\n",
    "\n",
    "np.random.seed(1234)\n",
    "torch.manual_seed(1234)\n",
    "torch.backends.cudnn.deterministic = True\n",
    "torch.set_deterministic(True)"
   ]
  },
  {
   "cell_type": "markdown",
   "metadata": {},
   "source": [
    "# DataLoader"
   ]
  },
  {
   "cell_type": "code",
   "execution_count": 2,
   "metadata": {
    "scrolled": true
   },
   "outputs": [
    {
     "data": {
      "text/plain": [
       "basic_CNN(\n",
       "  (layer1): Sequential(\n",
       "    (0): Conv2d(1, 32, kernel_size=(3, 3), stride=(1, 1), padding=(1, 1))\n",
       "    (1): ReLU()\n",
       "    (2): MaxPool2d(kernel_size=2, stride=2, padding=0, dilation=1, ceil_mode=False)\n",
       "  )\n",
       "  (layer2): Sequential(\n",
       "    (0): Conv2d(32, 64, kernel_size=(3, 3), stride=(1, 1), padding=(1, 1))\n",
       "    (1): ReLU()\n",
       "    (2): MaxPool2d(kernel_size=2, stride=2, padding=0, dilation=1, ceil_mode=False)\n",
       "  )\n",
       "  (layer3): Sequential(\n",
       "    (0): Conv2d(64, 128, kernel_size=(3, 3), stride=(1, 1), padding=(1, 1))\n",
       "    (1): ReLU()\n",
       "    (2): MaxPool2d(kernel_size=2, stride=2, padding=0, dilation=1, ceil_mode=False)\n",
       "  )\n",
       "  (fc1): Linear(in_features=2048, out_features=625, bias=True)\n",
       "  (layer4): Sequential(\n",
       "    (0): Linear(in_features=2048, out_features=625, bias=True)\n",
       "    (1): ReLU()\n",
       "  )\n",
       "  (fc2): Linear(in_features=625, out_features=10, bias=True)\n",
       ")"
      ]
     },
     "execution_count": 2,
     "metadata": {},
     "output_type": "execute_result"
    }
   ],
   "source": [
    "device = 'cuda:0' if torch.cuda.is_available() else 'cpu'\n",
    "\n",
    "cnn = CNN(opt.imageSize, opt.nc).to(device)\n",
    "state_cnn = torch.load(opt.state_cnn, map_location = device)\n",
    "cnn.load_state_dict(state_cnn)\n",
    "\n",
    "cnn.eval()"
   ]
  },
  {
   "cell_type": "code",
   "execution_count": 3,
   "metadata": {
    "scrolled": true
   },
   "outputs": [],
   "source": [
    "dataset_fmnist = dset.FashionMNIST(root=opt.dataroot, train=False, download=True, transform=transforms.Compose([\n",
    "                                transforms.Resize((opt.imageSize)),\n",
    "                                transforms.ToTensor(),\n",
    "                            ]))\n",
    "test_loader_fmnist = torch.utils.data.DataLoader(dataset_fmnist, batch_size=opt.batch_size,\n",
    "                                            shuffle=False, num_workers=int(opt.workers))\n",
    "    \n",
    "dataset_mnist = dset.MNIST(root=opt.dataroot, train=False, download=True, transform=transforms.Compose([\n",
    "                                transforms.Resize((opt.imageSize,opt.imageSize)),\n",
    "                                transforms.ToTensor(),\n",
    "                            ]))\n",
    "\n",
    "test_loader_mnist = torch.utils.data.DataLoader(dataset_mnist, batch_size=opt.batch_size,\n",
    "                                            shuffle=False, num_workers=int(opt.workers))"
   ]
  },
  {
   "cell_type": "code",
   "execution_count": 4,
   "metadata": {},
   "outputs": [
    {
     "data": {
      "text/plain": [
       "0.9285"
      ]
     },
     "execution_count": 4,
     "metadata": {},
     "output_type": "execute_result"
    }
   ],
   "source": [
    "acc = 0\n",
    "for i, (x,y) in enumerate(test_loader_fmnist):\n",
    "    pred = cnn(x.float().cuda())\n",
    "    if torch.argmax(pred).detach().cpu() == y:\n",
    "        acc += 1\n",
    "    if i==10000:\n",
    "        break\n",
    "acc/10000"
   ]
  },
  {
   "cell_type": "markdown",
   "metadata": {},
   "source": [
    "# Basic Gradient Method"
   ]
  },
  {
   "cell_type": "code",
   "execution_count": 4,
   "metadata": {},
   "outputs": [],
   "source": [
    "optimizer = optim.SGD(cnn.parameters(), lr=0, momentum=0)\n",
    "loss_fn = nn.CrossEntropyLoss(reduction='mean')"
   ]
  },
  {
   "cell_type": "code",
   "execution_count": 5,
   "metadata": {},
   "outputs": [],
   "source": [
    "fmnist_Gradients = []\n",
    "for i, (x, y) in enumerate(test_loader_fmnist):\n",
    "    x = x.to(device)\n",
    "    y = y.to(device)\n",
    "    y_pred = cnn(x)\n",
    "    optimizer.zero_grad()\n",
    "    loss = loss_fn(y_pred, y)\n",
    "    loss.backward()\n",
    "    gradient_val = sum([torch.norm(p.grad)**2 for p in cnn.parameters()])\n",
    "    fmnist_Gradients.append(gradient_val.detach().cpu())\n",
    "    if i%3000==2999:\n",
    "        break"
   ]
  },
  {
   "cell_type": "code",
   "execution_count": 6,
   "metadata": {},
   "outputs": [],
   "source": [
    "mnist_Gradients = []\n",
    "for i, (x, y) in enumerate(test_loader_mnist):\n",
    "    x = x.to(device)\n",
    "    y = y.to(device)\n",
    "    y_pred = cnn(x)\n",
    "    optimizer.zero_grad()\n",
    "    loss = loss_fn(y_pred, y)\n",
    "    loss.backward()\n",
    "    gradient_val = sum([torch.norm(p.grad)**2 for p in cnn.parameters()])\n",
    "    mnist_Gradients.append(gradient_val.detach().cpu())\n",
    "    if i%3000==2999:\n",
    "        break"
   ]
  },
  {
   "cell_type": "code",
   "execution_count": 7,
   "metadata": {
    "scrolled": true
   },
   "outputs": [
    {
     "data": {
      "text/plain": [
       "(array([400.,  28.,  17.,  16.,  20.,   9.,   8.,  19.,  20.,  17.,  15.,\n",
       "         22.,  26.,  31.,  41.,  55.,  54.,  62.,  57.,  67.,  61.,  52.,\n",
       "         55.,  58.,  65.,  56.,  58.,  64.,  67.,  81.,  49.,  64.,  57.,\n",
       "         55.,  62.,  71.,  68.,  54.,  54.,  63.,  48.,  57.,  50.,  50.,\n",
       "         52.,  50.,  33.,  39.,  35.,  43.,  28.,  28.,  27.,  28.,  26.,\n",
       "         13.,  23.,  19.,  20.,   7.,  12.,  16.,  12.,   6.,  14.,  14.,\n",
       "          3.,   6.,   6.,   3.,   3.,   5.,   6.,   5.,   1.,   3.,   1.,\n",
       "          1.,   2.,   2.,   3.,   0.,   0.,   0.,   1.,   0.,   0.,   0.,\n",
       "          0.,   0.,   0.,   0.,   0.,   0.,   0.,   0.,   0.,   0.,   0.,\n",
       "          1.]),\n",
       " array([2.3388212e-25, 1.3520838e+01, 2.7041676e+01, 4.0562511e+01,\n",
       "        5.4083351e+01, 6.7604187e+01, 8.1125023e+01, 9.4645859e+01,\n",
       "        1.0816670e+02, 1.2168754e+02, 1.3520837e+02, 1.4872922e+02,\n",
       "        1.6225005e+02, 1.7577089e+02, 1.8929172e+02, 2.0281256e+02,\n",
       "        2.1633340e+02, 2.2985423e+02, 2.4337508e+02, 2.5689590e+02,\n",
       "        2.7041675e+02, 2.8393759e+02, 2.9745844e+02, 3.1097925e+02,\n",
       "        3.2450009e+02, 3.3802094e+02, 3.5154178e+02, 3.6506262e+02,\n",
       "        3.7858344e+02, 3.9210428e+02, 4.0562512e+02, 4.1914597e+02,\n",
       "        4.3266681e+02, 4.4618762e+02, 4.5970847e+02, 4.7322931e+02,\n",
       "        4.8675015e+02, 5.0027100e+02, 5.1379181e+02, 5.2731268e+02,\n",
       "        5.4083350e+02, 5.5435431e+02, 5.6787518e+02, 5.8139600e+02,\n",
       "        5.9491687e+02, 6.0843768e+02, 6.2195850e+02, 6.3547937e+02,\n",
       "        6.4900018e+02, 6.6252106e+02, 6.7604187e+02, 6.8956268e+02,\n",
       "        7.0308356e+02, 7.1660437e+02, 7.3012524e+02, 7.4364606e+02,\n",
       "        7.5716687e+02, 7.7068774e+02, 7.8420856e+02, 7.9772943e+02,\n",
       "        8.1125024e+02, 8.2477106e+02, 8.3829193e+02, 8.5181274e+02,\n",
       "        8.6533362e+02, 8.7885443e+02, 8.9237524e+02, 9.0589612e+02,\n",
       "        9.1941693e+02, 9.3293781e+02, 9.4645862e+02, 9.5997943e+02,\n",
       "        9.7350031e+02, 9.8702112e+02, 1.0005420e+03, 1.0140628e+03,\n",
       "        1.0275836e+03, 1.0411045e+03, 1.0546254e+03, 1.0681461e+03,\n",
       "        1.0816670e+03, 1.0951879e+03, 1.1087086e+03, 1.1222295e+03,\n",
       "        1.1357504e+03, 1.1492712e+03, 1.1627920e+03, 1.1763129e+03,\n",
       "        1.1898337e+03, 1.2033545e+03, 1.2168754e+03, 1.2303962e+03,\n",
       "        1.2439170e+03, 1.2574379e+03, 1.2709587e+03, 1.2844795e+03,\n",
       "        1.2980004e+03, 1.3115212e+03, 1.3250421e+03, 1.3385629e+03,\n",
       "        1.3520837e+03], dtype=float32),\n",
       " <a list of 100 Patch objects>)"
      ]
     },
     "execution_count": 7,
     "metadata": {},
     "output_type": "execute_result"
    },
    {
     "data": {
      "image/png": "[encoded data removed]",
      "text/plain": [
       "<Figure size 432x288 with 1 Axes>"
      ]
     },
     "metadata": {
      "needs_background": "light"
     },
     "output_type": "display_data"
    }
   ],
   "source": [
    "\n",
    "fmnist_Gradients = torch.tensor(fmnist_Gradients)/100\n",
    "plt.hist(fmnist_Gradients, bins=100)\n",
    "\n",
    "mnist_Gradients = torch.tensor(mnist_Gradients)/100\n",
    "plt.hist(mnist_Gradients, bins=100, alpha=0.5)"
   ]
  },
  {
   "cell_type": "code",
   "execution_count": 8,
   "metadata": {},
   "outputs": [
    {
     "name": "stdout",
     "output_type": "stream",
     "text": [
      "AUC for Gradient Norm is:  0.9557111111111112\n"
     ]
    },
    {
     "data": {
      "text/plain": [
       "[<matplotlib.lines.Line2D at 0x216a5e071d0>]"
      ]
     },
     "execution_count": 8,
     "metadata": {},
     "output_type": "execute_result"
    },
    {
     "data": {
      "image/png": "[encoded data removed]",
      "text/plain": [
       "<Figure size 432x288 with 1 Axes>"
      ]
     },
     "metadata": {
      "needs_background": "light"
     },
     "output_type": "display_data"
    }
   ],
   "source": [
    "from sklearn import metrics\n",
    "\n",
    "combined = np.concatenate((fmnist_Gradients, mnist_Gradients))\n",
    "label_1 = np.ones(len(fmnist_Gradients))\n",
    "label_2 = np.zeros(len(mnist_Gradients))\n",
    "label = np.concatenate((label_1, label_2))\n",
    "\n",
    "fpr, tpr, thresholds = metrics.roc_curve(label, combined, pos_label=0)\n",
    "\n",
    "#plot_roc_curve(fpr, tpr)\n",
    "\n",
    "rocauc = metrics.auc(fpr, tpr)\n",
    "print('AUC for Gradient Norm is: ', rocauc)\n",
    "plt.plot(fpr, tpr)"
   ]
  },
  {
   "cell_type": "markdown",
   "metadata": {},
   "source": [
    "# Naive Fisher Information"
   ]
  },
  {
   "cell_type": "code",
   "execution_count": 5,
   "metadata": {},
   "outputs": [],
   "source": [
    "dicts = [cnn.fc2]"
   ]
  },
  {
   "cell_type": "code",
   "execution_count": 6,
   "metadata": {},
   "outputs": [],
   "source": [
    "dataset_fmnist_train = dset.FashionMNIST(root=opt.dataroot, train=True, download=True, transform=transforms.Compose([\n",
    "                                transforms.Resize((opt.imageSize)),\n",
    "                                transforms.ToTensor(),\n",
    "                            ]))\n",
    "dataloader_fmnist = torch.utils.data.DataLoader(dataset_fmnist_train, batch_size=opt.train_batchsize,\n",
    "                                                shuffle=True, num_workers=int(opt.workers))"
   ]
  },
  {
   "cell_type": "code",
   "execution_count": 7,
   "metadata": {},
   "outputs": [],
   "source": [
    "optimizer = optim.SGD(cnn.parameters(), lr=0,momentum=0)\n",
    "loss_fn = nn.CrossEntropyLoss(reduction = 'mean')\n",
    "\n",
    "for i, (x, y) in enumerate(dataloader_fmnist):\n",
    "    optimizer.zero_grad()\n",
    "    x = x.to(device)\n",
    "    y = y.to(device)\n",
    "    y_pred = cnn(x)\n",
    "    optimizer.zero_grad()\n",
    "    loss = loss_fn(y_pred, y)\n",
    "    loss.backward()\n",
    "    grads = []\n",
    "    for x in dicts:\n",
    "        for param in x.parameters():\n",
    "            grads.append(param.grad.view(-1)**2) \n",
    "    grads = torch.cat(grads)\n",
    "    if i!=0:\n",
    "        Grads = (i*Grads + grads)/(i+1)\n",
    "    else:\n",
    "        Grads = grads\n",
    "\n",
    "Grads = torch.sqrt(Grads)\n",
    "Grads = 1000*Grads+0.0001"
   ]
  },
  {
   "cell_type": "code",
   "execution_count": 10,
   "metadata": {
    "scrolled": true
   },
   "outputs": [
    {
     "data": {
      "text/plain": [
       "(array([4.141e+03, 1.510e+02, 1.560e+02, 1.520e+02, 1.480e+02, 1.490e+02,\n",
       "        1.140e+02, 1.080e+02, 1.370e+02, 9.000e+01, 9.400e+01, 9.700e+01,\n",
       "        8.400e+01, 6.600e+01, 5.800e+01, 4.600e+01, 4.100e+01, 3.400e+01,\n",
       "        4.500e+01, 3.700e+01, 2.800e+01, 2.000e+01, 2.200e+01, 2.100e+01,\n",
       "        1.700e+01, 1.200e+01, 1.000e+01, 1.900e+01, 1.200e+01, 1.200e+01,\n",
       "        7.000e+00, 1.000e+01, 1.200e+01, 9.000e+00, 3.000e+00, 1.200e+01,\n",
       "        7.000e+00, 8.000e+00, 4.000e+00, 5.000e+00, 2.000e+00, 5.000e+00,\n",
       "        2.000e+00, 0.000e+00, 4.000e+00, 0.000e+00, 2.000e+00, 3.000e+00,\n",
       "        1.000e+00, 2.000e+00, 5.000e+00, 1.000e+00, 2.000e+00, 0.000e+00,\n",
       "        1.000e+00, 0.000e+00, 1.000e+00, 1.000e+00, 3.000e+00, 1.000e+00,\n",
       "        4.000e+00, 0.000e+00, 0.000e+00, 3.000e+00, 0.000e+00, 1.000e+00,\n",
       "        0.000e+00, 1.000e+00, 1.000e+00, 1.000e+00, 1.000e+00, 0.000e+00,\n",
       "        0.000e+00, 1.000e+00, 0.000e+00, 1.000e+00, 0.000e+00, 0.000e+00,\n",
       "        2.000e+00, 0.000e+00, 0.000e+00, 0.000e+00, 2.000e+00, 1.000e+00,\n",
       "        1.000e+00, 0.000e+00, 0.000e+00, 1.000e+00, 0.000e+00, 1.000e+00,\n",
       "        1.000e+00, 1.000e+00, 0.000e+00, 1.000e+00, 0.000e+00, 0.000e+00,\n",
       "        0.000e+00, 0.000e+00, 0.000e+00, 1.000e+00]),\n",
       " array([9.9999997e-05, 5.3289689e-02, 1.0647938e-01, 1.5966907e-01,\n",
       "        2.1285875e-01, 2.6604843e-01, 3.1923813e-01, 3.7242782e-01,\n",
       "        4.2561752e-01, 4.7880721e-01, 5.3199691e-01, 5.8518660e-01,\n",
       "        6.3837630e-01, 6.9156593e-01, 7.4475563e-01, 7.9794532e-01,\n",
       "        8.5113502e-01, 9.0432471e-01, 9.5751441e-01, 1.0107040e+00,\n",
       "        1.0638938e+00, 1.1170834e+00, 1.1702732e+00, 1.2234628e+00,\n",
       "        1.2766526e+00, 1.3298422e+00, 1.3830320e+00, 1.4362216e+00,\n",
       "        1.4894112e+00, 1.5426010e+00, 1.5957906e+00, 1.6489804e+00,\n",
       "        1.7021700e+00, 1.7553598e+00, 1.8085494e+00, 1.8617392e+00,\n",
       "        1.9149288e+00, 1.9681185e+00, 2.0213082e+00, 2.0744979e+00,\n",
       "        2.1276875e+00, 2.1808772e+00, 2.2340670e+00, 2.2872567e+00,\n",
       "        2.3404462e+00, 2.3936360e+00, 2.4468257e+00, 2.5000155e+00,\n",
       "        2.5532050e+00, 2.6063948e+00, 2.6595845e+00, 2.7127740e+00,\n",
       "        2.7659638e+00, 2.8191535e+00, 2.8723433e+00, 2.9255328e+00,\n",
       "        2.9787226e+00, 3.0319123e+00, 3.0851021e+00, 3.1382916e+00,\n",
       "        3.1914814e+00, 3.2446711e+00, 3.2978606e+00, 3.3510504e+00,\n",
       "        3.4042401e+00, 3.4574299e+00, 3.5106194e+00, 3.5638092e+00,\n",
       "        3.6169989e+00, 3.6701887e+00, 3.7233782e+00, 3.7765679e+00,\n",
       "        3.8297577e+00, 3.8829472e+00, 3.9361370e+00, 3.9893267e+00,\n",
       "        4.0425162e+00, 4.0957060e+00, 4.1488957e+00, 4.2020855e+00,\n",
       "        4.2552752e+00, 4.3084650e+00, 4.3616543e+00, 4.4148440e+00,\n",
       "        4.4680338e+00, 4.5212235e+00, 4.5744133e+00, 4.6276031e+00,\n",
       "        4.6807928e+00, 4.7339826e+00, 4.7871718e+00, 4.8403616e+00,\n",
       "        4.8935513e+00, 4.9467411e+00, 4.9999309e+00, 5.0531206e+00,\n",
       "        5.1063104e+00, 5.1594996e+00, 5.2126894e+00, 5.2658792e+00,\n",
       "        5.3190689e+00], dtype=float32),\n",
       " <a list of 100 Patch objects>)"
      ]
     },
     "execution_count": 10,
     "metadata": {},
     "output_type": "execute_result"
    },
    {
     "data": {
      "image/png": "[encoded data removed]",
      "text/plain": [
       "<Figure size 432x288 with 1 Axes>"
      ]
     },
     "metadata": {
      "needs_background": "light"
     },
     "output_type": "display_data"
    }
   ],
   "source": [
    "plt.hist(np.where(Grads.detach().cpu()>2000, 2000, Grads.detach().cpu()), bins=100)"
   ]
  },
  {
   "cell_type": "code",
   "execution_count": 34,
   "metadata": {
    "scrolled": true
   },
   "outputs": [],
   "source": [
    "temp=10\n",
    "fmnist_Gradients = []\n",
    "for i, (x, _) in enumerate(test_loader_fmnist):\n",
    "    x = x.to(device)\n",
    "    y_pred = cnn(x)\n",
    "    y = torch.argmax(y_pred, dim=1)\n",
    "    optimizer.zero_grad()\n",
    "    loss = loss_fn(y_pred/temp, y)\n",
    "    loss.backward()\n",
    "    grads = []\n",
    "    for x in dicts:\n",
    "        for param in x.parameters():\n",
    "            grads.append(param.grad.view(-1)**2) \n",
    "    grads = torch.cat(grads)\n",
    "    gradient_val = torch.norm(grads/Grads)\n",
    "    fmnist_Gradients.append(gradient_val.detach().cpu())\n",
    "    if i%3000==2999:\n",
    "        break"
   ]
  },
  {
   "cell_type": "code",
   "execution_count": 35,
   "metadata": {},
   "outputs": [],
   "source": [
    "mnist_Gradients = []\n",
    "for i, (x, _) in enumerate(test_loader_mnist):\n",
    "    x = x.to(device)\n",
    "    y_pred = cnn(x)\n",
    "    y = torch.argmax(y_pred, dim=1)\n",
    "    optimizer.zero_grad()\n",
    "    loss = loss_fn(y_pred/temp, y)\n",
    "    loss.backward()\n",
    "    grads = []\n",
    "    for x in dicts:\n",
    "        for param in x.parameters():\n",
    "            grads.append(param.grad.view(-1)**2) \n",
    "    grads = torch.cat(grads)\n",
    "    gradient_val = torch.norm(grads/Grads)\n",
    "    mnist_Gradients.append(gradient_val.detach().cpu())\n",
    "    if i%3000==2999:\n",
    "        break"
   ]
  },
  {
   "cell_type": "code",
   "execution_count": 36,
   "metadata": {
    "scrolled": true
   },
   "outputs": [
    {
     "data": {
      "text/plain": [
       "(0, 5)"
      ]
     },
     "execution_count": 36,
     "metadata": {},
     "output_type": "execute_result"
    },
    {
     "data": {
      "image/png": "[encoded data removed]",
      "text/plain": [
       "<Figure size 432x288 with 1 Axes>"
      ]
     },
     "metadata": {
      "needs_background": "light"
     },
     "output_type": "display_data"
    }
   ],
   "source": [
    "import matplotlib.pyplot as plt\n",
    "fmnist_Gradients = torch.tensor(fmnist_Gradients)\n",
    "plt.hist(fmnist_Gradients, bins=100)\n",
    "\n",
    "mnist_Gradients = torch.tensor(mnist_Gradients)\n",
    "plt.hist(mnist_Gradients, bins=400, alpha=0.5)\n",
    "plt.xlim(0,5)"
   ]
  },
  {
   "cell_type": "code",
   "execution_count": 37,
   "metadata": {},
   "outputs": [
    {
     "name": "stdout",
     "output_type": "stream",
     "text": [
      "AUC for Gradient Norm is:  0.9924385555555555\n"
     ]
    },
    {
     "data": {
      "text/plain": [
       "[<matplotlib.lines.Line2D at 0x1fcb0fbfac8>]"
      ]
     },
     "execution_count": 37,
     "metadata": {},
     "output_type": "execute_result"
    },
    {
     "data": {
      "image/png": "[encoded data removed]",
      "text/plain": [
       "<Figure size 432x288 with 1 Axes>"
      ]
     },
     "metadata": {
      "needs_background": "light"
     },
     "output_type": "display_data"
    }
   ],
   "source": [
    "from sklearn import metrics\n",
    "\n",
    "combined = np.concatenate((fmnist_Gradients, mnist_Gradients))\n",
    "label_1 = np.ones(len(fmnist_Gradients))\n",
    "label_2 = np.zeros(len(mnist_Gradients))\n",
    "label = np.concatenate((label_1, label_2))\n",
    "\n",
    "fpr, tpr, thresholds = metrics.roc_curve(label, combined, pos_label=0)\n",
    "\n",
    "#plot_roc_curve(fpr, tpr)\n",
    "\n",
    "rocauc = metrics.auc(fpr, tpr)\n",
    "print('AUC for Gradient Norm is: ', rocauc)\n",
    "plt.plot(fpr, tpr)"
   ]
  },
  {
   "cell_type": "code",
   "execution_count": null,
   "metadata": {},
   "outputs": [],
   "source": [
    "# 버려 밑으론"
   ]
  },
  {
   "cell_type": "code",
   "execution_count": null,
   "metadata": {},
   "outputs": [],
   "source": []
  },
  {
   "cell_type": "markdown",
   "metadata": {},
   "source": [
    "# Score test v2"
   ]
  },
  {
   "cell_type": "code",
   "execution_count": 33,
   "metadata": {},
   "outputs": [],
   "source": [
    "optimizer = optim.SGD(cnn.parameters(), lr=0,momentum=0)\n",
    "loss_fn = nn.CrossEntropyLoss(reduction = 'mean')\n",
    "\n",
    "for i, (x, y) in enumerate(dataloader_fmnist):\n",
    "    optimizer.zero_grad()\n",
    "    x = x.to(device)\n",
    "    y = y.to(device)\n",
    "    y_pred = cnn(x)\n",
    "    optimizer.zero_grad()\n",
    "    loss = loss_fn(y_pred, y)\n",
    "    loss.backward()\n",
    "    gradsq = []\n",
    "    grads = []\n",
    "    for param in cnn.parameters():\n",
    "        gradsq.append(param.grad.view(-1)**2)\n",
    "        grads.append(param.grad.view(-1))\n",
    "    gradsq = torch.cat(gradsq)\n",
    "    grads = torch.cat(grads)\n",
    "    if i!=0:\n",
    "        Gradsq = (i*Gradsq + gradsq)/(i+1)\n",
    "        Grads = (i*Grads + grads)/(i+1)\n",
    "    else:\n",
    "        Gradsq = gradsq\n",
    "        Grads = grads"
   ]
  },
  {
   "cell_type": "code",
   "execution_count": 42,
   "metadata": {},
   "outputs": [],
   "source": [
    "fmnist_Gradients = []\n",
    "for i, (x, y) in enumerate(test_loader_fmnist):\n",
    "    x = x.to(device)\n",
    "    y = y.to(device)\n",
    "    y_pred = cnn(x)\n",
    "    optimizer.zero_grad()\n",
    "    loss = loss_fn(y_pred, y)\n",
    "    loss.backward()\n",
    "    grads = []\n",
    "    gradsq = []\n",
    "    for param in cnn.parameters():\n",
    "        grads.append(param.grad.view(-1))\n",
    "        gradsq.append(param.grad.view(-1)**2)\n",
    "    grads = torch.cat(grads)\n",
    "    gradsq = torch.cat(gradsq)\n",
    "    Fisher = torch.sqrt(gradsq+1e4*Gradsq+1e-4)\n",
    "    gradient_val = torch.norm(grads/Fisher)\n",
    "    fmnist_Gradients.append(gradient_val.detach().cpu())\n",
    "    if i%3000==2999:\n",
    "        break"
   ]
  },
  {
   "cell_type": "code",
   "execution_count": 43,
   "metadata": {},
   "outputs": [],
   "source": [
    "mnist_Gradients = []\n",
    "for i, (x, y) in enumerate(test_loader_mnist):\n",
    "    x = x.to(device)\n",
    "    y = y.to(device)\n",
    "    y_pred = cnn(x)\n",
    "    optimizer.zero_grad()\n",
    "    loss = loss_fn(y_pred, y)\n",
    "    loss.backward()\n",
    "    grads = []\n",
    "    gradsq = []\n",
    "    for param in cnn.parameters():\n",
    "        grads.append(param.grad.view(-1))\n",
    "        gradsq.append(param.grad.view(-1)**2)\n",
    "    grads = torch.cat(grads)\n",
    "    gradsq = torch.cat(gradsq)\n",
    "    Fisher = torch.sqrt(gradsq+1e4*Gradsq+1e-4)\n",
    "    gradient_val = torch.norm(grads/Fisher)\n",
    "    mnist_Gradients.append(gradient_val.detach().cpu())\n",
    "    if i%3000==2999:\n",
    "        break"
   ]
  },
  {
   "cell_type": "code",
   "execution_count": 44,
   "metadata": {},
   "outputs": [
    {
     "data": {
      "text/plain": [
       "(array([131.,  21.,  13.,  10.,   9.,   4.,   5.,   3.,  11.,   6.,   4.,\n",
       "          3.,   8.,   3.,   4.,   4.,   2.,   1.,   2.,   7.,   5.,   1.,\n",
       "          6.,   4.,   6.,   6.,   3.,   2.,   1.,   3.,   3.,   5.,   2.,\n",
       "          4.,   2.,   2.,   5.,   3.,   3.,   1.,   3.,   3.,   6.,   1.,\n",
       "          2.,   4.,   1.,   2.,   2.,   3.,   2.,   0.,   3.,   4.,   5.,\n",
       "          4.,   7.,   4.,   6.,   1.,   2.,   6.,   1.,   0.,   4.,   3.,\n",
       "          8.,   7.,   6.,  11.,   3.,   5.,   9.,   9.,  10.,  10.,  13.,\n",
       "         17.,  16.,  13.,  24.,  36.,  40.,  59.,  94., 116., 166., 176.,\n",
       "        246., 249., 279., 237., 207., 200., 153., 109.,  49.,  17.,   5.,\n",
       "          4.]),\n",
       " array([2.37450559e-10, 4.38079691e+00, 8.76159382e+00, 1.31423903e+01,\n",
       "        1.75231876e+01, 2.19039841e+01, 2.62847805e+01, 3.06655769e+01,\n",
       "        3.50463753e+01, 3.94271698e+01, 4.38079681e+01, 4.81887665e+01,\n",
       "        5.25695610e+01, 5.69503593e+01, 6.13311539e+01, 6.57119522e+01,\n",
       "        7.00927505e+01, 7.44735489e+01, 7.88543396e+01, 8.32351379e+01,\n",
       "        8.76159363e+01, 9.19967346e+01, 9.63775330e+01, 1.00758324e+02,\n",
       "        1.05139122e+02, 1.09519920e+02, 1.13900719e+02, 1.18281517e+02,\n",
       "        1.22662308e+02, 1.27043106e+02, 1.31423904e+02, 1.35804703e+02,\n",
       "        1.40185501e+02, 1.44566299e+02, 1.48947098e+02, 1.53327896e+02,\n",
       "        1.57708679e+02, 1.62089478e+02, 1.66470276e+02, 1.70851074e+02,\n",
       "        1.75231873e+02, 1.79612671e+02, 1.83993469e+02, 1.88374268e+02,\n",
       "        1.92755066e+02, 1.97135864e+02, 2.01516647e+02, 2.05897446e+02,\n",
       "        2.10278244e+02, 2.14659042e+02, 2.19039841e+02, 2.23420639e+02,\n",
       "        2.27801437e+02, 2.32182236e+02, 2.36563034e+02, 2.40943832e+02,\n",
       "        2.45324615e+02, 2.49705414e+02, 2.54086212e+02, 2.58467010e+02,\n",
       "        2.62847809e+02, 2.67228607e+02, 2.71609406e+02, 2.75990204e+02,\n",
       "        2.80371002e+02, 2.84751801e+02, 2.89132599e+02, 2.93513397e+02,\n",
       "        2.97894196e+02, 3.02274994e+02, 3.06655792e+02, 3.11036560e+02,\n",
       "        3.15417358e+02, 3.19798157e+02, 3.24178955e+02, 3.28559753e+02,\n",
       "        3.32940552e+02, 3.37321350e+02, 3.41702148e+02, 3.46082947e+02,\n",
       "        3.50463745e+02, 3.54844543e+02, 3.59225342e+02, 3.63606140e+02,\n",
       "        3.67986938e+02, 3.72367737e+02, 3.76748535e+02, 3.81129333e+02,\n",
       "        3.85510132e+02, 3.89890930e+02, 3.94271729e+02, 3.98652496e+02,\n",
       "        4.03033295e+02, 4.07414093e+02, 4.11794891e+02, 4.16175690e+02,\n",
       "        4.20556488e+02, 4.24937286e+02, 4.29318085e+02, 4.33698883e+02,\n",
       "        4.38079681e+02], dtype=float32),\n",
       " <a list of 100 Patch objects>)"
      ]
     },
     "execution_count": 44,
     "metadata": {},
     "output_type": "execute_result"
    },
    {
     "data": {
      "image/png": "[encoded data removed]",
      "text/plain": [
       "<Figure size 432x288 with 1 Axes>"
      ]
     },
     "metadata": {
      "needs_background": "light"
     },
     "output_type": "display_data"
    }
   ],
   "source": [
    "import matplotlib.pyplot as plt\n",
    "fmnist_Gradients = torch.tensor(fmnist_Gradients)\n",
    "plt.hist(fmnist_Gradients, bins=10)\n",
    "\n",
    "mnist_Gradients = torch.tensor(mnist_Gradients)\n",
    "plt.hist(mnist_Gradients, bins=100, alpha=0.5)"
   ]
  },
  {
   "cell_type": "code",
   "execution_count": 45,
   "metadata": {},
   "outputs": [
    {
     "name": "stdout",
     "output_type": "stream",
     "text": [
      "AUC for Gradient Norm is:  0.9660128888888888\n"
     ]
    },
    {
     "data": {
      "text/plain": [
       "[<matplotlib.lines.Line2D at 0x216bcdca748>]"
      ]
     },
     "execution_count": 45,
     "metadata": {},
     "output_type": "execute_result"
    },
    {
     "data": {
      "image/png": "[encoded data removed]",
      "text/plain": [
       "<Figure size 432x288 with 1 Axes>"
      ]
     },
     "metadata": {
      "needs_background": "light"
     },
     "output_type": "display_data"
    }
   ],
   "source": [
    "from sklearn import metrics\n",
    "\n",
    "combined = np.concatenate((fmnist_Gradients, mnist_Gradients))\n",
    "label_1 = np.ones(len(fmnist_Gradients))\n",
    "label_2 = np.zeros(len(mnist_Gradients))\n",
    "label = np.concatenate((label_1, label_2))\n",
    "\n",
    "fpr, tpr, thresholds = metrics.roc_curve(label, combined, pos_label=0)\n",
    "\n",
    "#plot_roc_curve(fpr, tpr)\n",
    "\n",
    "rocauc = metrics.auc(fpr, tpr)\n",
    "print('AUC for Gradient Norm is: ', rocauc)\n",
    "plt.plot(fpr, tpr)"
   ]
  },
  {
   "cell_type": "code",
   "execution_count": null,
   "metadata": {},
   "outputs": [],
   "source": []
  }
 ],
 "metadata": {
  "kernelspec": {
   "display_name": "ycy",
   "language": "python",
   "name": "ycy"
  },
  "language_info": {
   "codemirror_mode": {
    "name": "ipython",
    "version": 3
   },
   "file_extension": ".py",
   "mimetype": "text/x-python",
   "name": "python",
   "nbconvert_exporter": "python",
   "pygments_lexer": "ipython3",
   "version": "3.8.5"
  }
 },
 "nbformat": 4,
 "nbformat_minor": 4
}
