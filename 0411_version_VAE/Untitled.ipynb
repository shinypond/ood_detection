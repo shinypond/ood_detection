{
 "cells": [
  {
   "cell_type": "code",
   "execution_count": 1,
   "metadata": {},
   "outputs": [],
   "source": [
    "%load_ext autoreload\n",
    "%autoreload 2\n",
    "import os\n",
    "import sys\n",
    "sys.path.append(os.getcwd() + '/core')\n",
    "import numpy as np\n",
    "import matplotlib.pyplot as plt\n",
    "import torch\n",
    "import torch.nn as nn\n",
    "\n",
    "import core.config as config\n",
    "from core.model_loader import load_pretrained_VAE\n",
    "from core.data_loader import TRAIN_loader, TEST_loader\n",
    "from core.custom_loss import KL_div, VAE_loss\n",
    "from core.fisher_utils import Calculate_Vanilafisher, Calculate_Vanilascore\n",
    "from core.visualize import plot_hist, AUROC"
   ]
  },
  {
   "cell_type": "code",
   "execution_count": 2,
   "metadata": {},
   "outputs": [],
   "source": [
    "train_dist = 'cifar10'\n",
    "opt = config.VAE_cifar10\n",
    "netE, netG = load_pretrained_VAE(option=train_dist)"
   ]
  },
  {
   "cell_type": "code",
   "execution_count": 36,
   "metadata": {},
   "outputs": [
    {
     "data": {
      "text/plain": [
       "Encoder(\n",
       "  (conv1): Conv2d(512, 100, kernel_size=(4, 4), stride=(1, 1))\n",
       "  (conv2): Conv2d(512, 100, kernel_size=(4, 4), stride=(1, 1))\n",
       "  (main): Sequential(\n",
       "    (input-conv): Conv2d(3, 128, kernel_size=(4, 4), stride=(2, 2), padding=(1, 1), bias=False)\n",
       "    (input-BN): BatchNorm2d(128, eps=1e-05, momentum=0.1, affine=True, track_running_stats=True)\n",
       "    (input-relu): ReLU(inplace=True)\n",
       "    (pyramid:128-256:conv): Conv2d(128, 256, kernel_size=(4, 4), stride=(2, 2), padding=(1, 1), bias=False)\n",
       "    (pyramid:256:batchnorm): BatchNorm2d(256, eps=1e-05, momentum=0.1, affine=True, track_running_stats=True)\n",
       "    (pyramid:256:relu): ReLU(inplace=True)\n",
       "    (pyramid:256-512:conv): Conv2d(256, 512, kernel_size=(4, 4), stride=(2, 2), padding=(1, 1), bias=False)\n",
       "    (pyramid:512:batchnorm): BatchNorm2d(512, eps=1e-05, momentum=0.1, affine=True, track_running_stats=True)\n",
       "    (pyramid:512:relu): ReLU(inplace=True)\n",
       "  )\n",
       ")"
      ]
     },
     "execution_count": 36,
     "metadata": {},
     "output_type": "execute_result"
    }
   ],
   "source": []
  },
  {
   "cell_type": "code",
   "execution_count": 45,
   "metadata": {},
   "outputs": [
    {
     "name": "stdout",
     "output_type": "stream",
     "text": [
      "Files already downloaded and verified\n"
     ]
    }
   ],
   "source": [
    "import torch.optim as optim\n",
    "import torchvision.datasets as dset\n",
    "import torchvision.transforms as transforms\n",
    "\n",
    "netE.eval()\n",
    "netG.eval()\n",
    "\n",
    "for p in netE.parameters():\n",
    "    p.requires_grad = False\n",
    "for p in netG.parameters():\n",
    "    p.requires_grad = False\n",
    "for p in netE.conv1.parameters():\n",
    "    p.requires_grad = True\n",
    "for p in netE.conv2.parameters():\n",
    "    p.requires_grad = True\n",
    "\n",
    "optimizer1 = optim.Adam(netE.parameters(), lr=1e-4)\n",
    "optimizer2 = optim.Adam(netG.parameters(), lr=1e-4)\n",
    "\n",
    "device = 'cuda:0'\n",
    "# for i, p in enumerate(netE.parameters()):\n",
    "#     if i==0:\n",
    "#         parameter_i = p.cpu().detach()\n",
    "#         break\n",
    "#parameter_i = netE.conv1.bias.cpu().detach()\n",
    "#parameter_i = netE.conv1.weights.cpu().detach()\n",
    "\n",
    "dataset = dset.CIFAR10( root=opt.dataroot, download=True,train = True,\n",
    "                                transform=transforms.Compose([\n",
    "                                   transforms.Resize((opt.imageSize)),\n",
    "                                   transforms.RandomHorizontalFlip(),\n",
    "                                   transforms.ToTensor(),\n",
    "                               ]))\n",
    "dataloader = torch.utils.data.DataLoader(dataset, batch_size=64,\n",
    "                                        shuffle=True, num_workers=int(opt.workers))\n",
    "\n",
    "for epoch in range(1):\n",
    "    for i, (x, _) in enumerate(dataloader):\n",
    "        optimizer1.zero_grad()\n",
    "        optimizer2.zero_grad()\n",
    "        x = x.to(device)\n",
    "        [z,mu,logvar] = netE(x)\n",
    "        recon = netG(z)\n",
    "        loss = VAE_loss(x, [recon, mu, logvar], beta=opt.beta)\n",
    "        loss.backward(retain_graph=True)\n",
    "        optimizer1.step()\n",
    "        optimizer2.step()\n",
    "\n",
    "# for i, p in enumerate(netE.parameters()):\n",
    "#     if i==0:\n",
    "#         parameter_f = p.cpu().detach()\n",
    "#         break\n",
    "#parameter_f = netE.conv1.bias.cpu().detach()\n",
    "#parameter_f = netE.conv1.weights.cpu().detach()"
   ]
  },
  {
   "cell_type": "code",
   "execution_count": 50,
   "metadata": {},
   "outputs": [
    {
     "name": "stdout",
     "output_type": "stream",
     "text": [
      "tensor(1.6996)\n"
     ]
    }
   ],
   "source": [
    "print(torch.norm(parameter_f-parameter_i))"
   ]
  },
  {
   "cell_type": "code",
   "execution_count": null,
   "metadata": {},
   "outputs": [],
   "source": []
  }
 ],
 "metadata": {
  "kernelspec": {
   "display_name": "torch",
   "language": "python",
   "name": "torch14"
  },
  "language_info": {
   "codemirror_mode": {
    "name": "ipython",
    "version": 3
   },
   "file_extension": ".py",
   "mimetype": "text/x-python",
   "name": "python",
   "nbconvert_exporter": "python",
   "pygments_lexer": "ipython3",
   "version": "3.6.12"
  }
 },
 "nbformat": 4,
 "nbformat_minor": 4
}
