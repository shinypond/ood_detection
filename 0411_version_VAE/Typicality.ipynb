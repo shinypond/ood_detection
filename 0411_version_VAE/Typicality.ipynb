{
 "cells": [
  {
   "cell_type": "code",
   "execution_count": 1,
   "id": "published-notice",
   "metadata": {},
   "outputs": [],
   "source": [
    "%load_ext autoreload\n",
    "%autoreload 2\n",
    "import os\n",
    "import sys\n",
    "sys.path.append(os.getcwd() + '/core')\n",
    "import numpy as np\n",
    "import matplotlib.pyplot as plt\n",
    "import torch\n",
    "import torch.nn as nn\n",
    "import core.config as config\n",
    "from core.model_loader import load_pretrained_VAE\n",
    "from core.data_loader import TRAIN_loader, TEST_loader\n",
    "from core.custom_loss import KL_div, VAE_loss\n",
    "from core.fisher_utils import Calculate_Vanilafisher, Calculate_Vanilascore\n",
    "from core.visualize import plot_hist, AUROC"
   ]
  },
  {
   "cell_type": "code",
   "execution_count": 2,
   "id": "genuine-disclosure",
   "metadata": {},
   "outputs": [],
   "source": [
    "train_dist = 'cifar10'\n",
    "opt = config.VAE_cifar10\n",
    "netE, netG = load_pretrained_VAE(option=train_dist)\n",
    "\n",
    "dicts = [ netE.conv1.weight]"
   ]
  },
  {
   "cell_type": "markdown",
   "id": "dying-administrator",
   "metadata": {},
   "source": [
    "# VAE"
   ]
  },
  {
   "cell_type": "markdown",
   "id": "thick-trick",
   "metadata": {},
   "source": [
    "cifar10(Train)"
   ]
  },
  {
   "cell_type": "code",
   "execution_count": 15,
   "id": "infinite-dollar",
   "metadata": {},
   "outputs": [
    {
     "name": "stdout",
     "output_type": "stream",
     "text": [
      "Files already downloaded and verified\n"
     ]
    }
   ],
   "source": [
    "netE.eval()\n",
    "netG.eval()\n",
    "norms = []\n",
    "for i, (x,_) in enumerate(TRAIN_loader(option='cifar10')):\n",
    "    x = x.cuda()\n",
    "    [z,mu,logvar] = netE(x)\n",
    "    norms.append(torch.norm(mu))\n",
    "    if i>10000:\n",
    "        break"
   ]
  },
  {
   "cell_type": "code",
   "execution_count": 16,
   "id": "psychological-contrast",
   "metadata": {
    "scrolled": true
   },
   "outputs": [
    {
     "name": "stdout",
     "output_type": "stream",
     "text": [
      "tensor(17.5502, device='cuda:0', grad_fn=<CopyBackwards>)\n",
      "tensor(5.7901, device='cuda:0', grad_fn=<CopyBackwards>)\n"
     ]
    }
   ],
   "source": [
    "print(max(norms))\n",
    "print(min(norms))"
   ]
  },
  {
   "cell_type": "markdown",
   "id": "increased-provincial",
   "metadata": {},
   "source": [
    "cifar10(Test)"
   ]
  },
  {
   "cell_type": "code",
   "execution_count": 27,
   "id": "changed-receptor",
   "metadata": {},
   "outputs": [
    {
     "name": "stdout",
     "output_type": "stream",
     "text": [
      "Files already downloaded and verified\n"
     ]
    }
   ],
   "source": [
    "netE.eval()\n",
    "netG.eval()\n",
    "norms = []\n",
    "for i, (x,_) in enumerate(TEST_loader(train_dist='cifar10', target_dist='cifar10')):\n",
    "    x = x.cuda()\n",
    "    [z,mu,logvar] = netE(x)\n",
    "    norms.append(torch.norm(mu))\n",
    "    if i>10000:\n",
    "        break"
   ]
  },
  {
   "cell_type": "code",
   "execution_count": 28,
   "id": "described-combine",
   "metadata": {},
   "outputs": [
    {
     "name": "stdout",
     "output_type": "stream",
     "text": [
      "tensor(16.2626, device='cuda:0', grad_fn=<CopyBackwards>)\n",
      "tensor(5.8526, device='cuda:0', grad_fn=<CopyBackwards>)\n"
     ]
    }
   ],
   "source": [
    "print(max(norms))\n",
    "print(min(norms))"
   ]
  },
  {
   "cell_type": "markdown",
   "id": "broadband-bernard",
   "metadata": {},
   "source": [
    "noise"
   ]
  },
  {
   "cell_type": "code",
   "execution_count": 17,
   "id": "english-lexington",
   "metadata": {},
   "outputs": [],
   "source": [
    "netE.eval()\n",
    "netG.eval()\n",
    "norms = []\n",
    "for i, x in enumerate(TEST_loader(train_dist='cifar10', target_dist='noise')):\n",
    "    x = x.cuda()\n",
    "    [z,mu,logvar] = netE(x)\n",
    "    norms.append(torch.norm(mu))\n",
    "    if i>10000:\n",
    "        break"
   ]
  },
  {
   "cell_type": "code",
   "execution_count": 18,
   "id": "lasting-stability",
   "metadata": {},
   "outputs": [
    {
     "name": "stdout",
     "output_type": "stream",
     "text": [
      "tensor(4.6404, device='cuda:0', grad_fn=<CopyBackwards>)\n",
      "tensor(3.2884, device='cuda:0', grad_fn=<CopyBackwards>)\n"
     ]
    }
   ],
   "source": [
    "print(max(norms))\n",
    "print(min(norms))"
   ]
  },
  {
   "cell_type": "markdown",
   "id": "informational-niagara",
   "metadata": {},
   "source": [
    "celeba"
   ]
  },
  {
   "cell_type": "code",
   "execution_count": 20,
   "id": "disciplinary-austin",
   "metadata": {},
   "outputs": [],
   "source": [
    "netE.eval()\n",
    "netG.eval()\n",
    "norms = []\n",
    "for i, x in enumerate(TEST_loader(train_dist='cifar10', target_dist='celeba')):\n",
    "    x = x.cuda()\n",
    "    [z,mu,logvar] = netE(x)\n",
    "    norms.append(torch.norm(mu))\n",
    "    if i>10000:\n",
    "        break"
   ]
  },
  {
   "cell_type": "code",
   "execution_count": 22,
   "id": "defensive-auction",
   "metadata": {},
   "outputs": [
    {
     "name": "stdout",
     "output_type": "stream",
     "text": [
      "tensor(17.2147, device='cuda:0', grad_fn=<CopyBackwards>)\n",
      "tensor(5.4415, device='cuda:0', grad_fn=<CopyBackwards>)\n"
     ]
    }
   ],
   "source": [
    "print(max(norms))\n",
    "print(min(norms))"
   ]
  },
  {
   "cell_type": "markdown",
   "id": "painful-darkness",
   "metadata": {},
   "source": [
    "lsun"
   ]
  },
  {
   "cell_type": "code",
   "execution_count": 24,
   "id": "joint-montreal",
   "metadata": {},
   "outputs": [],
   "source": [
    "netE.eval()\n",
    "netG.eval()\n",
    "norms = []\n",
    "for i, x in enumerate(TEST_loader(train_dist='cifar10', target_dist='lsun')):\n",
    "    x = x.cuda()\n",
    "    [z,mu,logvar] = netE(x)\n",
    "    norms.append(torch.norm(mu))\n",
    "    if i>10000:\n",
    "        break"
   ]
  },
  {
   "cell_type": "code",
   "execution_count": 25,
   "id": "operating-hindu",
   "metadata": {},
   "outputs": [
    {
     "name": "stdout",
     "output_type": "stream",
     "text": [
      "tensor(15.1020, device='cuda:0', grad_fn=<CopyBackwards>)\n",
      "tensor(7.4169, device='cuda:0', grad_fn=<CopyBackwards>)\n"
     ]
    }
   ],
   "source": [
    "print(max(norms))\n",
    "print(min(norms))"
   ]
  },
  {
   "cell_type": "markdown",
   "id": "quiet-police",
   "metadata": {},
   "source": [
    "constant"
   ]
  },
  {
   "cell_type": "code",
   "execution_count": 29,
   "id": "amino-antibody",
   "metadata": {},
   "outputs": [],
   "source": [
    "netE.eval()\n",
    "netG.eval()\n",
    "norms = []\n",
    "for i, x in enumerate(TEST_loader(train_dist='cifar10', target_dist='constant')):\n",
    "    x = x.cuda()\n",
    "    [z,mu,logvar] = netE(x)\n",
    "    norms.append(torch.norm(mu))\n",
    "    if i>10000:\n",
    "        break"
   ]
  },
  {
   "cell_type": "code",
   "execution_count": 30,
   "id": "congressional-gazette",
   "metadata": {},
   "outputs": [
    {
     "name": "stdout",
     "output_type": "stream",
     "text": [
      "tensor(29.2728, device='cuda:0', grad_fn=<CopyBackwards>)\n",
      "tensor(7.9562, device='cuda:0', grad_fn=<CopyBackwards>)\n"
     ]
    }
   ],
   "source": [
    "print(max(norms))\n",
    "print(min(norms))"
   ]
  }
 ],
 "metadata": {
  "kernelspec": {
   "display_name": "torch",
   "language": "python",
   "name": "torch14"
  },
  "language_info": {
   "codemirror_mode": {
    "name": "ipython",
    "version": 3
   },
   "file_extension": ".py",
   "mimetype": "text/x-python",
   "name": "python",
   "nbconvert_exporter": "python",
   "pygments_lexer": "ipython3",
   "version": "3.6.12"
  }
 },
 "nbformat": 4,
 "nbformat_minor": 5
}
