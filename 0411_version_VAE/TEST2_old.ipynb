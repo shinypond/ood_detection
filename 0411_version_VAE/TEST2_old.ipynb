{
 "cells": [
  {
   "cell_type": "code",
   "execution_count": 1,
   "id": "macro-margin",
   "metadata": {
    "scrolled": true
   },
   "outputs": [],
   "source": [
    "%load_ext autoreload\n",
    "%autoreload 2\n",
    "import os\n",
    "import sys\n",
    "sys.path.append(os.getcwd() + '/core')\n",
    "import numpy as np\n",
    "import matplotlib.pyplot as plt\n",
    "import torch\n",
    "import torch.nn as nn\n",
    "import core.config as config\n",
    "from core.model_loader import load_pretrained_VAE\n",
    "from core.data_loader import TRAIN_loader, TEST_loader\n",
    "from core.custom_loss import KL_div, VAE_loss\n",
    "from core.fisher_utils import Calculate_Vanilafisher, Calculate_Vanilascore, Calculate_fisher_VAE, Calculate_score_VAE \n",
    "from core.visualize import plot_hist, AUROC"
   ]
  },
  {
   "cell_type": "markdown",
   "id": "progressive-contributor",
   "metadata": {},
   "source": [
    "# CIFAR10"
   ]
  },
  {
   "cell_type": "code",
   "execution_count": 3,
   "id": "central-boston",
   "metadata": {},
   "outputs": [],
   "source": [
    "train_dist = 'cifar10'\n",
    "opt = config.VAE_cifar10\n",
    "netE, netG = load_pretrained_VAE(option=train_dist)\n",
    "netE.eval()\n",
    "netG.eval()\n",
    "dicts = [netE.conv1.weight]"
   ]
  },
  {
   "cell_type": "markdown",
   "id": "planned-input",
   "metadata": {},
   "source": [
    "# Train in eval mode"
   ]
  },
  {
   "cell_type": "code",
   "execution_count": 84,
   "id": "tribal-exhibition",
   "metadata": {
    "scrolled": true
   },
   "outputs": [],
   "source": [
    "# import torch.optim as optim\n",
    "# import torchvision.datasets as dset\n",
    "# import torchvision.transforms as transforms\n",
    "\n",
    "# netE.eval()\n",
    "# netG.eval()\n",
    "\n",
    "# for p in netE.parameters():\n",
    "#     p.requires_grad = False\n",
    "# for p in netG.parameters():\n",
    "#     p.requires_grad = False\n",
    "# for p in netE.conv1.parameters():\n",
    "#     p.requires_grad = True\n",
    "# for p in netE.conv2.parameters():\n",
    "#     p.requires_grad = True\n",
    "\n",
    "# optimizer1 = optim.Adam(netE.parameters(), lr=1e-4)\n",
    "# optimizer2 = optim.Adam(netG.parameters(), lr=1e-4)\n",
    "\n",
    "# device = 'cuda:0'\n",
    "\n",
    "# dataset = dset.CIFAR10( root=opt.dataroot, download=True,train = True,\n",
    "#                                 transform=transforms.Compose([\n",
    "#                                    transforms.Resize((opt.imageSize)),\n",
    "#                                    transforms.RandomHorizontalFlip(),\n",
    "#                                    transforms.ToTensor(),\n",
    "#                                ]))\n",
    "# dataloader = torch.utils.data.DataLoader(dataset, batch_size=64,\n",
    "#                                         shuffle=True, num_workers=int(opt.workers))\n",
    "\n",
    "# for epoch in range(10):\n",
    "#     LOSS = []\n",
    "#     for i, (x, _) in enumerate(dataloader):\n",
    "#         optimizer1.zero_grad()\n",
    "#         optimizer2.zero_grad()\n",
    "#         x = x.to(device)\n",
    "#         [z,mu,logvar] = netE(x)\n",
    "#         recon = netG(z)\n",
    "#         loss = VAE_loss(x, [recon, mu, logvar], beta=opt.beta)\n",
    "#         loss.backward(retain_graph=True)\n",
    "#         optimizer1.step()\n",
    "#         optimizer2.step()\n",
    "#         LOSS.append(loss.detach().cpu())\n",
    "#         if i%100==99:\n",
    "#             print(sum(LOSS)/100)\n",
    "#             LOSS = []"
   ]
  },
  {
   "cell_type": "markdown",
   "id": "mysterious-liberal",
   "metadata": {},
   "source": [
    "# Calculate the Fisher & Score (for CIFAR10)"
   ]
  },
  {
   "cell_type": "code",
   "execution_count": 68,
   "id": "activated-exploration",
   "metadata": {},
   "outputs": [],
   "source": [
    "# Fisher_inv, normalize_factor = Calculate_fisher_VAE(netE,\n",
    "#                                                            netG,\n",
    "#                                                            TRAIN_loader(option='cifar10'),\n",
    "#                                                            dicts,\n",
    "#                                                            opt,\n",
    "#                                                     max_iter=5\n",
    "#                                                           )\n",
    "\n",
    "# cifar_Gradients = Calculate_score_VAE(netE,\n",
    "#                                       netG,\n",
    "#                                       TEST_loader(train_dist='cifar10', target_dist='cifar10'),\n",
    "#                                       dicts,\n",
    "#                                       opt,\n",
    "#                                       Fisher_inv,\n",
    "#                                       normalize_factor,\n",
    "#                                       entry,\n",
    "#                                       max_iter=5\n",
    "#                                      )\n",
    "# lsun_Gradients = Calculate_score_VAE(netE,\n",
    "#                                      netG,\n",
    "#                                      TEST_loader(train_dist='cifar10', target_dist='lsun', shuffle=True),\n",
    "#                                      dicts,\n",
    "#                                       opt,\n",
    "#                                       Fisher_inv,\n",
    "#                                       normalize_factor,\n",
    "#                                       entry,\n",
    "#                                       max_iter=5\n",
    "#                                     )\n",
    "# cifar100_Gradients = Calculate_score_VAE(netE,\n",
    "#                                         netG,\n",
    "#                                         TEST_loader(train_dist='cifar10', target_dist='cifar100'),\n",
    "#                                         dicts,\n",
    "#                                         opt,\n",
    "#                                         Fisher_inv,\n",
    "#                                         normalize_factor,\n",
    "#                                         entry,\n",
    "#                                         max_iter=5\n",
    "#                                         )\n",
    "# noise_Gradients = Calculate_score_VAE(netE,\n",
    "#                                       netG,\n",
    "#                                       TEST_loader(train_dist='cifar10', target_dist='noise'),\n",
    "#                                       dicts,\n",
    "#                                       opt,\n",
    "#                                       Fisher_inv,\n",
    "#                                       normalize_factor,\n",
    "#                                       entry,\n",
    "#                                       max_iter=5\n",
    "#                                      )"
   ]
  },
  {
   "cell_type": "code",
   "execution_count": 69,
   "id": "distant-leather",
   "metadata": {
    "scrolled": true
   },
   "outputs": [],
   "source": [
    "# constant_Gradients = Calculate_score_VAE(netE,\n",
    "#                                       netG,\n",
    "#                                       TEST_loader(train_dist='cifar10', target_dist='constant'),\n",
    "#                                       dicts,\n",
    "#                                       opt,\n",
    "#                                       Fisher_inv,\n",
    "#                                       normalize_factor,\n",
    "#                                       entry,\n",
    "#                                       max_iter=5\n",
    "#                                  )\n",
    "# svhn_Gradients = Calculate_score_VAE(netE,\n",
    "#                                       netG,\n",
    "#                                       TEST_loader(train_dist='cifar10', target_dist='svhn'),\n",
    "#                                       dicts,\n",
    "#                                       opt,\n",
    "#                                       Fisher_inv,\n",
    "#                                       normalize_factor,\n",
    "#                                       entry,\n",
    "#                                       max_iter=5\n",
    "#                                 )\n",
    "\n",
    "# celeba_Gradients = Calculate_score_VAE(netE,\n",
    "#                                       netG,\n",
    "#                                       TEST_loader(train_dist='cifar10', target_dist='celeba'),\n",
    "#                                       dicts,\n",
    "#                                       opt,\n",
    "#                                       Fisher_inv,\n",
    "#                                       normalize_factor,\n",
    "#                                       entry,\n",
    "#                                       max_iter=5\n",
    "#                                   )"
   ]
  },
  {
   "cell_type": "code",
   "execution_count": 23,
   "id": "under-restriction",
   "metadata": {
    "scrolled": true
   },
   "outputs": [
    {
     "name": "stdout",
     "output_type": "stream",
     "text": [
      "Files already downloaded and verified\n"
     ]
    },
    {
     "name": "stderr",
     "output_type": "stream",
     "text": [
      "Calculate Fisher:   0%|                                                                    | 0/50000 [00:02<?, ?step/s]"
     ]
    },
    {
     "name": "stdout",
     "output_type": "stream",
     "text": [
      "tensor(0., device='cuda:0')\n"
     ]
    },
    {
     "name": "stderr",
     "output_type": "stream",
     "text": [
      "\n"
     ]
    },
    {
     "ename": "AssertionError",
     "evalue": "",
     "output_type": "error",
     "traceback": [
      "\u001b[1;31m---------------------------------------------------------------------------\u001b[0m",
      "\u001b[1;31mAssertionError\u001b[0m                            Traceback (most recent call last)",
      "\u001b[1;32m<ipython-input-23-024fb942700f>\u001b[0m in \u001b[0;36m<module>\u001b[1;34m\u001b[0m\n\u001b[1;32m----> 1\u001b[1;33m Grads, normalize_factor = Calculate_Vanilafisher(netE,\n\u001b[0m\u001b[0;32m      2\u001b[0m                                            \u001b[0mnetG\u001b[0m\u001b[1;33m,\u001b[0m\u001b[1;33m\u001b[0m\u001b[1;33m\u001b[0m\u001b[0m\n\u001b[0;32m      3\u001b[0m                                            \u001b[0mTRAIN_loader\u001b[0m\u001b[1;33m(\u001b[0m\u001b[0moption\u001b[0m\u001b[1;33m=\u001b[0m\u001b[1;34m'cifar10'\u001b[0m\u001b[1;33m)\u001b[0m\u001b[1;33m,\u001b[0m\u001b[1;33m\u001b[0m\u001b[1;33m\u001b[0m\u001b[0m\n\u001b[0;32m      4\u001b[0m                                            \u001b[0mdicts\u001b[0m\u001b[1;33m,\u001b[0m\u001b[1;33m\u001b[0m\u001b[1;33m\u001b[0m\u001b[0m\n\u001b[0;32m      5\u001b[0m                                            \u001b[0mopt\u001b[0m\u001b[1;33m=\u001b[0m\u001b[0mopt\u001b[0m\u001b[1;33m,\u001b[0m\u001b[1;33m\u001b[0m\u001b[1;33m\u001b[0m\u001b[0m\n",
      "\u001b[1;32m~\\codes\\ood_detection\\0411_version_VAE\\core\\fisher_utils.py\u001b[0m in \u001b[0;36mCalculate_Vanilafisher\u001b[1;34m(netE, netG, dataloader, dicts, opt, noise)\u001b[0m\n\u001b[0;32m     56\u001b[0m         \u001b[0mgrads\u001b[0m \u001b[1;33m=\u001b[0m \u001b[0mtorch\u001b[0m\u001b[1;33m.\u001b[0m\u001b[0mcat\u001b[0m\u001b[1;33m(\u001b[0m\u001b[0mgrads\u001b[0m\u001b[1;33m)\u001b[0m\u001b[1;33m\u001b[0m\u001b[1;33m\u001b[0m\u001b[0m\n\u001b[0;32m     57\u001b[0m         \u001b[0mprint\u001b[0m\u001b[1;33m(\u001b[0m\u001b[0mtorch\u001b[0m\u001b[1;33m.\u001b[0m\u001b[0msum\u001b[0m\u001b[1;33m(\u001b[0m\u001b[0mtorch\u001b[0m\u001b[1;33m.\u001b[0m\u001b[0mabs\u001b[0m\u001b[1;33m(\u001b[0m\u001b[0mgrads\u001b[0m \u001b[1;33m-\u001b[0m \u001b[0mparam\u001b[0m\u001b[1;33m.\u001b[0m\u001b[0mgrad\u001b[0m\u001b[1;33m.\u001b[0m\u001b[0mview\u001b[0m\u001b[1;33m(\u001b[0m\u001b[1;33m-\u001b[0m\u001b[1;36m1\u001b[0m\u001b[1;33m)\u001b[0m \u001b[1;33m**\u001b[0m \u001b[1;36m2\u001b[0m\u001b[1;33m)\u001b[0m\u001b[1;33m)\u001b[0m\u001b[1;33m)\u001b[0m\u001b[1;33m\u001b[0m\u001b[1;33m\u001b[0m\u001b[0m\n\u001b[1;32m---> 58\u001b[1;33m         \u001b[1;32massert\u001b[0m \u001b[1;36m0\u001b[0m\u001b[1;33m==\u001b[0m\u001b[1;36m1\u001b[0m\u001b[1;33m\u001b[0m\u001b[1;33m\u001b[0m\u001b[0m\n\u001b[0m\u001b[0;32m     59\u001b[0m \u001b[1;33m\u001b[0m\u001b[0m\n\u001b[0;32m     60\u001b[0m         \u001b[1;32mif\u001b[0m \u001b[0mi\u001b[0m \u001b[1;33m==\u001b[0m \u001b[1;36m0\u001b[0m\u001b[1;33m:\u001b[0m\u001b[1;33m\u001b[0m\u001b[1;33m\u001b[0m\u001b[0m\n",
      "\u001b[1;31mAssertionError\u001b[0m: "
     ]
    }
   ],
   "source": [
    "Grads, normalize_factor = Calculate_Vanilafisher(netE,\n",
    "                                           netG,\n",
    "                                           TRAIN_loader(option='cifar10'),\n",
    "                                           dicts,\n",
    "                                           opt=opt,\n",
    "                                          )\n",
    "\n",
    "\n",
    "# lsun_Gradients = Calculate_Vanilascore(netE,\n",
    "#                                  netG,\n",
    "#                                  TEST_loader(train_dist='cifar10', target_dist='lsun', shuffle=True),\n",
    "#                                  dicts,\n",
    "#                                  Grads,\n",
    "#                                  normalize_factor,\n",
    "#                                  max_iter=3000,\n",
    "#                                  opt=opt,\n",
    "#                                  with_label=opt.with_label,\n",
    "#                                 )\n",
    "# cifar100_Gradients = Calculate_Vanilascore(netE,\n",
    "#                                   netG,\n",
    "#                                   TEST_loader(train_dist='cifar10', target_dist='cifar100'),\n",
    "#                                   dicts,\n",
    "#                                   Grads,\n",
    "#                                   normalize_factor,\n",
    "#                                   max_iter=3000,\n",
    "#                                   opt=opt,\n",
    "#                                   with_label=opt.with_label,\n",
    "#                                  )\n",
    "# noise_Gradients = Calculate_Vanilascore(netE,\n",
    "#                                   netG,\n",
    "#                                   TEST_loader(train_dist='cifar10', target_dist='noise'),\n",
    "#                                   dicts,\n",
    "#                                   Grads,\n",
    "#                                   normalize_factor,\n",
    "#                                   max_iter=3000,\n",
    "#                                   opt=opt,\n",
    "#                                   with_label=opt.with_label,\n",
    "#                                  )"
   ]
  },
  {
   "cell_type": "code",
   "execution_count": 20,
   "id": "aging-brake",
   "metadata": {},
   "outputs": [
    {
     "data": {
      "text/plain": [
       "{'1': tensor([2.], device='cuda:0', grad_fn=<CopyBackwards>)}"
      ]
     },
     "execution_count": 20,
     "metadata": {},
     "output_type": "execute_result"
    }
   ],
   "source": [
    "a = {}\n",
    "b = torch.tensor([2.], requires_grad=True).to('cuda')\n",
    "a['1'] = b\n",
    "2*a['1']\n",
    "a"
   ]
  },
  {
   "cell_type": "code",
   "execution_count": 6,
   "id": "dietary-graphics",
   "metadata": {},
   "outputs": [
    {
     "name": "stdout",
     "output_type": "stream",
     "text": [
      "Files already downloaded and verified\n"
     ]
    },
    {
     "name": "stderr",
     "output_type": "stream",
     "text": [
      "Calculate Score:  10%|█████▋                                                   | 1001/10000 [00:09<01:28, 101.75step/s]\n"
     ]
    },
    {
     "name": "stdout",
     "output_type": "stream",
     "text": [
      "Using downloaded and verified file: ../data\\test_32x32.mat\n"
     ]
    },
    {
     "name": "stderr",
     "output_type": "stream",
     "text": [
      "Calculate Score:   4%|██▏                                                       | 1001/26032 [00:10<04:14, 98.43step/s]\n"
     ]
    }
   ],
   "source": [
    "# constant_Gradients = Calculate_Vanilascore(netE,\n",
    "#                                   netG,\n",
    "#                                   TEST_loader(train_dist='cifar10', target_dist='constant'),\n",
    "#                                   dicts,\n",
    "#                                   Grads,\n",
    "#                                   normalize_factor,\n",
    "#                                   max_iter=3000,\n",
    "#                                   opt=opt,\n",
    "#                                   with_label=opt.with_label,\n",
    "#                                  )\n",
    "cifar_Gradients = Calculate_Vanilascore(netE,\n",
    "                                  netG,\n",
    "                                  TEST_loader(train_dist='cifar10', target_dist='cifar10'),\n",
    "                                  dicts,\n",
    "                                  Grads,\n",
    "                                  normalize_factor,\n",
    "                                  max_iter=1000,\n",
    "                                  opt=opt,\n",
    "                                  with_label=opt.with_label,\n",
    "                                 )\n",
    "\n",
    "svhn_Gradients = Calculate_Vanilascore(netE,\n",
    "                                 netG,\n",
    "                                 TEST_loader(train_dist='cifar10', target_dist='svhn'),\n",
    "                                 dicts,\n",
    "                                 Grads,\n",
    "                                 normalize_factor,\n",
    "                                 max_iter=1000,\n",
    "                                 opt=opt,\n",
    "                                 with_label=opt.with_label,\n",
    "                                )\n",
    "\n",
    "# celeba_Gradients = Calculate_Vanilascore(netE,\n",
    "#                                    netG,\n",
    "#                                    TEST_loader(train_dist='cifar10', target_dist='celeba'),\n",
    "#                                    dicts,\n",
    "#                                    Grads,\n",
    "#                                    normalize_factor,\n",
    "#                                    max_iter=3000,\n",
    "#                                    opt=opt,\n",
    "#                                    with_label=opt.with_label,\n",
    "#                                   )"
   ]
  },
  {
   "cell_type": "markdown",
   "id": "plain-essence",
   "metadata": {},
   "source": [
    "# Visualize"
   ]
  },
  {
   "cell_type": "code",
   "execution_count": 87,
   "id": "saved-intake",
   "metadata": {
    "scrolled": true
   },
   "outputs": [
    {
     "data": {
      "image/png": "[encoded data removed]",
      "text/plain": [
       "<Figure size 864x648 with 1 Axes>"
      ]
     },
     "metadata": {
      "needs_background": "light"
     },
     "output_type": "display_data"
    }
   ],
   "source": [
    "args = [cifar_Gradients, svhn_Gradients,  lsun_Gradients,  celeba_Gradients, constant_Gradients, cifar100_Gradients]\n",
    "bins = [3000, 300, 300, 3000, 100, 3000]\n",
    "labels = ['cifar10', 'svhn', 'lsun', 'celeba', 'constant', 'cifar100']\n",
    "xlim = [0, 2]\n",
    "plot_hist(*args, bins=bins, labels=labels, xlim=xlim)"
   ]
  },
  {
   "cell_type": "code",
   "execution_count": 88,
   "id": "polished-civilian",
   "metadata": {
    "scrolled": true
   },
   "outputs": [
    {
     "data": {
      "image/png": "[encoded data removed]",
      "text/plain": [
       "<Figure size 864x648 with 1 Axes>"
      ]
     },
     "metadata": {
      "needs_background": "light"
     },
     "output_type": "display_data"
    }
   ],
   "source": [
    "args = [np.array(cifar_Gradients), np.array(cifar100_Gradients)]\n",
    "labels = ['cifar', 'cifar100']\n",
    "AUROC(*args, labels=labels)"
   ]
  },
  {
   "cell_type": "code",
   "execution_count": 89,
   "id": "pediatric-liverpool",
   "metadata": {
    "scrolled": true
   },
   "outputs": [
    {
     "data": {
      "image/png": "[encoded data removed]",
      "text/plain": [
       "<Figure size 864x648 with 1 Axes>"
      ]
     },
     "metadata": {
      "needs_background": "light"
     },
     "output_type": "display_data"
    }
   ],
   "source": [
    "args = [cifar_Gradients, constant_Gradients]\n",
    "labels = ['cifar', 'constant']\n",
    "AUROC(*args, labels=labels)"
   ]
  },
  {
   "cell_type": "code",
   "execution_count": 7,
   "id": "broken-suite",
   "metadata": {},
   "outputs": [
    {
     "data": {
      "image/png": "[encoded data removed]",
      "text/plain": [
       "<Figure size 864x648 with 1 Axes>"
      ]
     },
     "metadata": {
      "needs_background": "light"
     },
     "output_type": "display_data"
    }
   ],
   "source": [
    "args = [cifar_Gradients, svhn_Gradients]\n",
    "labels = ['cifar', 'svhn']\n",
    "AUROC(*args, labels=labels)"
   ]
  },
  {
   "cell_type": "code",
   "execution_count": 91,
   "id": "duplicate-deviation",
   "metadata": {},
   "outputs": [
    {
     "data": {
      "image/png": "[encoded data removed]",
      "text/plain": [
       "<Figure size 864x648 with 1 Axes>"
      ]
     },
     "metadata": {
      "needs_background": "light"
     },
     "output_type": "display_data"
    }
   ],
   "source": [
    "args = [cifar_Gradients, celeba_Gradients]\n",
    "labels = ['cifar', 'celeba']\n",
    "AUROC(*args, labels=labels)"
   ]
  },
  {
   "cell_type": "code",
   "execution_count": 92,
   "id": "infrared-shoot",
   "metadata": {},
   "outputs": [
    {
     "data": {
      "image/png": "[encoded data removed]",
      "text/plain": [
       "<Figure size 864x648 with 1 Axes>"
      ]
     },
     "metadata": {
      "needs_background": "light"
     },
     "output_type": "display_data"
    }
   ],
   "source": [
    "args = [cifar_Gradients, lsun_Gradients]\n",
    "labels = ['cifar', 'lsun']\n",
    "AUROC(*args, labels=labels)"
   ]
  },
  {
   "cell_type": "code",
   "execution_count": 93,
   "id": "velvet-metallic",
   "metadata": {},
   "outputs": [
    {
     "data": {
      "image/png": "[encoded data removed]",
      "text/plain": [
       "<Figure size 864x648 with 1 Axes>"
      ]
     },
     "metadata": {
      "needs_background": "light"
     },
     "output_type": "display_data"
    }
   ],
   "source": [
    "args = [cifar_Gradients, noise_Gradients]\n",
    "labels = ['cifar', 'noise']\n",
    "AUROC(*args, labels=labels)"
   ]
  },
  {
   "cell_type": "markdown",
   "id": "auburn-light",
   "metadata": {},
   "source": [
    "# FMNIST"
   ]
  },
  {
   "cell_type": "code",
   "execution_count": null,
   "id": "portable-rebecca",
   "metadata": {},
   "outputs": [],
   "source": [
    "train_dist = 'fmnist'\n",
    "opt = config.VAE_fmnist\n",
    "netE, netG = load_pretrained_VAE(option=train_dist)\n",
    "\n",
    "dicts = [netE.conv1.weight]"
   ]
  },
  {
   "cell_type": "markdown",
   "id": "discrete-identifier",
   "metadata": {},
   "source": [
    "# Calculate the Fisher & Score (for FMNIST)"
   ]
  },
  {
   "cell_type": "code",
   "execution_count": null,
   "id": "sound-retailer",
   "metadata": {},
   "outputs": [],
   "source": [
    "noise=0\n",
    "\n",
    "Grads, normalize_factor = Calculate_fisher(netE,\n",
    "                                           netG,\n",
    "                                           TRAIN_loader(option='fmnist'),\n",
    "                                           dicts = dicts,\n",
    "                                           opt=opt,\n",
    "                                           noise=noise\n",
    "                                          )\n",
    "fmnist_Gradients = Calculate_score(netE,\n",
    "                                   netG,\n",
    "                                   TEST_loader(train_dist='fmnist', target_dist='fmnist'),\n",
    "                                   dicts,\n",
    "                                   Grads,\n",
    "                                   normalize_factor,\n",
    "                                   max_iter=5000,\n",
    "                                   opt=opt,\n",
    "                                   with_label=opt.with_label,\n",
    "                                   noise=noise\n",
    "                                  )\n",
    "kmnist_Gradients = Calculate_score(netE,\n",
    "                                  netG,\n",
    "                                  TEST_loader(train_dist='fmnist', target_dist='kmnist'),\n",
    "                                  dicts,\n",
    "                                  Grads,\n",
    "                                  normalize_factor,\n",
    "                                  max_iter=5000,\n",
    "                                  opt=opt,\n",
    "                                  with_label=opt.with_label,\n",
    "                                   noise=noise\n",
    "                                 )\n",
    "\n",
    "omni_Gradients = Calculate_score(netE,\n",
    "                                  netG,\n",
    "                                  TEST_loader(train_dist='fmnist', target_dist='omniglot'),\n",
    "                                  dicts,\n",
    "                                  Grads,\n",
    "                                  normalize_factor,\n",
    "                                  max_iter=5000,\n",
    "                                  opt=opt,\n",
    "                                  with_label=True,\n",
    "                                 noise=noise\n",
    "                                 )\n",
    "mnist_Gradients = Calculate_score(netE,\n",
    "                                  netG,\n",
    "                                  TEST_loader(train_dist='fmnist', target_dist='mnist'),\n",
    "                                  dicts,\n",
    "                                  Grads,\n",
    "                                  normalize_factor,\n",
    "                                  max_iter=5000,\n",
    "                                  opt=opt,\n",
    "                                  with_label=opt.with_label,\n",
    "                                  noise=noise\n",
    "                                 )\n",
    "noise_Gradients = Calculate_score(netE,\n",
    "                                  netG,\n",
    "                                  TEST_loader(train_dist='fmnist', target_dist='noise'),\n",
    "                                  dicts,\n",
    "                                  Grads,\n",
    "                                  normalize_factor,\n",
    "                                  max_iter=5000,\n",
    "                                  opt=opt,\n",
    "                                  with_label=opt.with_label,\n",
    "                                  noise=noise\n",
    "                                 )\n",
    "constant_Gradients = Calculate_score(netE,\n",
    "                                  netG,\n",
    "                                  TEST_loader(train_dist='fmnist', target_dist='constant'),\n",
    "                                  dicts,\n",
    "                                  Grads,\n",
    "                                  normalize_factor,\n",
    "                                  max_iter=5000,\n",
    "                                  opt=opt,\n",
    "                                  with_label=opt.with_label,\n",
    "                                     noise=noise\n",
    "                                 )"
   ]
  },
  {
   "cell_type": "code",
   "execution_count": null,
   "id": "juvenile-rubber",
   "metadata": {},
   "outputs": [],
   "source": []
  },
  {
   "cell_type": "markdown",
   "id": "comfortable-insulation",
   "metadata": {},
   "source": [
    "# Visualize"
   ]
  },
  {
   "cell_type": "code",
   "execution_count": null,
   "id": "anonymous-episode",
   "metadata": {},
   "outputs": [],
   "source": [
    "args = [fmnist_Gradients, kmnist_Gradients, omni_Gradients, constant_Gradients, mnist_Gradients, noise_Gradients]\n",
    "bins = [100, 100, 100, 100, 100, 100]\n",
    "labels = ['fmnist', 'kmnist', 'omniglot', 'constant', 'mnist', 'noise']\n",
    "xlim = [0, 5]\n",
    "plot_hist(*args, bins=bins, labels=labels, xlim=xlim)"
   ]
  },
  {
   "cell_type": "code",
   "execution_count": null,
   "id": "dietary-commercial",
   "metadata": {
    "scrolled": true
   },
   "outputs": [],
   "source": [
    "args = [fmnist_Gradients, mnist_Gradients]\n",
    "labels = ['fmnist', 'mnist']\n",
    "AUROC(*args, labels=labels)"
   ]
  },
  {
   "cell_type": "code",
   "execution_count": null,
   "id": "sustainable-thing",
   "metadata": {
    "scrolled": true
   },
   "outputs": [],
   "source": [
    "args = [fmnist_Gradients, kmnist_Gradients]\n",
    "labels = ['fmnist', 'kmnist']\n",
    "AUROC(*args, labels=labels)"
   ]
  },
  {
   "cell_type": "code",
   "execution_count": null,
   "id": "strategic-sellers",
   "metadata": {
    "scrolled": true
   },
   "outputs": [],
   "source": [
    "args = [fmnist_Gradients, omni_Gradients]\n",
    "labels = ['fmnist', 'omniglot']\n",
    "AUROC(*args, labels=labels)"
   ]
  },
  {
   "cell_type": "code",
   "execution_count": null,
   "id": "twelve-sullivan",
   "metadata": {
    "scrolled": true
   },
   "outputs": [],
   "source": [
    "args = [fmnist_Gradients, constant_Gradients]\n",
    "labels = ['fmnist', 'constant']\n",
    "AUROC(*args, labels=labels)"
   ]
  },
  {
   "cell_type": "code",
   "execution_count": null,
   "id": "accomplished-banks",
   "metadata": {
    "scrolled": true
   },
   "outputs": [],
   "source": [
    "args = [fmnist_Gradients, noise_Gradients]\n",
    "labels = ['fmnist', 'noise']\n",
    "AUROC(*args, labels=labels)"
   ]
  },
  {
   "cell_type": "code",
   "execution_count": null,
   "id": "forbidden-symbol",
   "metadata": {},
   "outputs": [],
   "source": [
    "VAE, Only conv1.weight, VanilaFisher\n",
    "# FMNIST\n",
    "## sigma = 0\n",
    "### mnist : 0.988\n",
    "### kmnist : 0.995\n",
    "### omni : 1.0\n",
    "### const : 0.995\n",
    "### noise : 0.982\n",
    "\n",
    "# CIFAR10\n",
    "## sigma = 0\n",
    "### svhn : 0.878\n",
    "### const : 0.978\n",
    "### celeba : 0.783\n",
    "### lsun : 0.52\n",
    "### cifar100 : 0.54\n",
    "### noise : 0.09"
   ]
  }
 ],
 "metadata": {
  "kernelspec": {
   "display_name": "ycy",
   "language": "python",
   "name": "ycy"
  },
  "language_info": {
   "codemirror_mode": {
    "name": "ipython",
    "version": 3
   },
   "file_extension": ".py",
   "mimetype": "text/x-python",
   "name": "python",
   "nbconvert_exporter": "python",
   "pygments_lexer": "ipython3",
   "version": "3.8.5"
  }
 },
 "nbformat": 4,
 "nbformat_minor": 5
}
