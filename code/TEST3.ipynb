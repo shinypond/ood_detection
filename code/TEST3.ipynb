{
 "cells": [
  {
   "cell_type": "code",
   "execution_count": 1,
   "id": "appointed-helicopter",
   "metadata": {},
   "outputs": [],
   "source": [
    "%load_ext autoreload\n",
    "%autoreload 2\n",
    "import os\n",
    "import sys\n",
    "sys.path.append(os.getcwd() + '/core')\n",
    "sys.path.append(os.getcwd() + '/core/train_GLOW') \n",
    "import numpy as np\n",
    "import pandas as pd\n",
    "import matplotlib.pyplot as plt\n",
    "import torch\n",
    "import torch.nn as nn\n",
    "import json\n",
    "from datetime import datetime\n",
    "\n",
    "import core.config as config\n",
    "from core.model_loader import load_pretrained_VAE, load_pretrained_GLOW\n",
    "from core.data_loader import TRAIN_loader, TEST_loader\n",
    "from core.custom_loss import KL_div, VAE_loss\n",
    "from core.fisher_utils_VAE import Calculate_fisher_VAE, Calculate_score_VAE\n",
    "from core.fisher_utils_VAE import AUTO_VAE_CIFAR, AUTO_VAE_FMNIST\n",
    "from core.fisher_utils_GLOW import Calculate_fisher_GLOW, Calculate_score_GLOW\n",
    "from core.fisher_utils_GLOW import AUTO_GLOW_CIFAR, AUTO_GLOW_FMNIST\n",
    "from core.visualize import plot_hist, AUROC"
   ]
  },
  {
   "cell_type": "markdown",
   "id": "unlike-debut",
   "metadata": {},
   "source": [
    "# Define Global Variables & Initialize"
   ]
  },
  {
   "cell_type": "code",
   "execution_count": 2,
   "id": "fatal-rider",
   "metadata": {},
   "outputs": [],
   "source": [
    "# FISHER_invs : Fisher inverse matrices from calculating Fisher score (w.r.t. train-dist)\n",
    "FISHERs = {'VAE': {'cifar10': 0, 'fmnist': 0},\n",
    "           'GLOW': {'cifar10': 0, 'fmnist': 0}}\n",
    "         \n",
    "# NORMalize_FACtors : Normalizing Factor (w.r.t. train-dist)\n",
    "NORM_FACs = {'VAE': {'cifar10': 0, 'fmnist': 0},\n",
    "             'GLOW': {'cifar10': 0, 'fmnist': 0}}\n",
    "             \n",
    "# SCOREs : (Scalars) Scores from calculating Fisher score (w.r.t. target-dist)\n",
    "SCOREs = {'VAE': {'cifar10': {}, 'fmnist': {}},\n",
    "          'GLOW': {'cifar10': {}, 'fmnist': {}}}"
   ]
  },
  {
   "cell_type": "markdown",
   "id": "divided-violation",
   "metadata": {},
   "source": [
    "# VAE-CIFAR10"
   ]
  },
  {
   "cell_type": "code",
   "execution_count": 3,
   "id": "representative-complexity",
   "metadata": {
    "collapsed": true,
    "jupyter": {
     "outputs_hidden": true
    }
   },
   "outputs": [
    {
     "name": "stdout",
     "output_type": "stream",
     "text": [
      "Start! [300, 100]\n",
      "Files already downloaded and verified\n"
     ]
    },
    {
     "name": "stderr",
     "output_type": "stream",
     "text": [
      "Calculate Fisher VAE:   1%|▎                                                     | 299/50000 [00:15<44:03, 18.80step/s]\n"
     ]
    },
    {
     "name": "stdout",
     "output_type": "stream",
     "text": [
      "Files already downloaded and verified\n"
     ]
    },
    {
     "name": "stderr",
     "output_type": "stream",
     "text": [
      "Calculate Score VAE:   1%|▌                                                       | 99/10000 [00:03<05:08, 32.05step/s]\n"
     ]
    },
    {
     "name": "stdout",
     "output_type": "stream",
     "text": [
      "Using downloaded and verified file: ../data\\test_32x32.mat\n"
     ]
    },
    {
     "name": "stderr",
     "output_type": "stream",
     "text": [
      "Calculate Score VAE:   0%|▏                                                       | 99/26032 [00:03<15:19, 28.21step/s]\n",
      "Calculate Score VAE:   1%|▎                                                       | 99/19141 [00:01<05:17, 59.98step/s]\n",
      "Calculate Score VAE:  16%|█████████▌                                                | 99/600 [00:01<00:08, 58.22step/s]\n"
     ]
    },
    {
     "name": "stdout",
     "output_type": "stream",
     "text": [
      "Files already downloaded and verified\n"
     ]
    },
    {
     "name": "stderr",
     "output_type": "stream",
     "text": [
      "Calculate Score VAE:   1%|▌                                                       | 99/10000 [00:03<05:06, 32.27step/s]\n",
      "Calculate Score VAE:   1%|▌                                                       | 99/10000 [00:02<03:52, 42.59step/s]\n",
      "Calculate Score VAE:   1%|▌                                                       | 99/10000 [00:02<03:51, 42.71step/s]\n",
      "Calculate Score VAE:   1%|▌                                                       | 99/10000 [00:02<03:54, 42.13step/s]\n"
     ]
    },
    {
     "name": "stdout",
     "output_type": "stream",
     "text": [
      "Files already downloaded and verified\n"
     ]
    },
    {
     "name": "stderr",
     "output_type": "stream",
     "text": [
      "Calculate Score VAE:   1%|▍                                                       | 99/13180 [00:02<06:36, 33.01step/s]\n",
      "Calculate Score VAE:   1%|▎                                                       | 99/18724 [00:01<04:55, 63.11step/s]\n",
      "Calculate Score VAE:   1%|▍                                                       | 99/12630 [00:01<03:26, 60.68step/s]\n",
      "Calculate Score VAE:   1%|▌                                                       | 99/10000 [00:01<02:26, 67.57step/s]\n",
      "Calculate Score VAE:   1%|▌                                                       | 99/10000 [00:01<02:26, 67.57step/s]\n"
     ]
    },
    {
     "name": "stdout",
     "output_type": "stream",
     "text": [
      "{'cifar10': 0.5, 'svhn': 0.8321, 'celeba': 0.7961, 'lsun': 0.6131000000000001, 'cifar100': 0.5513000000000001, 'mnist': 1.0, 'fmnist': 0.9949999999999999, 'kmnist': 0.9994, 'omniglot': 1.0, 'notmnist': 0.9973, 'trafficsign': 0.6910000000000001, 'noise': 0.16649999999999998, 'constant': 0.9631000000000001}\n",
      "{'cifar10': 0.5, 'svhn': 0.7260000000000001, 'celeba': 0.8520999999999999, 'lsun': 0.7414999999999999, 'cifar100': 0.5687, 'mnist': 0.9954999999999999, 'fmnist': 0.9884999999999999, 'kmnist': 0.9964, 'omniglot': 0.9984, 'notmnist': 0.9984999999999999, 'trafficsign': 0.3794, 'noise': 0.007900000000000008, 'constant': 0.9804999999999999}\n",
      "{'cifar10': 0.5, 'svhn': 0.8897999999999999, 'celeba': 0.6305000000000001, 'lsun': 0.4662, 'cifar100': 0.522, 'mnist': 0.9488000000000001, 'fmnist': 0.8903, 'kmnist': 0.9259999999999999, 'omniglot': 0.9346, 'notmnist': 0.8664000000000001, 'trafficsign': 0.726, 'noise': 0.0, 'constant': 0.9924999999999999}\n",
      "Elapsed time : 0:00:49.651846\n",
      "Start! [500, 200]\n",
      "Files already downloaded and verified\n"
     ]
    },
    {
     "name": "stderr",
     "output_type": "stream",
     "text": [
      "Calculate Fisher VAE:   1%|▌                                                     | 499/50000 [00:21<36:00, 22.91step/s]\n"
     ]
    },
    {
     "name": "stdout",
     "output_type": "stream",
     "text": [
      "Files already downloaded and verified\n"
     ]
    },
    {
     "name": "stderr",
     "output_type": "stream",
     "text": [
      "Calculate Score VAE:   2%|█                                                      | 199/10000 [00:04<03:45, 43.43step/s]\n"
     ]
    },
    {
     "name": "stdout",
     "output_type": "stream",
     "text": [
      "Using downloaded and verified file: ../data\\test_32x32.mat\n"
     ]
    },
    {
     "name": "stderr",
     "output_type": "stream",
     "text": [
      "Calculate Score VAE:   1%|▍                                                      | 199/26032 [00:04<10:45, 40.00step/s]\n",
      "Calculate Score VAE:   1%|▌                                                      | 199/19141 [00:03<05:15, 60.08step/s]\n",
      "Calculate Score VAE:  33%|██████████████████▉                                      | 199/600 [00:03<00:06, 58.68step/s]\n"
     ]
    },
    {
     "name": "stdout",
     "output_type": "stream",
     "text": [
      "Files already downloaded and verified\n"
     ]
    },
    {
     "name": "stderr",
     "output_type": "stream",
     "text": [
      "Calculate Score VAE:   2%|█                                                      | 199/10000 [00:04<03:46, 43.24step/s]\n",
      "Calculate Score VAE:   2%|█                                                      | 199/10000 [00:03<03:10, 51.56step/s]\n",
      "Calculate Score VAE:   2%|█                                                      | 199/10000 [00:03<03:09, 51.72step/s]\n",
      "Calculate Score VAE:   2%|█                                                      | 199/10000 [00:03<03:09, 51.82step/s]\n"
     ]
    },
    {
     "name": "stdout",
     "output_type": "stream",
     "text": [
      "Files already downloaded and verified\n"
     ]
    },
    {
     "name": "stderr",
     "output_type": "stream",
     "text": [
      "Calculate Score VAE:   2%|▊                                                      | 199/13180 [00:04<04:54, 44.06step/s]\n",
      "Calculate Score VAE:   1%|▌                                                      | 199/18724 [00:03<04:56, 62.41step/s]\n",
      "Calculate Score VAE:   2%|▊                                                      | 199/12630 [00:03<03:24, 60.70step/s]\n",
      "Calculate Score VAE:   2%|█                                                      | 199/10000 [00:02<02:25, 67.36step/s]\n",
      "Calculate Score VAE:   2%|█                                                      | 199/10000 [00:02<02:25, 67.21step/s]\n"
     ]
    },
    {
     "name": "stdout",
     "output_type": "stream",
     "text": [
      "{'cifar10': 0.49999999999999994, 'svhn': 0.76475, 'celeba': 0.72995, 'lsun': 0.507775, 'cifar100': 0.5162, 'mnist': 0.9974, 'fmnist': 0.98665, 'kmnist': 0.994, 'omniglot': 0.998825, 'notmnist': 0.988125, 'trafficsign': 0.598575, 'noise': 0.0677, 'constant': 0.9333}\n",
      "{'cifar10': 0.49999999999999994, 'svhn': 0.6861499999999999, 'celeba': 0.7648999999999999, 'lsun': 0.65225, 'cifar100': 0.488575, 'mnist': 0.9971749999999999, 'fmnist': 0.987025, 'kmnist': 0.9995499999999999, 'omniglot': 0.998675, 'notmnist': 0.98915, 'trafficsign': 0.324475, 'noise': 0.01050000000000001, 'constant': 0.9701}\n",
      "{'cifar10': 0.49999999999999994, 'svhn': 0.82195, 'celeba': 0.582975, 'lsun': 0.36572499999999997, 'cifar100': 0.4295, 'mnist': 0.969375, 'fmnist': 0.907125, 'kmnist': 0.9546, 'omniglot': 0.749425, 'notmnist': 0.8599249999999999, 'trafficsign': 0.576075, 'noise': 0.0, 'constant': 0.9921249999999999}\n",
      "Elapsed time : 0:02:05.274532\n",
      "Start! [1000, 500]\n",
      "Files already downloaded and verified\n"
     ]
    },
    {
     "name": "stderr",
     "output_type": "stream",
     "text": [
      "Calculate Fisher VAE:   2%|█                                                     | 999/50000 [00:40<33:08, 24.64step/s]\n"
     ]
    },
    {
     "name": "stdout",
     "output_type": "stream",
     "text": [
      "Files already downloaded and verified\n"
     ]
    },
    {
     "name": "stderr",
     "output_type": "stream",
     "text": [
      "Calculate Score VAE:   5%|██▋                                                    | 499/10000 [00:09<02:51, 55.31step/s]\n"
     ]
    },
    {
     "name": "stdout",
     "output_type": "stream",
     "text": [
      "Using downloaded and verified file: ../data\\test_32x32.mat\n"
     ]
    },
    {
     "name": "stderr",
     "output_type": "stream",
     "text": [
      "Calculate Score VAE:   2%|█                                                      | 499/26032 [00:09<08:01, 53.00step/s]\n",
      "Calculate Score VAE:   3%|█▍                                                     | 499/19141 [00:08<05:08, 60.39step/s]\n",
      "Calculate Score VAE:  83%|███████████████████████████████████████████████▍         | 499/600 [00:08<00:01, 59.36step/s]\n"
     ]
    },
    {
     "name": "stdout",
     "output_type": "stream",
     "text": [
      "Files already downloaded and verified\n"
     ]
    },
    {
     "name": "stderr",
     "output_type": "stream",
     "text": [
      "Calculate Score VAE:   5%|██▋                                                    | 499/10000 [00:09<02:51, 55.28step/s]\n",
      "Calculate Score VAE:   5%|██▋                                                    | 499/10000 [00:08<02:37, 60.45step/s]\n",
      "Calculate Score VAE:   5%|██▋                                                    | 499/10000 [00:08<02:37, 60.20step/s]\n",
      "Calculate Score VAE:   5%|██▋                                                    | 499/10000 [00:08<02:36, 60.54step/s]\n"
     ]
    },
    {
     "name": "stdout",
     "output_type": "stream",
     "text": [
      "Files already downloaded and verified\n"
     ]
    },
    {
     "name": "stderr",
     "output_type": "stream",
     "text": [
      "Calculate Score VAE:   4%|██                                                     | 499/13180 [00:08<03:48, 55.48step/s]\n",
      "Calculate Score VAE:   3%|█▍                                                     | 499/18724 [00:07<04:47, 63.29step/s]\n",
      "Calculate Score VAE:   4%|██▏                                                    | 499/12630 [00:08<03:19, 60.73step/s]\n",
      "Calculate Score VAE:   5%|██▋                                                    | 499/10000 [00:07<02:19, 68.17step/s]\n",
      "Calculate Score VAE:   5%|██▋                                                    | 499/10000 [00:07<02:20, 67.49step/s]\n"
     ]
    },
    {
     "name": "stdout",
     "output_type": "stream",
     "text": [
      "{'cifar10': 0.5, 'svhn': 0.849244, 'celeba': 0.816932, 'lsun': 0.616844, 'cifar100': 0.566144, 'mnist': 0.9971, 'fmnist': 0.987972, 'kmnist': 0.99566, 'omniglot': 0.999112, 'notmnist': 0.996104, 'trafficsign': 0.591376, 'noise': 0.1299, 'constant': 0.974024}\n",
      "{'cifar10': 0.5, 'svhn': 0.750124, 'celeba': 0.8158240000000001, 'lsun': 0.704372, 'cifar100': 0.563544, 'mnist': 0.995976, 'fmnist': 0.98376, 'kmnist': 0.998772, 'omniglot': 0.9974239999999999, 'notmnist': 0.993024, 'trafficsign': 0.353776, 'noise': 0.009840000000000008, 'constant': 0.9764919999999998}\n",
      "{'cifar10': 0.5, 'svhn': 0.644068, 'celeba': 0.708228, 'lsun': 0.5311199999999999, 'cifar100': 0.535664, 'mnist': 0.94922, 'fmnist': 0.891128, 'kmnist': 0.924028, 'omniglot': 0.7575480000000001, 'notmnist': 0.895568, 'trafficsign': 0.680724, 'noise': 0.150736, 'constant': 0.9533479999999999}\n",
      "Elapsed time : 0:04:39.110443\n",
      "Start! [3000, 1000]\n",
      "Files already downloaded and verified\n"
     ]
    },
    {
     "name": "stderr",
     "output_type": "stream",
     "text": [
      "Calculate Fisher VAE:   6%|███▏                                                 | 2999/50000 [01:56<30:25, 25.75step/s]\n"
     ]
    },
    {
     "name": "stdout",
     "output_type": "stream",
     "text": [
      "Files already downloaded and verified\n"
     ]
    },
    {
     "name": "stderr",
     "output_type": "stream",
     "text": [
      "Calculate Score VAE:  10%|█████▍                                                 | 999/10000 [00:16<02:30, 59.75step/s]\n"
     ]
    },
    {
     "name": "stdout",
     "output_type": "stream",
     "text": [
      "Using downloaded and verified file: ../data\\test_32x32.mat\n"
     ]
    },
    {
     "name": "stderr",
     "output_type": "stream",
     "text": [
      "Calculate Score VAE:   4%|██                                                     | 999/26032 [00:17<07:06, 58.70step/s]\n",
      "Calculate Score VAE:   5%|██▊                                                    | 999/19141 [00:16<05:02, 59.99step/s]\n",
      "Calculate Score VAE: 100%|█████████████████████████████████████████████████████████| 600/600 [00:09<00:00, 60.14step/s]\n"
     ]
    },
    {
     "name": "stdout",
     "output_type": "stream",
     "text": [
      "Files already downloaded and verified\n"
     ]
    },
    {
     "name": "stderr",
     "output_type": "stream",
     "text": [
      "Calculate Score VAE:  10%|█████▍                                                 | 999/10000 [00:16<02:29, 60.20step/s]\n",
      "Calculate Score VAE:  10%|█████▍                                                 | 999/10000 [00:15<02:22, 63.16step/s]\n",
      "Calculate Score VAE:  10%|█████▍                                                 | 999/10000 [00:15<02:22, 63.25step/s]\n",
      "Calculate Score VAE:  10%|█████▍                                                 | 999/10000 [00:15<02:22, 63.23step/s]\n"
     ]
    },
    {
     "name": "stdout",
     "output_type": "stream",
     "text": [
      "Files already downloaded and verified\n"
     ]
    },
    {
     "name": "stderr",
     "output_type": "stream",
     "text": [
      "Calculate Score VAE:   8%|████▏                                                  | 999/13180 [00:16<03:22, 60.28step/s]\n",
      "Calculate Score VAE:   5%|██▉                                                    | 999/18724 [00:15<04:41, 62.92step/s]\n",
      "Calculate Score VAE:   8%|████▎                                                  | 999/12630 [00:16<03:11, 60.87step/s]\n",
      "Calculate Score VAE:  10%|█████▍                                                 | 999/10000 [00:14<02:13, 67.34step/s]\n",
      "Calculate Score VAE:  10%|█████▍                                                 | 999/10000 [00:14<02:13, 67.35step/s]\n"
     ]
    },
    {
     "name": "stdout",
     "output_type": "stream",
     "text": [
      "{'cifar10': 0.49999999999999994, 'svhn': 0.8378779999999999, 'celeba': 0.8111149999999999, 'lsun': 0.619965, 'cifar100': 0.564045, 'mnist': 0.998404, 'fmnist': 0.9936860000000001, 'kmnist': 0.998098, 'omniglot': 0.999132, 'notmnist': 0.997911, 'trafficsign': 0.571463, 'noise': 0.130098, 'constant': 0.991186}\n",
      "{'cifar10': 0.49999999999999994, 'svhn': 0.7467069999999999, 'celeba': 0.8029749999999999, 'lsun': 0.7045266666666666, 'cifar100': 0.557819, 'mnist': 0.993978, 'fmnist': 0.9807989999999999, 'kmnist': 0.9972989999999999, 'omniglot': 0.996725, 'notmnist': 0.9919150000000001, 'trafficsign': 0.38707400000000003, 'noise': 0.008037000000000008, 'constant': 0.977772}\n",
      "{'cifar10': 0.49999999999999994, 'svhn': 0.6439779999999999, 'celeba': 0.7367900000000001, 'lsun': 0.540425, 'cifar100': 0.535627, 'mnist': 0.879964, 'fmnist': 0.824901, 'kmnist': 0.866356, 'omniglot': 0.835383, 'notmnist': 0.904039, 'trafficsign': 0.59343, 'noise': 0.5778789999999999, 'constant': 0.98673}\n",
      "Elapsed time : 0:10:03.316903\n",
      "Start! [10000, 3000]\n",
      "Files already downloaded and verified\n"
     ]
    },
    {
     "name": "stderr",
     "output_type": "stream",
     "text": [
      "Calculate Fisher VAE:  20%|██████████▌                                          | 9999/50000 [06:22<25:28, 26.17step/s]\n"
     ]
    },
    {
     "name": "stdout",
     "output_type": "stream",
     "text": [
      "Files already downloaded and verified\n"
     ]
    },
    {
     "name": "stderr",
     "output_type": "stream",
     "text": [
      "Calculate Score VAE:  30%|████████████████▏                                     | 2999/10000 [00:46<01:47, 65.01step/s]\n"
     ]
    },
    {
     "name": "stdout",
     "output_type": "stream",
     "text": [
      "Using downloaded and verified file: ../data\\test_32x32.mat\n"
     ]
    },
    {
     "name": "stderr",
     "output_type": "stream",
     "text": [
      "Calculate Score VAE:  12%|██████▏                                               | 2999/26032 [00:46<05:57, 64.48step/s]\n",
      "Calculate Score VAE:  16%|████████▍                                             | 2999/19141 [00:49<04:26, 60.63step/s]\n",
      "Calculate Score VAE: 100%|█████████████████████████████████████████████████████████| 600/600 [00:09<00:00, 60.74step/s]\n"
     ]
    },
    {
     "name": "stdout",
     "output_type": "stream",
     "text": [
      "Files already downloaded and verified\n"
     ]
    },
    {
     "name": "stderr",
     "output_type": "stream",
     "text": [
      "Calculate Score VAE:  30%|████████████████▏                                     | 2999/10000 [00:46<01:47, 64.94step/s]\n",
      "Calculate Score VAE:  30%|████████████████▏                                     | 2999/10000 [00:45<01:45, 66.27step/s]\n",
      "Calculate Score VAE:  30%|████████████████▏                                     | 2999/10000 [00:45<01:45, 66.07step/s]\n",
      "Calculate Score VAE:  30%|████████████████▏                                     | 2999/10000 [00:45<01:45, 66.10step/s]\n"
     ]
    },
    {
     "name": "stdout",
     "output_type": "stream",
     "text": [
      "Files already downloaded and verified\n"
     ]
    },
    {
     "name": "stderr",
     "output_type": "stream",
     "text": [
      "Calculate Score VAE:  23%|████████████▎                                         | 2999/13180 [00:46<02:36, 64.88step/s]\n",
      "Calculate Score VAE:  16%|████████▋                                             | 2999/18724 [00:47<04:07, 63.57step/s]\n",
      "Calculate Score VAE:  24%|████████████▊                                         | 2999/12630 [00:48<02:35, 61.85step/s]\n",
      "Calculate Score VAE:  30%|████████████████▏                                     | 2999/10000 [00:44<01:43, 67.96step/s]\n",
      "Calculate Score VAE:  30%|████████████████▏                                     | 2999/10000 [00:44<01:42, 68.05step/s]\n"
     ]
    },
    {
     "name": "stdout",
     "output_type": "stream",
     "text": [
      "{'cifar10': 0.5, 'svhn': 0.8437492222222222, 'celeba': 0.8050104444444444, 'lsun': 0.6165705555555555, 'cifar100': 0.5503763333333334, 'mnist': 0.9996476666666666, 'fmnist': 0.9947028888888889, 'kmnist': 0.9993703333333334, 'omniglot': 0.998864, 'notmnist': 0.9955044444444444, 'trafficsign': 0.5376074444444444, 'noise': 0.11822199999999998, 'constant': 0.991867888888889}\n",
      "{'cifar10': 0.5, 'svhn': 0.7506692222222222, 'celeba': 0.7960245555555555, 'lsun': 0.6993177777777777, 'cifar100': 0.5411162222222222, 'mnist': 0.9941862222222221, 'fmnist': 0.9816225555555556, 'kmnist': 0.9971534444444444, 'omniglot': 0.9949636666666666, 'notmnist': 0.9828705555555557, 'trafficsign': 0.3688166666666667, 'noise': 0.005133000000000002, 'constant': 0.9724265555555556}\n",
      "{'cifar10': 0.5, 'svhn': 0.774337888888889, 'celeba': 0.6617907777777777, 'lsun': 0.46310166666666663, 'cifar100': 0.5178450555555556, 'mnist': 0.8513563333333334, 'fmnist': 0.7743997777777778, 'kmnist': 0.839169, 'omniglot': 0.7727331111111111, 'notmnist': 0.915815, 'trafficsign': 0.615038388888889, 'noise': 0.2980682777777778, 'constant': 0.9973542222222221}\n",
      "Elapsed time : 0:25:54.285203\n",
      "Start! [30000, 5000]\n",
      "Files already downloaded and verified\n"
     ]
    },
    {
     "name": "stderr",
     "output_type": "stream",
     "text": [
      "Calculate Fisher VAE:  60%|███████████████████████████████▏                    | 29999/50000 [19:04<12:43, 26.21step/s]\n"
     ]
    },
    {
     "name": "stdout",
     "output_type": "stream",
     "text": [
      "Files already downloaded and verified\n"
     ]
    },
    {
     "name": "stderr",
     "output_type": "stream",
     "text": [
      "Calculate Score VAE:  50%|██████████████████████████▉                           | 4999/10000 [01:17<01:17, 64.17step/s]\n"
     ]
    },
    {
     "name": "stdout",
     "output_type": "stream",
     "text": [
      "Using downloaded and verified file: ../data\\test_32x32.mat\n"
     ]
    },
    {
     "name": "stderr",
     "output_type": "stream",
     "text": [
      "Calculate Score VAE:  19%|██████████▎                                           | 4999/26032 [01:17<05:27, 64.24step/s]\n",
      "Calculate Score VAE:  26%|██████████████                                        | 4999/19141 [01:23<03:56, 59.77step/s]\n",
      "Calculate Score VAE: 100%|█████████████████████████████████████████████████████████| 600/600 [00:10<00:00, 57.82step/s]\n"
     ]
    },
    {
     "name": "stdout",
     "output_type": "stream",
     "text": [
      "Files already downloaded and verified\n"
     ]
    },
    {
     "name": "stderr",
     "output_type": "stream",
     "text": [
      "Calculate Score VAE:  50%|██████████████████████████▉                           | 4999/10000 [01:17<01:17, 64.59step/s]\n",
      "Calculate Score VAE:  50%|██████████████████████████▉                           | 4999/10000 [01:16<01:16, 65.20step/s]\n",
      "Calculate Score VAE:  50%|██████████████████████████▉                           | 4999/10000 [01:17<01:17, 64.85step/s]\n",
      "Calculate Score VAE:  50%|██████████████████████████▉                           | 4999/10000 [01:16<01:16, 64.97step/s]\n"
     ]
    },
    {
     "name": "stdout",
     "output_type": "stream",
     "text": [
      "Files already downloaded and verified\n"
     ]
    },
    {
     "name": "stderr",
     "output_type": "stream",
     "text": [
      "Calculate Score VAE:  38%|████████████████████▍                                 | 4999/13180 [01:17<02:07, 64.24step/s]\n",
      "Calculate Score VAE:  27%|██████████████▍                                       | 4999/18724 [01:20<03:41, 62.02step/s]\n",
      "Calculate Score VAE:  40%|█████████████████████▎                                | 4999/12630 [01:22<02:05, 60.93step/s]\n",
      "Calculate Score VAE:  50%|██████████████████████████▉                           | 4999/10000 [01:15<01:15, 65.96step/s]\n",
      "Calculate Score VAE:  50%|██████████████████████████▉                           | 4999/10000 [01:15<01:15, 66.41step/s]\n"
     ]
    },
    {
     "name": "stdout",
     "output_type": "stream",
     "text": [
      "{'cifar10': 0.5, 'svhn': 0.8421926800000001, 'celeba': 0.8030542599999999, 'lsun': 0.613054, 'cifar100': 0.54201796, 'mnist': 0.9993709199999999, 'fmnist': 0.9933366399999999, 'kmnist': 0.99908524, 'omniglot': 0.99818548, 'notmnist': 0.9968381199999999, 'trafficsign': 0.53232746, 'noise': 0.12112828, 'constant': 0.98965776}\n",
      "{'cifar10': 0.5, 'svhn': 0.7468202199999999, 'celeba': 0.79835148, 'lsun': 0.6943673333333332, 'cifar100': 0.53726764, 'mnist': 0.99233168, 'fmnist': 0.9791108800000001, 'kmnist': 0.9960083999999999, 'omniglot': 0.9933364, 'notmnist': 0.98513628, 'trafficsign': 0.36535038, 'noise': 0.006196360000000007, 'constant': 0.9693365599999999}\n",
      "{'cifar10': 0.5, 'svhn': 0.81900026, 'celeba': 0.62912912, 'lsun': 0.42180966666666664, 'cifar100': 0.49758038, 'mnist': 0.8383122, 'fmnist': 0.78797048, 'kmnist': 0.8244875199999999, 'omniglot': 0.6947161800000001, 'notmnist': 0.92652578, 'trafficsign': 0.64576118, 'noise': 0.12147918, 'constant': 0.99954736}\n",
      "Elapsed time : 1:00:53.123048\n"
     ]
    }
   ],
   "source": [
    "train_dist = 'cifar10'\n",
    "opt = config.VAE_cifar10\n",
    "ngf, nz, augment = 64, 100, None\n",
    "netE, netG = load_pretrained_VAE(option=train_dist, ngf=ngf, nz=nz, augment=augment)\n",
    "\n",
    "#params = ['mu'] # for this choice, you must change the architecture of VAE (go core/train_VAE/DCGAN_VAE_pixel.py line 42)\n",
    "params = [netE.conv1.weight, netG.main[0].weight, netG.main[-1].weight]\n",
    "params_name = ['Econv1', 'Gmain0', 'Gmain-1'] # to assign json filename properly\n",
    "assert len(params) == len(params_name), 'If you modified params, please modify params_name, too!'\n",
    "max_iter_list = [[300, 100], [500, 200], [1000, 500], [3000, 1000], [10000, 3000], [30000, 5000]]\n",
    "\n",
    "start = datetime.today()\n",
    "for max_iter in max_iter_list:\n",
    "    print(f'Start! {max_iter}')\n",
    "    a, b, _scores = AUTO_VAE_CIFAR(netE, netG, params, max_iter=max_iter, loss_type='ELBO')\n",
    "\n",
    "    for i in range(len(params)):\n",
    "        \n",
    "        FISHERs['VAE'][train_dist] = a[params[i]]\n",
    "        NORM_FACs['VAE'][train_dist] = b[params[i]]\n",
    "        for ood in opt.ood_list:\n",
    "            SCOREs['VAE'][train_dist][ood] = _scores[ood][params[i]]\n",
    "\n",
    "        # AUROC curve\n",
    "        auroc = {}\n",
    "        for ood in opt.ood_list:\n",
    "            args = [\n",
    "                SCOREs['VAE'][train_dist][train_dist],\n",
    "                SCOREs['VAE'][train_dist][ood],\n",
    "            ]\n",
    "            labels = [train_dist, ood]\n",
    "            auroc[ood] = AUROC(*args, labels=labels, verbose=False)\n",
    "        print(pd.Series(auroc))\n",
    "\n",
    "        filename = f'{params_name[i]}_num_sample_{max_iter[0]}_{max_iter[1]}_ngf_{ngf}_nz_{nz}_augment_{augment}'\n",
    "        with open(f'./results/VAE_{train_dist}/{filename}.json', 'w') as f:\n",
    "            json.dump(auroc, f)\n",
    "            \n",
    "    now = datetime.today()\n",
    "    print(f'Elapsed time : {now - start}')\n",
    "    torch.cuda.empty_cache()\n",
    "    \n",
    "    \n",
    "    \n",
    "path = f'./results/VAE_{train_dist}/'\n",
    "df = pd.DataFrame()\n",
    "for file in os.listdir(path):\n",
    "    if file[-4:] != 'json':\n",
    "        continue\n",
    "    temp = file.split('_num_sample_')\n",
    "    col = (temp[0], f'{temp[1].split(\"_\")[0]}, {temp[1].split(\"_\")[1]}')\n",
    "    with open(path+file, 'r') as f:\n",
    "        data = json.load(f)\n",
    "        df[col] = pd.Series(data)\n",
    "temp = [f'{elt[0]}, {elt[1]}' for elt in max_iter_list]\n",
    "df.columns = pd.MultiIndex.from_product([params_name, temp])\n",
    "df.to_csv(f'{path}result_table.csv')\n",
    "\n",
    "display(df)"
   ]
  },
  {
   "cell_type": "code",
   "execution_count": null,
   "id": "equivalent-transcription",
   "metadata": {},
   "outputs": [],
   "source": []
  },
  {
   "cell_type": "code",
   "execution_count": null,
   "id": "acting-closing",
   "metadata": {},
   "outputs": [],
   "source": []
  },
  {
   "cell_type": "markdown",
   "id": "urban-generator",
   "metadata": {},
   "source": [
    "# VAE-FMNIST"
   ]
  },
  {
   "cell_type": "code",
   "execution_count": 4,
   "id": "behavioral-festival",
   "metadata": {},
   "outputs": [
    {
     "name": "stderr",
     "output_type": "stream",
     "text": [
      "Calculate Fisher VAE:   0%|                                                                | 0/60000 [00:00<?, ?step/s]"
     ]
    },
    {
     "name": "stdout",
     "output_type": "stream",
     "text": [
      "Start! [300, 100]\n"
     ]
    },
    {
     "name": "stderr",
     "output_type": "stream",
     "text": [
      "Calculate Fisher VAE:   0%|▎                                                     | 299/60000 [00:05<17:13, 57.76step/s]\n",
      "Calculate Score VAE:   1%|▌                                                       | 99/10000 [00:01<02:53, 56.92step/s]\n"
     ]
    },
    {
     "name": "stdout",
     "output_type": "stream",
     "text": [
      "Using downloaded and verified file: ../data\\test_32x32.mat\n"
     ]
    },
    {
     "name": "stderr",
     "output_type": "stream",
     "text": [
      "Calculate Score VAE:   0%|▏                                                       | 99/26032 [00:03<13:21, 32.38step/s]\n",
      "Calculate Score VAE:   1%|▎                                                       | 99/19141 [00:01<03:28, 91.32step/s]\n",
      "Calculate Score VAE:  16%|█████████▌                                                | 99/600 [00:01<00:05, 87.46step/s]\n"
     ]
    },
    {
     "name": "stdout",
     "output_type": "stream",
     "text": [
      "Files already downloaded and verified\n"
     ]
    },
    {
     "name": "stderr",
     "output_type": "stream",
     "text": [
      "Calculate Score VAE:   1%|▌                                                       | 99/10000 [00:02<04:16, 38.53step/s]\n"
     ]
    },
    {
     "name": "stdout",
     "output_type": "stream",
     "text": [
      "Files already downloaded and verified\n"
     ]
    },
    {
     "name": "stderr",
     "output_type": "stream",
     "text": [
      "Calculate Score VAE:   1%|▌                                                       | 99/10000 [00:02<04:18, 38.27step/s]\n",
      "Calculate Score VAE:   1%|▌                                                       | 99/10000 [00:01<02:51, 57.61step/s]\n",
      "Calculate Score VAE:   1%|▌                                                       | 99/10000 [00:01<02:51, 57.64step/s]\n"
     ]
    },
    {
     "name": "stdout",
     "output_type": "stream",
     "text": [
      "Files already downloaded and verified\n"
     ]
    },
    {
     "name": "stderr",
     "output_type": "stream",
     "text": [
      "Calculate Score VAE:   1%|▍                                                       | 99/13180 [00:02<05:16, 41.30step/s]\n",
      "Calculate Score VAE:   1%|▎                                                       | 99/18724 [00:01<03:08, 98.87step/s]\n",
      "Calculate Score VAE:   1%|▌                                                      | 99/10000 [00:00<01:28, 112.04step/s]\n",
      "Calculate Score VAE:   1%|▌                                                      | 99/10000 [00:00<01:28, 111.78step/s]\n",
      "Calculate Fisher VAE:   0%|                                                                | 0/60000 [00:00<?, ?step/s]"
     ]
    },
    {
     "name": "stdout",
     "output_type": "stream",
     "text": [
      "fmnist      0.5000\n",
      "svhn        1.0000\n",
      "celeba      0.9986\n",
      "lsun        0.9991\n",
      "cifar10     0.9987\n",
      "cifar100    0.9983\n",
      "mnist       0.9837\n",
      "kmnist      0.9925\n",
      "omniglot    1.0000\n",
      "notmnist    0.9998\n",
      "noise       1.0000\n",
      "constant    0.9999\n",
      "dtype: float64\n",
      "fmnist      0.5000\n",
      "svhn        1.0000\n",
      "celeba      1.0000\n",
      "lsun        1.0000\n",
      "cifar10     1.0000\n",
      "cifar100    0.9996\n",
      "mnist       0.9631\n",
      "kmnist      0.9954\n",
      "omniglot    1.0000\n",
      "notmnist    1.0000\n",
      "noise       0.9705\n",
      "constant    1.0000\n",
      "dtype: float64\n",
      "fmnist      0.5000\n",
      "svhn        0.6223\n",
      "celeba      0.4917\n",
      "lsun        0.4318\n",
      "cifar10     0.4889\n",
      "cifar100    0.4961\n",
      "mnist       0.4943\n",
      "kmnist      0.5071\n",
      "omniglot    1.0000\n",
      "notmnist    0.8810\n",
      "noise       0.2530\n",
      "constant    0.9471\n",
      "dtype: float64\n",
      "Elapsed time : 0:00:28.480157\n",
      "Start! [500, 200]\n"
     ]
    },
    {
     "name": "stderr",
     "output_type": "stream",
     "text": [
      "Calculate Fisher VAE:   1%|▍                                                     | 499/60000 [00:06<13:15, 74.79step/s]\n",
      "Calculate Score VAE:   2%|█                                                      | 199/10000 [00:02<02:09, 75.67step/s]\n"
     ]
    },
    {
     "name": "stdout",
     "output_type": "stream",
     "text": [
      "Using downloaded and verified file: ../data\\test_32x32.mat\n"
     ]
    },
    {
     "name": "stderr",
     "output_type": "stream",
     "text": [
      "Calculate Score VAE:   1%|▍                                                      | 199/26032 [00:03<08:33, 50.31step/s]\n",
      "Calculate Score VAE:   1%|▌                                                      | 199/19141 [00:02<03:24, 92.85step/s]\n",
      "Calculate Score VAE:  33%|██████████████████▉                                      | 199/600 [00:02<00:04, 88.44step/s]\n"
     ]
    },
    {
     "name": "stdout",
     "output_type": "stream",
     "text": [
      "Files already downloaded and verified\n"
     ]
    },
    {
     "name": "stderr",
     "output_type": "stream",
     "text": [
      "Calculate Score VAE:   2%|█                                                      | 199/10000 [00:03<02:53, 56.48step/s]\n"
     ]
    },
    {
     "name": "stdout",
     "output_type": "stream",
     "text": [
      "Files already downloaded and verified\n"
     ]
    },
    {
     "name": "stderr",
     "output_type": "stream",
     "text": [
      "Calculate Score VAE:   2%|█                                                      | 199/10000 [00:03<02:52, 56.78step/s]\n",
      "Calculate Score VAE:   2%|█                                                      | 199/10000 [00:02<02:09, 75.75step/s]\n",
      "Calculate Score VAE:   2%|█                                                      | 199/10000 [00:02<02:11, 74.51step/s]\n"
     ]
    },
    {
     "name": "stdout",
     "output_type": "stream",
     "text": [
      "Files already downloaded and verified\n"
     ]
    },
    {
     "name": "stderr",
     "output_type": "stream",
     "text": [
      "Calculate Score VAE:   2%|▊                                                      | 199/13180 [00:03<03:36, 60.03step/s]\n",
      "Calculate Score VAE:   1%|▌                                                      | 199/18724 [00:02<03:07, 98.58step/s]\n",
      "Calculate Score VAE:   2%|█                                                     | 199/10000 [00:01<01:29, 110.06step/s]\n",
      "Calculate Score VAE:   2%|█                                                     | 199/10000 [00:01<01:28, 110.98step/s]\n",
      "Calculate Fisher VAE:   0%|                                                                | 0/60000 [00:00<?, ?step/s]"
     ]
    },
    {
     "name": "stdout",
     "output_type": "stream",
     "text": [
      "fmnist      0.500000\n",
      "svhn        0.999250\n",
      "celeba      0.998025\n",
      "lsun        0.997975\n",
      "cifar10     0.998325\n",
      "cifar100    0.998275\n",
      "mnist       0.988200\n",
      "kmnist      0.990400\n",
      "omniglot    1.000000\n",
      "notmnist    0.997950\n",
      "noise       0.995000\n",
      "constant    0.999275\n",
      "dtype: float64\n",
      "fmnist      0.500000\n",
      "svhn        0.999925\n",
      "celeba      0.999600\n",
      "lsun        0.999300\n",
      "cifar10     0.999325\n",
      "cifar100    0.999025\n",
      "mnist       0.958025\n",
      "kmnist      0.991075\n",
      "omniglot    1.000000\n",
      "notmnist    0.999800\n",
      "noise       0.977800\n",
      "constant    0.999500\n",
      "dtype: float64\n",
      "fmnist      0.500000\n",
      "svhn        0.785950\n",
      "celeba      0.626575\n",
      "lsun        0.641800\n",
      "cifar10     0.655725\n",
      "cifar100    0.651175\n",
      "mnist       0.779400\n",
      "kmnist      0.789625\n",
      "omniglot    1.000000\n",
      "notmnist    0.972425\n",
      "noise       0.671950\n",
      "constant    0.975850\n",
      "dtype: float64\n",
      "Elapsed time : 0:01:09.900467\n",
      "Start! [1000, 500]\n"
     ]
    },
    {
     "name": "stderr",
     "output_type": "stream",
     "text": [
      "Calculate Fisher VAE:   2%|▉                                                     | 999/60000 [00:12<12:17, 80.04step/s]\n",
      "Calculate Score VAE:   5%|██▋                                                    | 499/10000 [00:05<01:42, 92.31step/s]\n"
     ]
    },
    {
     "name": "stdout",
     "output_type": "stream",
     "text": [
      "Using downloaded and verified file: ../data\\test_32x32.mat\n"
     ]
    },
    {
     "name": "stderr",
     "output_type": "stream",
     "text": [
      "Calculate Score VAE:   2%|█                                                      | 499/26032 [00:06<05:42, 74.50step/s]\n",
      "Calculate Score VAE:   3%|█▍                                                     | 499/19141 [00:05<03:22, 92.11step/s]\n",
      "Calculate Score VAE:  83%|███████████████████████████████████████████████▍         | 499/600 [00:05<00:01, 89.65step/s]\n"
     ]
    },
    {
     "name": "stdout",
     "output_type": "stream",
     "text": [
      "Files already downloaded and verified\n"
     ]
    },
    {
     "name": "stderr",
     "output_type": "stream",
     "text": [
      "Calculate Score VAE:   5%|██▋                                                    | 499/10000 [00:06<01:58, 79.89step/s]\n"
     ]
    },
    {
     "name": "stdout",
     "output_type": "stream",
     "text": [
      "Files already downloaded and verified\n"
     ]
    },
    {
     "name": "stderr",
     "output_type": "stream",
     "text": [
      "Calculate Score VAE:   5%|██▋                                                    | 499/10000 [00:06<01:59, 79.84step/s]\n",
      "Calculate Score VAE:   5%|██▋                                                    | 499/10000 [00:05<01:42, 92.70step/s]\n",
      "Calculate Score VAE:   5%|██▋                                                    | 499/10000 [00:05<01:42, 92.35step/s]\n"
     ]
    },
    {
     "name": "stdout",
     "output_type": "stream",
     "text": [
      "Files already downloaded and verified\n"
     ]
    },
    {
     "name": "stderr",
     "output_type": "stream",
     "text": [
      "Calculate Score VAE:   4%|██                                                     | 499/13180 [00:06<02:35, 81.73step/s]\n",
      "Calculate Score VAE:   3%|█▍                                                     | 499/18724 [00:05<03:06, 97.58step/s]\n",
      "Calculate Score VAE:   5%|██▋                                                   | 499/10000 [00:04<01:24, 112.38step/s]\n",
      "Calculate Score VAE:   5%|██▋                                                   | 499/10000 [00:04<01:25, 110.72step/s]\n",
      "Calculate Fisher VAE:   0%|                                                                | 0/60000 [00:00<?, ?step/s]"
     ]
    },
    {
     "name": "stdout",
     "output_type": "stream",
     "text": [
      "fmnist      0.500000\n",
      "svhn        1.000000\n",
      "celeba      0.999696\n",
      "lsun        0.999872\n",
      "cifar10     0.999616\n",
      "cifar100    0.999384\n",
      "mnist       0.980548\n",
      "kmnist      0.988400\n",
      "omniglot    1.000000\n",
      "notmnist    0.999944\n",
      "noise       0.996068\n",
      "constant    0.994004\n",
      "dtype: float64\n",
      "fmnist      0.500000\n",
      "svhn        1.000000\n",
      "celeba      0.999888\n",
      "lsun        0.999952\n",
      "cifar10     0.999748\n",
      "cifar100    0.999624\n",
      "mnist       0.959728\n",
      "kmnist      0.990324\n",
      "omniglot    1.000000\n",
      "notmnist    0.999948\n",
      "noise       0.971348\n",
      "constant    0.993828\n",
      "dtype: float64\n",
      "fmnist      0.500000\n",
      "svhn        0.927172\n",
      "celeba      0.832008\n",
      "lsun        0.794196\n",
      "cifar10     0.774052\n",
      "cifar100    0.778064\n",
      "mnist       0.884112\n",
      "kmnist      0.909604\n",
      "omniglot    1.000000\n",
      "notmnist    0.989720\n",
      "noise       0.973504\n",
      "constant    0.988356\n",
      "dtype: float64\n",
      "Elapsed time : 0:02:31.436575\n",
      "Start! [3000, 1000]\n"
     ]
    },
    {
     "name": "stderr",
     "output_type": "stream",
     "text": [
      "Calculate Fisher VAE:   5%|██▋                                                  | 2999/60000 [00:35<11:23, 83.34step/s]\n",
      "Calculate Score VAE:  10%|█████▍                                                 | 999/10000 [00:10<01:30, 99.57step/s]\n"
     ]
    },
    {
     "name": "stdout",
     "output_type": "stream",
     "text": [
      "Using downloaded and verified file: ../data\\test_32x32.mat\n"
     ]
    },
    {
     "name": "stderr",
     "output_type": "stream",
     "text": [
      "Calculate Score VAE:   4%|██                                                     | 999/26032 [00:11<04:41, 88.90step/s]\n",
      "Calculate Score VAE:   5%|██▊                                                    | 999/19141 [00:10<03:16, 92.29step/s]\n",
      "Calculate Score VAE: 100%|█████████████████████████████████████████████████████████| 600/600 [00:06<00:00, 91.49step/s]\n"
     ]
    },
    {
     "name": "stdout",
     "output_type": "stream",
     "text": [
      "Files already downloaded and verified\n"
     ]
    },
    {
     "name": "stderr",
     "output_type": "stream",
     "text": [
      "Calculate Score VAE:  10%|█████▍                                                 | 999/10000 [00:10<01:36, 92.90step/s]\n"
     ]
    },
    {
     "name": "stdout",
     "output_type": "stream",
     "text": [
      "Files already downloaded and verified\n"
     ]
    },
    {
     "name": "stderr",
     "output_type": "stream",
     "text": [
      "Calculate Score VAE:  10%|█████▍                                                 | 999/10000 [00:10<01:37, 92.38step/s]\n",
      "Calculate Score VAE:  10%|█████▍                                                | 999/10000 [00:09<01:29, 100.48step/s]\n",
      "Calculate Score VAE:  10%|█████▍                                                | 999/10000 [00:09<01:29, 100.68step/s]\n"
     ]
    },
    {
     "name": "stdout",
     "output_type": "stream",
     "text": [
      "Files already downloaded and verified\n"
     ]
    },
    {
     "name": "stderr",
     "output_type": "stream",
     "text": [
      "Calculate Score VAE:   8%|████▏                                                  | 999/13180 [00:10<02:10, 93.61step/s]\n",
      "Calculate Score VAE:   5%|██▉                                                    | 999/18724 [00:10<02:58, 99.23step/s]\n",
      "Calculate Score VAE:  10%|█████▍                                                | 999/10000 [00:08<01:19, 112.92step/s]\n",
      "Calculate Score VAE:  10%|█████▍                                                | 999/10000 [00:08<01:20, 111.53step/s]\n",
      "Calculate Fisher VAE:   0%|                                                                | 0/60000 [00:00<?, ?step/s]"
     ]
    },
    {
     "name": "stdout",
     "output_type": "stream",
     "text": [
      "fmnist      0.500000\n",
      "svhn        0.999922\n",
      "celeba      0.999403\n",
      "lsun        0.999557\n",
      "cifar10     0.999386\n",
      "cifar100    0.999286\n",
      "mnist       0.982518\n",
      "kmnist      0.992844\n",
      "omniglot    1.000000\n",
      "notmnist    0.999700\n",
      "noise       0.995570\n",
      "constant    0.995895\n",
      "dtype: float64\n",
      "fmnist      0.500000\n",
      "svhn        0.999844\n",
      "celeba      0.999638\n",
      "lsun        0.999447\n",
      "cifar10     0.999384\n",
      "cifar100    0.999356\n",
      "mnist       0.966647\n",
      "kmnist      0.994334\n",
      "omniglot    1.000000\n",
      "notmnist    0.999737\n",
      "noise       0.980620\n",
      "constant    0.995500\n",
      "dtype: float64\n",
      "fmnist      0.500000\n",
      "svhn        0.946797\n",
      "celeba      0.825745\n",
      "lsun        0.783483\n",
      "cifar10     0.757908\n",
      "cifar100    0.757121\n",
      "mnist       0.791038\n",
      "kmnist      0.893809\n",
      "omniglot    1.000000\n",
      "notmnist    0.984748\n",
      "noise       0.998992\n",
      "constant    0.994776\n",
      "dtype: float64\n",
      "Elapsed time : 0:05:08.608319\n",
      "Start! [10000, 3000]\n"
     ]
    },
    {
     "name": "stderr",
     "output_type": "stream",
     "text": [
      "Calculate Fisher VAE:  17%|████████▊                                            | 9999/60000 [01:56<09:45, 85.47step/s]\n",
      "Calculate Score VAE:  30%|███████████████▉                                     | 2999/10000 [00:28<01:05, 106.09step/s]\n"
     ]
    },
    {
     "name": "stdout",
     "output_type": "stream",
     "text": [
      "Using downloaded and verified file: ../data\\test_32x32.mat\n"
     ]
    },
    {
     "name": "stderr",
     "output_type": "stream",
     "text": [
      "Calculate Score VAE:  12%|██████                                               | 2999/26032 [00:29<03:47, 101.28step/s]\n",
      "Calculate Score VAE:  16%|████████▍                                             | 2999/19141 [00:32<02:52, 93.57step/s]\n",
      "Calculate Score VAE: 100%|█████████████████████████████████████████████████████████| 600/600 [00:06<00:00, 92.44step/s]\n"
     ]
    },
    {
     "name": "stdout",
     "output_type": "stream",
     "text": [
      "Files already downloaded and verified\n"
     ]
    },
    {
     "name": "stderr",
     "output_type": "stream",
     "text": [
      "Calculate Score VAE:  30%|███████████████▉                                     | 2999/10000 [00:29<01:07, 103.14step/s]\n"
     ]
    },
    {
     "name": "stdout",
     "output_type": "stream",
     "text": [
      "Files already downloaded and verified\n"
     ]
    },
    {
     "name": "stderr",
     "output_type": "stream",
     "text": [
      "Calculate Score VAE:  30%|███████████████▉                                     | 2999/10000 [00:28<01:06, 105.03step/s]\n",
      "Calculate Score VAE:  30%|███████████████▉                                     | 2999/10000 [00:27<01:04, 107.89step/s]\n",
      "Calculate Score VAE:  30%|███████████████▉                                     | 2999/10000 [00:27<01:04, 108.06step/s]\n"
     ]
    },
    {
     "name": "stdout",
     "output_type": "stream",
     "text": [
      "Files already downloaded and verified\n"
     ]
    },
    {
     "name": "stderr",
     "output_type": "stream",
     "text": [
      "Calculate Score VAE:  23%|████████████                                         | 2999/13180 [00:28<01:37, 104.50step/s]\n",
      "Calculate Score VAE:  16%|████████▋                                             | 2999/18724 [00:30<02:37, 99.95step/s]\n",
      "Calculate Score VAE:  30%|███████████████▉                                     | 2999/10000 [00:26<01:02, 112.59step/s]\n",
      "Calculate Score VAE:  30%|███████████████▉                                     | 2999/10000 [00:26<01:02, 112.33step/s]\n",
      "Calculate Fisher VAE:   0%|                                                                | 0/60000 [00:00<?, ?step/s]"
     ]
    },
    {
     "name": "stdout",
     "output_type": "stream",
     "text": [
      "fmnist      0.500000\n",
      "svhn        0.999949\n",
      "celeba      0.999553\n",
      "lsun        0.999566\n",
      "cifar10     0.999336\n",
      "cifar100    0.999108\n",
      "mnist       0.981063\n",
      "kmnist      0.992745\n",
      "omniglot    1.000000\n",
      "notmnist    0.999726\n",
      "noise       0.992457\n",
      "constant    0.997128\n",
      "dtype: float64\n",
      "fmnist      0.500000\n",
      "svhn        0.999928\n",
      "celeba      0.999743\n",
      "lsun        0.999576\n",
      "cifar10     0.999369\n",
      "cifar100    0.999192\n",
      "mnist       0.963354\n",
      "kmnist      0.993406\n",
      "omniglot    1.000000\n",
      "notmnist    0.999800\n",
      "noise       0.975404\n",
      "constant    0.996973\n",
      "dtype: float64\n",
      "fmnist      0.500000\n",
      "svhn        0.953179\n",
      "celeba      0.821770\n",
      "lsun        0.741524\n",
      "cifar10     0.745331\n",
      "cifar100    0.736726\n",
      "mnist       0.672422\n",
      "kmnist      0.856436\n",
      "omniglot    1.000000\n",
      "notmnist    0.981541\n",
      "noise       0.999634\n",
      "constant    0.997023\n",
      "dtype: float64\n",
      "Elapsed time : 0:12:29.800508\n",
      "Start! [30000, 5000]\n"
     ]
    },
    {
     "name": "stderr",
     "output_type": "stream",
     "text": [
      "Calculate Fisher VAE:  50%|█████████████████████████▉                          | 29999/60000 [05:46<05:46, 86.64step/s]\n",
      "Calculate Score VAE:  50%|██████████████████████████▍                          | 4999/10000 [00:45<00:45, 109.19step/s]\n"
     ]
    },
    {
     "name": "stdout",
     "output_type": "stream",
     "text": [
      "Using downloaded and verified file: ../data\\test_32x32.mat\n"
     ]
    },
    {
     "name": "stderr",
     "output_type": "stream",
     "text": [
      "Calculate Score VAE:  19%|██████████▏                                          | 4999/26032 [00:46<03:17, 106.48step/s]\n",
      "Calculate Score VAE:  26%|██████████████                                        | 4999/19141 [00:52<02:29, 94.46step/s]\n",
      "Calculate Score VAE: 100%|█████████████████████████████████████████████████████████| 600/600 [00:06<00:00, 91.96step/s]\n"
     ]
    },
    {
     "name": "stdout",
     "output_type": "stream",
     "text": [
      "Files already downloaded and verified\n"
     ]
    },
    {
     "name": "stderr",
     "output_type": "stream",
     "text": [
      "Calculate Score VAE:  50%|██████████████████████████▍                          | 4999/10000 [00:46<00:46, 106.85step/s]\n"
     ]
    },
    {
     "name": "stdout",
     "output_type": "stream",
     "text": [
      "Files already downloaded and verified\n"
     ]
    },
    {
     "name": "stderr",
     "output_type": "stream",
     "text": [
      "Calculate Score VAE:  50%|██████████████████████████▍                          | 4999/10000 [00:46<00:46, 106.66step/s]\n",
      "Calculate Score VAE:  50%|██████████████████████████▍                          | 4999/10000 [00:45<00:45, 109.29step/s]\n",
      "Calculate Score VAE:  50%|██████████████████████████▍                          | 4999/10000 [00:45<00:45, 109.40step/s]\n"
     ]
    },
    {
     "name": "stdout",
     "output_type": "stream",
     "text": [
      "Files already downloaded and verified\n"
     ]
    },
    {
     "name": "stderr",
     "output_type": "stream",
     "text": [
      "Calculate Score VAE:  38%|████████████████████                                 | 4999/13180 [00:46<01:16, 106.99step/s]\n",
      "Calculate Score VAE:  27%|██████████████▏                                      | 4999/18724 [00:49<02:16, 100.30step/s]\n",
      "Calculate Score VAE:  50%|██████████████████████████▍                          | 4999/10000 [00:44<00:44, 112.46step/s]\n",
      "Calculate Score VAE:  50%|██████████████████████████▍                          | 4999/10000 [00:44<00:44, 112.82step/s]"
     ]
    },
    {
     "name": "stdout",
     "output_type": "stream",
     "text": [
      "fmnist      0.500000\n",
      "svhn        0.999993\n",
      "celeba      0.999726\n",
      "lsun        0.999844\n",
      "cifar10     0.999556\n",
      "cifar100    0.999465\n",
      "mnist       0.983381\n",
      "kmnist      0.993261\n",
      "omniglot    1.000000\n",
      "notmnist    0.999776\n",
      "noise       0.995179\n",
      "constant    0.997080\n",
      "dtype: float64\n",
      "fmnist      0.500000\n",
      "svhn        0.999980\n",
      "celeba      0.999862\n",
      "lsun        0.999832\n",
      "cifar10     0.999632\n",
      "cifar100    0.999529\n",
      "mnist       0.966025\n",
      "kmnist      0.994394\n",
      "omniglot    1.000000\n",
      "notmnist    0.999831\n",
      "noise       0.977015\n",
      "constant    0.997009\n",
      "dtype: float64\n",
      "fmnist      0.500000\n",
      "svhn        0.955290\n",
      "celeba      0.817419\n",
      "lsun        0.721367\n",
      "cifar10     0.718826\n",
      "cifar100    0.724923\n",
      "mnist       0.542106\n",
      "kmnist      0.764547\n",
      "omniglot    1.000000\n",
      "notmnist    0.976339\n",
      "noise       0.999499\n",
      "constant    0.997161\n",
      "dtype: float64\n",
      "Elapsed time : 0:27:01.269822\n"
     ]
    },
    {
     "name": "stderr",
     "output_type": "stream",
     "text": [
      "\n"
     ]
    },
    {
     "data": {
      "text/html": [
       "<div>\n",
       "<style scoped>\n",
       "    .dataframe tbody tr th:only-of-type {\n",
       "        vertical-align: middle;\n",
       "    }\n",
       "\n",
       "    .dataframe tbody tr th {\n",
       "        vertical-align: top;\n",
       "    }\n",
       "\n",
       "    .dataframe thead tr th {\n",
       "        text-align: left;\n",
       "    }\n",
       "</style>\n",
       "<table border=\"1\" class=\"dataframe\">\n",
       "  <thead>\n",
       "    <tr>\n",
       "      <th></th>\n",
       "      <th colspan=\"6\" halign=\"left\">Econv1</th>\n",
       "      <th colspan=\"6\" halign=\"left\">Gmain0</th>\n",
       "      <th colspan=\"6\" halign=\"left\">Gmain-1</th>\n",
       "    </tr>\n",
       "    <tr>\n",
       "      <th></th>\n",
       "      <th>300, 100</th>\n",
       "      <th>500, 200</th>\n",
       "      <th>1000, 500</th>\n",
       "      <th>3000, 1000</th>\n",
       "      <th>10000, 3000</th>\n",
       "      <th>30000, 5000</th>\n",
       "      <th>300, 100</th>\n",
       "      <th>500, 200</th>\n",
       "      <th>1000, 500</th>\n",
       "      <th>3000, 1000</th>\n",
       "      <th>10000, 3000</th>\n",
       "      <th>30000, 5000</th>\n",
       "      <th>300, 100</th>\n",
       "      <th>500, 200</th>\n",
       "      <th>1000, 500</th>\n",
       "      <th>3000, 1000</th>\n",
       "      <th>10000, 3000</th>\n",
       "      <th>30000, 5000</th>\n",
       "    </tr>\n",
       "  </thead>\n",
       "  <tbody>\n",
       "    <tr>\n",
       "      <th>fmnist</th>\n",
       "      <td>0.500000</td>\n",
       "      <td>0.500000</td>\n",
       "      <td>0.500000</td>\n",
       "      <td>0.500000</td>\n",
       "      <td>0.5000</td>\n",
       "      <td>0.500000</td>\n",
       "      <td>0.500000</td>\n",
       "      <td>0.500000</td>\n",
       "      <td>0.500000</td>\n",
       "      <td>0.500000</td>\n",
       "      <td>0.5000</td>\n",
       "      <td>0.500000</td>\n",
       "      <td>0.500000</td>\n",
       "      <td>0.500000</td>\n",
       "      <td>0.500000</td>\n",
       "      <td>0.500000</td>\n",
       "      <td>0.5000</td>\n",
       "      <td>0.500000</td>\n",
       "    </tr>\n",
       "    <tr>\n",
       "      <th>svhn</th>\n",
       "      <td>0.999949</td>\n",
       "      <td>1.000000</td>\n",
       "      <td>0.999993</td>\n",
       "      <td>0.999922</td>\n",
       "      <td>1.0000</td>\n",
       "      <td>0.999250</td>\n",
       "      <td>0.953179</td>\n",
       "      <td>0.927172</td>\n",
       "      <td>0.955290</td>\n",
       "      <td>0.946797</td>\n",
       "      <td>0.6223</td>\n",
       "      <td>0.785950</td>\n",
       "      <td>0.999928</td>\n",
       "      <td>1.000000</td>\n",
       "      <td>0.999980</td>\n",
       "      <td>0.999844</td>\n",
       "      <td>1.0000</td>\n",
       "      <td>0.999925</td>\n",
       "    </tr>\n",
       "    <tr>\n",
       "      <th>celeba</th>\n",
       "      <td>0.999553</td>\n",
       "      <td>0.999696</td>\n",
       "      <td>0.999726</td>\n",
       "      <td>0.999403</td>\n",
       "      <td>0.9986</td>\n",
       "      <td>0.998025</td>\n",
       "      <td>0.821770</td>\n",
       "      <td>0.832008</td>\n",
       "      <td>0.817419</td>\n",
       "      <td>0.825745</td>\n",
       "      <td>0.4917</td>\n",
       "      <td>0.626575</td>\n",
       "      <td>0.999743</td>\n",
       "      <td>0.999888</td>\n",
       "      <td>0.999862</td>\n",
       "      <td>0.999638</td>\n",
       "      <td>1.0000</td>\n",
       "      <td>0.999600</td>\n",
       "    </tr>\n",
       "    <tr>\n",
       "      <th>lsun</th>\n",
       "      <td>0.999566</td>\n",
       "      <td>0.999872</td>\n",
       "      <td>0.999844</td>\n",
       "      <td>0.999557</td>\n",
       "      <td>0.9991</td>\n",
       "      <td>0.997975</td>\n",
       "      <td>0.741524</td>\n",
       "      <td>0.794196</td>\n",
       "      <td>0.721367</td>\n",
       "      <td>0.783483</td>\n",
       "      <td>0.4318</td>\n",
       "      <td>0.641800</td>\n",
       "      <td>0.999576</td>\n",
       "      <td>0.999952</td>\n",
       "      <td>0.999832</td>\n",
       "      <td>0.999447</td>\n",
       "      <td>1.0000</td>\n",
       "      <td>0.999300</td>\n",
       "    </tr>\n",
       "    <tr>\n",
       "      <th>cifar10</th>\n",
       "      <td>0.999336</td>\n",
       "      <td>0.999616</td>\n",
       "      <td>0.999556</td>\n",
       "      <td>0.999386</td>\n",
       "      <td>0.9987</td>\n",
       "      <td>0.998325</td>\n",
       "      <td>0.745331</td>\n",
       "      <td>0.774052</td>\n",
       "      <td>0.718826</td>\n",
       "      <td>0.757908</td>\n",
       "      <td>0.4889</td>\n",
       "      <td>0.655725</td>\n",
       "      <td>0.999369</td>\n",
       "      <td>0.999748</td>\n",
       "      <td>0.999632</td>\n",
       "      <td>0.999384</td>\n",
       "      <td>1.0000</td>\n",
       "      <td>0.999325</td>\n",
       "    </tr>\n",
       "    <tr>\n",
       "      <th>cifar100</th>\n",
       "      <td>0.999108</td>\n",
       "      <td>0.999384</td>\n",
       "      <td>0.999465</td>\n",
       "      <td>0.999286</td>\n",
       "      <td>0.9983</td>\n",
       "      <td>0.998275</td>\n",
       "      <td>0.736726</td>\n",
       "      <td>0.778064</td>\n",
       "      <td>0.724923</td>\n",
       "      <td>0.757121</td>\n",
       "      <td>0.4961</td>\n",
       "      <td>0.651175</td>\n",
       "      <td>0.999192</td>\n",
       "      <td>0.999624</td>\n",
       "      <td>0.999529</td>\n",
       "      <td>0.999356</td>\n",
       "      <td>0.9996</td>\n",
       "      <td>0.999025</td>\n",
       "    </tr>\n",
       "    <tr>\n",
       "      <th>mnist</th>\n",
       "      <td>0.981063</td>\n",
       "      <td>0.980548</td>\n",
       "      <td>0.983381</td>\n",
       "      <td>0.982518</td>\n",
       "      <td>0.9837</td>\n",
       "      <td>0.988200</td>\n",
       "      <td>0.672422</td>\n",
       "      <td>0.884112</td>\n",
       "      <td>0.542106</td>\n",
       "      <td>0.791038</td>\n",
       "      <td>0.4943</td>\n",
       "      <td>0.779400</td>\n",
       "      <td>0.963354</td>\n",
       "      <td>0.959728</td>\n",
       "      <td>0.966025</td>\n",
       "      <td>0.966647</td>\n",
       "      <td>0.9631</td>\n",
       "      <td>0.958025</td>\n",
       "    </tr>\n",
       "    <tr>\n",
       "      <th>kmnist</th>\n",
       "      <td>0.992745</td>\n",
       "      <td>0.988400</td>\n",
       "      <td>0.993261</td>\n",
       "      <td>0.992844</td>\n",
       "      <td>0.9925</td>\n",
       "      <td>0.990400</td>\n",
       "      <td>0.856436</td>\n",
       "      <td>0.909604</td>\n",
       "      <td>0.764547</td>\n",
       "      <td>0.893809</td>\n",
       "      <td>0.5071</td>\n",
       "      <td>0.789625</td>\n",
       "      <td>0.993406</td>\n",
       "      <td>0.990324</td>\n",
       "      <td>0.994394</td>\n",
       "      <td>0.994334</td>\n",
       "      <td>0.9954</td>\n",
       "      <td>0.991075</td>\n",
       "    </tr>\n",
       "    <tr>\n",
       "      <th>omniglot</th>\n",
       "      <td>1.000000</td>\n",
       "      <td>1.000000</td>\n",
       "      <td>1.000000</td>\n",
       "      <td>1.000000</td>\n",
       "      <td>1.0000</td>\n",
       "      <td>1.000000</td>\n",
       "      <td>1.000000</td>\n",
       "      <td>1.000000</td>\n",
       "      <td>1.000000</td>\n",
       "      <td>1.000000</td>\n",
       "      <td>1.0000</td>\n",
       "      <td>1.000000</td>\n",
       "      <td>1.000000</td>\n",
       "      <td>1.000000</td>\n",
       "      <td>1.000000</td>\n",
       "      <td>1.000000</td>\n",
       "      <td>1.0000</td>\n",
       "      <td>1.000000</td>\n",
       "    </tr>\n",
       "    <tr>\n",
       "      <th>notmnist</th>\n",
       "      <td>0.999726</td>\n",
       "      <td>0.999944</td>\n",
       "      <td>0.999776</td>\n",
       "      <td>0.999700</td>\n",
       "      <td>0.9998</td>\n",
       "      <td>0.997950</td>\n",
       "      <td>0.981541</td>\n",
       "      <td>0.989720</td>\n",
       "      <td>0.976339</td>\n",
       "      <td>0.984748</td>\n",
       "      <td>0.8810</td>\n",
       "      <td>0.972425</td>\n",
       "      <td>0.999800</td>\n",
       "      <td>0.999948</td>\n",
       "      <td>0.999831</td>\n",
       "      <td>0.999737</td>\n",
       "      <td>1.0000</td>\n",
       "      <td>0.999800</td>\n",
       "    </tr>\n",
       "    <tr>\n",
       "      <th>noise</th>\n",
       "      <td>0.992457</td>\n",
       "      <td>0.996068</td>\n",
       "      <td>0.995179</td>\n",
       "      <td>0.995570</td>\n",
       "      <td>1.0000</td>\n",
       "      <td>0.995000</td>\n",
       "      <td>0.999634</td>\n",
       "      <td>0.973504</td>\n",
       "      <td>0.999499</td>\n",
       "      <td>0.998992</td>\n",
       "      <td>0.2530</td>\n",
       "      <td>0.671950</td>\n",
       "      <td>0.975404</td>\n",
       "      <td>0.971348</td>\n",
       "      <td>0.977015</td>\n",
       "      <td>0.980620</td>\n",
       "      <td>0.9705</td>\n",
       "      <td>0.977800</td>\n",
       "    </tr>\n",
       "    <tr>\n",
       "      <th>constant</th>\n",
       "      <td>0.997128</td>\n",
       "      <td>0.994004</td>\n",
       "      <td>0.997080</td>\n",
       "      <td>0.995895</td>\n",
       "      <td>0.9999</td>\n",
       "      <td>0.999275</td>\n",
       "      <td>0.997023</td>\n",
       "      <td>0.988356</td>\n",
       "      <td>0.997161</td>\n",
       "      <td>0.994776</td>\n",
       "      <td>0.9471</td>\n",
       "      <td>0.975850</td>\n",
       "      <td>0.996973</td>\n",
       "      <td>0.993828</td>\n",
       "      <td>0.997009</td>\n",
       "      <td>0.995500</td>\n",
       "      <td>1.0000</td>\n",
       "      <td>0.999500</td>\n",
       "    </tr>\n",
       "  </tbody>\n",
       "</table>\n",
       "</div>"
      ],
      "text/plain": [
       "            Econv1                                                         \\\n",
       "          300, 100  500, 200 1000, 500 3000, 1000 10000, 3000 30000, 5000   \n",
       "fmnist    0.500000  0.500000  0.500000   0.500000      0.5000    0.500000   \n",
       "svhn      0.999949  1.000000  0.999993   0.999922      1.0000    0.999250   \n",
       "celeba    0.999553  0.999696  0.999726   0.999403      0.9986    0.998025   \n",
       "lsun      0.999566  0.999872  0.999844   0.999557      0.9991    0.997975   \n",
       "cifar10   0.999336  0.999616  0.999556   0.999386      0.9987    0.998325   \n",
       "cifar100  0.999108  0.999384  0.999465   0.999286      0.9983    0.998275   \n",
       "mnist     0.981063  0.980548  0.983381   0.982518      0.9837    0.988200   \n",
       "kmnist    0.992745  0.988400  0.993261   0.992844      0.9925    0.990400   \n",
       "omniglot  1.000000  1.000000  1.000000   1.000000      1.0000    1.000000   \n",
       "notmnist  0.999726  0.999944  0.999776   0.999700      0.9998    0.997950   \n",
       "noise     0.992457  0.996068  0.995179   0.995570      1.0000    0.995000   \n",
       "constant  0.997128  0.994004  0.997080   0.995895      0.9999    0.999275   \n",
       "\n",
       "            Gmain0                                                         \\\n",
       "          300, 100  500, 200 1000, 500 3000, 1000 10000, 3000 30000, 5000   \n",
       "fmnist    0.500000  0.500000  0.500000   0.500000      0.5000    0.500000   \n",
       "svhn      0.953179  0.927172  0.955290   0.946797      0.6223    0.785950   \n",
       "celeba    0.821770  0.832008  0.817419   0.825745      0.4917    0.626575   \n",
       "lsun      0.741524  0.794196  0.721367   0.783483      0.4318    0.641800   \n",
       "cifar10   0.745331  0.774052  0.718826   0.757908      0.4889    0.655725   \n",
       "cifar100  0.736726  0.778064  0.724923   0.757121      0.4961    0.651175   \n",
       "mnist     0.672422  0.884112  0.542106   0.791038      0.4943    0.779400   \n",
       "kmnist    0.856436  0.909604  0.764547   0.893809      0.5071    0.789625   \n",
       "omniglot  1.000000  1.000000  1.000000   1.000000      1.0000    1.000000   \n",
       "notmnist  0.981541  0.989720  0.976339   0.984748      0.8810    0.972425   \n",
       "noise     0.999634  0.973504  0.999499   0.998992      0.2530    0.671950   \n",
       "constant  0.997023  0.988356  0.997161   0.994776      0.9471    0.975850   \n",
       "\n",
       "           Gmain-1                                                         \n",
       "          300, 100  500, 200 1000, 500 3000, 1000 10000, 3000 30000, 5000  \n",
       "fmnist    0.500000  0.500000  0.500000   0.500000      0.5000    0.500000  \n",
       "svhn      0.999928  1.000000  0.999980   0.999844      1.0000    0.999925  \n",
       "celeba    0.999743  0.999888  0.999862   0.999638      1.0000    0.999600  \n",
       "lsun      0.999576  0.999952  0.999832   0.999447      1.0000    0.999300  \n",
       "cifar10   0.999369  0.999748  0.999632   0.999384      1.0000    0.999325  \n",
       "cifar100  0.999192  0.999624  0.999529   0.999356      0.9996    0.999025  \n",
       "mnist     0.963354  0.959728  0.966025   0.966647      0.9631    0.958025  \n",
       "kmnist    0.993406  0.990324  0.994394   0.994334      0.9954    0.991075  \n",
       "omniglot  1.000000  1.000000  1.000000   1.000000      1.0000    1.000000  \n",
       "notmnist  0.999800  0.999948  0.999831   0.999737      1.0000    0.999800  \n",
       "noise     0.975404  0.971348  0.977015   0.980620      0.9705    0.977800  \n",
       "constant  0.996973  0.993828  0.997009   0.995500      1.0000    0.999500  "
      ]
     },
     "metadata": {},
     "output_type": "display_data"
    }
   ],
   "source": [
    "train_dist = 'fmnist'\n",
    "opt = config.VAE_fmnist\n",
    "ngf, nz, augment = 32, 100, None\n",
    "netE, netG = load_pretrained_VAE(option=train_dist, ngf=ngf, nz=nz, augment=augment)\n",
    "\n",
    "#params = ['mu'] # for this choice, you must change the architecture of VAE (go core/train_VAE/DCGAN_VAE_pixel.py line 42)\n",
    "params = [netE.conv1.weight, netG.main[0].weight, netG.main[-1].weight]\n",
    "params_name = ['Econv1', 'Gmain0', 'Gmain-1'] # to assign json filename properly\n",
    "assert len(params) == len(params_name), 'If you modified params, please modify params_name, too!'\n",
    "max_iter_list = [[300, 100], [500, 200], [1000, 500], [3000, 1000], [10000, 3000], [30000, 5000]]\n",
    "\n",
    "start = datetime.today()\n",
    "for max_iter in max_iter_list:\n",
    "    print(f'Start! {max_iter}')\n",
    "    a, b, _scores = AUTO_VAE_FMNIST(netE, netG, params, max_iter=max_iter, loss_type='ELBO')\n",
    "    \n",
    "    for i in range(len(params)):\n",
    "\n",
    "        FISHERs['VAE'][train_dist] = a[params[i]]\n",
    "        NORM_FACs['VAE'][train_dist] = b[params[i]]\n",
    "        for ood in opt.ood_list:\n",
    "            SCOREs['VAE'][train_dist][ood] = _scores[ood][params[i]]\n",
    "\n",
    "        # AUROC curve\n",
    "        auroc = {}\n",
    "        for ood in opt.ood_list:\n",
    "            args = [\n",
    "                SCOREs['VAE'][train_dist][train_dist],\n",
    "                SCOREs['VAE'][train_dist][ood],\n",
    "            ]\n",
    "            labels = [train_dist, ood]\n",
    "            auroc[ood] = AUROC(*args, labels=labels, verbose=False)\n",
    "        print(pd.Series(auroc))\n",
    "\n",
    "        filename = f'{params_name[i]}_num_sample_{max_iter[0]}_{max_iter[1]}_ngf_{ngf}_nz_{nz}_augment_{augment}'\n",
    "        with open(f'./results/VAE_{train_dist}/{filename}.json', 'w') as f:\n",
    "            json.dump(auroc, f)\n",
    "    \n",
    "    now = datetime.today()\n",
    "    print(f'Elapsed time : {now - start}')\n",
    "    torch.cuda.empty_cache()\n",
    "    \n",
    "    \n",
    "    \n",
    "path = f'./results/VAE_{train_dist}/'\n",
    "df = pd.DataFrame()\n",
    "for file in os.listdir(path):\n",
    "    if file[-4:] != 'json':\n",
    "        continue\n",
    "    temp = file.split('_num_sample_')\n",
    "    col = (temp[0], f'{temp[1].split(\"_\")[0]}, {temp[1].split(\"_\")[1]}')\n",
    "    with open(path+file, 'r') as f:\n",
    "        data = json.load(f)\n",
    "        df[col] = pd.Series(data)\n",
    "temp = [f'{elt[0]}, {elt[1]}' for elt in max_iter_list]\n",
    "df.columns = pd.MultiIndex.from_product([params_name, temp])\n",
    "df.to_csv(f'{path}result_table.csv')\n",
    "\n",
    "display(df)"
   ]
  },
  {
   "cell_type": "code",
   "execution_count": null,
   "id": "split-optimum",
   "metadata": {},
   "outputs": [],
   "source": []
  },
  {
   "cell_type": "markdown",
   "id": "least-prisoner",
   "metadata": {},
   "source": [
    "# GLOW-CIFAR10"
   ]
  },
  {
   "cell_type": "code",
   "execution_count": null,
   "id": "third-washer",
   "metadata": {},
   "outputs": [],
   "source": [
    "train_dist = 'cifar10'\n",
    "opt = config.GLOW_cifar10\n",
    "model = load_pretrained_GLOW(option=train_dist)\n",
    "\n",
    "dicts = [model.flow.layers[-1]]"
   ]
  },
  {
   "cell_type": "code",
   "execution_count": null,
   "id": "vanilla-treasury",
   "metadata": {},
   "outputs": [],
   "source": [
    "a, b, c, d, e, f, g = AUTO_GLOW_CIFAR(model, dicts)\n",
    "GRADs['GLOW']['cifar10'] = a\n",
    "NORM_FACs['GLOW']['cifar10'] = b\n",
    "Gradients['GLOW']['cifar10']['cifar10'] = c\n",
    "Gradients['GLOW']['cifar10']['svhn'] = d\n",
    "Gradients['GLOW']['cifar10']['celeba'] = e\n",
    "Gradients['GLOW']['cifar10']['lsun'] = f\n",
    "Gradients['GLOW']['cifar10']['noise'] = g"
   ]
  },
  {
   "cell_type": "code",
   "execution_count": null,
   "id": "muslim-lobby",
   "metadata": {},
   "outputs": [],
   "source": []
  },
  {
   "cell_type": "code",
   "execution_count": null,
   "id": "adverse-samuel",
   "metadata": {},
   "outputs": [],
   "source": []
  },
  {
   "cell_type": "markdown",
   "id": "reflected-static",
   "metadata": {},
   "source": [
    "# GLOW-FMNIST"
   ]
  },
  {
   "cell_type": "code",
   "execution_count": null,
   "id": "simple-columbia",
   "metadata": {},
   "outputs": [],
   "source": []
  },
  {
   "cell_type": "code",
   "execution_count": null,
   "id": "valued-spectrum",
   "metadata": {},
   "outputs": [],
   "source": []
  },
  {
   "cell_type": "code",
   "execution_count": null,
   "id": "israeli-institution",
   "metadata": {},
   "outputs": [],
   "source": []
  },
  {
   "cell_type": "code",
   "execution_count": null,
   "id": "together-cuisine",
   "metadata": {},
   "outputs": [],
   "source": []
  },
  {
   "cell_type": "code",
   "execution_count": null,
   "id": "muslim-macro",
   "metadata": {},
   "outputs": [],
   "source": []
  }
 ],
 "metadata": {
  "kernelspec": {
   "display_name": "ycy",
   "language": "python",
   "name": "ycy"
  },
  "language_info": {
   "codemirror_mode": {
    "name": "ipython",
    "version": 3
   },
   "file_extension": ".py",
   "mimetype": "text/x-python",
   "name": "python",
   "nbconvert_exporter": "python",
   "pygments_lexer": "ipython3",
   "version": "3.8.5"
  }
 },
 "nbformat": 4,
 "nbformat_minor": 5
}
