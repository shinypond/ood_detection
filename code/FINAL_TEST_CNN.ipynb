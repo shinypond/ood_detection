{
 "cells": [
  {
   "cell_type": "markdown",
   "id": "closed-client",
   "metadata": {},
   "source": [
    "# [ CNN ] OOD Detection using FSS"
   ]
  },
  {
   "cell_type": "code",
   "execution_count": 1,
   "id": "assumed-silicon",
   "metadata": {},
   "outputs": [],
   "source": [
    "%load_ext autoreload\n",
    "%autoreload 2\n",
    "import os\n",
    "import sys\n",
    "sys.path.append(os.getcwd() + '/core')\n",
    "sys.path.append(os.getcwd() + '/core/train_GLOW') \n",
    "import numpy as np\n",
    "import pandas as pd\n",
    "import matplotlib.pyplot as plt\n",
    "import torch\n",
    "import torch.nn as nn\n",
    "\n",
    "import core.config as config\n",
    "from core.model_loader import load_pretrained_CNN\n",
    "from core.data_loader import TRAIN_loader, TEST_loader\n",
    "from core.fisher_utils_CNN import Calculate_fisher_CNN, Calculate_score_CNN\n",
    "from core.fisher_utils_CNN import AUTO_CNN\n",
    "from core.visualize import plot_hist, AUROC, plot_scores_all_layers"
   ]
  },
  {
   "cell_type": "markdown",
   "id": "introductory-evanescence",
   "metadata": {},
   "source": [
    "# Define Global Variables & Initialize"
   ]
  },
  {
   "cell_type": "code",
   "execution_count": 2,
   "id": "impaired-price",
   "metadata": {},
   "outputs": [],
   "source": [
    "# FISHER_invs : Fisher inverse matrices from calculating Fisher score (w.r.t. train-dist)\n",
    "FISHERs = {'cifar10': {}, 'fmnist': {}}\n",
    "         \n",
    "# NORMalize_FACtors : Normalizing Factor (w.r.t. train-dist)\n",
    "NORM_FACs = {'cifar10': {}, 'fmnist': {}}\n",
    "             \n",
    "# SCOREs : (Scalars) Scores from calculating Fisher score (w.r.t. target-dist)\n",
    "SCOREs = {'cifar10': {}, 'fmnist': {}}\n"
   ]
  },
  {
   "cell_type": "markdown",
   "id": "competitive-valuable",
   "metadata": {},
   "source": [
    "# CNN-FMNIST"
   ]
  },
  {
   "cell_type": "code",
   "execution_count": 183,
   "id": "formal-butler",
   "metadata": {},
   "outputs": [
    {
     "name": "stdout",
     "output_type": "stream",
     "text": [
      "Classification Accuracy : 0.9234\r"
     ]
    }
   ],
   "source": [
    "acc = 0\n",
    "loader = TEST_loader('fmnist', 'fmnist')\n",
    "for i, (x, y) in enumerate(loader):\n",
    "    pred = model(x.float().cuda())\n",
    "    if torch.argmax(pred).detach().cpu() == y:\n",
    "        acc += 1\n",
    "    print(f'Classification Accuracy : {acc / (i+1):.4f}', end='\\r')\n",
    "    if i == 10000:\n",
    "        break"
   ]
  },
  {
   "cell_type": "code",
   "execution_count": 177,
   "id": "vanilla-architect",
   "metadata": {},
   "outputs": [],
   "source": [
    "opt = config.CNN_fmnist\n",
    "model = load_pretrained_CNN(option=opt.train_dist)\n",
    "model.eval()\n",
    "\n",
    "layers = {\n",
    "    'conv1': model.layer1[0],\n",
    "    'conv2': model.layer2[0],\n",
    "    'conv3': model.layer3[0],\n",
    "    'fc1': model.fc1,\n",
    "    'conv4': model.layer4[0],\n",
    "    'fc2': model.fc2,\n",
    "}"
   ]
  },
  {
   "cell_type": "code",
   "execution_count": 175,
   "id": "opening-envelope",
   "metadata": {},
   "outputs": [
    {
     "name": "stderr",
     "output_type": "stream",
     "text": [
      "Calculate Fisher CNN:   0%|                                                                | 0/60000 [00:02<?, ?step/s]\n"
     ]
    },
    {
     "ename": "AttributeError",
     "evalue": "'set' object has no attribute 'items'",
     "output_type": "error",
     "traceback": [
      "\u001b[1;31m---------------------------------------------------------------------------\u001b[0m",
      "\u001b[1;31mAttributeError\u001b[0m                            Traceback (most recent call last)",
      "\u001b[1;32m<ipython-input-175-02dbdb1c1d64>\u001b[0m in \u001b[0;36m<module>\u001b[1;34m\u001b[0m\n\u001b[1;32m----> 1\u001b[1;33m \u001b[0ma\u001b[0m\u001b[1;33m,\u001b[0m \u001b[0mb\u001b[0m\u001b[1;33m,\u001b[0m \u001b[0m_scores\u001b[0m \u001b[1;33m=\u001b[0m \u001b[0mAUTO_CNN\u001b[0m\u001b[1;33m(\u001b[0m\u001b[0mopt\u001b[0m\u001b[1;33m,\u001b[0m \u001b[0mmodel\u001b[0m\u001b[1;33m,\u001b[0m \u001b[0mlayers\u001b[0m\u001b[1;33m,\u001b[0m \u001b[0mmax_iter\u001b[0m\u001b[1;33m=\u001b[0m\u001b[1;33m[\u001b[0m\u001b[1;36m10000\u001b[0m\u001b[1;33m,\u001b[0m \u001b[1;36m5000\u001b[0m\u001b[1;33m]\u001b[0m\u001b[1;33m,\u001b[0m \u001b[0mmethod\u001b[0m\u001b[1;33m=\u001b[0m\u001b[1;34m'Vanilla'\u001b[0m\u001b[1;33m)\u001b[0m\u001b[1;33m\u001b[0m\u001b[1;33m\u001b[0m\u001b[0m\n\u001b[0m",
      "\u001b[1;32m~\\codes\\ood_detection\\code\\core\\fisher_utils_CNN.py\u001b[0m in \u001b[0;36mAUTO_CNN\u001b[1;34m(opt, model, params, max_iter, method, device)\u001b[0m\n\u001b[0;32m    140\u001b[0m     \u001b[0mGradients\u001b[0m \u001b[1;33m=\u001b[0m \u001b[1;33m{\u001b[0m\u001b[1;33m}\u001b[0m\u001b[1;33m\u001b[0m\u001b[1;33m\u001b[0m\u001b[0m\n\u001b[0;32m    141\u001b[0m \u001b[1;33m\u001b[0m\u001b[0m\n\u001b[1;32m--> 142\u001b[1;33m     Fisher_inv, normalize_factor = Calculate_fisher_CNN(\n\u001b[0m\u001b[0;32m    143\u001b[0m         \u001b[0mmodel\u001b[0m\u001b[1;33m,\u001b[0m\u001b[1;33m\u001b[0m\u001b[1;33m\u001b[0m\u001b[0m\n\u001b[0;32m    144\u001b[0m         TRAIN_loader(\n",
      "\u001b[1;32m~\\codes\\ood_detection\\code\\core\\fisher_utils_CNN.py\u001b[0m in \u001b[0;36mCalculate_fisher_CNN\u001b[1;34m(model, dataloader, layers, max_iter, method)\u001b[0m\n\u001b[0;32m     46\u001b[0m         \u001b[1;32melif\u001b[0m \u001b[0mmethod\u001b[0m \u001b[1;33m==\u001b[0m \u001b[1;34m'Vanilla'\u001b[0m\u001b[1;33m:\u001b[0m\u001b[1;33m\u001b[0m\u001b[1;33m\u001b[0m\u001b[0m\n\u001b[0;32m     47\u001b[0m             \u001b[0mgrads\u001b[0m \u001b[1;33m=\u001b[0m \u001b[1;33m{\u001b[0m\u001b[1;33m}\u001b[0m\u001b[1;33m\u001b[0m\u001b[1;33m\u001b[0m\u001b[0m\n\u001b[1;32m---> 48\u001b[1;33m             \u001b[1;32mfor\u001b[0m \u001b[0mlname\u001b[0m\u001b[1;33m,\u001b[0m \u001b[0mlayer\u001b[0m \u001b[1;32min\u001b[0m \u001b[0mlayers\u001b[0m\u001b[1;33m.\u001b[0m\u001b[0mitems\u001b[0m\u001b[1;33m(\u001b[0m\u001b[1;33m)\u001b[0m\u001b[1;33m:\u001b[0m\u001b[1;33m\u001b[0m\u001b[1;33m\u001b[0m\u001b[0m\n\u001b[0m\u001b[0;32m     49\u001b[0m                 \u001b[0mgrads\u001b[0m\u001b[1;33m[\u001b[0m\u001b[0mlname\u001b[0m\u001b[1;33m]\u001b[0m \u001b[1;33m=\u001b[0m \u001b[1;33m[\u001b[0m\u001b[1;33m]\u001b[0m\u001b[1;33m\u001b[0m\u001b[1;33m\u001b[0m\u001b[0m\n\u001b[0;32m     50\u001b[0m                 \u001b[1;32mfor\u001b[0m \u001b[0mparam\u001b[0m \u001b[1;32min\u001b[0m \u001b[0mlayer\u001b[0m\u001b[1;33m.\u001b[0m\u001b[0mparameters\u001b[0m\u001b[1;33m(\u001b[0m\u001b[1;33m)\u001b[0m\u001b[1;33m:\u001b[0m\u001b[1;33m\u001b[0m\u001b[1;33m\u001b[0m\u001b[0m\n",
      "\u001b[1;31mAttributeError\u001b[0m: 'set' object has no attribute 'items'"
     ]
    }
   ],
   "source": [
    "a, b, _scores = AUTO_CNN(opt, model, layers, max_iter=[10000, 5000], method='Vanilla')"
   ]
  },
  {
   "cell_type": "code",
   "execution_count": 3,
   "id": "opposed-accounting",
   "metadata": {},
   "outputs": [],
   "source": [
    "opt = config.VAE_cifar10\n",
    "netE, netG = load_pretrained_VAE(option=opt.train_dist, ngf=64, nz=200, beta=1)\n",
    "netE.eval()\n",
    "netG.eval()\n",
    "\n",
    "params = {\n",
    "    #'Emain0_w': netE.main[0].weight,\n",
    "    #'Emain1_w': netE.main[1].weight,\n",
    "    #'Emain1_b': netE.main[1].bias,\n",
    "    #'Emain3_w': netE.main[3].weight,\n",
    "    #'Emain4_w': netE.main[4].weight,\n",
    "    #'Emain4_b': netE.main[4].bias,\n",
    "    #'Emain6_w': netE.main[6].weight,\n",
    "    #'Emain7_w': netE.main[7].weight,\n",
    "    #'Emain7_b': netE.main[7].bias,\n",
    "    'Econv1_w': netE.conv1.weight,\n",
    "    #'Econv1_b': netE.conv1.bias,\n",
    "    #'Econv2_w': netE.conv2.weight,\n",
    "    #'Econv2_b': netE.conv2.bias,\n",
    "    #'Gmain0_w': netG.main[0].weight,\n",
    "    #'Gmain1_w': netG.main[1].weight,\n",
    "    #'Gmain1_b': netG.main[1].bias,\n",
    "    #'Gmain3_w': netG.main[3].weight,\n",
    "    #'Gmain4_w': netG.main[4].weight,\n",
    "    #'Gmain4_b': netG.main[4].bias,\n",
    "    #'Gmain6_w': netG.main[6].weight,\n",
    "    #'Gmain7_w': netG.main[7].weight,\n",
    "    #'Gmain7_b': netG.main[7].bias,\n",
    "    #'Gmain9_w': netG.main[9].weight,\n",
    "}\n"
   ]
  },
  {
   "cell_type": "code",
   "execution_count": 5,
   "id": "homeless-danger",
   "metadata": {
    "collapsed": true,
    "jupyter": {
     "outputs_hidden": true
    }
   },
   "outputs": [
    {
     "name": "stdout",
     "output_type": "stream",
     "text": [
      "Files already downloaded and verified\n"
     ]
    },
    {
     "name": "stderr",
     "output_type": "stream",
     "text": [
      "Calculate Fisher VAE:   0%|                                                      | 4/50000 [00:03<9:22:34,  1.48step/s]"
     ]
    },
    {
     "name": "stdout",
     "output_type": "stream",
     "text": [
      "torch.Size([800, 1024, 1024])\n",
      "torch.Size([800, 1024, 1024])\n",
      "torch.Size([800, 1024, 1024])\n",
      "torch.Size([800, 1024, 1024])\n",
      "torch.Size([800, 1024, 1024])\n"
     ]
    },
    {
     "name": "stderr",
     "output_type": "stream",
     "text": [
      "Calculate Fisher VAE:   0%|                                                     | 10/50000 [00:03<2:51:00,  4.87step/s]"
     ]
    },
    {
     "name": "stdout",
     "output_type": "stream",
     "text": [
      "torch.Size([800, 1024, 1024])\n",
      "torch.Size([800, 1024, 1024])\n",
      "torch.Size([800, 1024, 1024])\n",
      "torch.Size([800, 1024, 1024])\n",
      "torch.Size([800, 1024, 1024])\n",
      "torch.Size([800, 1024, 1024])\n"
     ]
    },
    {
     "name": "stderr",
     "output_type": "stream",
     "text": [
      "Calculate Fisher VAE:   0%|                                                     | 16/50000 [00:03<1:27:17,  9.54step/s]"
     ]
    },
    {
     "name": "stdout",
     "output_type": "stream",
     "text": [
      "torch.Size([800, 1024, 1024])\n",
      "torch.Size([800, 1024, 1024])\n",
      "torch.Size([800, 1024, 1024])\n",
      "torch.Size([800, 1024, 1024])\n",
      "torch.Size([800, 1024, 1024])\n",
      "torch.Size([800, 1024, 1024])\n"
     ]
    },
    {
     "name": "stderr",
     "output_type": "stream",
     "text": [
      "Calculate Fisher VAE:   0%|                                                       | 22/50000 [00:04<56:35, 14.72step/s]"
     ]
    },
    {
     "name": "stdout",
     "output_type": "stream",
     "text": [
      "torch.Size([800, 1024, 1024])\n",
      "torch.Size([800, 1024, 1024])\n",
      "torch.Size([800, 1024, 1024])\n",
      "torch.Size([800, 1024, 1024])\n",
      "torch.Size([800, 1024, 1024])\n",
      "torch.Size([800, 1024, 1024])\n"
     ]
    },
    {
     "name": "stderr",
     "output_type": "stream",
     "text": [
      "Calculate Fisher VAE:   0%|                                                       | 28/50000 [00:04<43:22, 19.20step/s]"
     ]
    },
    {
     "name": "stdout",
     "output_type": "stream",
     "text": [
      "torch.Size([800, 1024, 1024])\n",
      "torch.Size([800, 1024, 1024])\n",
      "torch.Size([800, 1024, 1024])\n",
      "torch.Size([800, 1024, 1024])\n",
      "torch.Size([800, 1024, 1024])\n",
      "torch.Size([800, 1024, 1024])\n"
     ]
    },
    {
     "name": "stderr",
     "output_type": "stream",
     "text": [
      "Calculate Fisher VAE:   0%|                                                       | 34/50000 [00:04<37:46, 22.04step/s]"
     ]
    },
    {
     "name": "stdout",
     "output_type": "stream",
     "text": [
      "torch.Size([800, 1024, 1024])\n",
      "torch.Size([800, 1024, 1024])\n",
      "torch.Size([800, 1024, 1024])\n",
      "torch.Size([800, 1024, 1024])\n",
      "torch.Size([800, 1024, 1024])\n",
      "torch.Size([800, 1024, 1024])\n"
     ]
    },
    {
     "name": "stderr",
     "output_type": "stream",
     "text": [
      "Calculate Fisher VAE:   0%|                                                       | 40/50000 [00:04<34:48, 23.93step/s]"
     ]
    },
    {
     "name": "stdout",
     "output_type": "stream",
     "text": [
      "torch.Size([800, 1024, 1024])\n",
      "torch.Size([800, 1024, 1024])\n",
      "torch.Size([800, 1024, 1024])\n",
      "torch.Size([800, 1024, 1024])\n",
      "torch.Size([800, 1024, 1024])\n",
      "torch.Size([800, 1024, 1024])\n"
     ]
    },
    {
     "name": "stderr",
     "output_type": "stream",
     "text": [
      "Calculate Fisher VAE:   0%|                                                       | 46/50000 [00:05<33:23, 24.93step/s]"
     ]
    },
    {
     "name": "stdout",
     "output_type": "stream",
     "text": [
      "torch.Size([800, 1024, 1024])\n",
      "torch.Size([800, 1024, 1024])\n",
      "torch.Size([800, 1024, 1024])\n",
      "torch.Size([800, 1024, 1024])\n",
      "torch.Size([800, 1024, 1024])\n",
      "torch.Size([800, 1024, 1024])\n"
     ]
    },
    {
     "name": "stderr",
     "output_type": "stream",
     "text": [
      "Calculate Fisher VAE:   0%|                                                       | 52/50000 [00:05<32:25, 25.67step/s]"
     ]
    },
    {
     "name": "stdout",
     "output_type": "stream",
     "text": [
      "torch.Size([800, 1024, 1024])\n",
      "torch.Size([800, 1024, 1024])\n",
      "torch.Size([800, 1024, 1024])\n",
      "torch.Size([800, 1024, 1024])\n",
      "torch.Size([800, 1024, 1024])\n",
      "torch.Size([800, 1024, 1024])\n"
     ]
    },
    {
     "name": "stderr",
     "output_type": "stream",
     "text": [
      "Calculate Fisher VAE:   0%|                                                       | 58/50000 [00:05<31:55, 26.08step/s]"
     ]
    },
    {
     "name": "stdout",
     "output_type": "stream",
     "text": [
      "torch.Size([800, 1024, 1024])\n",
      "torch.Size([800, 1024, 1024])\n",
      "torch.Size([800, 1024, 1024])\n",
      "torch.Size([800, 1024, 1024])\n",
      "torch.Size([800, 1024, 1024])\n",
      "torch.Size([800, 1024, 1024])\n"
     ]
    },
    {
     "name": "stderr",
     "output_type": "stream",
     "text": [
      "Calculate Fisher VAE:   0%|                                                       | 64/50000 [00:05<31:36, 26.33step/s]"
     ]
    },
    {
     "name": "stdout",
     "output_type": "stream",
     "text": [
      "torch.Size([800, 1024, 1024])\n",
      "torch.Size([800, 1024, 1024])\n",
      "torch.Size([800, 1024, 1024])\n",
      "torch.Size([800, 1024, 1024])\n",
      "torch.Size([800, 1024, 1024])\n",
      "torch.Size([800, 1024, 1024])\n"
     ]
    },
    {
     "name": "stderr",
     "output_type": "stream",
     "text": [
      "Calculate Fisher VAE:   0%|                                                       | 70/50000 [00:06<31:37, 26.31step/s]"
     ]
    },
    {
     "name": "stdout",
     "output_type": "stream",
     "text": [
      "torch.Size([800, 1024, 1024])\n",
      "torch.Size([800, 1024, 1024])\n",
      "torch.Size([800, 1024, 1024])\n",
      "torch.Size([800, 1024, 1024])\n",
      "torch.Size([800, 1024, 1024])\n",
      "torch.Size([800, 1024, 1024])\n"
     ]
    },
    {
     "name": "stderr",
     "output_type": "stream",
     "text": [
      "Calculate Fisher VAE:   0%|                                                       | 76/50000 [00:06<31:51, 26.12step/s]"
     ]
    },
    {
     "name": "stdout",
     "output_type": "stream",
     "text": [
      "torch.Size([800, 1024, 1024])\n",
      "torch.Size([800, 1024, 1024])\n",
      "torch.Size([800, 1024, 1024])\n",
      "torch.Size([800, 1024, 1024])\n",
      "torch.Size([800, 1024, 1024])\n",
      "torch.Size([800, 1024, 1024])\n"
     ]
    },
    {
     "name": "stderr",
     "output_type": "stream",
     "text": [
      "Calculate Fisher VAE:   0%|                                                       | 79/50000 [00:06<31:55, 26.06step/s]"
     ]
    },
    {
     "name": "stdout",
     "output_type": "stream",
     "text": [
      "torch.Size([800, 1024, 1024])\n",
      "torch.Size([800, 1024, 1024])\n",
      "torch.Size([800, 1024, 1024])\n",
      "torch.Size([800, 1024, 1024])\n"
     ]
    },
    {
     "name": "stderr",
     "output_type": "stream",
     "text": [
      "Calculate Fisher VAE:   0%|                                                     | 81/50000 [00:06<1:07:20, 12.35step/s]\n"
     ]
    },
    {
     "ename": "KeyboardInterrupt",
     "evalue": "",
     "output_type": "error",
     "traceback": [
      "\u001b[1;31m---------------------------------------------------------------------------\u001b[0m",
      "\u001b[1;31mKeyboardInterrupt\u001b[0m                         Traceback (most recent call last)",
      "\u001b[1;32m<ipython-input-5-e59a042659d5>\u001b[0m in \u001b[0;36m<module>\u001b[1;34m\u001b[0m\n\u001b[1;32m----> 1\u001b[1;33m \u001b[0ma\u001b[0m\u001b[1;33m,\u001b[0m \u001b[0mb\u001b[0m\u001b[1;33m,\u001b[0m \u001b[0m_scores\u001b[0m \u001b[1;33m=\u001b[0m \u001b[0mAUTO_VAE\u001b[0m\u001b[1;33m(\u001b[0m\u001b[0mopt\u001b[0m\u001b[1;33m,\u001b[0m \u001b[0mnetE\u001b[0m\u001b[1;33m,\u001b[0m \u001b[0mnetG\u001b[0m\u001b[1;33m,\u001b[0m \u001b[0mparams\u001b[0m\u001b[1;33m,\u001b[0m \u001b[0mmax_iter\u001b[0m\u001b[1;33m=\u001b[0m\u001b[1;33m[\u001b[0m\u001b[1;36m3000\u001b[0m\u001b[1;33m,\u001b[0m \u001b[1;36m3000\u001b[0m\u001b[1;33m]\u001b[0m\u001b[1;33m,\u001b[0m \u001b[0mloss_type\u001b[0m\u001b[1;33m=\u001b[0m\u001b[1;34m'ELBO_pixel'\u001b[0m\u001b[1;33m,\u001b[0m \u001b[0mmethod\u001b[0m\u001b[1;33m=\u001b[0m\u001b[1;34m'SMW'\u001b[0m\u001b[1;33m)\u001b[0m\u001b[1;33m\u001b[0m\u001b[1;33m\u001b[0m\u001b[0m\n\u001b[0m",
      "\u001b[1;32m~\\codes\\ood_detection\\code\\core\\fisher_utils_VAE.py\u001b[0m in \u001b[0;36mAUTO_VAE\u001b[1;34m(opt, netE, netG, params, max_iter, loss_type, method, device)\u001b[0m\n\u001b[0;32m    234\u001b[0m     \u001b[0mGradients\u001b[0m \u001b[1;33m=\u001b[0m \u001b[1;33m{\u001b[0m\u001b[1;33m}\u001b[0m\u001b[1;33m\u001b[0m\u001b[1;33m\u001b[0m\u001b[0m\n\u001b[0;32m    235\u001b[0m \u001b[1;33m\u001b[0m\u001b[0m\n\u001b[1;32m--> 236\u001b[1;33m     Fisher_inv, normalize_factor = Calculate_fisher_VAE(\n\u001b[0m\u001b[0;32m    237\u001b[0m         \u001b[0mnetE\u001b[0m\u001b[1;33m,\u001b[0m\u001b[1;33m\u001b[0m\u001b[1;33m\u001b[0m\u001b[0m\n\u001b[0;32m    238\u001b[0m         \u001b[0mnetG\u001b[0m\u001b[1;33m,\u001b[0m\u001b[1;33m\u001b[0m\u001b[1;33m\u001b[0m\u001b[0m\n",
      "\u001b[1;32m~\\codes\\ood_detection\\code\\core\\fisher_utils_VAE.py\u001b[0m in \u001b[0;36mCalculate_fisher_VAE\u001b[1;34m(netE, netG, dataloader, params, opt, max_iter, loss_type, method)\u001b[0m\n\u001b[0;32m     57\u001b[0m             \u001b[0mrecon\u001b[0m \u001b[1;33m=\u001b[0m \u001b[0mnetG\u001b[0m\u001b[1;33m(\u001b[0m\u001b[0mmu\u001b[0m\u001b[1;33m)\u001b[0m\u001b[1;33m\u001b[0m\u001b[1;33m\u001b[0m\u001b[0m\n\u001b[0;32m     58\u001b[0m         \u001b[1;32melif\u001b[0m \u001b[0mopt\u001b[0m\u001b[1;33m.\u001b[0m\u001b[0mnum_samples\u001b[0m \u001b[1;33m>\u001b[0m \u001b[1;36m1\u001b[0m\u001b[1;33m:\u001b[0m\u001b[1;33m\u001b[0m\u001b[1;33m\u001b[0m\u001b[0m\n\u001b[1;32m---> 59\u001b[1;33m             \u001b[0mrecon\u001b[0m \u001b[1;33m=\u001b[0m \u001b[0mnetG\u001b[0m\u001b[1;33m(\u001b[0m\u001b[0mz\u001b[0m\u001b[1;33m)\u001b[0m\u001b[1;33m\u001b[0m\u001b[1;33m\u001b[0m\u001b[0m\n\u001b[0m\u001b[0;32m     60\u001b[0m         \u001b[1;32melse\u001b[0m\u001b[1;33m:\u001b[0m\u001b[1;33m\u001b[0m\u001b[1;33m\u001b[0m\u001b[0m\n\u001b[0;32m     61\u001b[0m             \u001b[1;32mraise\u001b[0m \u001b[0mValueError\u001b[0m\u001b[1;33m\u001b[0m\u001b[1;33m\u001b[0m\u001b[0m\n",
      "\u001b[1;32m~\\.conda\\envs\\ycy\\lib\\site-packages\\torch\\nn\\modules\\module.py\u001b[0m in \u001b[0;36m_call_impl\u001b[1;34m(self, *input, **kwargs)\u001b[0m\n\u001b[0;32m    725\u001b[0m             \u001b[0mresult\u001b[0m \u001b[1;33m=\u001b[0m \u001b[0mself\u001b[0m\u001b[1;33m.\u001b[0m\u001b[0m_slow_forward\u001b[0m\u001b[1;33m(\u001b[0m\u001b[1;33m*\u001b[0m\u001b[0minput\u001b[0m\u001b[1;33m,\u001b[0m \u001b[1;33m**\u001b[0m\u001b[0mkwargs\u001b[0m\u001b[1;33m)\u001b[0m\u001b[1;33m\u001b[0m\u001b[1;33m\u001b[0m\u001b[0m\n\u001b[0;32m    726\u001b[0m         \u001b[1;32melse\u001b[0m\u001b[1;33m:\u001b[0m\u001b[1;33m\u001b[0m\u001b[1;33m\u001b[0m\u001b[0m\n\u001b[1;32m--> 727\u001b[1;33m             \u001b[0mresult\u001b[0m \u001b[1;33m=\u001b[0m \u001b[0mself\u001b[0m\u001b[1;33m.\u001b[0m\u001b[0mforward\u001b[0m\u001b[1;33m(\u001b[0m\u001b[1;33m*\u001b[0m\u001b[0minput\u001b[0m\u001b[1;33m,\u001b[0m \u001b[1;33m**\u001b[0m\u001b[0mkwargs\u001b[0m\u001b[1;33m)\u001b[0m\u001b[1;33m\u001b[0m\u001b[1;33m\u001b[0m\u001b[0m\n\u001b[0m\u001b[0;32m    728\u001b[0m         for hook in itertools.chain(\n\u001b[0;32m    729\u001b[0m                 \u001b[0m_global_forward_hooks\u001b[0m\u001b[1;33m.\u001b[0m\u001b[0mvalues\u001b[0m\u001b[1;33m(\u001b[0m\u001b[1;33m)\u001b[0m\u001b[1;33m,\u001b[0m\u001b[1;33m\u001b[0m\u001b[1;33m\u001b[0m\u001b[0m\n",
      "\u001b[1;32m~\\codes\\ood_detection\\code/core\\train_VAE\\DCGAN_VAE_pixel.py\u001b[0m in \u001b[0;36mforward\u001b[1;34m(self, input)\u001b[0m\n\u001b[0;32m     89\u001b[0m             \u001b[0moutput\u001b[0m \u001b[1;33m=\u001b[0m \u001b[0moutput\u001b[0m\u001b[1;33m.\u001b[0m\u001b[0mpermute\u001b[0m\u001b[1;33m(\u001b[0m\u001b[1;36m0\u001b[0m\u001b[1;33m,\u001b[0m \u001b[1;36m1\u001b[0m\u001b[1;33m,\u001b[0m \u001b[1;36m3\u001b[0m\u001b[1;33m,\u001b[0m \u001b[1;36m4\u001b[0m\u001b[1;33m,\u001b[0m \u001b[1;36m2\u001b[0m\u001b[1;33m)\u001b[0m\u001b[1;33m\u001b[0m\u001b[1;33m\u001b[0m\u001b[0m\n\u001b[0;32m     90\u001b[0m         \u001b[1;32melse\u001b[0m\u001b[1;33m:\u001b[0m\u001b[1;33m\u001b[0m\u001b[1;33m\u001b[0m\u001b[0m\n\u001b[1;32m---> 91\u001b[1;33m             \u001b[0moutput\u001b[0m \u001b[1;33m=\u001b[0m \u001b[0mself\u001b[0m\u001b[1;33m.\u001b[0m\u001b[0mmain\u001b[0m\u001b[1;33m(\u001b[0m\u001b[0minput\u001b[0m\u001b[1;33m)\u001b[0m\u001b[1;33m\u001b[0m\u001b[1;33m\u001b[0m\u001b[0m\n\u001b[0m\u001b[0;32m     92\u001b[0m             \u001b[0moutput\u001b[0m \u001b[1;33m=\u001b[0m \u001b[0moutput\u001b[0m\u001b[1;33m.\u001b[0m\u001b[0mview\u001b[0m\u001b[1;33m(\u001b[0m\u001b[1;33m-\u001b[0m\u001b[1;36m1\u001b[0m\u001b[1;33m,\u001b[0m \u001b[0mself\u001b[0m\u001b[1;33m.\u001b[0m\u001b[0mnc\u001b[0m\u001b[1;33m,\u001b[0m \u001b[1;36m256\u001b[0m\u001b[1;33m,\u001b[0m \u001b[0mself\u001b[0m\u001b[1;33m.\u001b[0m\u001b[0misize\u001b[0m\u001b[1;33m,\u001b[0m \u001b[0mself\u001b[0m\u001b[1;33m.\u001b[0m\u001b[0misize\u001b[0m\u001b[1;33m)\u001b[0m\u001b[1;33m\u001b[0m\u001b[1;33m\u001b[0m\u001b[0m\n\u001b[0;32m     93\u001b[0m             \u001b[0moutput\u001b[0m \u001b[1;33m=\u001b[0m \u001b[0moutput\u001b[0m\u001b[1;33m.\u001b[0m\u001b[0mpermute\u001b[0m\u001b[1;33m(\u001b[0m\u001b[1;36m0\u001b[0m\u001b[1;33m,\u001b[0m \u001b[1;36m1\u001b[0m\u001b[1;33m,\u001b[0m \u001b[1;36m3\u001b[0m\u001b[1;33m,\u001b[0m \u001b[1;36m4\u001b[0m\u001b[1;33m,\u001b[0m \u001b[1;36m2\u001b[0m\u001b[1;33m)\u001b[0m\u001b[1;33m\u001b[0m\u001b[1;33m\u001b[0m\u001b[0m\n",
      "\u001b[1;32m~\\.conda\\envs\\ycy\\lib\\site-packages\\torch\\nn\\modules\\module.py\u001b[0m in \u001b[0;36m_call_impl\u001b[1;34m(self, *input, **kwargs)\u001b[0m\n\u001b[0;32m    725\u001b[0m             \u001b[0mresult\u001b[0m \u001b[1;33m=\u001b[0m \u001b[0mself\u001b[0m\u001b[1;33m.\u001b[0m\u001b[0m_slow_forward\u001b[0m\u001b[1;33m(\u001b[0m\u001b[1;33m*\u001b[0m\u001b[0minput\u001b[0m\u001b[1;33m,\u001b[0m \u001b[1;33m**\u001b[0m\u001b[0mkwargs\u001b[0m\u001b[1;33m)\u001b[0m\u001b[1;33m\u001b[0m\u001b[1;33m\u001b[0m\u001b[0m\n\u001b[0;32m    726\u001b[0m         \u001b[1;32melse\u001b[0m\u001b[1;33m:\u001b[0m\u001b[1;33m\u001b[0m\u001b[1;33m\u001b[0m\u001b[0m\n\u001b[1;32m--> 727\u001b[1;33m             \u001b[0mresult\u001b[0m \u001b[1;33m=\u001b[0m \u001b[0mself\u001b[0m\u001b[1;33m.\u001b[0m\u001b[0mforward\u001b[0m\u001b[1;33m(\u001b[0m\u001b[1;33m*\u001b[0m\u001b[0minput\u001b[0m\u001b[1;33m,\u001b[0m \u001b[1;33m**\u001b[0m\u001b[0mkwargs\u001b[0m\u001b[1;33m)\u001b[0m\u001b[1;33m\u001b[0m\u001b[1;33m\u001b[0m\u001b[0m\n\u001b[0m\u001b[0;32m    728\u001b[0m         for hook in itertools.chain(\n\u001b[0;32m    729\u001b[0m                 \u001b[0m_global_forward_hooks\u001b[0m\u001b[1;33m.\u001b[0m\u001b[0mvalues\u001b[0m\u001b[1;33m(\u001b[0m\u001b[1;33m)\u001b[0m\u001b[1;33m,\u001b[0m\u001b[1;33m\u001b[0m\u001b[1;33m\u001b[0m\u001b[0m\n",
      "\u001b[1;32m~\\.conda\\envs\\ycy\\lib\\site-packages\\torch\\nn\\modules\\container.py\u001b[0m in \u001b[0;36mforward\u001b[1;34m(self, input)\u001b[0m\n\u001b[0;32m    115\u001b[0m     \u001b[1;32mdef\u001b[0m \u001b[0mforward\u001b[0m\u001b[1;33m(\u001b[0m\u001b[0mself\u001b[0m\u001b[1;33m,\u001b[0m \u001b[0minput\u001b[0m\u001b[1;33m)\u001b[0m\u001b[1;33m:\u001b[0m\u001b[1;33m\u001b[0m\u001b[1;33m\u001b[0m\u001b[0m\n\u001b[0;32m    116\u001b[0m         \u001b[1;32mfor\u001b[0m \u001b[0mmodule\u001b[0m \u001b[1;32min\u001b[0m \u001b[0mself\u001b[0m\u001b[1;33m:\u001b[0m\u001b[1;33m\u001b[0m\u001b[1;33m\u001b[0m\u001b[0m\n\u001b[1;32m--> 117\u001b[1;33m             \u001b[0minput\u001b[0m \u001b[1;33m=\u001b[0m \u001b[0mmodule\u001b[0m\u001b[1;33m(\u001b[0m\u001b[0minput\u001b[0m\u001b[1;33m)\u001b[0m\u001b[1;33m\u001b[0m\u001b[1;33m\u001b[0m\u001b[0m\n\u001b[0m\u001b[0;32m    118\u001b[0m         \u001b[1;32mreturn\u001b[0m \u001b[0minput\u001b[0m\u001b[1;33m\u001b[0m\u001b[1;33m\u001b[0m\u001b[0m\n\u001b[0;32m    119\u001b[0m \u001b[1;33m\u001b[0m\u001b[0m\n",
      "\u001b[1;32m~\\.conda\\envs\\ycy\\lib\\site-packages\\torch\\nn\\modules\\module.py\u001b[0m in \u001b[0;36m_call_impl\u001b[1;34m(self, *input, **kwargs)\u001b[0m\n\u001b[0;32m    725\u001b[0m             \u001b[0mresult\u001b[0m \u001b[1;33m=\u001b[0m \u001b[0mself\u001b[0m\u001b[1;33m.\u001b[0m\u001b[0m_slow_forward\u001b[0m\u001b[1;33m(\u001b[0m\u001b[1;33m*\u001b[0m\u001b[0minput\u001b[0m\u001b[1;33m,\u001b[0m \u001b[1;33m**\u001b[0m\u001b[0mkwargs\u001b[0m\u001b[1;33m)\u001b[0m\u001b[1;33m\u001b[0m\u001b[1;33m\u001b[0m\u001b[0m\n\u001b[0;32m    726\u001b[0m         \u001b[1;32melse\u001b[0m\u001b[1;33m:\u001b[0m\u001b[1;33m\u001b[0m\u001b[1;33m\u001b[0m\u001b[0m\n\u001b[1;32m--> 727\u001b[1;33m             \u001b[0mresult\u001b[0m \u001b[1;33m=\u001b[0m \u001b[0mself\u001b[0m\u001b[1;33m.\u001b[0m\u001b[0mforward\u001b[0m\u001b[1;33m(\u001b[0m\u001b[1;33m*\u001b[0m\u001b[0minput\u001b[0m\u001b[1;33m,\u001b[0m \u001b[1;33m**\u001b[0m\u001b[0mkwargs\u001b[0m\u001b[1;33m)\u001b[0m\u001b[1;33m\u001b[0m\u001b[1;33m\u001b[0m\u001b[0m\n\u001b[0m\u001b[0;32m    728\u001b[0m         for hook in itertools.chain(\n\u001b[0;32m    729\u001b[0m                 \u001b[0m_global_forward_hooks\u001b[0m\u001b[1;33m.\u001b[0m\u001b[0mvalues\u001b[0m\u001b[1;33m(\u001b[0m\u001b[1;33m)\u001b[0m\u001b[1;33m,\u001b[0m\u001b[1;33m\u001b[0m\u001b[1;33m\u001b[0m\u001b[0m\n",
      "\u001b[1;32m~\\.conda\\envs\\ycy\\lib\\site-packages\\torch\\nn\\modules\\conv.py\u001b[0m in \u001b[0;36mforward\u001b[1;34m(self, input, output_size)\u001b[0m\n\u001b[0;32m    925\u001b[0m             input, output_size, self.stride, self.padding, self.kernel_size, self.dilation)\n\u001b[0;32m    926\u001b[0m \u001b[1;33m\u001b[0m\u001b[0m\n\u001b[1;32m--> 927\u001b[1;33m         return F.conv_transpose2d(\n\u001b[0m\u001b[0;32m    928\u001b[0m             \u001b[0minput\u001b[0m\u001b[1;33m,\u001b[0m \u001b[0mself\u001b[0m\u001b[1;33m.\u001b[0m\u001b[0mweight\u001b[0m\u001b[1;33m,\u001b[0m \u001b[0mself\u001b[0m\u001b[1;33m.\u001b[0m\u001b[0mbias\u001b[0m\u001b[1;33m,\u001b[0m \u001b[0mself\u001b[0m\u001b[1;33m.\u001b[0m\u001b[0mstride\u001b[0m\u001b[1;33m,\u001b[0m \u001b[0mself\u001b[0m\u001b[1;33m.\u001b[0m\u001b[0mpadding\u001b[0m\u001b[1;33m,\u001b[0m\u001b[1;33m\u001b[0m\u001b[1;33m\u001b[0m\u001b[0m\n\u001b[0;32m    929\u001b[0m             output_padding, self.groups, self.dilation)\n",
      "\u001b[1;31mKeyboardInterrupt\u001b[0m: "
     ]
    }
   ],
   "source": [
    "a, b, _scores = AUTO_VAE(opt, netE, netG, params, max_iter=[3000, 3000], loss_type='ELBO_pixel', method='SMW')"
   ]
  },
  {
   "cell_type": "code",
   "execution_count": 7,
   "id": "hearing-graduate",
   "metadata": {},
   "outputs": [],
   "source": [
    "for pname in params.keys():\n",
    "    FISHERs[train_dist][pname] = a[pname] \n",
    "    NORM_FACs[train_dist][pname] = b[pname]\n",
    "for ood in opt.ood_list:\n",
    "    SCOREs[train_dist][ood] = _scores[ood]"
   ]
  },
  {
   "cell_type": "code",
   "execution_count": 8,
   "id": "mature-circuit",
   "metadata": {},
   "outputs": [],
   "source": [
    "# AUROC curve\n",
    "auroc = {}\n",
    "for pname in params.keys():\n",
    "    _auroc = {}\n",
    "    for ood in opt.ood_list:\n",
    "        args = [\n",
    "            SCOREs[train_dist][train_dist][pname],\n",
    "            SCOREs[train_dist][ood][pname],\n",
    "        ]\n",
    "        labels = [train_dist, ood]\n",
    "        _auroc[ood] = AUROC(*args, labels=labels, verbose=False)\n",
    "    auroc[pname] = _auroc\n",
    "    \n",
    "auroc"
   ]
  },
  {
   "cell_type": "code",
   "execution_count": 6,
   "id": "yellow-termination",
   "metadata": {},
   "outputs": [],
   "source": [
    "# Just show scores\n",
    "# plot_scores_all_layers(train_dist, params, SCOREs, opt, save=True)\n"
   ]
  },
  {
   "cell_type": "code",
   "execution_count": null,
   "id": "respective-afternoon",
   "metadata": {},
   "outputs": [],
   "source": []
  },
  {
   "cell_type": "markdown",
   "id": "canadian-silicon",
   "metadata": {},
   "source": [
    "# VAE-FMNIST"
   ]
  },
  {
   "cell_type": "code",
   "execution_count": 8,
   "id": "adjustable-projector",
   "metadata": {},
   "outputs": [
    {
     "ename": "RuntimeError",
     "evalue": "Error(s) in loading state_dict for DCGAN_G:\n\tMissing key(s) in state_dict: \"main.initial:100-128:convt.weight\", \"main.initial:128:batchnorm.weight\", \"main.initial:128:batchnorm.bias\", \"main.initial:128:batchnorm.running_mean\", \"main.initial:128:batchnorm.running_var\", \"main.pyramid:64-32:convt.weight\", \"main.pyramid:32:batchnorm.weight\", \"main.pyramid:32:batchnorm.bias\", \"main.pyramid:32:batchnorm.running_mean\", \"main.pyramid:32:batchnorm.running_var\", \"main.final:32-1:convt.weight\". \n\tUnexpected key(s) in state_dict: \"main.initial:200-256:convt.weight\", \"main.initial:256:batchnorm.weight\", \"main.initial:256:batchnorm.bias\", \"main.initial:256:batchnorm.running_mean\", \"main.initial:256:batchnorm.running_var\", \"main.initial:256:batchnorm.num_batches_tracked\", \"main.pyramid:256-128:convt.weight\", \"main.pyramid:128:batchnorm.weight\", \"main.pyramid:128:batchnorm.bias\", \"main.pyramid:128:batchnorm.running_mean\", \"main.pyramid:128:batchnorm.running_var\", \"main.pyramid:128:batchnorm.num_batches_tracked\", \"main.final:64-3:convt.weight\". ",
     "output_type": "error",
     "traceback": [
      "\u001b[1;31m---------------------------------------------------------------------------\u001b[0m",
      "\u001b[1;31mRuntimeError\u001b[0m                              Traceback (most recent call last)",
      "\u001b[1;32m<ipython-input-8-b33ffb30ff87>\u001b[0m in \u001b[0;36m<module>\u001b[1;34m\u001b[0m\n\u001b[0;32m      1\u001b[0m \u001b[0mopt\u001b[0m \u001b[1;33m=\u001b[0m \u001b[0mconfig\u001b[0m\u001b[1;33m.\u001b[0m\u001b[0mVAE_fmnist\u001b[0m\u001b[1;33m\u001b[0m\u001b[1;33m\u001b[0m\u001b[0m\n\u001b[1;32m----> 2\u001b[1;33m \u001b[0mnetE\u001b[0m\u001b[1;33m,\u001b[0m \u001b[0mnetG\u001b[0m \u001b[1;33m=\u001b[0m \u001b[0mload_pretrained_VAE\u001b[0m\u001b[1;33m(\u001b[0m\u001b[0moption\u001b[0m\u001b[1;33m=\u001b[0m\u001b[0mopt\u001b[0m\u001b[1;33m.\u001b[0m\u001b[0mtrain_dist\u001b[0m\u001b[1;33m,\u001b[0m \u001b[0mngf\u001b[0m\u001b[1;33m=\u001b[0m\u001b[1;36m32\u001b[0m\u001b[1;33m,\u001b[0m \u001b[0mnz\u001b[0m\u001b[1;33m=\u001b[0m\u001b[1;36m100\u001b[0m\u001b[1;33m,\u001b[0m \u001b[0mbeta\u001b[0m\u001b[1;33m=\u001b[0m\u001b[1;36m1\u001b[0m\u001b[1;33m)\u001b[0m\u001b[1;33m\u001b[0m\u001b[1;33m\u001b[0m\u001b[0m\n\u001b[0m\u001b[0;32m      3\u001b[0m \u001b[0mnetE\u001b[0m\u001b[1;33m.\u001b[0m\u001b[0meval\u001b[0m\u001b[1;33m(\u001b[0m\u001b[1;33m)\u001b[0m\u001b[1;33m\u001b[0m\u001b[1;33m\u001b[0m\u001b[0m\n\u001b[0;32m      4\u001b[0m \u001b[0mnetG\u001b[0m\u001b[1;33m.\u001b[0m\u001b[0meval\u001b[0m\u001b[1;33m(\u001b[0m\u001b[1;33m)\u001b[0m\u001b[1;33m\u001b[0m\u001b[1;33m\u001b[0m\u001b[0m\n\u001b[0;32m      5\u001b[0m \u001b[1;33m\u001b[0m\u001b[0m\n",
      "\u001b[1;32m~\\codes\\ood_detection\\code\\core\\model_loader.py\u001b[0m in \u001b[0;36mload_pretrained_VAE\u001b[1;34m(option, ngf, nz, beta, augment)\u001b[0m\n\u001b[0;32m     44\u001b[0m     \u001b[0mnetG\u001b[0m \u001b[1;33m=\u001b[0m \u001b[0mDVAE_pixel\u001b[0m\u001b[1;33m.\u001b[0m\u001b[0mDCGAN_G\u001b[0m\u001b[1;33m(\u001b[0m\u001b[0mopt\u001b[0m\u001b[1;33m.\u001b[0m\u001b[0mimageSize\u001b[0m\u001b[1;33m,\u001b[0m \u001b[0mopt\u001b[0m\u001b[1;33m.\u001b[0m\u001b[0mnz\u001b[0m\u001b[1;33m,\u001b[0m \u001b[0mopt\u001b[0m\u001b[1;33m.\u001b[0m\u001b[0mnc\u001b[0m\u001b[1;33m,\u001b[0m \u001b[0mopt\u001b[0m\u001b[1;33m.\u001b[0m\u001b[0mngf\u001b[0m\u001b[1;33m,\u001b[0m \u001b[0mopt\u001b[0m\u001b[1;33m.\u001b[0m\u001b[0mngpu\u001b[0m\u001b[1;33m)\u001b[0m\u001b[1;33m\u001b[0m\u001b[1;33m\u001b[0m\u001b[0m\n\u001b[0;32m     45\u001b[0m     \u001b[0mstate_G\u001b[0m \u001b[1;33m=\u001b[0m \u001b[0mtorch\u001b[0m\u001b[1;33m.\u001b[0m\u001b[0mload\u001b[0m\u001b[1;33m(\u001b[0m\u001b[0mpath_G\u001b[0m\u001b[1;33m,\u001b[0m \u001b[0mmap_location\u001b[0m\u001b[1;33m=\u001b[0m\u001b[0mdevice\u001b[0m\u001b[1;33m)\u001b[0m\u001b[1;33m\u001b[0m\u001b[1;33m\u001b[0m\u001b[0m\n\u001b[1;32m---> 46\u001b[1;33m     \u001b[0mnetG\u001b[0m\u001b[1;33m.\u001b[0m\u001b[0mload_state_dict\u001b[0m\u001b[1;33m(\u001b[0m\u001b[0mstate_G\u001b[0m\u001b[1;33m)\u001b[0m\u001b[1;33m\u001b[0m\u001b[1;33m\u001b[0m\u001b[0m\n\u001b[0m\u001b[0;32m     47\u001b[0m     \u001b[0mnetE\u001b[0m \u001b[1;33m=\u001b[0m \u001b[0mDVAE_pixel\u001b[0m\u001b[1;33m.\u001b[0m\u001b[0mEncoder\u001b[0m\u001b[1;33m(\u001b[0m\u001b[0mopt\u001b[0m\u001b[1;33m.\u001b[0m\u001b[0mimageSize\u001b[0m\u001b[1;33m,\u001b[0m \u001b[0mopt\u001b[0m\u001b[1;33m.\u001b[0m\u001b[0mnz\u001b[0m\u001b[1;33m,\u001b[0m \u001b[0mopt\u001b[0m\u001b[1;33m.\u001b[0m\u001b[0mnc\u001b[0m\u001b[1;33m,\u001b[0m \u001b[0mopt\u001b[0m\u001b[1;33m.\u001b[0m\u001b[0mngf\u001b[0m\u001b[1;33m,\u001b[0m \u001b[0mopt\u001b[0m\u001b[1;33m.\u001b[0m\u001b[0mngpu\u001b[0m\u001b[1;33m)\u001b[0m\u001b[1;33m\u001b[0m\u001b[1;33m\u001b[0m\u001b[0m\n\u001b[0;32m     48\u001b[0m     \u001b[0mstate_E\u001b[0m \u001b[1;33m=\u001b[0m \u001b[0mtorch\u001b[0m\u001b[1;33m.\u001b[0m\u001b[0mload\u001b[0m\u001b[1;33m(\u001b[0m\u001b[0mpath_E\u001b[0m\u001b[1;33m,\u001b[0m \u001b[0mmap_location\u001b[0m\u001b[1;33m=\u001b[0m\u001b[0mdevice\u001b[0m\u001b[1;33m)\u001b[0m\u001b[1;33m\u001b[0m\u001b[1;33m\u001b[0m\u001b[0m\n",
      "\u001b[1;32m~\\.conda\\envs\\ycy\\lib\\site-packages\\torch\\nn\\modules\\module.py\u001b[0m in \u001b[0;36mload_state_dict\u001b[1;34m(self, state_dict, strict)\u001b[0m\n\u001b[0;32m   1049\u001b[0m \u001b[1;33m\u001b[0m\u001b[0m\n\u001b[0;32m   1050\u001b[0m         \u001b[1;32mif\u001b[0m \u001b[0mlen\u001b[0m\u001b[1;33m(\u001b[0m\u001b[0merror_msgs\u001b[0m\u001b[1;33m)\u001b[0m \u001b[1;33m>\u001b[0m \u001b[1;36m0\u001b[0m\u001b[1;33m:\u001b[0m\u001b[1;33m\u001b[0m\u001b[1;33m\u001b[0m\u001b[0m\n\u001b[1;32m-> 1051\u001b[1;33m             raise RuntimeError('Error(s) in loading state_dict for {}:\\n\\t{}'.format(\n\u001b[0m\u001b[0;32m   1052\u001b[0m                                self.__class__.__name__, \"\\n\\t\".join(error_msgs)))\n\u001b[0;32m   1053\u001b[0m         \u001b[1;32mreturn\u001b[0m \u001b[0m_IncompatibleKeys\u001b[0m\u001b[1;33m(\u001b[0m\u001b[0mmissing_keys\u001b[0m\u001b[1;33m,\u001b[0m \u001b[0munexpected_keys\u001b[0m\u001b[1;33m)\u001b[0m\u001b[1;33m\u001b[0m\u001b[1;33m\u001b[0m\u001b[0m\n",
      "\u001b[1;31mRuntimeError\u001b[0m: Error(s) in loading state_dict for DCGAN_G:\n\tMissing key(s) in state_dict: \"main.initial:100-128:convt.weight\", \"main.initial:128:batchnorm.weight\", \"main.initial:128:batchnorm.bias\", \"main.initial:128:batchnorm.running_mean\", \"main.initial:128:batchnorm.running_var\", \"main.pyramid:64-32:convt.weight\", \"main.pyramid:32:batchnorm.weight\", \"main.pyramid:32:batchnorm.bias\", \"main.pyramid:32:batchnorm.running_mean\", \"main.pyramid:32:batchnorm.running_var\", \"main.final:32-1:convt.weight\". \n\tUnexpected key(s) in state_dict: \"main.initial:200-256:convt.weight\", \"main.initial:256:batchnorm.weight\", \"main.initial:256:batchnorm.bias\", \"main.initial:256:batchnorm.running_mean\", \"main.initial:256:batchnorm.running_var\", \"main.initial:256:batchnorm.num_batches_tracked\", \"main.pyramid:256-128:convt.weight\", \"main.pyramid:128:batchnorm.weight\", \"main.pyramid:128:batchnorm.bias\", \"main.pyramid:128:batchnorm.running_mean\", \"main.pyramid:128:batchnorm.running_var\", \"main.pyramid:128:batchnorm.num_batches_tracked\", \"main.final:64-3:convt.weight\". "
     ]
    }
   ],
   "source": [
    "opt = config.VAE_fmnist\n",
    "netE, netG = load_pretrained_VAE(option=opt.train_dist, ngf=32, nz=100, beta=1)\n",
    "netE.eval()\n",
    "netG.eval()\n",
    "\n",
    "params = {\n",
    "    #'Emain0_w': netE.main[0].weight,\n",
    "    #'Emain1_w': netE.main[1].weight,\n",
    "    #'Emain1_b': netE.main[1].bias,\n",
    "    #'Emain3_w': netE.main[3].weight,\n",
    "    #'Emain4_w': netE.main[4].weight,\n",
    "    #'Emain4_b': netE.main[4].bias,\n",
    "    #'Emain6_w': netE.main[6].weight,\n",
    "    #'Emain7_w': netE.main[7].weight,\n",
    "    #'Emain7_b': netE.main[7].bias,\n",
    "    'Econv1_w': netE.conv1.weight,\n",
    "    #'Econv1_b': netE.conv1.bias,\n",
    "    #'Econv2_w': netE.conv2.weight,\n",
    "    #'Econv2_b': netE.conv2.bias,\n",
    "    #'Gmain0_w': netG.main[0].weight,\n",
    "    #'Gmain1_w': netG.main[1].weight,\n",
    "    #'Gmain1_b': netG.main[1].bias,\n",
    "    #'Gmain3_w': netG.main[3].weight,\n",
    "    #'Gmain4_w': netG.main[4].weight,\n",
    "    #'Gmain4_b': netG.main[4].bias,\n",
    "    #'Gmain6_w': netG.main[6].weight,\n",
    "    #'Gmain7_w': netG.main[7].weight,\n",
    "    #'Gmain7_b': netG.main[7].bias,\n",
    "    #'Gmain9_w': netG.main[9].weight,\n",
    "}"
   ]
  },
  {
   "cell_type": "code",
   "execution_count": null,
   "id": "white-ferry",
   "metadata": {},
   "outputs": [],
   "source": [
    "a, b, _scores = AUTO_VAE(opt, netE, netG, params, max_iter=[3000, 3000], loss_type='ELBO_pixel', method='SMW')"
   ]
  },
  {
   "cell_type": "code",
   "execution_count": null,
   "id": "progressive-pleasure",
   "metadata": {},
   "outputs": [],
   "source": [
    "for pname in params.keys():\n",
    "    FISHERs[train_dist][pname] = a[pname] \n",
    "    NORM_FACs[train_dist][pname] = b[pname]\n",
    "for ood in opt.ood_list:\n",
    "    SCOREs[train_dist][ood] = _scores[ood]"
   ]
  },
  {
   "cell_type": "code",
   "execution_count": null,
   "id": "competitive-addiction",
   "metadata": {},
   "outputs": [],
   "source": [
    "# AUROC curve\n",
    "auroc = {}\n",
    "for pname in params.keys():\n",
    "    _auroc = {}\n",
    "    for ood in opt.ood_list:\n",
    "        args = [\n",
    "            SCOREs[train_dist][train_dist][pname],\n",
    "            SCOREs[train_dist][ood][pname],\n",
    "        ]\n",
    "        labels = [train_dist, ood]\n",
    "        _auroc[ood] = AUROC(*args, labels=labels, verbose=False)\n",
    "    auroc[pname] = _auroc\n",
    "    \n",
    "auroc"
   ]
  },
  {
   "cell_type": "code",
   "execution_count": null,
   "id": "phantom-happening",
   "metadata": {},
   "outputs": [],
   "source": [
    "# Just show scores\n",
    "# plot_scores_all_layers(train_dist, params, SCOREs, opt, save=True)"
   ]
  },
  {
   "cell_type": "code",
   "execution_count": null,
   "id": "regular-patrol",
   "metadata": {},
   "outputs": [],
   "source": []
  }
 ],
 "metadata": {
  "kernelspec": {
   "display_name": "ycy",
   "language": "python",
   "name": "ycy"
  },
  "language_info": {
   "codemirror_mode": {
    "name": "ipython",
    "version": 3
   },
   "file_extension": ".py",
   "mimetype": "text/x-python",
   "name": "python",
   "nbconvert_exporter": "python",
   "pygments_lexer": "ipython3",
   "version": "3.8.5"
  }
 },
 "nbformat": 4,
 "nbformat_minor": 5
}
