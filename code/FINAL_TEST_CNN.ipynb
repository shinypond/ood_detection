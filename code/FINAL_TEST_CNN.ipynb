{
 "cells": [
  {
   "cell_type": "markdown",
   "id": "empirical-uncertainty",
   "metadata": {},
   "source": [
    "# [ CNN ] OOD Detection using FSS"
   ]
  },
  {
   "cell_type": "code",
   "execution_count": 1,
   "id": "focal-saver",
   "metadata": {},
   "outputs": [],
   "source": [
    "%load_ext autoreload\n",
    "%autoreload 2\n",
    "import os\n",
    "import sys\n",
    "sys.path.append(os.getcwd() + '/core')\n",
    "sys.path.append(os.getcwd() + '/core/train_GLOW') \n",
    "import numpy as np\n",
    "import pandas as pd\n",
    "import matplotlib.pyplot as plt\n",
    "import torch\n",
    "import torch.nn as nn\n",
    "\n",
    "import core.config as config\n",
    "from core.model_loader import load_pretrained_CNN\n",
    "from core.data_loader import TRAIN_loader, TEST_loader\n",
    "from core.fisher_utils_CNN import Calculate_fisher_CNN, Calculate_score_CNN, AUTO_CNN\n",
    "from core.visualize import plot_hist, AUROC, plot_scores_all_layers"
   ]
  },
  {
   "cell_type": "markdown",
   "id": "experimental-trail",
   "metadata": {},
   "source": [
    "# Define Global Variables & Initialize"
   ]
  },
  {
   "cell_type": "code",
   "execution_count": 2,
   "id": "friendly-moderator",
   "metadata": {},
   "outputs": [],
   "source": [
    "# FISHER_invs : Fisher inverse matrices from calculating Fisher score (w.r.t. train-dist)\n",
    "FISHERs = {'cifar10': {}, 'fmnist': {}}\n",
    "         \n",
    "# NORMalize_FACtors : Normalizing Factor (w.r.t. train-dist)\n",
    "NORM_FACs = {'cifar10': {}, 'fmnist': {}}\n",
    "             \n",
    "# SCOREs : (Scalars) Scores from calculating Fisher score (w.r.t. target-dist)\n",
    "SCOREs = {'cifar10': {}, 'fmnist': {}}\n"
   ]
  },
  {
   "cell_type": "markdown",
   "id": "twelve-ladder",
   "metadata": {},
   "source": [
    "# CNN"
   ]
  },
  {
   "cell_type": "code",
   "execution_count": 3,
   "id": "correct-press",
   "metadata": {},
   "outputs": [
    {
     "name": "stdout",
     "output_type": "stream",
     "text": [
      "0.9411\r"
     ]
    }
   ],
   "source": [
    "opt = config.CNN_fmnist\n",
    "model = load_pretrained_CNN(option=opt.train_dist, modelname='VGG11')\n",
    "model.eval()\n",
    "\n",
    "acc = 0\n",
    "loader = TEST_loader(opt.train_dist, opt.train_dist, shuffle=True, normalize=True)\n",
    "for i, (x,y) in enumerate(loader):\n",
    "    pred = model(x.float().cuda())\n",
    "    if torch.argmax(pred).detach().cpu() == y:\n",
    "        acc += 1\n",
    "    print(f'{acc/(i+1):.4f}', end='\\r')\n",
    "    if i==300:\n",
    "        break\n",
    "torch.cuda.empty_cache()"
   ]
  },
  {
   "cell_type": "code",
   "execution_count": 24,
   "id": "bbc97f5f-dfbb-46a9-9955-0b6f511ef6a2",
   "metadata": {},
   "outputs": [
    {
     "data": {
      "text/plain": [
       "DataParallel(\n",
       "  (module): VGG(\n",
       "    (features): Sequential(\n",
       "      (0): Conv2d(3, 64, kernel_size=(3, 3), stride=(1, 1), padding=(1, 1))\n",
       "      (1): BatchNorm2d(64, eps=1e-05, momentum=0.1, affine=True, track_running_stats=True)\n",
       "      (2): ReLU(inplace=True)\n",
       "      (3): MaxPool2d(kernel_size=2, stride=2, padding=0, dilation=1, ceil_mode=False)\n",
       "      (4): Conv2d(64, 128, kernel_size=(3, 3), stride=(1, 1), padding=(1, 1))\n",
       "      (5): BatchNorm2d(128, eps=1e-05, momentum=0.1, affine=True, track_running_stats=True)\n",
       "      (6): ReLU(inplace=True)\n",
       "      (7): MaxPool2d(kernel_size=2, stride=2, padding=0, dilation=1, ceil_mode=False)\n",
       "      (8): Conv2d(128, 256, kernel_size=(3, 3), stride=(1, 1), padding=(1, 1))\n",
       "      (9): BatchNorm2d(256, eps=1e-05, momentum=0.1, affine=True, track_running_stats=True)\n",
       "      (10): ReLU(inplace=True)\n",
       "      (11): Conv2d(256, 256, kernel_size=(3, 3), stride=(1, 1), padding=(1, 1))\n",
       "      (12): BatchNorm2d(256, eps=1e-05, momentum=0.1, affine=True, track_running_stats=True)\n",
       "      (13): ReLU(inplace=True)\n",
       "      (14): MaxPool2d(kernel_size=2, stride=2, padding=0, dilation=1, ceil_mode=False)\n",
       "      (15): Conv2d(256, 512, kernel_size=(3, 3), stride=(1, 1), padding=(1, 1))\n",
       "      (16): BatchNorm2d(512, eps=1e-05, momentum=0.1, affine=True, track_running_stats=True)\n",
       "      (17): ReLU(inplace=True)\n",
       "      (18): Conv2d(512, 512, kernel_size=(3, 3), stride=(1, 1), padding=(1, 1))\n",
       "      (19): BatchNorm2d(512, eps=1e-05, momentum=0.1, affine=True, track_running_stats=True)\n",
       "      (20): ReLU(inplace=True)\n",
       "      (21): MaxPool2d(kernel_size=2, stride=2, padding=0, dilation=1, ceil_mode=False)\n",
       "      (22): Conv2d(512, 512, kernel_size=(3, 3), stride=(1, 1), padding=(1, 1))\n",
       "      (23): BatchNorm2d(512, eps=1e-05, momentum=0.1, affine=True, track_running_stats=True)\n",
       "      (24): ReLU(inplace=True)\n",
       "      (25): Conv2d(512, 512, kernel_size=(3, 3), stride=(1, 1), padding=(1, 1))\n",
       "      (26): BatchNorm2d(512, eps=1e-05, momentum=0.1, affine=True, track_running_stats=True)\n",
       "      (27): ReLU(inplace=True)\n",
       "      (28): MaxPool2d(kernel_size=2, stride=2, padding=0, dilation=1, ceil_mode=False)\n",
       "      (29): AvgPool2d(kernel_size=1, stride=1, padding=0)\n",
       "    )\n",
       "    (classifier): Linear(in_features=512, out_features=10, bias=True)\n",
       "  )\n",
       ")"
      ]
     },
     "execution_count": 24,
     "metadata": {},
     "output_type": "execute_result"
    }
   ],
   "source": [
    "model"
   ]
  },
  {
   "cell_type": "code",
   "execution_count": 4,
   "id": "018bcfe3-57a0-478d-92c2-6f6fbe9cb2e4",
   "metadata": {},
   "outputs": [],
   "source": [
    "# VGG11\n",
    "layers = {\n",
    "    'C1': model.module.features[0],\n",
    "    'B1': model.module.features[1],\n",
    "    'C2': model.module.features[4],\n",
    "    'B2': model.module.features[5],\n",
    "    'C3': model.module.features[8],\n",
    "    'B3': model.module.features[9],\n",
    "    'C4': model.module.features[11],\n",
    "    'B4': model.module.features[12],\n",
    "    'C5': model.module.features[15],\n",
    "    'B5': model.module.features[16],\n",
    "    'C6': model.module.features[18],\n",
    "    'B6': model.module.features[19],\n",
    "    'C7': model.module.features[22],\n",
    "    'B7': model.module.features[19],\n",
    "    'C8': model.module.features[25],\n",
    "    'B8': model.module.features[26],\n",
    "    'fc': model.module.classifier,\n",
    "}"
   ]
  },
  {
   "cell_type": "code",
   "execution_count": 7,
   "id": "included-memorial",
   "metadata": {},
   "outputs": [],
   "source": [
    "# ResNet18\n",
    "layers = {\n",
    "    'C1': model.module.conv1,\n",
    "    'L1B0C1': model.module.layer1[0].conv1,\n",
    "    'L1B0C2': model.module.layer1[0].conv2,\n",
    "    'L1B1C1': model.module.layer1[1].conv1,\n",
    "    'L1B1C2': model.module.layer1[1].conv2,\n",
    "    'L2B0C1': model.module.layer2[0].conv1,\n",
    "    'L2B0C2': model.module.layer2[0].conv2,\n",
    "    'L2B1C1': model.module.layer2[1].conv1,\n",
    "    'L2B1C2': model.module.layer2[1].conv2,\n",
    "    'L3B0C1': model.module.layer3[0].conv1,\n",
    "    'L3B0C2': model.module.layer3[0].conv2,\n",
    "    'L3B1C1': model.module.layer3[1].conv1,\n",
    "    'L3B1C2': model.module.layer3[1].conv2,\n",
    "    'L4B0C1': model.module.layer4[0].conv1,\n",
    "    'L4B0C2': model.module.layer4[0].conv2,\n",
    "    'L4B1C1': model.module.layer4[1].conv1,\n",
    "    'L4B1C2': model.module.layer4[1].conv2,\n",
    "    'fc': model.module.linear,\n",
    "}"
   ]
  },
  {
   "cell_type": "code",
   "execution_count": 5,
   "id": "sunset-attribute",
   "metadata": {},
   "outputs": [
    {
     "name": "stderr",
     "output_type": "stream",
     "text": [
      "Calculate Fisher CNN:  17%|████████▋                                           | 9999/60000 [00:59<04:59, 167.01step/s]\n",
      "Calculate Score CNN:  84%|████████████████████████████████████████████▊        | 8445/10000 [00:44<00:08, 189.41step/s]\n"
     ]
    },
    {
     "name": "stdout",
     "output_type": "stream",
     "text": [
      "Using downloaded and verified file: ../data\\test_32x32.mat\n"
     ]
    },
    {
     "name": "stderr",
     "output_type": "stream",
     "text": [
      "Calculate Score CNN:  19%|██████████▏                                          | 4999/26032 [00:36<02:33, 137.27step/s]\n",
      "Calculate Score CNN:  26%|█████████████▊                                       | 4999/19141 [00:39<01:50, 127.75step/s]\n",
      "Calculate Score CNN:  50%|██████████████████████████▍                          | 4999/10000 [00:41<00:41, 119.58step/s]\n"
     ]
    },
    {
     "name": "stdout",
     "output_type": "stream",
     "text": [
      "Files already downloaded and verified\n"
     ]
    },
    {
     "name": "stderr",
     "output_type": "stream",
     "text": [
      "Calculate Score CNN:  50%|██████████████████████████▍                          | 4999/10000 [00:36<00:36, 135.89step/s]\n"
     ]
    },
    {
     "name": "stdout",
     "output_type": "stream",
     "text": [
      "Files already downloaded and verified\n"
     ]
    },
    {
     "name": "stderr",
     "output_type": "stream",
     "text": [
      "Calculate Score CNN:  50%|██████████████████████████▍                          | 4999/10000 [00:36<00:36, 137.51step/s]\n",
      "Calculate Score CNN:  50%|██████████████████████████▍                          | 4999/10000 [00:35<00:35, 140.80step/s]\n",
      "Calculate Score CNN:  50%|██████████████████████████▍                          | 4999/10000 [00:35<00:35, 140.56step/s]\n"
     ]
    },
    {
     "name": "stdout",
     "output_type": "stream",
     "text": [
      "Files already downloaded and verified\n"
     ]
    },
    {
     "name": "stderr",
     "output_type": "stream",
     "text": [
      "Calculate Score CNN:  38%|████████████████████                                 | 4999/13180 [00:36<00:59, 137.66step/s]\n",
      "Calculate Score CNN:  27%|██████████████▏                                      | 4999/18724 [00:36<01:41, 135.51step/s]\n",
      "Calculate Score CNN:  50%|██████████████████████████▍                          | 4999/10000 [00:33<00:33, 147.74step/s]\n",
      "Calculate Score CNN:  50%|██████████████████████████▍                          | 4999/10000 [00:33<00:33, 147.77step/s]\n"
     ]
    }
   ],
   "source": [
    "a, b, _scores = AUTO_CNN(opt, model, layers, max_iter=[10000, 5000], method='Vanilla')"
   ]
  },
  {
   "cell_type": "code",
   "execution_count": 6,
   "id": "reflected-albuquerque",
   "metadata": {},
   "outputs": [
    {
     "data": {
      "text/html": [
       "<div>\n",
       "<style scoped>\n",
       "    .dataframe tbody tr th:only-of-type {\n",
       "        vertical-align: middle;\n",
       "    }\n",
       "\n",
       "    .dataframe tbody tr th {\n",
       "        vertical-align: top;\n",
       "    }\n",
       "\n",
       "    .dataframe thead th {\n",
       "        text-align: right;\n",
       "    }\n",
       "</style>\n",
       "<table border=\"1\" class=\"dataframe\">\n",
       "  <thead>\n",
       "    <tr style=\"text-align: right;\">\n",
       "      <th></th>\n",
       "      <th>svhn</th>\n",
       "      <th>celeba</th>\n",
       "      <th>lsun</th>\n",
       "      <th>cifar10</th>\n",
       "      <th>cifar100</th>\n",
       "      <th>mnist</th>\n",
       "      <th>kmnist</th>\n",
       "      <th>omniglot</th>\n",
       "      <th>notmnist</th>\n",
       "      <th>noise</th>\n",
       "      <th>constant</th>\n",
       "    </tr>\n",
       "  </thead>\n",
       "  <tbody>\n",
       "    <tr>\n",
       "      <th>C1</th>\n",
       "      <td>0.353445</td>\n",
       "      <td>0.562402</td>\n",
       "      <td>0.526184</td>\n",
       "      <td>0.495996</td>\n",
       "      <td>0.531823</td>\n",
       "      <td>0.666081</td>\n",
       "      <td>0.760523</td>\n",
       "      <td>0.998139</td>\n",
       "      <td>0.871858</td>\n",
       "      <td>0.921502</td>\n",
       "      <td>0.291854</td>\n",
       "    </tr>\n",
       "    <tr>\n",
       "      <th>C2</th>\n",
       "      <td>0.244147</td>\n",
       "      <td>0.538925</td>\n",
       "      <td>0.513994</td>\n",
       "      <td>0.485506</td>\n",
       "      <td>0.525314</td>\n",
       "      <td>0.904875</td>\n",
       "      <td>0.940047</td>\n",
       "      <td>0.998384</td>\n",
       "      <td>0.977825</td>\n",
       "      <td>0.994953</td>\n",
       "      <td>0.208564</td>\n",
       "    </tr>\n",
       "    <tr>\n",
       "      <th>C3</th>\n",
       "      <td>0.221097</td>\n",
       "      <td>0.432954</td>\n",
       "      <td>0.318770</td>\n",
       "      <td>0.315822</td>\n",
       "      <td>0.333053</td>\n",
       "      <td>0.948129</td>\n",
       "      <td>0.962313</td>\n",
       "      <td>0.934513</td>\n",
       "      <td>0.843281</td>\n",
       "      <td>0.999856</td>\n",
       "      <td>0.128224</td>\n",
       "    </tr>\n",
       "    <tr>\n",
       "      <th>C4</th>\n",
       "      <td>0.110065</td>\n",
       "      <td>0.423337</td>\n",
       "      <td>0.320823</td>\n",
       "      <td>0.322674</td>\n",
       "      <td>0.319140</td>\n",
       "      <td>0.960579</td>\n",
       "      <td>0.976301</td>\n",
       "      <td>0.982600</td>\n",
       "      <td>0.887547</td>\n",
       "      <td>1.000000</td>\n",
       "      <td>0.014765</td>\n",
       "    </tr>\n",
       "    <tr>\n",
       "      <th>C5</th>\n",
       "      <td>0.087007</td>\n",
       "      <td>0.447040</td>\n",
       "      <td>0.381984</td>\n",
       "      <td>0.389146</td>\n",
       "      <td>0.349962</td>\n",
       "      <td>0.962258</td>\n",
       "      <td>0.974742</td>\n",
       "      <td>0.975854</td>\n",
       "      <td>0.899858</td>\n",
       "      <td>0.964007</td>\n",
       "      <td>0.003484</td>\n",
       "    </tr>\n",
       "    <tr>\n",
       "      <th>C6</th>\n",
       "      <td>0.196605</td>\n",
       "      <td>0.445159</td>\n",
       "      <td>0.413595</td>\n",
       "      <td>0.429965</td>\n",
       "      <td>0.393693</td>\n",
       "      <td>0.951186</td>\n",
       "      <td>0.971048</td>\n",
       "      <td>0.992560</td>\n",
       "      <td>0.937815</td>\n",
       "      <td>0.986224</td>\n",
       "      <td>0.277655</td>\n",
       "    </tr>\n",
       "    <tr>\n",
       "      <th>C7</th>\n",
       "      <td>0.235364</td>\n",
       "      <td>0.369060</td>\n",
       "      <td>0.288083</td>\n",
       "      <td>0.314195</td>\n",
       "      <td>0.291716</td>\n",
       "      <td>0.945922</td>\n",
       "      <td>0.959855</td>\n",
       "      <td>0.976798</td>\n",
       "      <td>0.901680</td>\n",
       "      <td>0.849224</td>\n",
       "      <td>0.441511</td>\n",
       "    </tr>\n",
       "    <tr>\n",
       "      <th>C8</th>\n",
       "      <td>0.467909</td>\n",
       "      <td>0.301300</td>\n",
       "      <td>0.309993</td>\n",
       "      <td>0.323437</td>\n",
       "      <td>0.346420</td>\n",
       "      <td>0.755330</td>\n",
       "      <td>0.807232</td>\n",
       "      <td>0.792729</td>\n",
       "      <td>0.731310</td>\n",
       "      <td>0.624969</td>\n",
       "      <td>0.618522</td>\n",
       "    </tr>\n",
       "    <tr>\n",
       "      <th>fc</th>\n",
       "      <td>0.155190</td>\n",
       "      <td>0.151663</td>\n",
       "      <td>0.219558</td>\n",
       "      <td>0.222332</td>\n",
       "      <td>0.197953</td>\n",
       "      <td>0.616010</td>\n",
       "      <td>0.728688</td>\n",
       "      <td>0.650919</td>\n",
       "      <td>0.542485</td>\n",
       "      <td>0.773861</td>\n",
       "      <td>0.177524</td>\n",
       "    </tr>\n",
       "  </tbody>\n",
       "</table>\n",
       "</div>"
      ],
      "text/plain": [
       "        svhn    celeba      lsun   cifar10  cifar100     mnist    kmnist  \\\n",
       "C1  0.353445  0.562402  0.526184  0.495996  0.531823  0.666081  0.760523   \n",
       "C2  0.244147  0.538925  0.513994  0.485506  0.525314  0.904875  0.940047   \n",
       "C3  0.221097  0.432954  0.318770  0.315822  0.333053  0.948129  0.962313   \n",
       "C4  0.110065  0.423337  0.320823  0.322674  0.319140  0.960579  0.976301   \n",
       "C5  0.087007  0.447040  0.381984  0.389146  0.349962  0.962258  0.974742   \n",
       "C6  0.196605  0.445159  0.413595  0.429965  0.393693  0.951186  0.971048   \n",
       "C7  0.235364  0.369060  0.288083  0.314195  0.291716  0.945922  0.959855   \n",
       "C8  0.467909  0.301300  0.309993  0.323437  0.346420  0.755330  0.807232   \n",
       "fc  0.155190  0.151663  0.219558  0.222332  0.197953  0.616010  0.728688   \n",
       "\n",
       "    omniglot  notmnist     noise  constant  \n",
       "C1  0.998139  0.871858  0.921502  0.291854  \n",
       "C2  0.998384  0.977825  0.994953  0.208564  \n",
       "C3  0.934513  0.843281  0.999856  0.128224  \n",
       "C4  0.982600  0.887547  1.000000  0.014765  \n",
       "C5  0.975854  0.899858  0.964007  0.003484  \n",
       "C6  0.992560  0.937815  0.986224  0.277655  \n",
       "C7  0.976798  0.901680  0.849224  0.441511  \n",
       "C8  0.792729  0.731310  0.624969  0.618522  \n",
       "fc  0.650919  0.542485  0.773861  0.177524  "
      ]
     },
     "execution_count": 6,
     "metadata": {},
     "output_type": "execute_result"
    }
   ],
   "source": [
    "for lname in layers.keys():\n",
    "    FISHERs[opt.train_dist][lname] = a[lname] \n",
    "    NORM_FACs[opt.train_dist][lname] = b[lname]\n",
    "for ood in opt.ood_list:\n",
    "    SCOREs[opt.train_dist][ood] = _scores[ood]\n",
    "\n",
    "# AUROC curve\n",
    "auroc = {}\n",
    "for lname in layers.keys():\n",
    "    if lname[:1] == 'B':\n",
    "        continue\n",
    "    _auroc = {}\n",
    "    for ood in opt.ood_list:\n",
    "        args = [\n",
    "            SCOREs[opt.train_dist][opt.train_dist][lname],\n",
    "            SCOREs[opt.train_dist][ood][lname],\n",
    "        ]\n",
    "        labels = [opt.train_dist, ood]\n",
    "        _auroc[ood] = AUROC(*args, labels=labels, verbose=False)\n",
    "    auroc[lname] = _auroc\n",
    "    \n",
    "df = pd.DataFrame(auroc).T\n",
    "df = df.iloc[:, 1:]\n",
    "df"
   ]
  },
  {
   "cell_type": "markdown",
   "id": "ddbc2304-c19b-4d03-9d45-e2bcf4f98914",
   "metadata": {},
   "source": [
    "# 묶어서 보기"
   ]
  },
  {
   "cell_type": "code",
   "execution_count": 25,
   "id": "20a89dc6-e143-4e7a-a6bf-c304050979b6",
   "metadata": {},
   "outputs": [
    {
     "data": {
      "text/html": [
       "<div>\n",
       "<style scoped>\n",
       "    .dataframe tbody tr th:only-of-type {\n",
       "        vertical-align: middle;\n",
       "    }\n",
       "\n",
       "    .dataframe tbody tr th {\n",
       "        vertical-align: top;\n",
       "    }\n",
       "\n",
       "    .dataframe thead th {\n",
       "        text-align: right;\n",
       "    }\n",
       "</style>\n",
       "<table border=\"1\" class=\"dataframe\">\n",
       "  <thead>\n",
       "    <tr style=\"text-align: right;\">\n",
       "      <th></th>\n",
       "      <th>cifar10</th>\n",
       "      <th>svhn</th>\n",
       "      <th>celeba</th>\n",
       "      <th>lsun</th>\n",
       "      <th>cifar100</th>\n",
       "      <th>mnist</th>\n",
       "      <th>fmnist</th>\n",
       "      <th>kmnist</th>\n",
       "      <th>omniglot</th>\n",
       "      <th>notmnist</th>\n",
       "      <th>noise</th>\n",
       "      <th>constant</th>\n",
       "    </tr>\n",
       "  </thead>\n",
       "  <tbody>\n",
       "    <tr>\n",
       "      <th>0</th>\n",
       "      <td>0.5</td>\n",
       "      <td>0.051780</td>\n",
       "      <td>0.399600</td>\n",
       "      <td>0.585176</td>\n",
       "      <td>0.478805</td>\n",
       "      <td>0.688882</td>\n",
       "      <td>0.536113</td>\n",
       "      <td>0.626425</td>\n",
       "      <td>0.928088</td>\n",
       "      <td>0.436471</td>\n",
       "      <td>0.997405</td>\n",
       "      <td>0.411803</td>\n",
       "    </tr>\n",
       "    <tr>\n",
       "      <th>1</th>\n",
       "      <td>0.5</td>\n",
       "      <td>0.051333</td>\n",
       "      <td>0.460243</td>\n",
       "      <td>0.608530</td>\n",
       "      <td>0.459987</td>\n",
       "      <td>0.791196</td>\n",
       "      <td>0.663585</td>\n",
       "      <td>0.788647</td>\n",
       "      <td>0.942046</td>\n",
       "      <td>0.541215</td>\n",
       "      <td>0.999910</td>\n",
       "      <td>0.085542</td>\n",
       "    </tr>\n",
       "    <tr>\n",
       "      <th>2</th>\n",
       "      <td>0.5</td>\n",
       "      <td>0.038323</td>\n",
       "      <td>0.593904</td>\n",
       "      <td>0.561758</td>\n",
       "      <td>0.481271</td>\n",
       "      <td>0.943204</td>\n",
       "      <td>0.685125</td>\n",
       "      <td>0.914031</td>\n",
       "      <td>0.965817</td>\n",
       "      <td>0.732656</td>\n",
       "      <td>0.996481</td>\n",
       "      <td>0.040475</td>\n",
       "    </tr>\n",
       "    <tr>\n",
       "      <th>3</th>\n",
       "      <td>0.5</td>\n",
       "      <td>0.273299</td>\n",
       "      <td>0.460933</td>\n",
       "      <td>0.508834</td>\n",
       "      <td>0.432951</td>\n",
       "      <td>0.886166</td>\n",
       "      <td>0.700432</td>\n",
       "      <td>0.870326</td>\n",
       "      <td>0.976842</td>\n",
       "      <td>0.819065</td>\n",
       "      <td>0.988063</td>\n",
       "      <td>0.445127</td>\n",
       "    </tr>\n",
       "  </tbody>\n",
       "</table>\n",
       "</div>"
      ],
      "text/plain": [
       "   cifar10      svhn    celeba      lsun  cifar100     mnist    fmnist  \\\n",
       "0      0.5  0.051780  0.399600  0.585176  0.478805  0.688882  0.536113   \n",
       "1      0.5  0.051333  0.460243  0.608530  0.459987  0.791196  0.663585   \n",
       "2      0.5  0.038323  0.593904  0.561758  0.481271  0.943204  0.685125   \n",
       "3      0.5  0.273299  0.460933  0.508834  0.432951  0.886166  0.700432   \n",
       "\n",
       "     kmnist  omniglot  notmnist     noise  constant  \n",
       "0  0.626425  0.928088  0.436471  0.997405  0.411803  \n",
       "1  0.788647  0.942046  0.541215  0.999910  0.085542  \n",
       "2  0.914031  0.965817  0.732656  0.996481  0.040475  \n",
       "3  0.870326  0.976842  0.819065  0.988063  0.445127  "
      ]
     },
     "execution_count": 25,
     "metadata": {},
     "output_type": "execute_result"
    }
   ],
   "source": [
    "aurocs = []\n",
    "for stuff in ['L1', 'L2', 'L3', 'L4']:\n",
    "    s = {}\n",
    "    for ood in opt.ood_list:\n",
    "        for key in SCOREs[opt.train_dist][ood].keys():\n",
    "            if key[:2] == stuff:\n",
    "                try:\n",
    "                    s[ood] += SCOREs[opt.train_dist][ood][key].copy()\n",
    "                except:\n",
    "                    s[ood] = SCOREs[opt.train_dist][ood][key].copy()\n",
    "\n",
    "    auroc = {}\n",
    "    for ood in opt.ood_list:\n",
    "        args = [\n",
    "            s[opt.train_dist],\n",
    "            s[ood]\n",
    "        ]\n",
    "        labels = [opt.train_dist, ood]\n",
    "        auroc[ood] = AUROC(*args, labels=labels, verbose=False)\n",
    "    auroc = pd.Series(auroc)\n",
    "    aurocs.append(auroc)\n",
    "    \n",
    "pd.DataFrame(aurocs)\n"
   ]
  },
  {
   "cell_type": "code",
   "execution_count": 7,
   "id": "liable-spine",
   "metadata": {},
   "outputs": [
    {
     "data": {
      "image/png": "[encoded data removed]",
      "text/plain": [
       "<Figure size 864x648 with 1 Axes>"
      ]
     },
     "metadata": {
      "needs_background": "light"
     },
     "output_type": "display_data"
    }
   ],
   "source": [
    "x = range(len(df.index))\n",
    "fig = plt.figure(figsize=(12, 9))\n",
    "for ood in df.columns:\n",
    "    plt.plot(x, df.loc[:, ood], label=ood)\n",
    "plt.grid()\n",
    "plt.legend()\n",
    "plt.show()\n",
    "fig.savefig('./temp.png')"
   ]
  },
  {
   "cell_type": "code",
   "execution_count": null,
   "id": "d0d215c3-ac1f-49f8-bfaf-9d4f4cb7c167",
   "metadata": {},
   "outputs": [],
   "source": []
  }
 ],
 "metadata": {
  "kernelspec": {
   "display_name": "torch",
   "language": "python",
   "name": "torch"
  },
  "language_info": {
   "codemirror_mode": {
    "name": "ipython",
    "version": 3
   },
   "file_extension": ".py",
   "mimetype": "text/x-python",
   "name": "python",
   "nbconvert_exporter": "python",
   "pygments_lexer": "ipython3",
   "version": "3.8.10"
  }
 },
 "nbformat": 4,
 "nbformat_minor": 5
}
