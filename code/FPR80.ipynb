{
 "cells": [
  {
   "cell_type": "code",
   "execution_count": 1,
   "id": "e13acd81-71a5-4861-ab1a-4848246d5957",
   "metadata": {},
   "outputs": [],
   "source": [
    "%load_ext autoreload\n",
    "%autoreload 2\n",
    "import os\n",
    "import sys\n",
    "sys.path.append(os.getcwd() + '/core')\n",
    "import numpy as np\n",
    "import pandas as pd\n",
    "import matplotlib.pyplot as plt\n",
    "from sklearn import metrics\n",
    "\n",
    "import config"
   ]
  },
  {
   "cell_type": "code",
   "execution_count": 22,
   "id": "0f1d13cc-725e-4279-9b52-ee7f74186d6a",
   "metadata": {},
   "outputs": [],
   "source": [
    "def sigmoid(array):\n",
    "    return 1 / (1 + np.exp(-array))"
   ]
  },
  {
   "cell_type": "code",
   "execution_count": 51,
   "id": "19ff4feb-e06a-422d-9534-688b2595b696",
   "metadata": {},
   "outputs": [
    {
     "data": {
      "text/plain": [
       "0.3276"
      ]
     },
     "execution_count": 51,
     "metadata": {},
     "output_type": "execute_result"
    }
   ],
   "source": [
    "tpr[len(tpr[tpr < 0.8])]\n",
    "fpr[len(tpr[tpr < 0.8])]"
   ]
  },
  {
   "cell_type": "code",
   "execution_count": 70,
   "id": "53b17cce-308c-4790-a5b1-86083b151dc9",
   "metadata": {},
   "outputs": [
    {
     "name": "stdout",
     "output_type": "stream",
     "text": [
      "fmnist 1.0\n",
      "svhn 1.0\n",
      "cifar10 0.0\n",
      "mnist 0.199\n",
      "kmnist 0.099\n",
      "omniglot 0.218\n",
      "notmnist 0.8\n",
      "noise 0.0\n",
      "constant 1.0\n",
      "overall 0.883\n"
     ]
    }
   ],
   "source": [
    "model = 'LRatio_GLOW'\n",
    "opt = config.GLOW_fmnist\n",
    "\n",
    "indist_ = np.load(f'./npy/{model}/{opt.train_dist}_{opt.train_dist}.npy')\n",
    "for ood in opt.ood_list:\n",
    "    ood_ = np.load(f'./npy/{model}/{opt.train_dist}_{ood}.npy')\n",
    "    ood_[ood_ > 1e+30] = 1e+30\n",
    "    ood_[ood_ < -1e+30] = -1e+30\n",
    "    combined = -np.concatenate((indist_, ood_)) # For LRatio, please change the sign of combined\n",
    "    label_1 = np.ones(len(indist_))\n",
    "    label_2 = np.zeros(len(ood_))\n",
    "    label = np.concatenate((label_1, label_2))\n",
    "    fpr, tpr, thresholds = metrics.roc_curve(label, combined, pos_label=0)\n",
    "    fpr80 = fpr[len(tpr[tpr < 0.8])]\n",
    "    print(ood, fpr80)"
   ]
  },
  {
   "cell_type": "code",
   "execution_count": 42,
   "id": "618738eb-f5cd-4230-859a-8ae89a0cc587",
   "metadata": {},
   "outputs": [
    {
     "name": "stdout",
     "output_type": "stream",
     "text": [
      "[0.5        0.42857143 0.5        0.6        0.75       0.66666667\n",
      " 0.5        1.         1.        ]\n",
      "[1.   0.75 0.75 0.75 0.75 0.5  0.25 0.25 0.  ]\n"
     ]
    },
    {
     "data": {
      "text/plain": [
       "(0.7291666666666666, array([-4, -2, -1,  1,  2,  6,  8,  9]))"
      ]
     },
     "execution_count": 42,
     "metadata": {},
     "output_type": "execute_result"
    }
   ],
   "source": [
    "score = np.array([-1, -2, -4, 1, 2, 6, 8, 9])\n",
    "label = np.array([0, 0, 1, 0, 1, 1, 0, 1])\n",
    "#fpr, tpr, thresholds = metrics.roc_curve(label, score, pos_label=0)\n",
    "#auroc = metrics.auc(fpr, tpr)\n",
    "#auroc, thresholds\n",
    "\n",
    "precision, recall, thresholds = metrics.precision_recall_curve(label, score)\n",
    "auprc = metrics.average_precision_score(label, score)\n",
    "print(precision)\n",
    "print(recall)\n",
    "auprc, thresholds"
   ]
  }
 ],
 "metadata": {
  "kernelspec": {
   "display_name": "torch",
   "language": "python",
   "name": "torch"
  },
  "language_info": {
   "codemirror_mode": {
    "name": "ipython",
    "version": 3
   },
   "file_extension": ".py",
   "mimetype": "text/x-python",
   "name": "python",
   "nbconvert_exporter": "python",
   "pygments_lexer": "ipython3",
   "version": "3.8.10"
  }
 },
 "nbformat": 4,
 "nbformat_minor": 5
}
