{
 "cells": [
  {
   "cell_type": "markdown",
   "id": "present-arnold",
   "metadata": {},
   "source": [
    "# [ GLOW ] OOD Detection using FSS"
   ]
  },
  {
   "cell_type": "code",
   "execution_count": 2,
   "id": "dried-uzbekistan",
   "metadata": {},
   "outputs": [
    {
     "name": "stdout",
     "output_type": "stream",
     "text": [
      "The autoreload extension is already loaded. To reload it, use:\n",
      "  %reload_ext autoreload\n"
     ]
    },
    {
     "data": {
      "text/plain": [
       "<torch._C.Generator at 0x2370b7ad050>"
      ]
     },
     "execution_count": 2,
     "metadata": {},
     "output_type": "execute_result"
    }
   ],
   "source": [
    "%load_ext autoreload\n",
    "%autoreload 2\n",
    "import os\n",
    "import sys\n",
    "sys.path.append(os.getcwd() + '/core')\n",
    "sys.path.append(os.getcwd() + '/core/train_GLOW') \n",
    "import random\n",
    "import numpy as np\n",
    "import pandas as pd\n",
    "import matplotlib.pyplot as plt\n",
    "import torch\n",
    "import torch.nn as nn\n",
    "\n",
    "import core.config as config\n",
    "from core.model_loader import load_pretrained_GLOW\n",
    "from core.data_loader import TRAIN_loader, TEST_loader\n",
    "from core.fisher_utils_GLOW import Calculate_fisher_GLOW, Calculate_score_GLOW, AUTO_GLOW\n",
    "from core.visualize import plot_hist, AUROC, plot_scores_all_layers\n",
    "\n",
    "# fix a random seed\n",
    "random.seed(2021)\n",
    "np.random.seed(2021)\n",
    "torch.manual_seed(2021)"
   ]
  },
  {
   "cell_type": "markdown",
   "id": "latin-worship",
   "metadata": {},
   "source": [
    "# Define Global Variables & Initialize"
   ]
  },
  {
   "cell_type": "code",
   "execution_count": 3,
   "id": "liable-registrar",
   "metadata": {},
   "outputs": [],
   "source": [
    "# FISHER_invs : Fisher inverse matrices from calculating Fisher score (w.r.t. train-dist)\n",
    "FISHERs = {'cifar10': {}, 'fmnist': {}}\n",
    "         \n",
    "# NORMalize_FACtors : Normalizing Factor (w.r.t. train-dist)\n",
    "NORM_FACs = {'cifar10': {}, 'fmnist': {}}\n",
    "             \n",
    "# SCOREs : (Scalars) Scores from calculating Fisher score (w.r.t. target-dist)\n",
    "SCOREs = {'cifar10': {}, 'fmnist': {}}"
   ]
  },
  {
   "cell_type": "markdown",
   "id": "fuzzy-overall",
   "metadata": {},
   "source": [
    "# GLOW - CIFAR10"
   ]
  },
  {
   "cell_type": "markdown",
   "id": "e1eac4f0-88f2-4242-8550-40d4d64a5478",
   "metadata": {},
   "source": [
    "## 해체쇼 (Deprecated)"
   ]
  },
  {
   "cell_type": "code",
   "execution_count": 31,
   "id": "5d5b6101-3595-496f-8a91-d8c3b1d7982c",
   "metadata": {
    "tags": []
   },
   "outputs": [],
   "source": [
    "opt = config.GLOW_cifar10\n",
    "model = load_pretrained_GLOW(option=opt.train_dist)\n",
    "model.eval()\n",
    "\n",
    "# Disassemble !!!\n",
    "layers = {}\n",
    "for i in range(29):\n",
    "    if i in [0, 9, 19]:\n",
    "    #if i in [0, 33, 67]:\n",
    "        continue\n",
    "    layers[f'flow{i}'] = model.flow.layers[i]\n",
    "\n",
    "layers2 = {}\n",
    "for lname, layer in layers.items():\n",
    "    modules = dict(layer._modules)\n",
    "    for key in modules.keys():\n",
    "        layers2[f'{lname}_{key}'] = modules[key]\n",
    "\n",
    "layers3 = {}\n",
    "for lname, layer in layers2.items():\n",
    "    if lname.split('_')[1] in ['actnorm', 'invconv']:\n",
    "        continue\n",
    "    modules = dict(layer._modules)\n",
    "    conv_num = 0\n",
    "    act_num = 0\n",
    "    for key, value in modules.items():\n",
    "        if isinstance(value, nn.ReLU):\n",
    "            continue\n",
    "        modules2 = dict(value._modules)\n",
    "        for key2, value2 in modules2.items():\n",
    "            if key2 == 'conv':\n",
    "                conv_num += 1\n",
    "                key3 = key2 + str(conv_num)\n",
    "            elif key2 == 'actnorm':\n",
    "                act_num += 1\n",
    "                key3 = key2 + str(act_num)\n",
    "            layers3[f'{lname}_{key3}'] = modules2[key2]\n",
    "    \n",
    "layers4 = {}\n",
    "for key in layers2.keys():\n",
    "    if key[-5:] != 'block':\n",
    "        layers4[key] = layers2[key]\n",
    "    else:\n",
    "        for key2 in layers3.keys():\n",
    "            if key2[:len(key)] == key:\n",
    "                layers4[key2] = layers3[key2]\n",
    "    \n",
    "\n",
    "layers5 = {}\n",
    "for lname, layer in layers4.items():\n",
    "    attrs = layer._parameters.keys()\n",
    "    for attr in attrs:\n",
    "        x = getattr(layer, attr)\n",
    "        if x == None: # ex: empty bias in conv\n",
    "            continue\n",
    "        else:\n",
    "            layers5[f'{lname}_{attr}'] = x\n",
    "\n",
    "params = layers5\n",
    "    \n",
    "        \n",
    "        "
   ]
  },
  {
   "cell_type": "markdown",
   "id": "e08a33f3-8514-40aa-b922-06931e659a79",
   "metadata": {},
   "source": [
    "## [1] Load the model & Parameter Selection"
   ]
  },
  {
   "cell_type": "code",
   "execution_count": 36,
   "id": "140ba5f1-8c65-45cc-82d5-7aae4f93f80d",
   "metadata": {},
   "outputs": [
    {
     "data": {
      "text/plain": [
       "Glow(\n",
       "  (flow): FlowNet(\n",
       "    (layers): ModuleList(\n",
       "      (0): SqueezeLayer()\n",
       "      (1): FlowStep(\n",
       "        (actnorm): ActNorm2d()\n",
       "        (invconv): InvertibleConv1x1()\n",
       "        (block): Sequential(\n",
       "          (0): Conv2d(\n",
       "            (conv): Conv2d(6, 400, kernel_size=(3, 3), stride=(1, 1), padding=[1, 1], bias=False)\n",
       "            (actnorm): ActNorm2d()\n",
       "          )\n",
       "          (1): ReLU()\n",
       "          (2): Conv2d(\n",
       "            (conv): Conv2d(400, 400, kernel_size=(1, 1), stride=(1, 1), padding=[0, 0], bias=False)\n",
       "            (actnorm): ActNorm2d()\n",
       "          )\n",
       "          (3): ReLU()\n",
       "          (4): Conv2dZeros(\n",
       "            (conv): Conv2d(400, 12, kernel_size=(3, 3), stride=(1, 1), padding=[1, 1])\n",
       "          )\n",
       "        )\n",
       "      )\n",
       "      (2): FlowStep(\n",
       "        (actnorm): ActNorm2d()\n",
       "        (invconv): InvertibleConv1x1()\n",
       "        (block): Sequential(\n",
       "          (0): Conv2d(\n",
       "            (conv): Conv2d(6, 400, kernel_size=(3, 3), stride=(1, 1), padding=[1, 1], bias=False)\n",
       "            (actnorm): ActNorm2d()\n",
       "          )\n",
       "          (1): ReLU()\n",
       "          (2): Conv2d(\n",
       "            (conv): Conv2d(400, 400, kernel_size=(1, 1), stride=(1, 1), padding=[0, 0], bias=False)\n",
       "            (actnorm): ActNorm2d()\n",
       "          )\n",
       "          (3): ReLU()\n",
       "          (4): Conv2dZeros(\n",
       "            (conv): Conv2d(400, 12, kernel_size=(3, 3), stride=(1, 1), padding=[1, 1])\n",
       "          )\n",
       "        )\n",
       "      )\n",
       "      (3): FlowStep(\n",
       "        (actnorm): ActNorm2d()\n",
       "        (invconv): InvertibleConv1x1()\n",
       "        (block): Sequential(\n",
       "          (0): Conv2d(\n",
       "            (conv): Conv2d(6, 400, kernel_size=(3, 3), stride=(1, 1), padding=[1, 1], bias=False)\n",
       "            (actnorm): ActNorm2d()\n",
       "          )\n",
       "          (1): ReLU()\n",
       "          (2): Conv2d(\n",
       "            (conv): Conv2d(400, 400, kernel_size=(1, 1), stride=(1, 1), padding=[0, 0], bias=False)\n",
       "            (actnorm): ActNorm2d()\n",
       "          )\n",
       "          (3): ReLU()\n",
       "          (4): Conv2dZeros(\n",
       "            (conv): Conv2d(400, 12, kernel_size=(3, 3), stride=(1, 1), padding=[1, 1])\n",
       "          )\n",
       "        )\n",
       "      )\n",
       "      (4): FlowStep(\n",
       "        (actnorm): ActNorm2d()\n",
       "        (invconv): InvertibleConv1x1()\n",
       "        (block): Sequential(\n",
       "          (0): Conv2d(\n",
       "            (conv): Conv2d(6, 400, kernel_size=(3, 3), stride=(1, 1), padding=[1, 1], bias=False)\n",
       "            (actnorm): ActNorm2d()\n",
       "          )\n",
       "          (1): ReLU()\n",
       "          (2): Conv2d(\n",
       "            (conv): Conv2d(400, 400, kernel_size=(1, 1), stride=(1, 1), padding=[0, 0], bias=False)\n",
       "            (actnorm): ActNorm2d()\n",
       "          )\n",
       "          (3): ReLU()\n",
       "          (4): Conv2dZeros(\n",
       "            (conv): Conv2d(400, 12, kernel_size=(3, 3), stride=(1, 1), padding=[1, 1])\n",
       "          )\n",
       "        )\n",
       "      )\n",
       "      (5): FlowStep(\n",
       "        (actnorm): ActNorm2d()\n",
       "        (invconv): InvertibleConv1x1()\n",
       "        (block): Sequential(\n",
       "          (0): Conv2d(\n",
       "            (conv): Conv2d(6, 400, kernel_size=(3, 3), stride=(1, 1), padding=[1, 1], bias=False)\n",
       "            (actnorm): ActNorm2d()\n",
       "          )\n",
       "          (1): ReLU()\n",
       "          (2): Conv2d(\n",
       "            (conv): Conv2d(400, 400, kernel_size=(1, 1), stride=(1, 1), padding=[0, 0], bias=False)\n",
       "            (actnorm): ActNorm2d()\n",
       "          )\n",
       "          (3): ReLU()\n",
       "          (4): Conv2dZeros(\n",
       "            (conv): Conv2d(400, 12, kernel_size=(3, 3), stride=(1, 1), padding=[1, 1])\n",
       "          )\n",
       "        )\n",
       "      )\n",
       "      (6): FlowStep(\n",
       "        (actnorm): ActNorm2d()\n",
       "        (invconv): InvertibleConv1x1()\n",
       "        (block): Sequential(\n",
       "          (0): Conv2d(\n",
       "            (conv): Conv2d(6, 400, kernel_size=(3, 3), stride=(1, 1), padding=[1, 1], bias=False)\n",
       "            (actnorm): ActNorm2d()\n",
       "          )\n",
       "          (1): ReLU()\n",
       "          (2): Conv2d(\n",
       "            (conv): Conv2d(400, 400, kernel_size=(1, 1), stride=(1, 1), padding=[0, 0], bias=False)\n",
       "            (actnorm): ActNorm2d()\n",
       "          )\n",
       "          (3): ReLU()\n",
       "          (4): Conv2dZeros(\n",
       "            (conv): Conv2d(400, 12, kernel_size=(3, 3), stride=(1, 1), padding=[1, 1])\n",
       "          )\n",
       "        )\n",
       "      )\n",
       "      (7): FlowStep(\n",
       "        (actnorm): ActNorm2d()\n",
       "        (invconv): InvertibleConv1x1()\n",
       "        (block): Sequential(\n",
       "          (0): Conv2d(\n",
       "            (conv): Conv2d(6, 400, kernel_size=(3, 3), stride=(1, 1), padding=[1, 1], bias=False)\n",
       "            (actnorm): ActNorm2d()\n",
       "          )\n",
       "          (1): ReLU()\n",
       "          (2): Conv2d(\n",
       "            (conv): Conv2d(400, 400, kernel_size=(1, 1), stride=(1, 1), padding=[0, 0], bias=False)\n",
       "            (actnorm): ActNorm2d()\n",
       "          )\n",
       "          (3): ReLU()\n",
       "          (4): Conv2dZeros(\n",
       "            (conv): Conv2d(400, 12, kernel_size=(3, 3), stride=(1, 1), padding=[1, 1])\n",
       "          )\n",
       "        )\n",
       "      )\n",
       "      (8): FlowStep(\n",
       "        (actnorm): ActNorm2d()\n",
       "        (invconv): InvertibleConv1x1()\n",
       "        (block): Sequential(\n",
       "          (0): Conv2d(\n",
       "            (conv): Conv2d(6, 400, kernel_size=(3, 3), stride=(1, 1), padding=[1, 1], bias=False)\n",
       "            (actnorm): ActNorm2d()\n",
       "          )\n",
       "          (1): ReLU()\n",
       "          (2): Conv2d(\n",
       "            (conv): Conv2d(400, 400, kernel_size=(1, 1), stride=(1, 1), padding=[0, 0], bias=False)\n",
       "            (actnorm): ActNorm2d()\n",
       "          )\n",
       "          (3): ReLU()\n",
       "          (4): Conv2dZeros(\n",
       "            (conv): Conv2d(400, 12, kernel_size=(3, 3), stride=(1, 1), padding=[1, 1])\n",
       "          )\n",
       "        )\n",
       "      )\n",
       "      (9): Split2d(\n",
       "        (conv): Conv2dZeros(\n",
       "          (conv): Conv2d(6, 12, kernel_size=(3, 3), stride=(1, 1), padding=[1, 1])\n",
       "        )\n",
       "      )\n",
       "      (10): SqueezeLayer()\n",
       "      (11): FlowStep(\n",
       "        (actnorm): ActNorm2d()\n",
       "        (invconv): InvertibleConv1x1()\n",
       "        (block): Sequential(\n",
       "          (0): Conv2d(\n",
       "            (conv): Conv2d(12, 400, kernel_size=(3, 3), stride=(1, 1), padding=[1, 1], bias=False)\n",
       "            (actnorm): ActNorm2d()\n",
       "          )\n",
       "          (1): ReLU()\n",
       "          (2): Conv2d(\n",
       "            (conv): Conv2d(400, 400, kernel_size=(1, 1), stride=(1, 1), padding=[0, 0], bias=False)\n",
       "            (actnorm): ActNorm2d()\n",
       "          )\n",
       "          (3): ReLU()\n",
       "          (4): Conv2dZeros(\n",
       "            (conv): Conv2d(400, 24, kernel_size=(3, 3), stride=(1, 1), padding=[1, 1])\n",
       "          )\n",
       "        )\n",
       "      )\n",
       "      (12): FlowStep(\n",
       "        (actnorm): ActNorm2d()\n",
       "        (invconv): InvertibleConv1x1()\n",
       "        (block): Sequential(\n",
       "          (0): Conv2d(\n",
       "            (conv): Conv2d(12, 400, kernel_size=(3, 3), stride=(1, 1), padding=[1, 1], bias=False)\n",
       "            (actnorm): ActNorm2d()\n",
       "          )\n",
       "          (1): ReLU()\n",
       "          (2): Conv2d(\n",
       "            (conv): Conv2d(400, 400, kernel_size=(1, 1), stride=(1, 1), padding=[0, 0], bias=False)\n",
       "            (actnorm): ActNorm2d()\n",
       "          )\n",
       "          (3): ReLU()\n",
       "          (4): Conv2dZeros(\n",
       "            (conv): Conv2d(400, 24, kernel_size=(3, 3), stride=(1, 1), padding=[1, 1])\n",
       "          )\n",
       "        )\n",
       "      )\n",
       "      (13): FlowStep(\n",
       "        (actnorm): ActNorm2d()\n",
       "        (invconv): InvertibleConv1x1()\n",
       "        (block): Sequential(\n",
       "          (0): Conv2d(\n",
       "            (conv): Conv2d(12, 400, kernel_size=(3, 3), stride=(1, 1), padding=[1, 1], bias=False)\n",
       "            (actnorm): ActNorm2d()\n",
       "          )\n",
       "          (1): ReLU()\n",
       "          (2): Conv2d(\n",
       "            (conv): Conv2d(400, 400, kernel_size=(1, 1), stride=(1, 1), padding=[0, 0], bias=False)\n",
       "            (actnorm): ActNorm2d()\n",
       "          )\n",
       "          (3): ReLU()\n",
       "          (4): Conv2dZeros(\n",
       "            (conv): Conv2d(400, 24, kernel_size=(3, 3), stride=(1, 1), padding=[1, 1])\n",
       "          )\n",
       "        )\n",
       "      )\n",
       "      (14): FlowStep(\n",
       "        (actnorm): ActNorm2d()\n",
       "        (invconv): InvertibleConv1x1()\n",
       "        (block): Sequential(\n",
       "          (0): Conv2d(\n",
       "            (conv): Conv2d(12, 400, kernel_size=(3, 3), stride=(1, 1), padding=[1, 1], bias=False)\n",
       "            (actnorm): ActNorm2d()\n",
       "          )\n",
       "          (1): ReLU()\n",
       "          (2): Conv2d(\n",
       "            (conv): Conv2d(400, 400, kernel_size=(1, 1), stride=(1, 1), padding=[0, 0], bias=False)\n",
       "            (actnorm): ActNorm2d()\n",
       "          )\n",
       "          (3): ReLU()\n",
       "          (4): Conv2dZeros(\n",
       "            (conv): Conv2d(400, 24, kernel_size=(3, 3), stride=(1, 1), padding=[1, 1])\n",
       "          )\n",
       "        )\n",
       "      )\n",
       "      (15): FlowStep(\n",
       "        (actnorm): ActNorm2d()\n",
       "        (invconv): InvertibleConv1x1()\n",
       "        (block): Sequential(\n",
       "          (0): Conv2d(\n",
       "            (conv): Conv2d(12, 400, kernel_size=(3, 3), stride=(1, 1), padding=[1, 1], bias=False)\n",
       "            (actnorm): ActNorm2d()\n",
       "          )\n",
       "          (1): ReLU()\n",
       "          (2): Conv2d(\n",
       "            (conv): Conv2d(400, 400, kernel_size=(1, 1), stride=(1, 1), padding=[0, 0], bias=False)\n",
       "            (actnorm): ActNorm2d()\n",
       "          )\n",
       "          (3): ReLU()\n",
       "          (4): Conv2dZeros(\n",
       "            (conv): Conv2d(400, 24, kernel_size=(3, 3), stride=(1, 1), padding=[1, 1])\n",
       "          )\n",
       "        )\n",
       "      )\n",
       "      (16): FlowStep(\n",
       "        (actnorm): ActNorm2d()\n",
       "        (invconv): InvertibleConv1x1()\n",
       "        (block): Sequential(\n",
       "          (0): Conv2d(\n",
       "            (conv): Conv2d(12, 400, kernel_size=(3, 3), stride=(1, 1), padding=[1, 1], bias=False)\n",
       "            (actnorm): ActNorm2d()\n",
       "          )\n",
       "          (1): ReLU()\n",
       "          (2): Conv2d(\n",
       "            (conv): Conv2d(400, 400, kernel_size=(1, 1), stride=(1, 1), padding=[0, 0], bias=False)\n",
       "            (actnorm): ActNorm2d()\n",
       "          )\n",
       "          (3): ReLU()\n",
       "          (4): Conv2dZeros(\n",
       "            (conv): Conv2d(400, 24, kernel_size=(3, 3), stride=(1, 1), padding=[1, 1])\n",
       "          )\n",
       "        )\n",
       "      )\n",
       "      (17): FlowStep(\n",
       "        (actnorm): ActNorm2d()\n",
       "        (invconv): InvertibleConv1x1()\n",
       "        (block): Sequential(\n",
       "          (0): Conv2d(\n",
       "            (conv): Conv2d(12, 400, kernel_size=(3, 3), stride=(1, 1), padding=[1, 1], bias=False)\n",
       "            (actnorm): ActNorm2d()\n",
       "          )\n",
       "          (1): ReLU()\n",
       "          (2): Conv2d(\n",
       "            (conv): Conv2d(400, 400, kernel_size=(1, 1), stride=(1, 1), padding=[0, 0], bias=False)\n",
       "            (actnorm): ActNorm2d()\n",
       "          )\n",
       "          (3): ReLU()\n",
       "          (4): Conv2dZeros(\n",
       "            (conv): Conv2d(400, 24, kernel_size=(3, 3), stride=(1, 1), padding=[1, 1])\n",
       "          )\n",
       "        )\n",
       "      )\n",
       "      (18): FlowStep(\n",
       "        (actnorm): ActNorm2d()\n",
       "        (invconv): InvertibleConv1x1()\n",
       "        (block): Sequential(\n",
       "          (0): Conv2d(\n",
       "            (conv): Conv2d(12, 400, kernel_size=(3, 3), stride=(1, 1), padding=[1, 1], bias=False)\n",
       "            (actnorm): ActNorm2d()\n",
       "          )\n",
       "          (1): ReLU()\n",
       "          (2): Conv2d(\n",
       "            (conv): Conv2d(400, 400, kernel_size=(1, 1), stride=(1, 1), padding=[0, 0], bias=False)\n",
       "            (actnorm): ActNorm2d()\n",
       "          )\n",
       "          (3): ReLU()\n",
       "          (4): Conv2dZeros(\n",
       "            (conv): Conv2d(400, 24, kernel_size=(3, 3), stride=(1, 1), padding=[1, 1])\n",
       "          )\n",
       "        )\n",
       "      )\n",
       "      (19): Split2d(\n",
       "        (conv): Conv2dZeros(\n",
       "          (conv): Conv2d(12, 24, kernel_size=(3, 3), stride=(1, 1), padding=[1, 1])\n",
       "        )\n",
       "      )\n",
       "      (20): SqueezeLayer()\n",
       "      (21): FlowStep(\n",
       "        (actnorm): ActNorm2d()\n",
       "        (invconv): InvertibleConv1x1()\n",
       "        (block): Sequential(\n",
       "          (0): Conv2d(\n",
       "            (conv): Conv2d(24, 400, kernel_size=(3, 3), stride=(1, 1), padding=[1, 1], bias=False)\n",
       "            (actnorm): ActNorm2d()\n",
       "          )\n",
       "          (1): ReLU()\n",
       "          (2): Conv2d(\n",
       "            (conv): Conv2d(400, 400, kernel_size=(1, 1), stride=(1, 1), padding=[0, 0], bias=False)\n",
       "            (actnorm): ActNorm2d()\n",
       "          )\n",
       "          (3): ReLU()\n",
       "          (4): Conv2dZeros(\n",
       "            (conv): Conv2d(400, 48, kernel_size=(3, 3), stride=(1, 1), padding=[1, 1])\n",
       "          )\n",
       "        )\n",
       "      )\n",
       "      (22): FlowStep(\n",
       "        (actnorm): ActNorm2d()\n",
       "        (invconv): InvertibleConv1x1()\n",
       "        (block): Sequential(\n",
       "          (0): Conv2d(\n",
       "            (conv): Conv2d(24, 400, kernel_size=(3, 3), stride=(1, 1), padding=[1, 1], bias=False)\n",
       "            (actnorm): ActNorm2d()\n",
       "          )\n",
       "          (1): ReLU()\n",
       "          (2): Conv2d(\n",
       "            (conv): Conv2d(400, 400, kernel_size=(1, 1), stride=(1, 1), padding=[0, 0], bias=False)\n",
       "            (actnorm): ActNorm2d()\n",
       "          )\n",
       "          (3): ReLU()\n",
       "          (4): Conv2dZeros(\n",
       "            (conv): Conv2d(400, 48, kernel_size=(3, 3), stride=(1, 1), padding=[1, 1])\n",
       "          )\n",
       "        )\n",
       "      )\n",
       "      (23): FlowStep(\n",
       "        (actnorm): ActNorm2d()\n",
       "        (invconv): InvertibleConv1x1()\n",
       "        (block): Sequential(\n",
       "          (0): Conv2d(\n",
       "            (conv): Conv2d(24, 400, kernel_size=(3, 3), stride=(1, 1), padding=[1, 1], bias=False)\n",
       "            (actnorm): ActNorm2d()\n",
       "          )\n",
       "          (1): ReLU()\n",
       "          (2): Conv2d(\n",
       "            (conv): Conv2d(400, 400, kernel_size=(1, 1), stride=(1, 1), padding=[0, 0], bias=False)\n",
       "            (actnorm): ActNorm2d()\n",
       "          )\n",
       "          (3): ReLU()\n",
       "          (4): Conv2dZeros(\n",
       "            (conv): Conv2d(400, 48, kernel_size=(3, 3), stride=(1, 1), padding=[1, 1])\n",
       "          )\n",
       "        )\n",
       "      )\n",
       "      (24): FlowStep(\n",
       "        (actnorm): ActNorm2d()\n",
       "        (invconv): InvertibleConv1x1()\n",
       "        (block): Sequential(\n",
       "          (0): Conv2d(\n",
       "            (conv): Conv2d(24, 400, kernel_size=(3, 3), stride=(1, 1), padding=[1, 1], bias=False)\n",
       "            (actnorm): ActNorm2d()\n",
       "          )\n",
       "          (1): ReLU()\n",
       "          (2): Conv2d(\n",
       "            (conv): Conv2d(400, 400, kernel_size=(1, 1), stride=(1, 1), padding=[0, 0], bias=False)\n",
       "            (actnorm): ActNorm2d()\n",
       "          )\n",
       "          (3): ReLU()\n",
       "          (4): Conv2dZeros(\n",
       "            (conv): Conv2d(400, 48, kernel_size=(3, 3), stride=(1, 1), padding=[1, 1])\n",
       "          )\n",
       "        )\n",
       "      )\n",
       "      (25): FlowStep(\n",
       "        (actnorm): ActNorm2d()\n",
       "        (invconv): InvertibleConv1x1()\n",
       "        (block): Sequential(\n",
       "          (0): Conv2d(\n",
       "            (conv): Conv2d(24, 400, kernel_size=(3, 3), stride=(1, 1), padding=[1, 1], bias=False)\n",
       "            (actnorm): ActNorm2d()\n",
       "          )\n",
       "          (1): ReLU()\n",
       "          (2): Conv2d(\n",
       "            (conv): Conv2d(400, 400, kernel_size=(1, 1), stride=(1, 1), padding=[0, 0], bias=False)\n",
       "            (actnorm): ActNorm2d()\n",
       "          )\n",
       "          (3): ReLU()\n",
       "          (4): Conv2dZeros(\n",
       "            (conv): Conv2d(400, 48, kernel_size=(3, 3), stride=(1, 1), padding=[1, 1])\n",
       "          )\n",
       "        )\n",
       "      )\n",
       "      (26): FlowStep(\n",
       "        (actnorm): ActNorm2d()\n",
       "        (invconv): InvertibleConv1x1()\n",
       "        (block): Sequential(\n",
       "          (0): Conv2d(\n",
       "            (conv): Conv2d(24, 400, kernel_size=(3, 3), stride=(1, 1), padding=[1, 1], bias=False)\n",
       "            (actnorm): ActNorm2d()\n",
       "          )\n",
       "          (1): ReLU()\n",
       "          (2): Conv2d(\n",
       "            (conv): Conv2d(400, 400, kernel_size=(1, 1), stride=(1, 1), padding=[0, 0], bias=False)\n",
       "            (actnorm): ActNorm2d()\n",
       "          )\n",
       "          (3): ReLU()\n",
       "          (4): Conv2dZeros(\n",
       "            (conv): Conv2d(400, 48, kernel_size=(3, 3), stride=(1, 1), padding=[1, 1])\n",
       "          )\n",
       "        )\n",
       "      )\n",
       "      (27): FlowStep(\n",
       "        (actnorm): ActNorm2d()\n",
       "        (invconv): InvertibleConv1x1()\n",
       "        (block): Sequential(\n",
       "          (0): Conv2d(\n",
       "            (conv): Conv2d(24, 400, kernel_size=(3, 3), stride=(1, 1), padding=[1, 1], bias=False)\n",
       "            (actnorm): ActNorm2d()\n",
       "          )\n",
       "          (1): ReLU()\n",
       "          (2): Conv2d(\n",
       "            (conv): Conv2d(400, 400, kernel_size=(1, 1), stride=(1, 1), padding=[0, 0], bias=False)\n",
       "            (actnorm): ActNorm2d()\n",
       "          )\n",
       "          (3): ReLU()\n",
       "          (4): Conv2dZeros(\n",
       "            (conv): Conv2d(400, 48, kernel_size=(3, 3), stride=(1, 1), padding=[1, 1])\n",
       "          )\n",
       "        )\n",
       "      )\n",
       "      (28): FlowStep(\n",
       "        (actnorm): ActNorm2d()\n",
       "        (invconv): InvertibleConv1x1()\n",
       "        (block): Sequential(\n",
       "          (0): Conv2d(\n",
       "            (conv): Conv2d(24, 400, kernel_size=(3, 3), stride=(1, 1), padding=[1, 1], bias=False)\n",
       "            (actnorm): ActNorm2d()\n",
       "          )\n",
       "          (1): ReLU()\n",
       "          (2): Conv2d(\n",
       "            (conv): Conv2d(400, 400, kernel_size=(1, 1), stride=(1, 1), padding=[0, 0], bias=False)\n",
       "            (actnorm): ActNorm2d()\n",
       "          )\n",
       "          (3): ReLU()\n",
       "          (4): Conv2dZeros(\n",
       "            (conv): Conv2d(400, 48, kernel_size=(3, 3), stride=(1, 1), padding=[1, 1])\n",
       "          )\n",
       "        )\n",
       "      )\n",
       "    )\n",
       "  )\n",
       "  (learn_top_fn): Conv2dZeros(\n",
       "    (conv): Conv2d(96, 96, kernel_size=(3, 3), stride=(1, 1), padding=[1, 1])\n",
       "  )\n",
       ")"
      ]
     },
     "execution_count": 36,
     "metadata": {},
     "output_type": "execute_result"
    }
   ],
   "source": [
    "model"
   ]
  },
  {
   "cell_type": "code",
   "execution_count": 8,
   "id": "1213e8c1-ac81-495a-a1f0-05142bdc9f10",
   "metadata": {},
   "outputs": [],
   "source": [
    "opt = config.GLOW_cifar10\n",
    "model = load_pretrained_GLOW(option=opt.train_dist)\n",
    "model.eval()\n",
    "\n",
    "params = {\n",
    "    'flow28': model.flow.layers[28]\n",
    "}"
   ]
  },
  {
   "cell_type": "code",
   "execution_count": 11,
   "id": "9f3ec879-30aa-4f11-b247-1964a0989008",
   "metadata": {},
   "outputs": [
    {
     "name": "stdout",
     "output_type": "stream",
     "text": [
      "torch.Size([1, 48, 1, 1])\n",
      "torch.Size([1, 48, 1, 1])\n",
      "torch.Size([48, 48])\n",
      "torch.Size([48])\n",
      "torch.Size([48, 48])\n",
      "torch.Size([400, 24, 3, 3])\n",
      "torch.Size([1, 400, 1, 1])\n",
      "torch.Size([1, 400, 1, 1])\n",
      "torch.Size([400, 400, 1, 1])\n",
      "torch.Size([1, 400, 1, 1])\n",
      "torch.Size([1, 400, 1, 1])\n",
      "torch.Size([48, 1, 1])\n",
      "torch.Size([48, 400, 3, 3])\n",
      "torch.Size([48])\n"
     ]
    }
   ],
   "source": [
    "for pname, param in params.items():\n",
    "    for p in param.parameters():\n",
    "        print(p.shape)"
   ]
  },
  {
   "cell_type": "markdown",
   "id": "c994c54f-c5ea-48d2-b8e0-90cf1c1a0369",
   "metadata": {},
   "source": [
    "## Additional Training (Deprecated)"
   ]
  },
  {
   "cell_type": "code",
   "execution_count": 92,
   "id": "7db81df6-a5bd-495b-98d2-e9984264f860",
   "metadata": {
    "collapsed": true,
    "jupyter": {
     "outputs_hidden": true,
     "source_hidden": true
    },
    "tags": []
   },
   "outputs": [
    {
     "name": "stdout",
     "output_type": "stream",
     "text": [
      "Files already downloaded and verified\n",
      "Epoch 01 mean_loss 21373.91 Elapsed time 0:04:00.977587\n"
     ]
    },
    {
     "ename": "KeyboardInterrupt",
     "evalue": "",
     "output_type": "error",
     "traceback": [
      "\u001b[1;31m---------------------------------------------------------------------------\u001b[0m",
      "\u001b[1;31mKeyboardInterrupt\u001b[0m                         Traceback (most recent call last)",
      "\u001b[1;32m<ipython-input-92-7c0b97018f56>\u001b[0m in \u001b[0;36m<module>\u001b[1;34m\u001b[0m\n\u001b[0;32m     17\u001b[0m     \u001b[1;32mfor\u001b[0m \u001b[0mi\u001b[0m\u001b[1;33m,\u001b[0m \u001b[1;33m(\u001b[0m\u001b[0mx\u001b[0m\u001b[1;33m,\u001b[0m \u001b[0m_\u001b[0m\u001b[1;33m)\u001b[0m \u001b[1;32min\u001b[0m \u001b[0menumerate\u001b[0m\u001b[1;33m(\u001b[0m\u001b[0mloader\u001b[0m\u001b[1;33m)\u001b[0m\u001b[1;33m:\u001b[0m\u001b[1;33m\u001b[0m\u001b[1;33m\u001b[0m\u001b[0m\n\u001b[0;32m     18\u001b[0m         \u001b[0mx\u001b[0m \u001b[1;33m=\u001b[0m \u001b[0mx\u001b[0m\u001b[1;33m.\u001b[0m\u001b[0mto\u001b[0m\u001b[1;33m(\u001b[0m\u001b[0mdevice\u001b[0m\u001b[1;33m)\u001b[0m\u001b[1;33m\u001b[0m\u001b[1;33m\u001b[0m\u001b[0m\n\u001b[1;32m---> 19\u001b[1;33m         \u001b[0mz\u001b[0m\u001b[1;33m,\u001b[0m \u001b[0mnll\u001b[0m\u001b[1;33m,\u001b[0m \u001b[0my_logits\u001b[0m \u001b[1;33m=\u001b[0m \u001b[0mmodel\u001b[0m\u001b[1;33m(\u001b[0m\u001b[0mx\u001b[0m\u001b[1;33m,\u001b[0m \u001b[1;32mNone\u001b[0m\u001b[1;33m)\u001b[0m\u001b[1;33m\u001b[0m\u001b[1;33m\u001b[0m\u001b[0m\n\u001b[0m\u001b[0;32m     20\u001b[0m         \u001b[0mloss\u001b[0m \u001b[1;33m=\u001b[0m \u001b[0mtorch\u001b[0m\u001b[1;33m.\u001b[0m\u001b[0mmean\u001b[0m\u001b[1;33m(\u001b[0m\u001b[0mnll\u001b[0m\u001b[1;33m)\u001b[0m\u001b[1;33m\u001b[0m\u001b[1;33m\u001b[0m\u001b[0m\n\u001b[0;32m     21\u001b[0m         \u001b[0moptimizer\u001b[0m\u001b[1;33m.\u001b[0m\u001b[0mzero_grad\u001b[0m\u001b[1;33m(\u001b[0m\u001b[1;33m)\u001b[0m\u001b[1;33m\u001b[0m\u001b[1;33m\u001b[0m\u001b[0m\n",
      "\u001b[1;32m~\\.conda\\envs\\torch\\lib\\site-packages\\torch\\nn\\modules\\module.py\u001b[0m in \u001b[0;36m_call_impl\u001b[1;34m(self, *input, **kwargs)\u001b[0m\n\u001b[0;32m    887\u001b[0m             \u001b[0mresult\u001b[0m \u001b[1;33m=\u001b[0m \u001b[0mself\u001b[0m\u001b[1;33m.\u001b[0m\u001b[0m_slow_forward\u001b[0m\u001b[1;33m(\u001b[0m\u001b[1;33m*\u001b[0m\u001b[0minput\u001b[0m\u001b[1;33m,\u001b[0m \u001b[1;33m**\u001b[0m\u001b[0mkwargs\u001b[0m\u001b[1;33m)\u001b[0m\u001b[1;33m\u001b[0m\u001b[1;33m\u001b[0m\u001b[0m\n\u001b[0;32m    888\u001b[0m         \u001b[1;32melse\u001b[0m\u001b[1;33m:\u001b[0m\u001b[1;33m\u001b[0m\u001b[1;33m\u001b[0m\u001b[0m\n\u001b[1;32m--> 889\u001b[1;33m             \u001b[0mresult\u001b[0m \u001b[1;33m=\u001b[0m \u001b[0mself\u001b[0m\u001b[1;33m.\u001b[0m\u001b[0mforward\u001b[0m\u001b[1;33m(\u001b[0m\u001b[1;33m*\u001b[0m\u001b[0minput\u001b[0m\u001b[1;33m,\u001b[0m \u001b[1;33m**\u001b[0m\u001b[0mkwargs\u001b[0m\u001b[1;33m)\u001b[0m\u001b[1;33m\u001b[0m\u001b[1;33m\u001b[0m\u001b[0m\n\u001b[0m\u001b[0;32m    890\u001b[0m         for hook in itertools.chain(\n\u001b[0;32m    891\u001b[0m                 \u001b[0m_global_forward_hooks\u001b[0m\u001b[1;33m.\u001b[0m\u001b[0mvalues\u001b[0m\u001b[1;33m(\u001b[0m\u001b[1;33m)\u001b[0m\u001b[1;33m,\u001b[0m\u001b[1;33m\u001b[0m\u001b[1;33m\u001b[0m\u001b[0m\n",
      "\u001b[1;32m~\\codes\\ood_detection\\code/core\\train_GLOW\\model.py\u001b[0m in \u001b[0;36mforward\u001b[1;34m(self, x, y_onehot, z, temperature, reverse)\u001b[0m\n\u001b[0;32m    265\u001b[0m             \u001b[1;32mreturn\u001b[0m \u001b[0mself\u001b[0m\u001b[1;33m.\u001b[0m\u001b[0mreverse_flow\u001b[0m\u001b[1;33m(\u001b[0m\u001b[0mz\u001b[0m\u001b[1;33m,\u001b[0m \u001b[0my_onehot\u001b[0m\u001b[1;33m,\u001b[0m \u001b[0mtemperature\u001b[0m\u001b[1;33m)\u001b[0m\u001b[1;33m\u001b[0m\u001b[1;33m\u001b[0m\u001b[0m\n\u001b[0;32m    266\u001b[0m         \u001b[1;32melse\u001b[0m\u001b[1;33m:\u001b[0m\u001b[1;33m\u001b[0m\u001b[1;33m\u001b[0m\u001b[0m\n\u001b[1;32m--> 267\u001b[1;33m             \u001b[1;32mreturn\u001b[0m \u001b[0mself\u001b[0m\u001b[1;33m.\u001b[0m\u001b[0mnormal_flow\u001b[0m\u001b[1;33m(\u001b[0m\u001b[0mx\u001b[0m\u001b[1;33m,\u001b[0m \u001b[0my_onehot\u001b[0m\u001b[1;33m)\u001b[0m\u001b[1;33m\u001b[0m\u001b[1;33m\u001b[0m\u001b[0m\n\u001b[0m\u001b[0;32m    268\u001b[0m \u001b[1;33m\u001b[0m\u001b[0m\n\u001b[0;32m    269\u001b[0m     \u001b[1;32mdef\u001b[0m \u001b[0mnormal_flow\u001b[0m\u001b[1;33m(\u001b[0m\u001b[0mself\u001b[0m\u001b[1;33m,\u001b[0m \u001b[0mx\u001b[0m\u001b[1;33m,\u001b[0m \u001b[0my_onehot\u001b[0m\u001b[1;33m)\u001b[0m\u001b[1;33m:\u001b[0m\u001b[1;33m\u001b[0m\u001b[1;33m\u001b[0m\u001b[0m\n",
      "\u001b[1;32m~\\codes\\ood_detection\\code/core\\train_GLOW\\model.py\u001b[0m in \u001b[0;36mnormal_flow\u001b[1;34m(self, x, y_onehot)\u001b[0m\n\u001b[0;32m    272\u001b[0m         \u001b[0mx\u001b[0m\u001b[1;33m,\u001b[0m \u001b[0mlogdet\u001b[0m \u001b[1;33m=\u001b[0m \u001b[0muniform_binning_correction\u001b[0m\u001b[1;33m(\u001b[0m\u001b[0mx\u001b[0m\u001b[1;33m)\u001b[0m\u001b[1;33m\u001b[0m\u001b[1;33m\u001b[0m\u001b[0m\n\u001b[0;32m    273\u001b[0m \u001b[1;33m\u001b[0m\u001b[0m\n\u001b[1;32m--> 274\u001b[1;33m         \u001b[0mz\u001b[0m\u001b[1;33m,\u001b[0m \u001b[0mobjective\u001b[0m \u001b[1;33m=\u001b[0m \u001b[0mself\u001b[0m\u001b[1;33m.\u001b[0m\u001b[0mflow\u001b[0m\u001b[1;33m(\u001b[0m\u001b[0mx\u001b[0m\u001b[1;33m,\u001b[0m \u001b[0mlogdet\u001b[0m\u001b[1;33m=\u001b[0m\u001b[0mlogdet\u001b[0m\u001b[1;33m,\u001b[0m \u001b[0mreverse\u001b[0m\u001b[1;33m=\u001b[0m\u001b[1;32mFalse\u001b[0m\u001b[1;33m)\u001b[0m\u001b[1;33m\u001b[0m\u001b[1;33m\u001b[0m\u001b[0m\n\u001b[0m\u001b[0;32m    275\u001b[0m \u001b[1;33m\u001b[0m\u001b[0m\n\u001b[0;32m    276\u001b[0m         \u001b[0mmean\u001b[0m\u001b[1;33m,\u001b[0m \u001b[0mlogs\u001b[0m \u001b[1;33m=\u001b[0m \u001b[0mself\u001b[0m\u001b[1;33m.\u001b[0m\u001b[0mprior\u001b[0m\u001b[1;33m(\u001b[0m\u001b[0mx\u001b[0m\u001b[1;33m,\u001b[0m \u001b[0my_onehot\u001b[0m\u001b[1;33m)\u001b[0m\u001b[1;33m\u001b[0m\u001b[1;33m\u001b[0m\u001b[0m\n",
      "\u001b[1;32m~\\.conda\\envs\\torch\\lib\\site-packages\\torch\\nn\\modules\\module.py\u001b[0m in \u001b[0;36m_call_impl\u001b[1;34m(self, *input, **kwargs)\u001b[0m\n\u001b[0;32m    887\u001b[0m             \u001b[0mresult\u001b[0m \u001b[1;33m=\u001b[0m \u001b[0mself\u001b[0m\u001b[1;33m.\u001b[0m\u001b[0m_slow_forward\u001b[0m\u001b[1;33m(\u001b[0m\u001b[1;33m*\u001b[0m\u001b[0minput\u001b[0m\u001b[1;33m,\u001b[0m \u001b[1;33m**\u001b[0m\u001b[0mkwargs\u001b[0m\u001b[1;33m)\u001b[0m\u001b[1;33m\u001b[0m\u001b[1;33m\u001b[0m\u001b[0m\n\u001b[0;32m    888\u001b[0m         \u001b[1;32melse\u001b[0m\u001b[1;33m:\u001b[0m\u001b[1;33m\u001b[0m\u001b[1;33m\u001b[0m\u001b[0m\n\u001b[1;32m--> 889\u001b[1;33m             \u001b[0mresult\u001b[0m \u001b[1;33m=\u001b[0m \u001b[0mself\u001b[0m\u001b[1;33m.\u001b[0m\u001b[0mforward\u001b[0m\u001b[1;33m(\u001b[0m\u001b[1;33m*\u001b[0m\u001b[0minput\u001b[0m\u001b[1;33m,\u001b[0m \u001b[1;33m**\u001b[0m\u001b[0mkwargs\u001b[0m\u001b[1;33m)\u001b[0m\u001b[1;33m\u001b[0m\u001b[1;33m\u001b[0m\u001b[0m\n\u001b[0m\u001b[0;32m    890\u001b[0m         for hook in itertools.chain(\n\u001b[0;32m    891\u001b[0m                 \u001b[0m_global_forward_hooks\u001b[0m\u001b[1;33m.\u001b[0m\u001b[0mvalues\u001b[0m\u001b[1;33m(\u001b[0m\u001b[1;33m)\u001b[0m\u001b[1;33m,\u001b[0m\u001b[1;33m\u001b[0m\u001b[1;33m\u001b[0m\u001b[0m\n",
      "\u001b[1;32m~\\codes\\ood_detection\\code/core\\train_GLOW\\model.py\u001b[0m in \u001b[0;36mforward\u001b[1;34m(self, input, logdet, reverse, temperature)\u001b[0m\n\u001b[0;32m    173\u001b[0m             \u001b[1;32mreturn\u001b[0m \u001b[0mself\u001b[0m\u001b[1;33m.\u001b[0m\u001b[0mdecode\u001b[0m\u001b[1;33m(\u001b[0m\u001b[0minput\u001b[0m\u001b[1;33m,\u001b[0m \u001b[0mtemperature\u001b[0m\u001b[1;33m)\u001b[0m\u001b[1;33m\u001b[0m\u001b[1;33m\u001b[0m\u001b[0m\n\u001b[0;32m    174\u001b[0m         \u001b[1;32melse\u001b[0m\u001b[1;33m:\u001b[0m\u001b[1;33m\u001b[0m\u001b[1;33m\u001b[0m\u001b[0m\n\u001b[1;32m--> 175\u001b[1;33m             \u001b[1;32mreturn\u001b[0m \u001b[0mself\u001b[0m\u001b[1;33m.\u001b[0m\u001b[0mencode\u001b[0m\u001b[1;33m(\u001b[0m\u001b[0minput\u001b[0m\u001b[1;33m,\u001b[0m \u001b[0mlogdet\u001b[0m\u001b[1;33m)\u001b[0m\u001b[1;33m\u001b[0m\u001b[1;33m\u001b[0m\u001b[0m\n\u001b[0m\u001b[0;32m    176\u001b[0m \u001b[1;33m\u001b[0m\u001b[0m\n\u001b[0;32m    177\u001b[0m     \u001b[1;32mdef\u001b[0m \u001b[0mencode\u001b[0m\u001b[1;33m(\u001b[0m\u001b[0mself\u001b[0m\u001b[1;33m,\u001b[0m \u001b[0mz\u001b[0m\u001b[1;33m,\u001b[0m \u001b[0mlogdet\u001b[0m\u001b[1;33m=\u001b[0m\u001b[1;36m0.0\u001b[0m\u001b[1;33m)\u001b[0m\u001b[1;33m:\u001b[0m\u001b[1;33m\u001b[0m\u001b[1;33m\u001b[0m\u001b[0m\n",
      "\u001b[1;32m~\\codes\\ood_detection\\code/core\\train_GLOW\\model.py\u001b[0m in \u001b[0;36mencode\u001b[1;34m(self, z, logdet)\u001b[0m\n\u001b[0;32m    177\u001b[0m     \u001b[1;32mdef\u001b[0m \u001b[0mencode\u001b[0m\u001b[1;33m(\u001b[0m\u001b[0mself\u001b[0m\u001b[1;33m,\u001b[0m \u001b[0mz\u001b[0m\u001b[1;33m,\u001b[0m \u001b[0mlogdet\u001b[0m\u001b[1;33m=\u001b[0m\u001b[1;36m0.0\u001b[0m\u001b[1;33m)\u001b[0m\u001b[1;33m:\u001b[0m\u001b[1;33m\u001b[0m\u001b[1;33m\u001b[0m\u001b[0m\n\u001b[0;32m    178\u001b[0m         \u001b[1;32mfor\u001b[0m \u001b[0mlayer\u001b[0m\u001b[1;33m,\u001b[0m \u001b[0mshape\u001b[0m \u001b[1;32min\u001b[0m \u001b[0mzip\u001b[0m\u001b[1;33m(\u001b[0m\u001b[0mself\u001b[0m\u001b[1;33m.\u001b[0m\u001b[0mlayers\u001b[0m\u001b[1;33m,\u001b[0m \u001b[0mself\u001b[0m\u001b[1;33m.\u001b[0m\u001b[0moutput_shapes\u001b[0m\u001b[1;33m)\u001b[0m\u001b[1;33m:\u001b[0m\u001b[1;33m\u001b[0m\u001b[1;33m\u001b[0m\u001b[0m\n\u001b[1;32m--> 179\u001b[1;33m             \u001b[0mz\u001b[0m\u001b[1;33m,\u001b[0m \u001b[0mlogdet\u001b[0m \u001b[1;33m=\u001b[0m \u001b[0mlayer\u001b[0m\u001b[1;33m(\u001b[0m\u001b[0mz\u001b[0m\u001b[1;33m,\u001b[0m \u001b[0mlogdet\u001b[0m\u001b[1;33m,\u001b[0m \u001b[0mreverse\u001b[0m\u001b[1;33m=\u001b[0m\u001b[1;32mFalse\u001b[0m\u001b[1;33m)\u001b[0m\u001b[1;33m\u001b[0m\u001b[1;33m\u001b[0m\u001b[0m\n\u001b[0m\u001b[0;32m    180\u001b[0m         \u001b[1;32mreturn\u001b[0m \u001b[0mz\u001b[0m\u001b[1;33m,\u001b[0m \u001b[0mlogdet\u001b[0m\u001b[1;33m\u001b[0m\u001b[1;33m\u001b[0m\u001b[0m\n\u001b[0;32m    181\u001b[0m \u001b[1;33m\u001b[0m\u001b[0m\n",
      "\u001b[1;32m~\\.conda\\envs\\torch\\lib\\site-packages\\torch\\nn\\modules\\module.py\u001b[0m in \u001b[0;36m_call_impl\u001b[1;34m(self, *input, **kwargs)\u001b[0m\n\u001b[0;32m    887\u001b[0m             \u001b[0mresult\u001b[0m \u001b[1;33m=\u001b[0m \u001b[0mself\u001b[0m\u001b[1;33m.\u001b[0m\u001b[0m_slow_forward\u001b[0m\u001b[1;33m(\u001b[0m\u001b[1;33m*\u001b[0m\u001b[0minput\u001b[0m\u001b[1;33m,\u001b[0m \u001b[1;33m**\u001b[0m\u001b[0mkwargs\u001b[0m\u001b[1;33m)\u001b[0m\u001b[1;33m\u001b[0m\u001b[1;33m\u001b[0m\u001b[0m\n\u001b[0;32m    888\u001b[0m         \u001b[1;32melse\u001b[0m\u001b[1;33m:\u001b[0m\u001b[1;33m\u001b[0m\u001b[1;33m\u001b[0m\u001b[0m\n\u001b[1;32m--> 889\u001b[1;33m             \u001b[0mresult\u001b[0m \u001b[1;33m=\u001b[0m \u001b[0mself\u001b[0m\u001b[1;33m.\u001b[0m\u001b[0mforward\u001b[0m\u001b[1;33m(\u001b[0m\u001b[1;33m*\u001b[0m\u001b[0minput\u001b[0m\u001b[1;33m,\u001b[0m \u001b[1;33m**\u001b[0m\u001b[0mkwargs\u001b[0m\u001b[1;33m)\u001b[0m\u001b[1;33m\u001b[0m\u001b[1;33m\u001b[0m\u001b[0m\n\u001b[0m\u001b[0;32m    890\u001b[0m         for hook in itertools.chain(\n\u001b[0;32m    891\u001b[0m                 \u001b[0m_global_forward_hooks\u001b[0m\u001b[1;33m.\u001b[0m\u001b[0mvalues\u001b[0m\u001b[1;33m(\u001b[0m\u001b[1;33m)\u001b[0m\u001b[1;33m,\u001b[0m\u001b[1;33m\u001b[0m\u001b[1;33m\u001b[0m\u001b[0m\n",
      "\u001b[1;32m~\\codes\\ood_detection\\code/core\\train_GLOW\\model.py\u001b[0m in \u001b[0;36mforward\u001b[1;34m(self, input, logdet, reverse)\u001b[0m\n\u001b[0;32m     68\u001b[0m     \u001b[1;32mdef\u001b[0m \u001b[0mforward\u001b[0m\u001b[1;33m(\u001b[0m\u001b[0mself\u001b[0m\u001b[1;33m,\u001b[0m \u001b[0minput\u001b[0m\u001b[1;33m,\u001b[0m \u001b[0mlogdet\u001b[0m\u001b[1;33m=\u001b[0m\u001b[1;32mNone\u001b[0m\u001b[1;33m,\u001b[0m \u001b[0mreverse\u001b[0m\u001b[1;33m=\u001b[0m\u001b[1;32mFalse\u001b[0m\u001b[1;33m)\u001b[0m\u001b[1;33m:\u001b[0m\u001b[1;33m\u001b[0m\u001b[1;33m\u001b[0m\u001b[0m\n\u001b[0;32m     69\u001b[0m         \u001b[1;32mif\u001b[0m \u001b[1;32mnot\u001b[0m \u001b[0mreverse\u001b[0m\u001b[1;33m:\u001b[0m\u001b[1;33m\u001b[0m\u001b[1;33m\u001b[0m\u001b[0m\n\u001b[1;32m---> 70\u001b[1;33m             \u001b[1;32mreturn\u001b[0m \u001b[0mself\u001b[0m\u001b[1;33m.\u001b[0m\u001b[0mnormal_flow\u001b[0m\u001b[1;33m(\u001b[0m\u001b[0minput\u001b[0m\u001b[1;33m,\u001b[0m \u001b[0mlogdet\u001b[0m\u001b[1;33m)\u001b[0m\u001b[1;33m\u001b[0m\u001b[1;33m\u001b[0m\u001b[0m\n\u001b[0m\u001b[0;32m     71\u001b[0m         \u001b[1;32melse\u001b[0m\u001b[1;33m:\u001b[0m\u001b[1;33m\u001b[0m\u001b[1;33m\u001b[0m\u001b[0m\n\u001b[0;32m     72\u001b[0m             \u001b[1;32mreturn\u001b[0m \u001b[0mself\u001b[0m\u001b[1;33m.\u001b[0m\u001b[0mreverse_flow\u001b[0m\u001b[1;33m(\u001b[0m\u001b[0minput\u001b[0m\u001b[1;33m,\u001b[0m \u001b[0mlogdet\u001b[0m\u001b[1;33m)\u001b[0m\u001b[1;33m\u001b[0m\u001b[1;33m\u001b[0m\u001b[0m\n",
      "\u001b[1;32m~\\codes\\ood_detection\\code/core\\train_GLOW\\model.py\u001b[0m in \u001b[0;36mnormal_flow\u001b[1;34m(self, input, logdet)\u001b[0m\n\u001b[0;32m     79\u001b[0m \u001b[1;33m\u001b[0m\u001b[0m\n\u001b[0;32m     80\u001b[0m         \u001b[1;31m# 2. permute\u001b[0m\u001b[1;33m\u001b[0m\u001b[1;33m\u001b[0m\u001b[1;33m\u001b[0m\u001b[0m\n\u001b[1;32m---> 81\u001b[1;33m         \u001b[0mz\u001b[0m\u001b[1;33m,\u001b[0m \u001b[0mlogdet\u001b[0m \u001b[1;33m=\u001b[0m \u001b[0mself\u001b[0m\u001b[1;33m.\u001b[0m\u001b[0mflow_permutation\u001b[0m\u001b[1;33m(\u001b[0m\u001b[0mz\u001b[0m\u001b[1;33m,\u001b[0m \u001b[0mlogdet\u001b[0m\u001b[1;33m,\u001b[0m \u001b[1;32mFalse\u001b[0m\u001b[1;33m)\u001b[0m\u001b[1;33m\u001b[0m\u001b[1;33m\u001b[0m\u001b[0m\n\u001b[0m\u001b[0;32m     82\u001b[0m \u001b[1;33m\u001b[0m\u001b[0m\n\u001b[0;32m     83\u001b[0m         \u001b[1;31m# 3. coupling\u001b[0m\u001b[1;33m\u001b[0m\u001b[1;33m\u001b[0m\u001b[1;33m\u001b[0m\u001b[0m\n",
      "\u001b[1;32m~\\codes\\ood_detection\\code/core\\train_GLOW\\model.py\u001b[0m in \u001b[0;36m<lambda>\u001b[1;34m(z, logdet, rev)\u001b[0m\n\u001b[0;32m     46\u001b[0m         \u001b[1;32mif\u001b[0m \u001b[0mflow_permutation\u001b[0m \u001b[1;33m==\u001b[0m \u001b[1;34m\"invconv\"\u001b[0m\u001b[1;33m:\u001b[0m\u001b[1;33m\u001b[0m\u001b[1;33m\u001b[0m\u001b[0m\n\u001b[0;32m     47\u001b[0m             \u001b[0mself\u001b[0m\u001b[1;33m.\u001b[0m\u001b[0minvconv\u001b[0m \u001b[1;33m=\u001b[0m \u001b[0mInvertibleConv1x1\u001b[0m\u001b[1;33m(\u001b[0m\u001b[0min_channels\u001b[0m\u001b[1;33m,\u001b[0m \u001b[0mLU_decomposed\u001b[0m\u001b[1;33m=\u001b[0m\u001b[0mLU_decomposed\u001b[0m\u001b[1;33m)\u001b[0m\u001b[1;33m\u001b[0m\u001b[1;33m\u001b[0m\u001b[0m\n\u001b[1;32m---> 48\u001b[1;33m             \u001b[0mself\u001b[0m\u001b[1;33m.\u001b[0m\u001b[0mflow_permutation\u001b[0m \u001b[1;33m=\u001b[0m \u001b[1;32mlambda\u001b[0m \u001b[0mz\u001b[0m\u001b[1;33m,\u001b[0m \u001b[0mlogdet\u001b[0m\u001b[1;33m,\u001b[0m \u001b[0mrev\u001b[0m\u001b[1;33m:\u001b[0m \u001b[0mself\u001b[0m\u001b[1;33m.\u001b[0m\u001b[0minvconv\u001b[0m\u001b[1;33m(\u001b[0m\u001b[0mz\u001b[0m\u001b[1;33m,\u001b[0m \u001b[0mlogdet\u001b[0m\u001b[1;33m,\u001b[0m \u001b[0mrev\u001b[0m\u001b[1;33m)\u001b[0m\u001b[1;33m\u001b[0m\u001b[1;33m\u001b[0m\u001b[0m\n\u001b[0m\u001b[0;32m     49\u001b[0m         \u001b[1;32melif\u001b[0m \u001b[0mflow_permutation\u001b[0m \u001b[1;33m==\u001b[0m \u001b[1;34m\"shuffle\"\u001b[0m\u001b[1;33m:\u001b[0m\u001b[1;33m\u001b[0m\u001b[1;33m\u001b[0m\u001b[0m\n\u001b[0;32m     50\u001b[0m             \u001b[0mself\u001b[0m\u001b[1;33m.\u001b[0m\u001b[0mshuffle\u001b[0m \u001b[1;33m=\u001b[0m \u001b[0mPermute2d\u001b[0m\u001b[1;33m(\u001b[0m\u001b[0min_channels\u001b[0m\u001b[1;33m,\u001b[0m \u001b[0mshuffle\u001b[0m\u001b[1;33m=\u001b[0m\u001b[1;32mTrue\u001b[0m\u001b[1;33m)\u001b[0m\u001b[1;33m\u001b[0m\u001b[1;33m\u001b[0m\u001b[0m\n",
      "\u001b[1;32m~\\.conda\\envs\\torch\\lib\\site-packages\\torch\\nn\\modules\\module.py\u001b[0m in \u001b[0;36m_call_impl\u001b[1;34m(self, *input, **kwargs)\u001b[0m\n\u001b[0;32m    887\u001b[0m             \u001b[0mresult\u001b[0m \u001b[1;33m=\u001b[0m \u001b[0mself\u001b[0m\u001b[1;33m.\u001b[0m\u001b[0m_slow_forward\u001b[0m\u001b[1;33m(\u001b[0m\u001b[1;33m*\u001b[0m\u001b[0minput\u001b[0m\u001b[1;33m,\u001b[0m \u001b[1;33m**\u001b[0m\u001b[0mkwargs\u001b[0m\u001b[1;33m)\u001b[0m\u001b[1;33m\u001b[0m\u001b[1;33m\u001b[0m\u001b[0m\n\u001b[0;32m    888\u001b[0m         \u001b[1;32melse\u001b[0m\u001b[1;33m:\u001b[0m\u001b[1;33m\u001b[0m\u001b[1;33m\u001b[0m\u001b[0m\n\u001b[1;32m--> 889\u001b[1;33m             \u001b[0mresult\u001b[0m \u001b[1;33m=\u001b[0m \u001b[0mself\u001b[0m\u001b[1;33m.\u001b[0m\u001b[0mforward\u001b[0m\u001b[1;33m(\u001b[0m\u001b[1;33m*\u001b[0m\u001b[0minput\u001b[0m\u001b[1;33m,\u001b[0m \u001b[1;33m**\u001b[0m\u001b[0mkwargs\u001b[0m\u001b[1;33m)\u001b[0m\u001b[1;33m\u001b[0m\u001b[1;33m\u001b[0m\u001b[0m\n\u001b[0m\u001b[0;32m    890\u001b[0m         for hook in itertools.chain(\n\u001b[0;32m    891\u001b[0m                 \u001b[0m_global_forward_hooks\u001b[0m\u001b[1;33m.\u001b[0m\u001b[0mvalues\u001b[0m\u001b[1;33m(\u001b[0m\u001b[1;33m)\u001b[0m\u001b[1;33m,\u001b[0m\u001b[1;33m\u001b[0m\u001b[1;33m\u001b[0m\u001b[0m\n",
      "\u001b[1;32m~\\codes\\ood_detection\\code/core/train_GLOW\\modules.py\u001b[0m in \u001b[0;36mforward\u001b[1;34m(self, input, logdet, reverse)\u001b[0m\n\u001b[0;32m    375\u001b[0m         \u001b[0mlog\u001b[0m\u001b[1;33m-\u001b[0m\u001b[0mdet\u001b[0m \u001b[1;33m=\u001b[0m \u001b[0mlog\u001b[0m\u001b[1;33m|\u001b[0m\u001b[0mabs\u001b[0m\u001b[1;33m(\u001b[0m\u001b[1;33m|\u001b[0m\u001b[0mW\u001b[0m\u001b[1;33m|\u001b[0m\u001b[1;33m)\u001b[0m\u001b[1;33m|\u001b[0m \u001b[1;33m*\u001b[0m \u001b[0mpixels\u001b[0m\u001b[1;33m\u001b[0m\u001b[1;33m\u001b[0m\u001b[0m\n\u001b[0;32m    376\u001b[0m         \"\"\"\n\u001b[1;32m--> 377\u001b[1;33m         \u001b[0mweight\u001b[0m\u001b[1;33m,\u001b[0m \u001b[0mdlogdet\u001b[0m \u001b[1;33m=\u001b[0m \u001b[0mself\u001b[0m\u001b[1;33m.\u001b[0m\u001b[0mget_weight\u001b[0m\u001b[1;33m(\u001b[0m\u001b[0minput\u001b[0m\u001b[1;33m,\u001b[0m \u001b[0mreverse\u001b[0m\u001b[1;33m)\u001b[0m\u001b[1;33m\u001b[0m\u001b[1;33m\u001b[0m\u001b[0m\n\u001b[0m\u001b[0;32m    378\u001b[0m \u001b[1;33m\u001b[0m\u001b[0m\n\u001b[0;32m    379\u001b[0m         \u001b[1;32mif\u001b[0m \u001b[1;32mnot\u001b[0m \u001b[0mreverse\u001b[0m\u001b[1;33m:\u001b[0m\u001b[1;33m\u001b[0m\u001b[1;33m\u001b[0m\u001b[0m\n",
      "\u001b[1;32m~\\codes\\ood_detection\\code/core/train_GLOW\\modules.py\u001b[0m in \u001b[0;36mget_weight\u001b[1;34m(self, input, reverse)\u001b[0m\n\u001b[0;32m    356\u001b[0m \u001b[1;33m\u001b[0m\u001b[0m\n\u001b[0;32m    357\u001b[0m             \u001b[0mu\u001b[0m \u001b[1;33m=\u001b[0m \u001b[0mself\u001b[0m\u001b[1;33m.\u001b[0m\u001b[0mupper\u001b[0m \u001b[1;33m*\u001b[0m \u001b[0mself\u001b[0m\u001b[1;33m.\u001b[0m\u001b[0ml_mask\u001b[0m\u001b[1;33m.\u001b[0m\u001b[0mtranspose\u001b[0m\u001b[1;33m(\u001b[0m\u001b[1;36m0\u001b[0m\u001b[1;33m,\u001b[0m \u001b[1;36m1\u001b[0m\u001b[1;33m)\u001b[0m\u001b[1;33m.\u001b[0m\u001b[0mcontiguous\u001b[0m\u001b[1;33m(\u001b[0m\u001b[1;33m)\u001b[0m\u001b[1;33m\u001b[0m\u001b[1;33m\u001b[0m\u001b[0m\n\u001b[1;32m--> 358\u001b[1;33m             \u001b[0mu\u001b[0m \u001b[1;33m+=\u001b[0m \u001b[0mtorch\u001b[0m\u001b[1;33m.\u001b[0m\u001b[0mdiag\u001b[0m\u001b[1;33m(\u001b[0m\u001b[0mself\u001b[0m\u001b[1;33m.\u001b[0m\u001b[0msign_s\u001b[0m \u001b[1;33m*\u001b[0m \u001b[0mtorch\u001b[0m\u001b[1;33m.\u001b[0m\u001b[0mexp\u001b[0m\u001b[1;33m(\u001b[0m\u001b[0mself\u001b[0m\u001b[1;33m.\u001b[0m\u001b[0mlog_s\u001b[0m\u001b[1;33m)\u001b[0m\u001b[1;33m)\u001b[0m\u001b[1;33m\u001b[0m\u001b[1;33m\u001b[0m\u001b[0m\n\u001b[0m\u001b[0;32m    359\u001b[0m \u001b[1;33m\u001b[0m\u001b[0m\n\u001b[0;32m    360\u001b[0m             \u001b[0mdlogdet\u001b[0m \u001b[1;33m=\u001b[0m \u001b[0mtorch\u001b[0m\u001b[1;33m.\u001b[0m\u001b[0msum\u001b[0m\u001b[1;33m(\u001b[0m\u001b[0mself\u001b[0m\u001b[1;33m.\u001b[0m\u001b[0mlog_s\u001b[0m\u001b[1;33m)\u001b[0m \u001b[1;33m*\u001b[0m \u001b[0mh\u001b[0m \u001b[1;33m*\u001b[0m \u001b[0mw\u001b[0m\u001b[1;33m\u001b[0m\u001b[1;33m\u001b[0m\u001b[0m\n",
      "\u001b[1;31mKeyboardInterrupt\u001b[0m: "
     ]
    }
   ],
   "source": [
    "for param in model.parameters():\n",
    "    param.requires_grad_(False)\n",
    "for param in model.flow.layers[28].invconv.parameters():\n",
    "    param.requires_grad_(True)\n",
    "\n",
    "import torch.optim as optim\n",
    "from torch.autograd import Variable\n",
    "from datetime import datetime\n",
    "\n",
    "device = 'cuda:0'\n",
    "optimizer = optim.Adamax(model.flow.layers[28].invconv.parameters(), lr=1e-4, weight_decay=0)\n",
    "loader = TRAIN_loader('cifar10')\n",
    "start = datetime.now()\n",
    "\n",
    "for epoch in range(10):\n",
    "    mean_loss = 0.\n",
    "    for i, (x, _) in enumerate(loader):\n",
    "        x = x.to(device)\n",
    "        z, nll, y_logits = model(x, None)\n",
    "        loss = torch.mean(nll)\n",
    "        optimizer.zero_grad()\n",
    "        loss.backward()\n",
    "        optimizer.step()\n",
    "        mean_loss = (mean_loss * i + loss.detach().item()) / (i + 1)\n",
    "        \n",
    "    now = datetime.now()\n",
    "    print(f'Epoch {epoch+1:02d} mean_loss {mean_loss:.2f} Elapsed time {now - start}')\n",
    "    \n",
    "    "
   ]
  },
  {
   "cell_type": "markdown",
   "id": "2b8a5373-8fac-4f6c-b11b-b4a24a2a002f",
   "metadata": {},
   "source": [
    "## [2] Compute Fisher inverse & Fisher score"
   ]
  },
  {
   "cell_type": "code",
   "execution_count": 35,
   "id": "familiar-kidney",
   "metadata": {},
   "outputs": [
    {
     "name": "stdout",
     "output_type": "stream",
     "text": [
      "Files already downloaded and verified\n"
     ]
    },
    {
     "name": "stderr",
     "output_type": "stream",
     "text": [
      "Calculate Fisher GLOW:   0%|                                                                                                                                                                                                                      | 0/50000 [00:00<?, ?step/s]"
     ]
    },
    {
     "name": "stdout",
     "output_type": "stream",
     "text": [
      "328420\n"
     ]
    },
    {
     "data": {
      "image/png": "[encoded data removed]",
      "text/plain": [
       "<Figure size 432x288 with 1 Axes>"
      ]
     },
     "metadata": {
      "needs_background": "light"
     },
     "output_type": "display_data"
    },
    {
     "name": "stderr",
     "output_type": "stream",
     "text": [
      "Calculate Fisher GLOW:   0%|                                                                                                                                                                                                           | 1/50000 [00:02<41:19:07,  2.98s/step]"
     ]
    },
    {
     "name": "stdout",
     "output_type": "stream",
     "text": [
      "330434\n"
     ]
    },
    {
     "data": {
      "image/png": "[encoded data removed]",
      "text/plain": [
       "<Figure size 432x288 with 1 Axes>"
      ]
     },
     "metadata": {
      "needs_background": "light"
     },
     "output_type": "display_data"
    },
    {
     "name": "stderr",
     "output_type": "stream",
     "text": [
      "Calculate Fisher GLOW:   0%|                                                                                                                                                                                                           | 2/50000 [00:03<19:09:22,  1.38s/step]"
     ]
    },
    {
     "name": "stdout",
     "output_type": "stream",
     "text": [
      "329931\n"
     ]
    },
    {
     "data": {
      "image/png": "[encoded data removed]",
      "text/plain": [
       "<Figure size 432x288 with 1 Axes>"
      ]
     },
     "metadata": {
      "needs_background": "light"
     },
     "output_type": "display_data"
    },
    {
     "name": "stderr",
     "output_type": "stream",
     "text": [
      "Calculate Fisher GLOW:   0%|                                                                                                                                                                                                           | 3/50000 [00:03<12:04:20,  1.15step/s]"
     ]
    },
    {
     "name": "stdout",
     "output_type": "stream",
     "text": [
      "328348\n"
     ]
    },
    {
     "data": {
      "image/png": "[encoded data removed]",
      "text/plain": [
       "<Figure size 432x288 with 1 Axes>"
      ]
     },
     "metadata": {
      "needs_background": "light"
     },
     "output_type": "display_data"
    },
    {
     "name": "stderr",
     "output_type": "stream",
     "text": [
      "Calculate Fisher GLOW:   0%|                                                                                                                                                                                                            | 4/50000 [00:03<8:44:39,  1.59step/s]"
     ]
    },
    {
     "name": "stdout",
     "output_type": "stream",
     "text": [
      "329797\n"
     ]
    },
    {
     "data": {
      "image/png": "[encoded data removed]",
      "text/plain": [
       "<Figure size 432x288 with 1 Axes>"
      ]
     },
     "metadata": {
      "needs_background": "light"
     },
     "output_type": "display_data"
    },
    {
     "name": "stderr",
     "output_type": "stream",
     "text": [
      "Calculate Fisher GLOW:   0%|                                                                                                                                                                                                            | 5/50000 [00:04<6:54:16,  2.01step/s]"
     ]
    },
    {
     "name": "stdout",
     "output_type": "stream",
     "text": [
      "328515\n"
     ]
    },
    {
     "data": {
      "image/png": "[encoded data removed]",
      "text/plain": [
       "<Figure size 432x288 with 1 Axes>"
      ]
     },
     "metadata": {
      "needs_background": "light"
     },
     "output_type": "display_data"
    },
    {
     "name": "stderr",
     "output_type": "stream",
     "text": [
      "Calculate Fisher GLOW:   0%|                                                                                                                                                                                                            | 6/50000 [00:04<5:48:00,  2.39step/s]"
     ]
    },
    {
     "name": "stdout",
     "output_type": "stream",
     "text": [
      "329461\n"
     ]
    },
    {
     "data": {
      "image/png": "[encoded data removed]",
      "text/plain": [
       "<Figure size 432x288 with 1 Axes>"
      ]
     },
     "metadata": {
      "needs_background": "light"
     },
     "output_type": "display_data"
    },
    {
     "name": "stderr",
     "output_type": "stream",
     "text": [
      "Calculate Fisher GLOW:   0%|                                                                                                                                                                                                            | 7/50000 [00:04<5:06:45,  2.72step/s]"
     ]
    },
    {
     "name": "stdout",
     "output_type": "stream",
     "text": [
      "328429\n"
     ]
    },
    {
     "data": {
      "image/png": "[encoded data removed]",
      "text/plain": [
       "<Figure size 432x288 with 1 Axes>"
      ]
     },
     "metadata": {
      "needs_background": "light"
     },
     "output_type": "display_data"
    },
    {
     "name": "stderr",
     "output_type": "stream",
     "text": [
      "Calculate Fisher GLOW:   0%|                                                                                                                                                                                                            | 8/50000 [00:04<4:38:56,  2.99step/s]"
     ]
    },
    {
     "name": "stdout",
     "output_type": "stream",
     "text": [
      "329559\n"
     ]
    },
    {
     "data": {
      "image/png": "[encoded data removed]",
      "text/plain": [
       "<Figure size 432x288 with 1 Axes>"
      ]
     },
     "metadata": {
      "needs_background": "light"
     },
     "output_type": "display_data"
    },
    {
     "name": "stderr",
     "output_type": "stream",
     "text": [
      "Calculate Fisher GLOW:   0%|                                                                                                                                                                                                            | 9/50000 [00:05<4:19:47,  3.21step/s]"
     ]
    },
    {
     "name": "stdout",
     "output_type": "stream",
     "text": [
      "331100\n"
     ]
    },
    {
     "data": {
      "image/png": "[encoded data removed]",
      "text/plain": [
       "<Figure size 432x288 with 1 Axes>"
      ]
     },
     "metadata": {
      "needs_background": "light"
     },
     "output_type": "display_data"
    },
    {
     "name": "stderr",
     "output_type": "stream",
     "text": [
      "Calculate Fisher GLOW:   0%|                                                                                                                                                                                                           | 10/50000 [00:05<4:07:18,  3.37step/s]"
     ]
    },
    {
     "name": "stdout",
     "output_type": "stream",
     "text": [
      "327491\n"
     ]
    },
    {
     "name": "stderr",
     "output_type": "stream",
     "text": [
      "Calculate Fisher GLOW:   0%|                                                                                                                                                                                                           | 10/50000 [00:05<7:59:12,  1.74step/s]\n"
     ]
    },
    {
     "ename": "KeyboardInterrupt",
     "evalue": "",
     "output_type": "error",
     "traceback": [
      "\u001b[1;31m---------------------------------------------------------------------------\u001b[0m",
      "\u001b[1;31mKeyboardInterrupt\u001b[0m                         Traceback (most recent call last)",
      "\u001b[1;32m<ipython-input-35-3fbb5ef2f2a5>\u001b[0m in \u001b[0;36m<module>\u001b[1;34m\u001b[0m\n\u001b[0;32m      1\u001b[0m \u001b[0mmethod\u001b[0m \u001b[1;33m=\u001b[0m \u001b[1;34m'Vanilla'\u001b[0m\u001b[1;33m\u001b[0m\u001b[1;33m\u001b[0m\u001b[0m\n\u001b[1;32m----> 2\u001b[1;33m \u001b[0ma\u001b[0m\u001b[1;33m,\u001b[0m \u001b[0mb\u001b[0m\u001b[1;33m,\u001b[0m \u001b[0m_scores\u001b[0m \u001b[1;33m=\u001b[0m \u001b[0mAUTO_GLOW\u001b[0m\u001b[1;33m(\u001b[0m\u001b[0mopt\u001b[0m\u001b[1;33m,\u001b[0m \u001b[0mmodel\u001b[0m\u001b[1;33m,\u001b[0m \u001b[0mparams\u001b[0m\u001b[1;33m,\u001b[0m \u001b[0mmax_iter\u001b[0m\u001b[1;33m=\u001b[0m\u001b[1;33m[\u001b[0m\u001b[1;36m10000\u001b[0m\u001b[1;33m,\u001b[0m \u001b[1;36m5000\u001b[0m\u001b[1;33m]\u001b[0m\u001b[1;33m,\u001b[0m \u001b[0mmethod\u001b[0m\u001b[1;33m=\u001b[0m\u001b[0mmethod\u001b[0m\u001b[1;33m)\u001b[0m\u001b[1;33m\u001b[0m\u001b[1;33m\u001b[0m\u001b[0m\n\u001b[0m",
      "\u001b[1;32m~\\codes\\ood_detection\\code\\core\\fisher_utils_GLOW.py\u001b[0m in \u001b[0;36mAUTO_GLOW\u001b[1;34m(opt, model, params, max_iter, method, device)\u001b[0m\n\u001b[0;32m    201\u001b[0m     \u001b[0mGradients\u001b[0m \u001b[1;33m=\u001b[0m \u001b[1;33m{\u001b[0m\u001b[1;33m}\u001b[0m\u001b[1;33m\u001b[0m\u001b[1;33m\u001b[0m\u001b[0m\n\u001b[0;32m    202\u001b[0m \u001b[1;33m\u001b[0m\u001b[0m\n\u001b[1;32m--> 203\u001b[1;33m     Fisher_inv, normalize_factor = Calculate_fisher_GLOW(\n\u001b[0m\u001b[0;32m    204\u001b[0m         \u001b[0mmodel\u001b[0m\u001b[1;33m,\u001b[0m\u001b[1;33m\u001b[0m\u001b[1;33m\u001b[0m\u001b[0m\n\u001b[0;32m    205\u001b[0m         TRAIN_loader(\n",
      "\u001b[1;32m~\\codes\\ood_detection\\code\\core\\fisher_utils_GLOW.py\u001b[0m in \u001b[0;36mCalculate_fisher_GLOW\u001b[1;34m(model, dataloader, params, max_iter, method)\u001b[0m\n\u001b[0;32m     78\u001b[0m                 \u001b[0mprint\u001b[0m\u001b[1;33m(\u001b[0m\u001b[0ma\u001b[0m\u001b[1;33m.\u001b[0m\u001b[0msum\u001b[0m\u001b[1;33m(\u001b[0m\u001b[1;33m)\u001b[0m\u001b[1;33m)\u001b[0m\u001b[1;33m\u001b[0m\u001b[1;33m\u001b[0m\u001b[0m\n\u001b[0;32m     79\u001b[0m                 \u001b[0mplt\u001b[0m\u001b[1;33m.\u001b[0m\u001b[0mscatter\u001b[0m\u001b[1;33m(\u001b[0m\u001b[0mrange\u001b[0m\u001b[1;33m(\u001b[0m\u001b[0mgrads\u001b[0m\u001b[1;33m[\u001b[0m\u001b[0mpname\u001b[0m\u001b[1;33m]\u001b[0m\u001b[1;33m.\u001b[0m\u001b[0msize\u001b[0m\u001b[1;33m(\u001b[0m\u001b[1;33m)\u001b[0m\u001b[1;33m[\u001b[0m\u001b[1;36m0\u001b[0m\u001b[1;33m]\u001b[0m\u001b[1;33m)\u001b[0m\u001b[1;33m,\u001b[0m \u001b[0ma\u001b[0m\u001b[1;33m,\u001b[0m \u001b[0ms\u001b[0m\u001b[1;33m=\u001b[0m\u001b[1;36m1\u001b[0m\u001b[1;33m)\u001b[0m\u001b[1;33m\u001b[0m\u001b[1;33m\u001b[0m\u001b[0m\n\u001b[1;32m---> 80\u001b[1;33m                 \u001b[0mplt\u001b[0m\u001b[1;33m.\u001b[0m\u001b[0mshow\u001b[0m\u001b[1;33m(\u001b[0m\u001b[1;33m)\u001b[0m\u001b[1;33m\u001b[0m\u001b[1;33m\u001b[0m\u001b[0m\n\u001b[0m\u001b[0;32m     81\u001b[0m                 \u001b[1;31m#grads[pname] = param.grad.view(-1) ** 2\u001b[0m\u001b[1;33m\u001b[0m\u001b[1;33m\u001b[0m\u001b[1;33m\u001b[0m\u001b[0m\n\u001b[0;32m     82\u001b[0m                 \u001b[1;32mif\u001b[0m \u001b[0mi\u001b[0m \u001b[1;33m==\u001b[0m \u001b[1;36m0\u001b[0m\u001b[1;33m:\u001b[0m\u001b[1;33m\u001b[0m\u001b[1;33m\u001b[0m\u001b[0m\n",
      "\u001b[1;32m~\\.conda\\envs\\torch\\lib\\site-packages\\matplotlib\\pyplot.py\u001b[0m in \u001b[0;36mshow\u001b[1;34m(*args, **kwargs)\u001b[0m\n\u001b[0;32m    376\u001b[0m     \"\"\"\n\u001b[0;32m    377\u001b[0m     \u001b[0m_warn_if_gui_out_of_main_thread\u001b[0m\u001b[1;33m(\u001b[0m\u001b[1;33m)\u001b[0m\u001b[1;33m\u001b[0m\u001b[1;33m\u001b[0m\u001b[0m\n\u001b[1;32m--> 378\u001b[1;33m     \u001b[1;32mreturn\u001b[0m \u001b[0m_backend_mod\u001b[0m\u001b[1;33m.\u001b[0m\u001b[0mshow\u001b[0m\u001b[1;33m(\u001b[0m\u001b[1;33m*\u001b[0m\u001b[0margs\u001b[0m\u001b[1;33m,\u001b[0m \u001b[1;33m**\u001b[0m\u001b[0mkwargs\u001b[0m\u001b[1;33m)\u001b[0m\u001b[1;33m\u001b[0m\u001b[1;33m\u001b[0m\u001b[0m\n\u001b[0m\u001b[0;32m    379\u001b[0m \u001b[1;33m\u001b[0m\u001b[0m\n\u001b[0;32m    380\u001b[0m \u001b[1;33m\u001b[0m\u001b[0m\n",
      "\u001b[1;32m~\\.conda\\envs\\torch\\lib\\site-packages\\ipykernel\\pylab\\backend_inline.py\u001b[0m in \u001b[0;36mshow\u001b[1;34m(close, block)\u001b[0m\n\u001b[0;32m     38\u001b[0m     \u001b[1;32mtry\u001b[0m\u001b[1;33m:\u001b[0m\u001b[1;33m\u001b[0m\u001b[1;33m\u001b[0m\u001b[0m\n\u001b[0;32m     39\u001b[0m         \u001b[1;32mfor\u001b[0m \u001b[0mfigure_manager\u001b[0m \u001b[1;32min\u001b[0m \u001b[0mGcf\u001b[0m\u001b[1;33m.\u001b[0m\u001b[0mget_all_fig_managers\u001b[0m\u001b[1;33m(\u001b[0m\u001b[1;33m)\u001b[0m\u001b[1;33m:\u001b[0m\u001b[1;33m\u001b[0m\u001b[1;33m\u001b[0m\u001b[0m\n\u001b[1;32m---> 40\u001b[1;33m             display(\n\u001b[0m\u001b[0;32m     41\u001b[0m                 \u001b[0mfigure_manager\u001b[0m\u001b[1;33m.\u001b[0m\u001b[0mcanvas\u001b[0m\u001b[1;33m.\u001b[0m\u001b[0mfigure\u001b[0m\u001b[1;33m,\u001b[0m\u001b[1;33m\u001b[0m\u001b[1;33m\u001b[0m\u001b[0m\n\u001b[0;32m     42\u001b[0m                 \u001b[0mmetadata\u001b[0m\u001b[1;33m=\u001b[0m\u001b[0m_fetch_figure_metadata\u001b[0m\u001b[1;33m(\u001b[0m\u001b[0mfigure_manager\u001b[0m\u001b[1;33m.\u001b[0m\u001b[0mcanvas\u001b[0m\u001b[1;33m.\u001b[0m\u001b[0mfigure\u001b[0m\u001b[1;33m)\u001b[0m\u001b[1;33m\u001b[0m\u001b[1;33m\u001b[0m\u001b[0m\n",
      "\u001b[1;32m~\\.conda\\envs\\torch\\lib\\site-packages\\IPython\\core\\display.py\u001b[0m in \u001b[0;36mdisplay\u001b[1;34m(include, exclude, metadata, transient, display_id, *objs, **kwargs)\u001b[0m\n\u001b[0;32m    318\u001b[0m             \u001b[0mpublish_display_data\u001b[0m\u001b[1;33m(\u001b[0m\u001b[0mdata\u001b[0m\u001b[1;33m=\u001b[0m\u001b[0mobj\u001b[0m\u001b[1;33m,\u001b[0m \u001b[0mmetadata\u001b[0m\u001b[1;33m=\u001b[0m\u001b[0mmetadata\u001b[0m\u001b[1;33m,\u001b[0m \u001b[1;33m**\u001b[0m\u001b[0mkwargs\u001b[0m\u001b[1;33m)\u001b[0m\u001b[1;33m\u001b[0m\u001b[1;33m\u001b[0m\u001b[0m\n\u001b[0;32m    319\u001b[0m         \u001b[1;32melse\u001b[0m\u001b[1;33m:\u001b[0m\u001b[1;33m\u001b[0m\u001b[1;33m\u001b[0m\u001b[0m\n\u001b[1;32m--> 320\u001b[1;33m             \u001b[0mformat_dict\u001b[0m\u001b[1;33m,\u001b[0m \u001b[0mmd_dict\u001b[0m \u001b[1;33m=\u001b[0m \u001b[0mformat\u001b[0m\u001b[1;33m(\u001b[0m\u001b[0mobj\u001b[0m\u001b[1;33m,\u001b[0m \u001b[0minclude\u001b[0m\u001b[1;33m=\u001b[0m\u001b[0minclude\u001b[0m\u001b[1;33m,\u001b[0m \u001b[0mexclude\u001b[0m\u001b[1;33m=\u001b[0m\u001b[0mexclude\u001b[0m\u001b[1;33m)\u001b[0m\u001b[1;33m\u001b[0m\u001b[1;33m\u001b[0m\u001b[0m\n\u001b[0m\u001b[0;32m    321\u001b[0m             \u001b[1;32mif\u001b[0m \u001b[1;32mnot\u001b[0m \u001b[0mformat_dict\u001b[0m\u001b[1;33m:\u001b[0m\u001b[1;33m\u001b[0m\u001b[1;33m\u001b[0m\u001b[0m\n\u001b[0;32m    322\u001b[0m                 \u001b[1;31m# nothing to display (e.g. _ipython_display_ took over)\u001b[0m\u001b[1;33m\u001b[0m\u001b[1;33m\u001b[0m\u001b[1;33m\u001b[0m\u001b[0m\n",
      "\u001b[1;32m~\\.conda\\envs\\torch\\lib\\site-packages\\IPython\\core\\formatters.py\u001b[0m in \u001b[0;36mformat\u001b[1;34m(self, obj, include, exclude)\u001b[0m\n\u001b[0;32m    178\u001b[0m             \u001b[0mmd\u001b[0m \u001b[1;33m=\u001b[0m \u001b[1;32mNone\u001b[0m\u001b[1;33m\u001b[0m\u001b[1;33m\u001b[0m\u001b[0m\n\u001b[0;32m    179\u001b[0m             \u001b[1;32mtry\u001b[0m\u001b[1;33m:\u001b[0m\u001b[1;33m\u001b[0m\u001b[1;33m\u001b[0m\u001b[0m\n\u001b[1;32m--> 180\u001b[1;33m                 \u001b[0mdata\u001b[0m \u001b[1;33m=\u001b[0m \u001b[0mformatter\u001b[0m\u001b[1;33m(\u001b[0m\u001b[0mobj\u001b[0m\u001b[1;33m)\u001b[0m\u001b[1;33m\u001b[0m\u001b[1;33m\u001b[0m\u001b[0m\n\u001b[0m\u001b[0;32m    181\u001b[0m             \u001b[1;32mexcept\u001b[0m\u001b[1;33m:\u001b[0m\u001b[1;33m\u001b[0m\u001b[1;33m\u001b[0m\u001b[0m\n\u001b[0;32m    182\u001b[0m                 \u001b[1;31m# FIXME: log the exception\u001b[0m\u001b[1;33m\u001b[0m\u001b[1;33m\u001b[0m\u001b[1;33m\u001b[0m\u001b[0m\n",
      "\u001b[1;32m~\\.conda\\envs\\torch\\lib\\site-packages\\decorator.py\u001b[0m in \u001b[0;36mfun\u001b[1;34m(*args, **kw)\u001b[0m\n\u001b[0;32m    230\u001b[0m             \u001b[1;32mif\u001b[0m \u001b[1;32mnot\u001b[0m \u001b[0mkwsyntax\u001b[0m\u001b[1;33m:\u001b[0m\u001b[1;33m\u001b[0m\u001b[1;33m\u001b[0m\u001b[0m\n\u001b[0;32m    231\u001b[0m                 \u001b[0margs\u001b[0m\u001b[1;33m,\u001b[0m \u001b[0mkw\u001b[0m \u001b[1;33m=\u001b[0m \u001b[0mfix\u001b[0m\u001b[1;33m(\u001b[0m\u001b[0margs\u001b[0m\u001b[1;33m,\u001b[0m \u001b[0mkw\u001b[0m\u001b[1;33m,\u001b[0m \u001b[0msig\u001b[0m\u001b[1;33m)\u001b[0m\u001b[1;33m\u001b[0m\u001b[1;33m\u001b[0m\u001b[0m\n\u001b[1;32m--> 232\u001b[1;33m             \u001b[1;32mreturn\u001b[0m \u001b[0mcaller\u001b[0m\u001b[1;33m(\u001b[0m\u001b[0mfunc\u001b[0m\u001b[1;33m,\u001b[0m \u001b[1;33m*\u001b[0m\u001b[1;33m(\u001b[0m\u001b[0mextras\u001b[0m \u001b[1;33m+\u001b[0m \u001b[0margs\u001b[0m\u001b[1;33m)\u001b[0m\u001b[1;33m,\u001b[0m \u001b[1;33m**\u001b[0m\u001b[0mkw\u001b[0m\u001b[1;33m)\u001b[0m\u001b[1;33m\u001b[0m\u001b[1;33m\u001b[0m\u001b[0m\n\u001b[0m\u001b[0;32m    233\u001b[0m     \u001b[0mfun\u001b[0m\u001b[1;33m.\u001b[0m\u001b[0m__name__\u001b[0m \u001b[1;33m=\u001b[0m \u001b[0mfunc\u001b[0m\u001b[1;33m.\u001b[0m\u001b[0m__name__\u001b[0m\u001b[1;33m\u001b[0m\u001b[1;33m\u001b[0m\u001b[0m\n\u001b[0;32m    234\u001b[0m     \u001b[0mfun\u001b[0m\u001b[1;33m.\u001b[0m\u001b[0m__doc__\u001b[0m \u001b[1;33m=\u001b[0m \u001b[0mfunc\u001b[0m\u001b[1;33m.\u001b[0m\u001b[0m__doc__\u001b[0m\u001b[1;33m\u001b[0m\u001b[1;33m\u001b[0m\u001b[0m\n",
      "\u001b[1;32m~\\.conda\\envs\\torch\\lib\\site-packages\\IPython\\core\\formatters.py\u001b[0m in \u001b[0;36mcatch_format_error\u001b[1;34m(method, self, *args, **kwargs)\u001b[0m\n\u001b[0;32m    222\u001b[0m     \u001b[1;34m\"\"\"show traceback on failed format call\"\"\"\u001b[0m\u001b[1;33m\u001b[0m\u001b[1;33m\u001b[0m\u001b[0m\n\u001b[0;32m    223\u001b[0m     \u001b[1;32mtry\u001b[0m\u001b[1;33m:\u001b[0m\u001b[1;33m\u001b[0m\u001b[1;33m\u001b[0m\u001b[0m\n\u001b[1;32m--> 224\u001b[1;33m         \u001b[0mr\u001b[0m \u001b[1;33m=\u001b[0m \u001b[0mmethod\u001b[0m\u001b[1;33m(\u001b[0m\u001b[0mself\u001b[0m\u001b[1;33m,\u001b[0m \u001b[1;33m*\u001b[0m\u001b[0margs\u001b[0m\u001b[1;33m,\u001b[0m \u001b[1;33m**\u001b[0m\u001b[0mkwargs\u001b[0m\u001b[1;33m)\u001b[0m\u001b[1;33m\u001b[0m\u001b[1;33m\u001b[0m\u001b[0m\n\u001b[0m\u001b[0;32m    225\u001b[0m     \u001b[1;32mexcept\u001b[0m \u001b[0mNotImplementedError\u001b[0m\u001b[1;33m:\u001b[0m\u001b[1;33m\u001b[0m\u001b[1;33m\u001b[0m\u001b[0m\n\u001b[0;32m    226\u001b[0m         \u001b[1;31m# don't warn on NotImplementedErrors\u001b[0m\u001b[1;33m\u001b[0m\u001b[1;33m\u001b[0m\u001b[1;33m\u001b[0m\u001b[0m\n",
      "\u001b[1;32m~\\.conda\\envs\\torch\\lib\\site-packages\\IPython\\core\\formatters.py\u001b[0m in \u001b[0;36m__call__\u001b[1;34m(self, obj)\u001b[0m\n\u001b[0;32m    339\u001b[0m                 \u001b[1;32mpass\u001b[0m\u001b[1;33m\u001b[0m\u001b[1;33m\u001b[0m\u001b[0m\n\u001b[0;32m    340\u001b[0m             \u001b[1;32melse\u001b[0m\u001b[1;33m:\u001b[0m\u001b[1;33m\u001b[0m\u001b[1;33m\u001b[0m\u001b[0m\n\u001b[1;32m--> 341\u001b[1;33m                 \u001b[1;32mreturn\u001b[0m \u001b[0mprinter\u001b[0m\u001b[1;33m(\u001b[0m\u001b[0mobj\u001b[0m\u001b[1;33m)\u001b[0m\u001b[1;33m\u001b[0m\u001b[1;33m\u001b[0m\u001b[0m\n\u001b[0m\u001b[0;32m    342\u001b[0m             \u001b[1;31m# Finally look for special method names\u001b[0m\u001b[1;33m\u001b[0m\u001b[1;33m\u001b[0m\u001b[1;33m\u001b[0m\u001b[0m\n\u001b[0;32m    343\u001b[0m             \u001b[0mmethod\u001b[0m \u001b[1;33m=\u001b[0m \u001b[0mget_real_method\u001b[0m\u001b[1;33m(\u001b[0m\u001b[0mobj\u001b[0m\u001b[1;33m,\u001b[0m \u001b[0mself\u001b[0m\u001b[1;33m.\u001b[0m\u001b[0mprint_method\u001b[0m\u001b[1;33m)\u001b[0m\u001b[1;33m\u001b[0m\u001b[1;33m\u001b[0m\u001b[0m\n",
      "\u001b[1;32m~\\.conda\\envs\\torch\\lib\\site-packages\\IPython\\core\\pylabtools.py\u001b[0m in \u001b[0;36m<lambda>\u001b[1;34m(fig)\u001b[0m\n\u001b[0;32m    248\u001b[0m \u001b[1;33m\u001b[0m\u001b[0m\n\u001b[0;32m    249\u001b[0m     \u001b[1;32mif\u001b[0m \u001b[1;34m'png'\u001b[0m \u001b[1;32min\u001b[0m \u001b[0mformats\u001b[0m\u001b[1;33m:\u001b[0m\u001b[1;33m\u001b[0m\u001b[1;33m\u001b[0m\u001b[0m\n\u001b[1;32m--> 250\u001b[1;33m         \u001b[0mpng_formatter\u001b[0m\u001b[1;33m.\u001b[0m\u001b[0mfor_type\u001b[0m\u001b[1;33m(\u001b[0m\u001b[0mFigure\u001b[0m\u001b[1;33m,\u001b[0m \u001b[1;32mlambda\u001b[0m \u001b[0mfig\u001b[0m\u001b[1;33m:\u001b[0m \u001b[0mprint_figure\u001b[0m\u001b[1;33m(\u001b[0m\u001b[0mfig\u001b[0m\u001b[1;33m,\u001b[0m \u001b[1;34m'png'\u001b[0m\u001b[1;33m,\u001b[0m \u001b[1;33m**\u001b[0m\u001b[0mkwargs\u001b[0m\u001b[1;33m)\u001b[0m\u001b[1;33m)\u001b[0m\u001b[1;33m\u001b[0m\u001b[1;33m\u001b[0m\u001b[0m\n\u001b[0m\u001b[0;32m    251\u001b[0m     \u001b[1;32mif\u001b[0m \u001b[1;34m'retina'\u001b[0m \u001b[1;32min\u001b[0m \u001b[0mformats\u001b[0m \u001b[1;32mor\u001b[0m \u001b[1;34m'png2x'\u001b[0m \u001b[1;32min\u001b[0m \u001b[0mformats\u001b[0m\u001b[1;33m:\u001b[0m\u001b[1;33m\u001b[0m\u001b[1;33m\u001b[0m\u001b[0m\n\u001b[0;32m    252\u001b[0m         \u001b[0mpng_formatter\u001b[0m\u001b[1;33m.\u001b[0m\u001b[0mfor_type\u001b[0m\u001b[1;33m(\u001b[0m\u001b[0mFigure\u001b[0m\u001b[1;33m,\u001b[0m \u001b[1;32mlambda\u001b[0m \u001b[0mfig\u001b[0m\u001b[1;33m:\u001b[0m \u001b[0mretina_figure\u001b[0m\u001b[1;33m(\u001b[0m\u001b[0mfig\u001b[0m\u001b[1;33m,\u001b[0m \u001b[1;33m**\u001b[0m\u001b[0mkwargs\u001b[0m\u001b[1;33m)\u001b[0m\u001b[1;33m)\u001b[0m\u001b[1;33m\u001b[0m\u001b[1;33m\u001b[0m\u001b[0m\n",
      "\u001b[1;32m~\\.conda\\envs\\torch\\lib\\site-packages\\IPython\\core\\pylabtools.py\u001b[0m in \u001b[0;36mprint_figure\u001b[1;34m(fig, fmt, bbox_inches, **kwargs)\u001b[0m\n\u001b[0;32m    132\u001b[0m         \u001b[0mFigureCanvasBase\u001b[0m\u001b[1;33m(\u001b[0m\u001b[0mfig\u001b[0m\u001b[1;33m)\u001b[0m\u001b[1;33m\u001b[0m\u001b[1;33m\u001b[0m\u001b[0m\n\u001b[0;32m    133\u001b[0m \u001b[1;33m\u001b[0m\u001b[0m\n\u001b[1;32m--> 134\u001b[1;33m     \u001b[0mfig\u001b[0m\u001b[1;33m.\u001b[0m\u001b[0mcanvas\u001b[0m\u001b[1;33m.\u001b[0m\u001b[0mprint_figure\u001b[0m\u001b[1;33m(\u001b[0m\u001b[0mbytes_io\u001b[0m\u001b[1;33m,\u001b[0m \u001b[1;33m**\u001b[0m\u001b[0mkw\u001b[0m\u001b[1;33m)\u001b[0m\u001b[1;33m\u001b[0m\u001b[1;33m\u001b[0m\u001b[0m\n\u001b[0m\u001b[0;32m    135\u001b[0m     \u001b[0mdata\u001b[0m \u001b[1;33m=\u001b[0m \u001b[0mbytes_io\u001b[0m\u001b[1;33m.\u001b[0m\u001b[0mgetvalue\u001b[0m\u001b[1;33m(\u001b[0m\u001b[1;33m)\u001b[0m\u001b[1;33m\u001b[0m\u001b[1;33m\u001b[0m\u001b[0m\n\u001b[0;32m    136\u001b[0m     \u001b[1;32mif\u001b[0m \u001b[0mfmt\u001b[0m \u001b[1;33m==\u001b[0m \u001b[1;34m'svg'\u001b[0m\u001b[1;33m:\u001b[0m\u001b[1;33m\u001b[0m\u001b[1;33m\u001b[0m\u001b[0m\n",
      "\u001b[1;32m~\\.conda\\envs\\torch\\lib\\site-packages\\matplotlib\\backend_bases.py\u001b[0m in \u001b[0;36mprint_figure\u001b[1;34m(self, filename, dpi, facecolor, edgecolor, orientation, format, bbox_inches, pad_inches, bbox_extra_artists, backend, **kwargs)\u001b[0m\n\u001b[0;32m   2253\u001b[0m                 \u001b[1;31m# force the figure dpi to 72), so we need to set it again here.\u001b[0m\u001b[1;33m\u001b[0m\u001b[1;33m\u001b[0m\u001b[1;33m\u001b[0m\u001b[0m\n\u001b[0;32m   2254\u001b[0m                 \u001b[1;32mwith\u001b[0m \u001b[0mcbook\u001b[0m\u001b[1;33m.\u001b[0m\u001b[0m_setattr_cm\u001b[0m\u001b[1;33m(\u001b[0m\u001b[0mself\u001b[0m\u001b[1;33m.\u001b[0m\u001b[0mfigure\u001b[0m\u001b[1;33m,\u001b[0m \u001b[0mdpi\u001b[0m\u001b[1;33m=\u001b[0m\u001b[0mdpi\u001b[0m\u001b[1;33m)\u001b[0m\u001b[1;33m:\u001b[0m\u001b[1;33m\u001b[0m\u001b[1;33m\u001b[0m\u001b[0m\n\u001b[1;32m-> 2255\u001b[1;33m                     result = print_method(\n\u001b[0m\u001b[0;32m   2256\u001b[0m                         \u001b[0mfilename\u001b[0m\u001b[1;33m,\u001b[0m\u001b[1;33m\u001b[0m\u001b[1;33m\u001b[0m\u001b[0m\n\u001b[0;32m   2257\u001b[0m                         \u001b[0mfacecolor\u001b[0m\u001b[1;33m=\u001b[0m\u001b[0mfacecolor\u001b[0m\u001b[1;33m,\u001b[0m\u001b[1;33m\u001b[0m\u001b[1;33m\u001b[0m\u001b[0m\n",
      "\u001b[1;32m~\\.conda\\envs\\torch\\lib\\site-packages\\matplotlib\\backend_bases.py\u001b[0m in \u001b[0;36mwrapper\u001b[1;34m(*args, **kwargs)\u001b[0m\n\u001b[0;32m   1667\u001b[0m             \u001b[0mkwargs\u001b[0m\u001b[1;33m.\u001b[0m\u001b[0mpop\u001b[0m\u001b[1;33m(\u001b[0m\u001b[0marg\u001b[0m\u001b[1;33m)\u001b[0m\u001b[1;33m\u001b[0m\u001b[1;33m\u001b[0m\u001b[0m\n\u001b[0;32m   1668\u001b[0m \u001b[1;33m\u001b[0m\u001b[0m\n\u001b[1;32m-> 1669\u001b[1;33m         \u001b[1;32mreturn\u001b[0m \u001b[0mfunc\u001b[0m\u001b[1;33m(\u001b[0m\u001b[1;33m*\u001b[0m\u001b[0margs\u001b[0m\u001b[1;33m,\u001b[0m \u001b[1;33m**\u001b[0m\u001b[0mkwargs\u001b[0m\u001b[1;33m)\u001b[0m\u001b[1;33m\u001b[0m\u001b[1;33m\u001b[0m\u001b[0m\n\u001b[0m\u001b[0;32m   1670\u001b[0m \u001b[1;33m\u001b[0m\u001b[0m\n\u001b[0;32m   1671\u001b[0m     \u001b[1;32mreturn\u001b[0m \u001b[0mwrapper\u001b[0m\u001b[1;33m\u001b[0m\u001b[1;33m\u001b[0m\u001b[0m\n",
      "\u001b[1;32m~\\.conda\\envs\\torch\\lib\\site-packages\\matplotlib\\backends\\backend_agg.py\u001b[0m in \u001b[0;36mprint_png\u001b[1;34m(self, filename_or_obj, metadata, pil_kwargs, *args)\u001b[0m\n\u001b[0;32m    506\u001b[0m             \u001b[1;33m*\u001b[0m\u001b[0mmetadata\u001b[0m\u001b[1;33m*\u001b[0m\u001b[1;33m,\u001b[0m \u001b[0mincluding\u001b[0m \u001b[0mthe\u001b[0m \u001b[0mdefault\u001b[0m \u001b[1;34m'Software'\u001b[0m \u001b[0mkey\u001b[0m\u001b[1;33m.\u001b[0m\u001b[1;33m\u001b[0m\u001b[1;33m\u001b[0m\u001b[0m\n\u001b[0;32m    507\u001b[0m         \"\"\"\n\u001b[1;32m--> 508\u001b[1;33m         \u001b[0mFigureCanvasAgg\u001b[0m\u001b[1;33m.\u001b[0m\u001b[0mdraw\u001b[0m\u001b[1;33m(\u001b[0m\u001b[0mself\u001b[0m\u001b[1;33m)\u001b[0m\u001b[1;33m\u001b[0m\u001b[1;33m\u001b[0m\u001b[0m\n\u001b[0m\u001b[0;32m    509\u001b[0m         mpl.image.imsave(\n\u001b[0;32m    510\u001b[0m             \u001b[0mfilename_or_obj\u001b[0m\u001b[1;33m,\u001b[0m \u001b[0mself\u001b[0m\u001b[1;33m.\u001b[0m\u001b[0mbuffer_rgba\u001b[0m\u001b[1;33m(\u001b[0m\u001b[1;33m)\u001b[0m\u001b[1;33m,\u001b[0m \u001b[0mformat\u001b[0m\u001b[1;33m=\u001b[0m\u001b[1;34m\"png\"\u001b[0m\u001b[1;33m,\u001b[0m \u001b[0morigin\u001b[0m\u001b[1;33m=\u001b[0m\u001b[1;34m\"upper\"\u001b[0m\u001b[1;33m,\u001b[0m\u001b[1;33m\u001b[0m\u001b[1;33m\u001b[0m\u001b[0m\n",
      "\u001b[1;32m~\\.conda\\envs\\torch\\lib\\site-packages\\matplotlib\\backends\\backend_agg.py\u001b[0m in \u001b[0;36mdraw\u001b[1;34m(self)\u001b[0m\n\u001b[0;32m    404\u001b[0m              (self.toolbar._wait_cursor_for_draw_cm() if self.toolbar\n\u001b[0;32m    405\u001b[0m               else nullcontext()):\n\u001b[1;32m--> 406\u001b[1;33m             \u001b[0mself\u001b[0m\u001b[1;33m.\u001b[0m\u001b[0mfigure\u001b[0m\u001b[1;33m.\u001b[0m\u001b[0mdraw\u001b[0m\u001b[1;33m(\u001b[0m\u001b[0mself\u001b[0m\u001b[1;33m.\u001b[0m\u001b[0mrenderer\u001b[0m\u001b[1;33m)\u001b[0m\u001b[1;33m\u001b[0m\u001b[1;33m\u001b[0m\u001b[0m\n\u001b[0m\u001b[0;32m    407\u001b[0m             \u001b[1;31m# A GUI class may be need to update a window using this draw, so\u001b[0m\u001b[1;33m\u001b[0m\u001b[1;33m\u001b[0m\u001b[1;33m\u001b[0m\u001b[0m\n\u001b[0;32m    408\u001b[0m             \u001b[1;31m# don't forget to call the superclass.\u001b[0m\u001b[1;33m\u001b[0m\u001b[1;33m\u001b[0m\u001b[1;33m\u001b[0m\u001b[0m\n",
      "\u001b[1;32m~\\.conda\\envs\\torch\\lib\\site-packages\\matplotlib\\artist.py\u001b[0m in \u001b[0;36mdraw_wrapper\u001b[1;34m(artist, renderer, *args, **kwargs)\u001b[0m\n\u001b[0;32m     72\u001b[0m     \u001b[1;33m@\u001b[0m\u001b[0mwraps\u001b[0m\u001b[1;33m(\u001b[0m\u001b[0mdraw\u001b[0m\u001b[1;33m)\u001b[0m\u001b[1;33m\u001b[0m\u001b[1;33m\u001b[0m\u001b[0m\n\u001b[0;32m     73\u001b[0m     \u001b[1;32mdef\u001b[0m \u001b[0mdraw_wrapper\u001b[0m\u001b[1;33m(\u001b[0m\u001b[0martist\u001b[0m\u001b[1;33m,\u001b[0m \u001b[0mrenderer\u001b[0m\u001b[1;33m,\u001b[0m \u001b[1;33m*\u001b[0m\u001b[0margs\u001b[0m\u001b[1;33m,\u001b[0m \u001b[1;33m**\u001b[0m\u001b[0mkwargs\u001b[0m\u001b[1;33m)\u001b[0m\u001b[1;33m:\u001b[0m\u001b[1;33m\u001b[0m\u001b[1;33m\u001b[0m\u001b[0m\n\u001b[1;32m---> 74\u001b[1;33m         \u001b[0mresult\u001b[0m \u001b[1;33m=\u001b[0m \u001b[0mdraw\u001b[0m\u001b[1;33m(\u001b[0m\u001b[0martist\u001b[0m\u001b[1;33m,\u001b[0m \u001b[0mrenderer\u001b[0m\u001b[1;33m,\u001b[0m \u001b[1;33m*\u001b[0m\u001b[0margs\u001b[0m\u001b[1;33m,\u001b[0m \u001b[1;33m**\u001b[0m\u001b[0mkwargs\u001b[0m\u001b[1;33m)\u001b[0m\u001b[1;33m\u001b[0m\u001b[1;33m\u001b[0m\u001b[0m\n\u001b[0m\u001b[0;32m     75\u001b[0m         \u001b[1;32mif\u001b[0m \u001b[0mrenderer\u001b[0m\u001b[1;33m.\u001b[0m\u001b[0m_rasterizing\u001b[0m\u001b[1;33m:\u001b[0m\u001b[1;33m\u001b[0m\u001b[1;33m\u001b[0m\u001b[0m\n\u001b[0;32m     76\u001b[0m             \u001b[0mrenderer\u001b[0m\u001b[1;33m.\u001b[0m\u001b[0mstop_rasterizing\u001b[0m\u001b[1;33m(\u001b[0m\u001b[1;33m)\u001b[0m\u001b[1;33m\u001b[0m\u001b[1;33m\u001b[0m\u001b[0m\n",
      "\u001b[1;32m~\\.conda\\envs\\torch\\lib\\site-packages\\matplotlib\\artist.py\u001b[0m in \u001b[0;36mdraw_wrapper\u001b[1;34m(artist, renderer, *args, **kwargs)\u001b[0m\n\u001b[0;32m     49\u001b[0m                 \u001b[0mrenderer\u001b[0m\u001b[1;33m.\u001b[0m\u001b[0mstart_filter\u001b[0m\u001b[1;33m(\u001b[0m\u001b[1;33m)\u001b[0m\u001b[1;33m\u001b[0m\u001b[1;33m\u001b[0m\u001b[0m\n\u001b[0;32m     50\u001b[0m \u001b[1;33m\u001b[0m\u001b[0m\n\u001b[1;32m---> 51\u001b[1;33m             \u001b[1;32mreturn\u001b[0m \u001b[0mdraw\u001b[0m\u001b[1;33m(\u001b[0m\u001b[0martist\u001b[0m\u001b[1;33m,\u001b[0m \u001b[0mrenderer\u001b[0m\u001b[1;33m,\u001b[0m \u001b[1;33m*\u001b[0m\u001b[0margs\u001b[0m\u001b[1;33m,\u001b[0m \u001b[1;33m**\u001b[0m\u001b[0mkwargs\u001b[0m\u001b[1;33m)\u001b[0m\u001b[1;33m\u001b[0m\u001b[1;33m\u001b[0m\u001b[0m\n\u001b[0m\u001b[0;32m     52\u001b[0m         \u001b[1;32mfinally\u001b[0m\u001b[1;33m:\u001b[0m\u001b[1;33m\u001b[0m\u001b[1;33m\u001b[0m\u001b[0m\n\u001b[0;32m     53\u001b[0m             \u001b[1;32mif\u001b[0m \u001b[0martist\u001b[0m\u001b[1;33m.\u001b[0m\u001b[0mget_agg_filter\u001b[0m\u001b[1;33m(\u001b[0m\u001b[1;33m)\u001b[0m \u001b[1;32mis\u001b[0m \u001b[1;32mnot\u001b[0m \u001b[1;32mNone\u001b[0m\u001b[1;33m:\u001b[0m\u001b[1;33m\u001b[0m\u001b[1;33m\u001b[0m\u001b[0m\n",
      "\u001b[1;32m~\\.conda\\envs\\torch\\lib\\site-packages\\matplotlib\\figure.py\u001b[0m in \u001b[0;36mdraw\u001b[1;34m(self, renderer)\u001b[0m\n\u001b[0;32m   2778\u001b[0m \u001b[1;33m\u001b[0m\u001b[0m\n\u001b[0;32m   2779\u001b[0m             \u001b[0mself\u001b[0m\u001b[1;33m.\u001b[0m\u001b[0mpatch\u001b[0m\u001b[1;33m.\u001b[0m\u001b[0mdraw\u001b[0m\u001b[1;33m(\u001b[0m\u001b[0mrenderer\u001b[0m\u001b[1;33m)\u001b[0m\u001b[1;33m\u001b[0m\u001b[1;33m\u001b[0m\u001b[0m\n\u001b[1;32m-> 2780\u001b[1;33m             mimage._draw_list_compositing_images(\n\u001b[0m\u001b[0;32m   2781\u001b[0m                 renderer, self, artists, self.suppressComposite)\n\u001b[0;32m   2782\u001b[0m \u001b[1;33m\u001b[0m\u001b[0m\n",
      "\u001b[1;32m~\\.conda\\envs\\torch\\lib\\site-packages\\matplotlib\\image.py\u001b[0m in \u001b[0;36m_draw_list_compositing_images\u001b[1;34m(renderer, parent, artists, suppress_composite)\u001b[0m\n\u001b[0;32m    130\u001b[0m     \u001b[1;32mif\u001b[0m \u001b[0mnot_composite\u001b[0m \u001b[1;32mor\u001b[0m \u001b[1;32mnot\u001b[0m \u001b[0mhas_images\u001b[0m\u001b[1;33m:\u001b[0m\u001b[1;33m\u001b[0m\u001b[1;33m\u001b[0m\u001b[0m\n\u001b[0;32m    131\u001b[0m         \u001b[1;32mfor\u001b[0m \u001b[0ma\u001b[0m \u001b[1;32min\u001b[0m \u001b[0martists\u001b[0m\u001b[1;33m:\u001b[0m\u001b[1;33m\u001b[0m\u001b[1;33m\u001b[0m\u001b[0m\n\u001b[1;32m--> 132\u001b[1;33m             \u001b[0ma\u001b[0m\u001b[1;33m.\u001b[0m\u001b[0mdraw\u001b[0m\u001b[1;33m(\u001b[0m\u001b[0mrenderer\u001b[0m\u001b[1;33m)\u001b[0m\u001b[1;33m\u001b[0m\u001b[1;33m\u001b[0m\u001b[0m\n\u001b[0m\u001b[0;32m    133\u001b[0m     \u001b[1;32melse\u001b[0m\u001b[1;33m:\u001b[0m\u001b[1;33m\u001b[0m\u001b[1;33m\u001b[0m\u001b[0m\n\u001b[0;32m    134\u001b[0m         \u001b[1;31m# Composite any adjacent images together\u001b[0m\u001b[1;33m\u001b[0m\u001b[1;33m\u001b[0m\u001b[1;33m\u001b[0m\u001b[0m\n",
      "\u001b[1;32m~\\.conda\\envs\\torch\\lib\\site-packages\\matplotlib\\artist.py\u001b[0m in \u001b[0;36mdraw_wrapper\u001b[1;34m(artist, renderer, *args, **kwargs)\u001b[0m\n\u001b[0;32m     49\u001b[0m                 \u001b[0mrenderer\u001b[0m\u001b[1;33m.\u001b[0m\u001b[0mstart_filter\u001b[0m\u001b[1;33m(\u001b[0m\u001b[1;33m)\u001b[0m\u001b[1;33m\u001b[0m\u001b[1;33m\u001b[0m\u001b[0m\n\u001b[0;32m     50\u001b[0m \u001b[1;33m\u001b[0m\u001b[0m\n\u001b[1;32m---> 51\u001b[1;33m             \u001b[1;32mreturn\u001b[0m \u001b[0mdraw\u001b[0m\u001b[1;33m(\u001b[0m\u001b[0martist\u001b[0m\u001b[1;33m,\u001b[0m \u001b[0mrenderer\u001b[0m\u001b[1;33m,\u001b[0m \u001b[1;33m*\u001b[0m\u001b[0margs\u001b[0m\u001b[1;33m,\u001b[0m \u001b[1;33m**\u001b[0m\u001b[0mkwargs\u001b[0m\u001b[1;33m)\u001b[0m\u001b[1;33m\u001b[0m\u001b[1;33m\u001b[0m\u001b[0m\n\u001b[0m\u001b[0;32m     52\u001b[0m         \u001b[1;32mfinally\u001b[0m\u001b[1;33m:\u001b[0m\u001b[1;33m\u001b[0m\u001b[1;33m\u001b[0m\u001b[0m\n\u001b[0;32m     53\u001b[0m             \u001b[1;32mif\u001b[0m \u001b[0martist\u001b[0m\u001b[1;33m.\u001b[0m\u001b[0mget_agg_filter\u001b[0m\u001b[1;33m(\u001b[0m\u001b[1;33m)\u001b[0m \u001b[1;32mis\u001b[0m \u001b[1;32mnot\u001b[0m \u001b[1;32mNone\u001b[0m\u001b[1;33m:\u001b[0m\u001b[1;33m\u001b[0m\u001b[1;33m\u001b[0m\u001b[0m\n",
      "\u001b[1;32m~\\.conda\\envs\\torch\\lib\\site-packages\\matplotlib\\_api\\deprecation.py\u001b[0m in \u001b[0;36mwrapper\u001b[1;34m(*inner_args, **inner_kwargs)\u001b[0m\n\u001b[0;32m    429\u001b[0m                          \u001b[1;32melse\u001b[0m \u001b[0mdeprecation_addendum\u001b[0m\u001b[1;33m,\u001b[0m\u001b[1;33m\u001b[0m\u001b[1;33m\u001b[0m\u001b[0m\n\u001b[0;32m    430\u001b[0m                 **kwargs)\n\u001b[1;32m--> 431\u001b[1;33m         \u001b[1;32mreturn\u001b[0m \u001b[0mfunc\u001b[0m\u001b[1;33m(\u001b[0m\u001b[1;33m*\u001b[0m\u001b[0minner_args\u001b[0m\u001b[1;33m,\u001b[0m \u001b[1;33m**\u001b[0m\u001b[0minner_kwargs\u001b[0m\u001b[1;33m)\u001b[0m\u001b[1;33m\u001b[0m\u001b[1;33m\u001b[0m\u001b[0m\n\u001b[0m\u001b[0;32m    432\u001b[0m \u001b[1;33m\u001b[0m\u001b[0m\n\u001b[0;32m    433\u001b[0m     \u001b[1;32mreturn\u001b[0m \u001b[0mwrapper\u001b[0m\u001b[1;33m\u001b[0m\u001b[1;33m\u001b[0m\u001b[0m\n",
      "\u001b[1;32m~\\.conda\\envs\\torch\\lib\\site-packages\\matplotlib\\axes\\_base.py\u001b[0m in \u001b[0;36mdraw\u001b[1;34m(self, renderer, inframe)\u001b[0m\n\u001b[0;32m   2919\u001b[0m             \u001b[0mrenderer\u001b[0m\u001b[1;33m.\u001b[0m\u001b[0mstop_rasterizing\u001b[0m\u001b[1;33m(\u001b[0m\u001b[1;33m)\u001b[0m\u001b[1;33m\u001b[0m\u001b[1;33m\u001b[0m\u001b[0m\n\u001b[0;32m   2920\u001b[0m \u001b[1;33m\u001b[0m\u001b[0m\n\u001b[1;32m-> 2921\u001b[1;33m         \u001b[0mmimage\u001b[0m\u001b[1;33m.\u001b[0m\u001b[0m_draw_list_compositing_images\u001b[0m\u001b[1;33m(\u001b[0m\u001b[0mrenderer\u001b[0m\u001b[1;33m,\u001b[0m \u001b[0mself\u001b[0m\u001b[1;33m,\u001b[0m \u001b[0martists\u001b[0m\u001b[1;33m)\u001b[0m\u001b[1;33m\u001b[0m\u001b[1;33m\u001b[0m\u001b[0m\n\u001b[0m\u001b[0;32m   2922\u001b[0m \u001b[1;33m\u001b[0m\u001b[0m\n\u001b[0;32m   2923\u001b[0m         \u001b[0mrenderer\u001b[0m\u001b[1;33m.\u001b[0m\u001b[0mclose_group\u001b[0m\u001b[1;33m(\u001b[0m\u001b[1;34m'axes'\u001b[0m\u001b[1;33m)\u001b[0m\u001b[1;33m\u001b[0m\u001b[1;33m\u001b[0m\u001b[0m\n",
      "\u001b[1;32m~\\.conda\\envs\\torch\\lib\\site-packages\\matplotlib\\image.py\u001b[0m in \u001b[0;36m_draw_list_compositing_images\u001b[1;34m(renderer, parent, artists, suppress_composite)\u001b[0m\n\u001b[0;32m    130\u001b[0m     \u001b[1;32mif\u001b[0m \u001b[0mnot_composite\u001b[0m \u001b[1;32mor\u001b[0m \u001b[1;32mnot\u001b[0m \u001b[0mhas_images\u001b[0m\u001b[1;33m:\u001b[0m\u001b[1;33m\u001b[0m\u001b[1;33m\u001b[0m\u001b[0m\n\u001b[0;32m    131\u001b[0m         \u001b[1;32mfor\u001b[0m \u001b[0ma\u001b[0m \u001b[1;32min\u001b[0m \u001b[0martists\u001b[0m\u001b[1;33m:\u001b[0m\u001b[1;33m\u001b[0m\u001b[1;33m\u001b[0m\u001b[0m\n\u001b[1;32m--> 132\u001b[1;33m             \u001b[0ma\u001b[0m\u001b[1;33m.\u001b[0m\u001b[0mdraw\u001b[0m\u001b[1;33m(\u001b[0m\u001b[0mrenderer\u001b[0m\u001b[1;33m)\u001b[0m\u001b[1;33m\u001b[0m\u001b[1;33m\u001b[0m\u001b[0m\n\u001b[0m\u001b[0;32m    133\u001b[0m     \u001b[1;32melse\u001b[0m\u001b[1;33m:\u001b[0m\u001b[1;33m\u001b[0m\u001b[1;33m\u001b[0m\u001b[0m\n\u001b[0;32m    134\u001b[0m         \u001b[1;31m# Composite any adjacent images together\u001b[0m\u001b[1;33m\u001b[0m\u001b[1;33m\u001b[0m\u001b[1;33m\u001b[0m\u001b[0m\n",
      "\u001b[1;32m~\\.conda\\envs\\torch\\lib\\site-packages\\matplotlib\\artist.py\u001b[0m in \u001b[0;36mdraw_wrapper\u001b[1;34m(artist, renderer, *args, **kwargs)\u001b[0m\n\u001b[0;32m     49\u001b[0m                 \u001b[0mrenderer\u001b[0m\u001b[1;33m.\u001b[0m\u001b[0mstart_filter\u001b[0m\u001b[1;33m(\u001b[0m\u001b[1;33m)\u001b[0m\u001b[1;33m\u001b[0m\u001b[1;33m\u001b[0m\u001b[0m\n\u001b[0;32m     50\u001b[0m \u001b[1;33m\u001b[0m\u001b[0m\n\u001b[1;32m---> 51\u001b[1;33m             \u001b[1;32mreturn\u001b[0m \u001b[0mdraw\u001b[0m\u001b[1;33m(\u001b[0m\u001b[0martist\u001b[0m\u001b[1;33m,\u001b[0m \u001b[0mrenderer\u001b[0m\u001b[1;33m,\u001b[0m \u001b[1;33m*\u001b[0m\u001b[0margs\u001b[0m\u001b[1;33m,\u001b[0m \u001b[1;33m**\u001b[0m\u001b[0mkwargs\u001b[0m\u001b[1;33m)\u001b[0m\u001b[1;33m\u001b[0m\u001b[1;33m\u001b[0m\u001b[0m\n\u001b[0m\u001b[0;32m     52\u001b[0m         \u001b[1;32mfinally\u001b[0m\u001b[1;33m:\u001b[0m\u001b[1;33m\u001b[0m\u001b[1;33m\u001b[0m\u001b[0m\n\u001b[0;32m     53\u001b[0m             \u001b[1;32mif\u001b[0m \u001b[0martist\u001b[0m\u001b[1;33m.\u001b[0m\u001b[0mget_agg_filter\u001b[0m\u001b[1;33m(\u001b[0m\u001b[1;33m)\u001b[0m \u001b[1;32mis\u001b[0m \u001b[1;32mnot\u001b[0m \u001b[1;32mNone\u001b[0m\u001b[1;33m:\u001b[0m\u001b[1;33m\u001b[0m\u001b[1;33m\u001b[0m\u001b[0m\n",
      "\u001b[1;32m~\\.conda\\envs\\torch\\lib\\site-packages\\matplotlib\\axis.py\u001b[0m in \u001b[0;36mdraw\u001b[1;34m(self, renderer, *args, **kwargs)\u001b[0m\n\u001b[0;32m   1135\u001b[0m \u001b[1;33m\u001b[0m\u001b[0m\n\u001b[0;32m   1136\u001b[0m         \u001b[0mticks_to_draw\u001b[0m \u001b[1;33m=\u001b[0m \u001b[0mself\u001b[0m\u001b[1;33m.\u001b[0m\u001b[0m_update_ticks\u001b[0m\u001b[1;33m(\u001b[0m\u001b[1;33m)\u001b[0m\u001b[1;33m\u001b[0m\u001b[1;33m\u001b[0m\u001b[0m\n\u001b[1;32m-> 1137\u001b[1;33m         ticklabelBoxes, ticklabelBoxes2 = self._get_tick_bboxes(ticks_to_draw,\n\u001b[0m\u001b[0;32m   1138\u001b[0m                                                                 renderer)\n\u001b[0;32m   1139\u001b[0m \u001b[1;33m\u001b[0m\u001b[0m\n",
      "\u001b[1;32m~\\.conda\\envs\\torch\\lib\\site-packages\\matplotlib\\axis.py\u001b[0m in \u001b[0;36m_get_tick_bboxes\u001b[1;34m(self, ticks, renderer)\u001b[0m\n\u001b[0;32m   1061\u001b[0m     \u001b[1;32mdef\u001b[0m \u001b[0m_get_tick_bboxes\u001b[0m\u001b[1;33m(\u001b[0m\u001b[0mself\u001b[0m\u001b[1;33m,\u001b[0m \u001b[0mticks\u001b[0m\u001b[1;33m,\u001b[0m \u001b[0mrenderer\u001b[0m\u001b[1;33m)\u001b[0m\u001b[1;33m:\u001b[0m\u001b[1;33m\u001b[0m\u001b[1;33m\u001b[0m\u001b[0m\n\u001b[0;32m   1062\u001b[0m         \u001b[1;34m\"\"\"Return lists of bboxes for ticks' label1's and label2's.\"\"\"\u001b[0m\u001b[1;33m\u001b[0m\u001b[1;33m\u001b[0m\u001b[0m\n\u001b[1;32m-> 1063\u001b[1;33m         return ([tick.label1.get_window_extent(renderer)\n\u001b[0m\u001b[0;32m   1064\u001b[0m                  for tick in ticks if tick.label1.get_visible()],\n\u001b[0;32m   1065\u001b[0m                 [tick.label2.get_window_extent(renderer)\n",
      "\u001b[1;32m~\\.conda\\envs\\torch\\lib\\site-packages\\matplotlib\\axis.py\u001b[0m in \u001b[0;36m<listcomp>\u001b[1;34m(.0)\u001b[0m\n\u001b[0;32m   1061\u001b[0m     \u001b[1;32mdef\u001b[0m \u001b[0m_get_tick_bboxes\u001b[0m\u001b[1;33m(\u001b[0m\u001b[0mself\u001b[0m\u001b[1;33m,\u001b[0m \u001b[0mticks\u001b[0m\u001b[1;33m,\u001b[0m \u001b[0mrenderer\u001b[0m\u001b[1;33m)\u001b[0m\u001b[1;33m:\u001b[0m\u001b[1;33m\u001b[0m\u001b[1;33m\u001b[0m\u001b[0m\n\u001b[0;32m   1062\u001b[0m         \u001b[1;34m\"\"\"Return lists of bboxes for ticks' label1's and label2's.\"\"\"\u001b[0m\u001b[1;33m\u001b[0m\u001b[1;33m\u001b[0m\u001b[0m\n\u001b[1;32m-> 1063\u001b[1;33m         return ([tick.label1.get_window_extent(renderer)\n\u001b[0m\u001b[0;32m   1064\u001b[0m                  for tick in ticks if tick.label1.get_visible()],\n\u001b[0;32m   1065\u001b[0m                 [tick.label2.get_window_extent(renderer)\n",
      "\u001b[1;32m~\\.conda\\envs\\torch\\lib\\site-packages\\matplotlib\\text.py\u001b[0m in \u001b[0;36mget_window_extent\u001b[1;34m(self, renderer, dpi)\u001b[0m\n\u001b[0;32m    901\u001b[0m \u001b[1;33m\u001b[0m\u001b[0m\n\u001b[0;32m    902\u001b[0m         \u001b[1;32mwith\u001b[0m \u001b[0mcbook\u001b[0m\u001b[1;33m.\u001b[0m\u001b[0m_setattr_cm\u001b[0m\u001b[1;33m(\u001b[0m\u001b[0mself\u001b[0m\u001b[1;33m.\u001b[0m\u001b[0mfigure\u001b[0m\u001b[1;33m,\u001b[0m \u001b[0mdpi\u001b[0m\u001b[1;33m=\u001b[0m\u001b[0mdpi\u001b[0m\u001b[1;33m)\u001b[0m\u001b[1;33m:\u001b[0m\u001b[1;33m\u001b[0m\u001b[1;33m\u001b[0m\u001b[0m\n\u001b[1;32m--> 903\u001b[1;33m             \u001b[0mbbox\u001b[0m\u001b[1;33m,\u001b[0m \u001b[0minfo\u001b[0m\u001b[1;33m,\u001b[0m \u001b[0mdescent\u001b[0m \u001b[1;33m=\u001b[0m \u001b[0mself\u001b[0m\u001b[1;33m.\u001b[0m\u001b[0m_get_layout\u001b[0m\u001b[1;33m(\u001b[0m\u001b[0mself\u001b[0m\u001b[1;33m.\u001b[0m\u001b[0m_renderer\u001b[0m\u001b[1;33m)\u001b[0m\u001b[1;33m\u001b[0m\u001b[1;33m\u001b[0m\u001b[0m\n\u001b[0m\u001b[0;32m    904\u001b[0m             \u001b[0mx\u001b[0m\u001b[1;33m,\u001b[0m \u001b[0my\u001b[0m \u001b[1;33m=\u001b[0m \u001b[0mself\u001b[0m\u001b[1;33m.\u001b[0m\u001b[0mget_unitless_position\u001b[0m\u001b[1;33m(\u001b[0m\u001b[1;33m)\u001b[0m\u001b[1;33m\u001b[0m\u001b[1;33m\u001b[0m\u001b[0m\n\u001b[0;32m    905\u001b[0m             \u001b[0mx\u001b[0m\u001b[1;33m,\u001b[0m \u001b[0my\u001b[0m \u001b[1;33m=\u001b[0m \u001b[0mself\u001b[0m\u001b[1;33m.\u001b[0m\u001b[0mget_transform\u001b[0m\u001b[1;33m(\u001b[0m\u001b[1;33m)\u001b[0m\u001b[1;33m.\u001b[0m\u001b[0mtransform\u001b[0m\u001b[1;33m(\u001b[0m\u001b[1;33m(\u001b[0m\u001b[0mx\u001b[0m\u001b[1;33m,\u001b[0m \u001b[0my\u001b[0m\u001b[1;33m)\u001b[0m\u001b[1;33m)\u001b[0m\u001b[1;33m\u001b[0m\u001b[1;33m\u001b[0m\u001b[0m\n",
      "\u001b[1;32m~\\.conda\\envs\\torch\\lib\\site-packages\\matplotlib\\text.py\u001b[0m in \u001b[0;36m_get_layout\u001b[1;34m(self, renderer)\u001b[0m\n\u001b[0;32m    304\u001b[0m \u001b[1;33m\u001b[0m\u001b[0m\n\u001b[0;32m    305\u001b[0m         \u001b[1;31m# Full vertical extent of font, including ascenders and descenders:\u001b[0m\u001b[1;33m\u001b[0m\u001b[1;33m\u001b[0m\u001b[1;33m\u001b[0m\u001b[0m\n\u001b[1;32m--> 306\u001b[1;33m         _, lp_h, lp_d = renderer.get_text_width_height_descent(\n\u001b[0m\u001b[0;32m    307\u001b[0m             \u001b[1;34m\"lp\"\u001b[0m\u001b[1;33m,\u001b[0m \u001b[0mself\u001b[0m\u001b[1;33m.\u001b[0m\u001b[0m_fontproperties\u001b[0m\u001b[1;33m,\u001b[0m\u001b[1;33m\u001b[0m\u001b[1;33m\u001b[0m\u001b[0m\n\u001b[0;32m    308\u001b[0m             ismath=\"TeX\" if self.get_usetex() else False)\n",
      "\u001b[1;32m~\\.conda\\envs\\torch\\lib\\site-packages\\matplotlib\\backends\\backend_agg.py\u001b[0m in \u001b[0;36mget_text_width_height_descent\u001b[1;34m(self, s, prop, ismath)\u001b[0m\n\u001b[0;32m    238\u001b[0m         \u001b[0mflags\u001b[0m \u001b[1;33m=\u001b[0m \u001b[0mget_hinting_flag\u001b[0m\u001b[1;33m(\u001b[0m\u001b[1;33m)\u001b[0m\u001b[1;33m\u001b[0m\u001b[1;33m\u001b[0m\u001b[0m\n\u001b[0;32m    239\u001b[0m         \u001b[0mfont\u001b[0m \u001b[1;33m=\u001b[0m \u001b[0mself\u001b[0m\u001b[1;33m.\u001b[0m\u001b[0m_get_agg_font\u001b[0m\u001b[1;33m(\u001b[0m\u001b[0mprop\u001b[0m\u001b[1;33m)\u001b[0m\u001b[1;33m\u001b[0m\u001b[1;33m\u001b[0m\u001b[0m\n\u001b[1;32m--> 240\u001b[1;33m         \u001b[0mfont\u001b[0m\u001b[1;33m.\u001b[0m\u001b[0mset_text\u001b[0m\u001b[1;33m(\u001b[0m\u001b[0ms\u001b[0m\u001b[1;33m,\u001b[0m \u001b[1;36m0.0\u001b[0m\u001b[1;33m,\u001b[0m \u001b[0mflags\u001b[0m\u001b[1;33m=\u001b[0m\u001b[0mflags\u001b[0m\u001b[1;33m)\u001b[0m\u001b[1;33m\u001b[0m\u001b[1;33m\u001b[0m\u001b[0m\n\u001b[0m\u001b[0;32m    241\u001b[0m         \u001b[0mw\u001b[0m\u001b[1;33m,\u001b[0m \u001b[0mh\u001b[0m \u001b[1;33m=\u001b[0m \u001b[0mfont\u001b[0m\u001b[1;33m.\u001b[0m\u001b[0mget_width_height\u001b[0m\u001b[1;33m(\u001b[0m\u001b[1;33m)\u001b[0m  \u001b[1;31m# width and height of unrotated string\u001b[0m\u001b[1;33m\u001b[0m\u001b[1;33m\u001b[0m\u001b[0m\n\u001b[0;32m    242\u001b[0m         \u001b[0md\u001b[0m \u001b[1;33m=\u001b[0m \u001b[0mfont\u001b[0m\u001b[1;33m.\u001b[0m\u001b[0mget_descent\u001b[0m\u001b[1;33m(\u001b[0m\u001b[1;33m)\u001b[0m\u001b[1;33m\u001b[0m\u001b[1;33m\u001b[0m\u001b[0m\n",
      "\u001b[1;31mKeyboardInterrupt\u001b[0m: "
     ]
    }
   ],
   "source": [
    "method = 'Vanilla'\n",
    "a, b, _scores = AUTO_GLOW(opt, model, params, max_iter=[10000, 5000], method=method)"
   ]
  },
  {
   "cell_type": "markdown",
   "id": "34ccb97f-e6a7-4c09-8828-3246fc55fdbb",
   "metadata": {},
   "source": [
    "## [3] Get AUROC"
   ]
  },
  {
   "cell_type": "code",
   "execution_count": 5,
   "id": "644c4c9a-2a80-4f7e-8d21-5bb7f1950231",
   "metadata": {},
   "outputs": [
    {
     "data": {
      "text/html": [
       "<div>\n",
       "<style scoped>\n",
       "    .dataframe tbody tr th:only-of-type {\n",
       "        vertical-align: middle;\n",
       "    }\n",
       "\n",
       "    .dataframe tbody tr th {\n",
       "        vertical-align: top;\n",
       "    }\n",
       "\n",
       "    .dataframe thead th {\n",
       "        text-align: right;\n",
       "    }\n",
       "</style>\n",
       "<table border=\"1\" class=\"dataframe\">\n",
       "  <thead>\n",
       "    <tr style=\"text-align: right;\">\n",
       "      <th></th>\n",
       "      <th>svhn</th>\n",
       "      <th>celeba</th>\n",
       "      <th>lsun</th>\n",
       "      <th>cifar100</th>\n",
       "      <th>mnist</th>\n",
       "      <th>fmnist</th>\n",
       "      <th>kmnist</th>\n",
       "      <th>omniglot</th>\n",
       "      <th>notmnist</th>\n",
       "      <th>trafficsign</th>\n",
       "      <th>noise</th>\n",
       "      <th>constant</th>\n",
       "    </tr>\n",
       "  </thead>\n",
       "  <tbody>\n",
       "    <tr>\n",
       "      <th>flow28_invconv_lower</th>\n",
       "      <td>0.870467</td>\n",
       "      <td>0.706320</td>\n",
       "      <td>0.719399</td>\n",
       "      <td>0.577263</td>\n",
       "      <td>0.712286</td>\n",
       "      <td>0.700900</td>\n",
       "      <td>0.815581</td>\n",
       "      <td>0.732952</td>\n",
       "      <td>0.930154</td>\n",
       "      <td>0.656894</td>\n",
       "      <td>1.0</td>\n",
       "      <td>0.760544</td>\n",
       "    </tr>\n",
       "    <tr>\n",
       "      <th>flow28_invconv_log_s</th>\n",
       "      <td>0.842957</td>\n",
       "      <td>0.661977</td>\n",
       "      <td>0.689770</td>\n",
       "      <td>0.568523</td>\n",
       "      <td>0.589838</td>\n",
       "      <td>0.578485</td>\n",
       "      <td>0.687715</td>\n",
       "      <td>0.548026</td>\n",
       "      <td>0.905761</td>\n",
       "      <td>0.657011</td>\n",
       "      <td>1.0</td>\n",
       "      <td>0.965018</td>\n",
       "    </tr>\n",
       "    <tr>\n",
       "      <th>flow28_invconv_upper</th>\n",
       "      <td>0.881398</td>\n",
       "      <td>0.707697</td>\n",
       "      <td>0.732504</td>\n",
       "      <td>0.571615</td>\n",
       "      <td>0.588868</td>\n",
       "      <td>0.578050</td>\n",
       "      <td>0.731311</td>\n",
       "      <td>0.609711</td>\n",
       "      <td>0.919938</td>\n",
       "      <td>0.664255</td>\n",
       "      <td>1.0</td>\n",
       "      <td>0.679152</td>\n",
       "    </tr>\n",
       "  </tbody>\n",
       "</table>\n",
       "</div>"
      ],
      "text/plain": [
       "                          svhn    celeba      lsun  cifar100     mnist  \\\n",
       "flow28_invconv_lower  0.870467  0.706320  0.719399  0.577263  0.712286   \n",
       "flow28_invconv_log_s  0.842957  0.661977  0.689770  0.568523  0.589838   \n",
       "flow28_invconv_upper  0.881398  0.707697  0.732504  0.571615  0.588868   \n",
       "\n",
       "                        fmnist    kmnist  omniglot  notmnist  trafficsign  \\\n",
       "flow28_invconv_lower  0.700900  0.815581  0.732952  0.930154     0.656894   \n",
       "flow28_invconv_log_s  0.578485  0.687715  0.548026  0.905761     0.657011   \n",
       "flow28_invconv_upper  0.578050  0.731311  0.609711  0.919938     0.664255   \n",
       "\n",
       "                      noise  constant  \n",
       "flow28_invconv_lower    1.0  0.760544  \n",
       "flow28_invconv_log_s    1.0  0.965018  \n",
       "flow28_invconv_upper    1.0  0.679152  "
      ]
     },
     "execution_count": 5,
     "metadata": {},
     "output_type": "execute_result"
    }
   ],
   "source": [
    "for pname in params.keys():\n",
    "    FISHERs[opt.train_dist][pname] = a[pname] \n",
    "    NORM_FACs[opt.train_dist][pname] = b[pname]\n",
    "for ood in opt.ood_list:\n",
    "    SCOREs[opt.train_dist][ood] = _scores[ood]\n",
    "\n",
    "# AUROC curve\n",
    "auroc = {}\n",
    "for pname in params.keys():\n",
    "    _auroc = {}\n",
    "    for ood in opt.ood_list:\n",
    "        args = [\n",
    "            SCOREs[opt.train_dist][opt.train_dist][pname],\n",
    "            SCOREs[opt.train_dist][ood][pname],\n",
    "        ]\n",
    "        labels = [opt.train_dist, ood]\n",
    "        _auroc[ood] = AUROC(*args, labels=labels, verbose=False)\n",
    "    auroc[pname] = _auroc\n",
    "    \n",
    "df = pd.DataFrame(auroc).T\n",
    "df = df.iloc[:, 1:]\n",
    "df"
   ]
  },
  {
   "cell_type": "code",
   "execution_count": 6,
   "id": "62e017c8-4e3a-4ec6-9864-8ee8ba21f4ae",
   "metadata": {},
   "outputs": [],
   "source": [
    "temp = {}\n",
    "for ood in opt.ood_list:\n",
    "    temp[ood] = SCOREs[opt.train_dist][ood].copy()"
   ]
  },
  {
   "cell_type": "code",
   "execution_count": 7,
   "id": "2fff5546-1288-4958-bbef-c7ff09a63477",
   "metadata": {},
   "outputs": [
    {
     "data": {
      "text/plain": [
       "{'cifar10': 0.5,\n",
       " 'svhn': 0.8813980999999999,\n",
       " 'celeba': 0.70769654,\n",
       " 'lsun': 0.7325042000000002,\n",
       " 'cifar100': 0.5716147,\n",
       " 'mnist': 0.5888682599999999,\n",
       " 'fmnist': 0.5780502000000001,\n",
       " 'kmnist': 0.7313113200000001,\n",
       " 'omniglot': 0.60971098,\n",
       " 'notmnist': 0.919938,\n",
       " 'trafficsign': 0.66425508,\n",
       " 'noise': 1.0,\n",
       " 'constant': 0.67915236}"
      ]
     },
     "execution_count": 7,
     "metadata": {},
     "output_type": "execute_result"
    }
   ],
   "source": [
    "s = {}\n",
    "for ood in opt.ood_list:\n",
    "    try:\n",
    "        s[ood] += temp[ood][pname]\n",
    "    except:\n",
    "        s[ood] = temp[ood][pname]\n",
    "        \n",
    "auroc = {}\n",
    "for ood in opt.ood_list:\n",
    "    args = [s[opt.train_dist], s[ood]]\n",
    "    labels = [opt.train_dist, ood]\n",
    "    auroc[ood] = AUROC(*args, labels=labels, verbose=False)\n",
    "    \n",
    "auroc"
   ]
  },
  {
   "cell_type": "code",
   "execution_count": null,
   "id": "d9018ad3-3f4f-4338-98f7-dc43ba16734a",
   "metadata": {},
   "outputs": [],
   "source": []
  },
  {
   "cell_type": "code",
   "execution_count": 28,
   "id": "12861974-a397-4272-ac6d-8bf94a83aac9",
   "metadata": {
    "tags": []
   },
   "outputs": [
    {
     "data": {
      "text/plain": [
       "{'cifar10': 0.5, 'svhn': 0.0, 'celeba': 0.0, 'lsun': 0.0}"
      ]
     },
     "execution_count": 28,
     "metadata": {},
     "output_type": "execute_result"
    }
   ],
   "source": [
    "auroc = {}\n",
    "for ood in opt.ood_list:\n",
    "    in_sum = 0\n",
    "    out_sum = 0\n",
    "    for pname in params.keys():\n",
    "        try:\n",
    "            in_sum += np.array(SCOREs[opt.train_dist][opt.train_dist][pname])\n",
    "            out_sum += np.array(SCOREs[opt.train_dist][ood][pname])\n",
    "        except:\n",
    "            in_sum = np.array(SCOREs[opt.train_dist][opt.train_dist][pname])\n",
    "            out_sum = np.array(SCOREs[opt.train_dist][ood][pname])\n",
    "    args = [\n",
    "        in_sum,\n",
    "        out_sum,\n",
    "    ]\n",
    "\n",
    "    labels = [opt.train_dist, ood]\n",
    "    \n",
    "    auroc[ood] = AUROC(*args, labels=labels, verbose=False)\n",
    "\n",
    "auroc"
   ]
  },
  {
   "cell_type": "code",
   "execution_count": 30,
   "id": "a6659f26-3f33-4556-8459-cd1cc4dc41bc",
   "metadata": {},
   "outputs": [
    {
     "name": "stdout",
     "output_type": "stream",
     "text": [
      "{'flow28_invconv_lower': array([0.01826269, 0.01861855, 0.01927181, ..., 0.01627278, 0.01769829,\n",
      "       0.0144948 ], dtype=float32), 'flow28_invconv_log_s': array([0.0017084 , 0.00178753, 0.00177009, ..., 0.00139408, 0.00165807,\n",
      "       0.00120105], dtype=float32), 'flow28_invconv_upper': array([0.0007756 , 0.00074737, 0.00085358, ..., 0.00080441, 0.00074704,\n",
      "       0.00074754], dtype=float32)}\n",
      "{'flow28_invconv_lower': array([0.00099169, 0.00085825, 0.00099795, ..., 0.00092485, 0.00108708,\n",
      "       0.00095772], dtype=float32), 'flow28_invconv_log_s': array([0.00248206, 0.00220631, 0.00212421, ..., 0.00149722, 0.00191713,\n",
      "       0.00188069], dtype=float32), 'flow28_invconv_upper': array([0.0008896 , 0.00078601, 0.00087852, ..., 0.00079614, 0.00095663,\n",
      "       0.00088242], dtype=float32)}\n"
     ]
    }
   ],
   "source": [
    "print(SCOREs[opt.train_dist]['cifar10'])\n",
    "print(SCOREs[opt.train_dist]['svhn'])"
   ]
  },
  {
   "cell_type": "code",
   "execution_count": 53,
   "id": "located-symbol",
   "metadata": {},
   "outputs": [],
   "source": [
    "x = list(df.index)\n",
    "xx = []\n",
    "for elt in x:\n",
    "    if elt.split('_')[1] == 'invconv':\n",
    "        if elt.split('_')[2] == 'lower':\n",
    "                xx.append(elt)"
   ]
  },
  {
   "cell_type": "code",
   "execution_count": 54,
   "id": "allied-treasurer",
   "metadata": {},
   "outputs": [
    {
     "data": {
      "text/plain": [
       "<matplotlib.legend.Legend at 0x186ad3cddf0>"
      ]
     },
     "execution_count": 54,
     "metadata": {},
     "output_type": "execute_result"
    },
    {
     "data": {
      "image/png": "[encoded data removed]",
      "text/plain": [
       "<Figure size 432x288 with 1 Axes>"
      ]
     },
     "metadata": {
      "needs_background": "light"
     },
     "output_type": "display_data"
    }
   ],
   "source": [
    "x = range(len(xx))\n",
    "plt.plot(x, df.loc[xx, 'svhn'], label='svhn')\n",
    "plt.plot(x, df.loc[xx, 'celeba'], label='celeba')\n",
    "plt.plot(x, df.loc[xx, 'lsun'], label='lsun')\n",
    "plt.grid()\n",
    "plt.legend()\n"
   ]
  },
  {
   "cell_type": "code",
   "execution_count": null,
   "id": "partial-earth",
   "metadata": {},
   "outputs": [],
   "source": []
  },
  {
   "cell_type": "markdown",
   "id": "victorian-gentleman",
   "metadata": {},
   "source": [
    "# GLOW - FMNIST"
   ]
  },
  {
   "cell_type": "markdown",
   "id": "be9b00b3-478f-41f3-81dd-d17ced77a847",
   "metadata": {},
   "source": [
    "## Load the model & Parameter Selection"
   ]
  },
  {
   "cell_type": "code",
   "execution_count": 166,
   "id": "plastic-fitting",
   "metadata": {},
   "outputs": [],
   "source": [
    "opt = config.GLOW_fmnist\n",
    "model = load_pretrained_GLOW(option=opt.train_dist)\n",
    "model.eval()\n",
    "\n",
    "layers = {}\n",
    "for i in range(29):\n",
    "    if i in [0, 9, 19]:\n",
    "    #if i in [0, 33, 67]:\n",
    "        continue\n",
    "    layers[f'flow{i}'] = model.flow.layers[i]\n",
    "\n",
    "layers2 = {}\n",
    "for lname, layer in layers.items():\n",
    "    modules = dict(layer._modules)\n",
    "    for key in modules.keys():\n",
    "        layers2[f'{lname}_{key}'] = modules[key]"
   ]
  },
  {
   "cell_type": "markdown",
   "id": "a2731452-bd65-4494-a192-913b4aff99c5",
   "metadata": {},
   "source": [
    "## Compute Fisher inverse & Fisher score"
   ]
  },
  {
   "cell_type": "code",
   "execution_count": 73,
   "id": "discrete-cookbook",
   "metadata": {},
   "outputs": [
    {
     "name": "stderr",
     "output_type": "stream",
     "text": [
      "Calculate Fisher GLOW:   0%|                                                               | 0/60000 [00:00<?, ?step/s]\n",
      "Calculate Score GLOW:   5%|██▋                                                   | 499/10000 [00:39<12:41, 12.48step/s]\n",
      "Calculate Score GLOW:   5%|██▋                                                   | 499/10000 [00:49<15:49, 10.00step/s]\n",
      "Calculate Score GLOW:   5%|██▋                                                   | 499/10000 [00:39<12:35, 12.58step/s]\n",
      "Calculate Score GLOW:   3%|█▍                                                    | 499/18724 [00:39<24:01, 12.64step/s]\n",
      "Calculate Score GLOW:   5%|██▋                                                   | 499/10000 [00:38<12:18, 12.86step/s]\n",
      "Calculate Score GLOW:   5%|██▋                                                   | 499/10000 [00:38<12:15, 12.91step/s]\n"
     ]
    }
   ],
   "source": [
    "method = 'Vanilla'\n",
    "a, b, _scores = AUTO_GLOW(opt, model, layers2, max_iter=[1, 500], method=method)"
   ]
  },
  {
   "cell_type": "markdown",
   "id": "cc8875e5-32c2-448d-bd2b-1b6cc3ef91e3",
   "metadata": {},
   "source": [
    "## Get AUROC"
   ]
  },
  {
   "cell_type": "code",
   "execution_count": 83,
   "id": "fiscal-hollywood",
   "metadata": {},
   "outputs": [
    {
     "data": {
      "text/html": [
       "<div>\n",
       "<style scoped>\n",
       "    .dataframe tbody tr th:only-of-type {\n",
       "        vertical-align: middle;\n",
       "    }\n",
       "\n",
       "    .dataframe tbody tr th {\n",
       "        vertical-align: top;\n",
       "    }\n",
       "\n",
       "    .dataframe thead th {\n",
       "        text-align: right;\n",
       "    }\n",
       "</style>\n",
       "<table border=\"1\" class=\"dataframe\">\n",
       "  <thead>\n",
       "    <tr style=\"text-align: right;\">\n",
       "      <th></th>\n",
       "      <th>mnist</th>\n",
       "      <th>kmnist</th>\n",
       "      <th>notmnist</th>\n",
       "      <th>constant</th>\n",
       "    </tr>\n",
       "  </thead>\n",
       "  <tbody>\n",
       "    <tr>\n",
       "      <th>flow1_actnorm</th>\n",
       "      <td>0.999956</td>\n",
       "      <td>0.999972</td>\n",
       "      <td>0.995712</td>\n",
       "      <td>0.999944</td>\n",
       "    </tr>\n",
       "    <tr>\n",
       "      <th>flow1_invconv</th>\n",
       "      <td>0.992520</td>\n",
       "      <td>0.982936</td>\n",
       "      <td>0.962584</td>\n",
       "      <td>0.968748</td>\n",
       "    </tr>\n",
       "    <tr>\n",
       "      <th>flow1_block</th>\n",
       "      <td>1.000000</td>\n",
       "      <td>1.000000</td>\n",
       "      <td>1.000000</td>\n",
       "      <td>1.000000</td>\n",
       "    </tr>\n",
       "    <tr>\n",
       "      <th>flow2_actnorm</th>\n",
       "      <td>0.999996</td>\n",
       "      <td>0.999996</td>\n",
       "      <td>0.998196</td>\n",
       "      <td>1.000000</td>\n",
       "    </tr>\n",
       "    <tr>\n",
       "      <th>flow2_invconv</th>\n",
       "      <td>0.999112</td>\n",
       "      <td>0.998556</td>\n",
       "      <td>0.975644</td>\n",
       "      <td>0.992816</td>\n",
       "    </tr>\n",
       "    <tr>\n",
       "      <th>...</th>\n",
       "      <td>...</td>\n",
       "      <td>...</td>\n",
       "      <td>...</td>\n",
       "      <td>...</td>\n",
       "    </tr>\n",
       "    <tr>\n",
       "      <th>flow27_invconv</th>\n",
       "      <td>0.061844</td>\n",
       "      <td>0.071596</td>\n",
       "      <td>0.370832</td>\n",
       "      <td>0.276684</td>\n",
       "    </tr>\n",
       "    <tr>\n",
       "      <th>flow27_block</th>\n",
       "      <td>0.972340</td>\n",
       "      <td>0.950224</td>\n",
       "      <td>0.983928</td>\n",
       "      <td>0.998192</td>\n",
       "    </tr>\n",
       "    <tr>\n",
       "      <th>flow28_actnorm</th>\n",
       "      <td>0.311968</td>\n",
       "      <td>0.437160</td>\n",
       "      <td>0.561520</td>\n",
       "      <td>0.597460</td>\n",
       "    </tr>\n",
       "    <tr>\n",
       "      <th>flow28_invconv</th>\n",
       "      <td>0.005700</td>\n",
       "      <td>0.031140</td>\n",
       "      <td>0.157432</td>\n",
       "      <td>0.068472</td>\n",
       "    </tr>\n",
       "    <tr>\n",
       "      <th>flow28_block</th>\n",
       "      <td>0.640320</td>\n",
       "      <td>0.753976</td>\n",
       "      <td>0.946744</td>\n",
       "      <td>0.885408</td>\n",
       "    </tr>\n",
       "  </tbody>\n",
       "</table>\n",
       "<p>72 rows × 4 columns</p>\n",
       "</div>"
      ],
      "text/plain": [
       "                   mnist    kmnist  notmnist  constant\n",
       "flow1_actnorm   0.999956  0.999972  0.995712  0.999944\n",
       "flow1_invconv   0.992520  0.982936  0.962584  0.968748\n",
       "flow1_block     1.000000  1.000000  1.000000  1.000000\n",
       "flow2_actnorm   0.999996  0.999996  0.998196  1.000000\n",
       "flow2_invconv   0.999112  0.998556  0.975644  0.992816\n",
       "...                  ...       ...       ...       ...\n",
       "flow27_invconv  0.061844  0.071596  0.370832  0.276684\n",
       "flow27_block    0.972340  0.950224  0.983928  0.998192\n",
       "flow28_actnorm  0.311968  0.437160  0.561520  0.597460\n",
       "flow28_invconv  0.005700  0.031140  0.157432  0.068472\n",
       "flow28_block    0.640320  0.753976  0.946744  0.885408\n",
       "\n",
       "[72 rows x 4 columns]"
      ]
     },
     "execution_count": 83,
     "metadata": {},
     "output_type": "execute_result"
    }
   ],
   "source": [
    "layers = layers2\n",
    "\n",
    "for lname in layers.keys():\n",
    "    FISHERs[train_dist][lname] = a[lname] \n",
    "    NORM_FACs[train_dist][lname] = b[lname]\n",
    "for ood in opt.ood_list:\n",
    "    SCOREs[train_dist][ood] = _scores[ood]\n",
    "\n",
    "# AUROC curve\n",
    "auroc = {}\n",
    "for lname in layers.keys():\n",
    "    _auroc = {}\n",
    "    for ood in opt.ood_list:\n",
    "        if ood == 'noise':\n",
    "            continue\n",
    "        args = [\n",
    "            SCOREs[train_dist][train_dist][lname],\n",
    "            SCOREs[train_dist][ood][lname],\n",
    "        ]\n",
    "        labels = [train_dist, ood]\n",
    "        _auroc[ood] = AUROC(*args, labels=labels, verbose=False)\n",
    "    auroc[lname] = _auroc\n",
    "    \n",
    "df = pd.DataFrame(auroc).T\n",
    "df = df.iloc[:, 1:]\n",
    "df"
   ]
  },
  {
   "cell_type": "code",
   "execution_count": 87,
   "id": "rising-grill",
   "metadata": {},
   "outputs": [],
   "source": [
    "x = list(df.index)\n",
    "xx = []\n",
    "for elt in x:\n",
    "    if elt.split('_')[1] == 'block':\n",
    "        xx.append(elt)"
   ]
  },
  {
   "cell_type": "code",
   "execution_count": 88,
   "id": "attended-alignment",
   "metadata": {},
   "outputs": [
    {
     "data": {
      "text/plain": [
       "<matplotlib.legend.Legend at 0x1f5ffbefe20>"
      ]
     },
     "execution_count": 88,
     "metadata": {},
     "output_type": "execute_result"
    },
    {
     "data": {
      "image/png": "[encoded data removed]",
      "text/plain": [
       "<Figure size 432x288 with 1 Axes>"
      ]
     },
     "metadata": {
      "needs_background": "light"
     },
     "output_type": "display_data"
    }
   ],
   "source": [
    "x = range(len(xx))\n",
    "plt.plot(x, df.loc[xx, 'mnist'], label='mnist')\n",
    "plt.plot(x, df.loc[xx, 'kmnist'], label='kmnist')\n",
    "plt.plot(x, df.loc[xx, 'notmnist'], label='notmnist')\n",
    "plt.plot(x, df.loc[xx, 'constant'], label='constant')\n",
    "plt.grid()\n",
    "plt.legend()"
   ]
  },
  {
   "cell_type": "markdown",
   "id": "39dbe69a-15da-438f-aa9b-157e52235e2d",
   "metadata": {},
   "source": [
    "## Check the reconstruction ability of GLOW"
   ]
  },
  {
   "cell_type": "code",
   "execution_count": 171,
   "id": "unable-basketball",
   "metadata": {},
   "outputs": [
    {
     "data": {
      "image/png": "[encoded data removed]",
      "text/plain": [
       "<Figure size 432x288 with 1 Axes>"
      ]
     },
     "metadata": {
      "needs_background": "light"
     },
     "output_type": "display_data"
    },
    {
     "data": {
      "image/png": "[encoded data removed]",
      "text/plain": [
       "<Figure size 432x288 with 1 Axes>"
      ]
     },
     "metadata": {
      "needs_background": "light"
     },
     "output_type": "display_data"
    },
    {
     "data": {
      "image/png": "[encoded data removed]",
      "text/plain": [
       "<Figure size 432x288 with 1 Axes>"
      ]
     },
     "metadata": {
      "needs_background": "light"
     },
     "output_type": "display_data"
    },
    {
     "data": {
      "image/png": "[encoded data removed]",
      "text/plain": [
       "<Figure size 432x288 with 1 Axes>"
      ]
     },
     "metadata": {
      "needs_background": "light"
     },
     "output_type": "display_data"
    }
   ],
   "source": [
    "def postprocess(x):\n",
    "    x = torch.clamp(x, -0.5, 0.5)\n",
    "    x += 0.5\n",
    "    x = x * 256\n",
    "    return torch.clamp(x, 0, 255).byte()\n",
    "\n",
    "loader = TEST_loader('fmnist', 'fmnist', shuffle=False, is_glow=True)\n",
    "for i, x in enumerate(loader):\n",
    "    try:\n",
    "        x, _ = x\n",
    "    except:\n",
    "        pass\n",
    "    y = postprocess(x)\n",
    "    plt.figure()\n",
    "    plt.imshow(y[0].permute(1, 2, 0).cpu())\n",
    "    x = x.to('cuda')\n",
    "    z, _, _ = model(x = x)\n",
    "    x = model(z=z, temperature=0.75, reverse=True)\n",
    "    y = postprocess(x)\n",
    "    plt.figure()\n",
    "    plt.imshow(y[0].permute(1, 2, 0).cpu())\n",
    "    if i == 1:\n",
    "        break\n",
    "plt.show()"
   ]
  },
  {
   "cell_type": "code",
   "execution_count": 104,
   "id": "nuclear-arlington",
   "metadata": {},
   "outputs": [
    {
     "data": {
      "text/plain": [
       "<matplotlib.image.AxesImage at 0x1f5c9795e20>"
      ]
     },
     "execution_count": 104,
     "metadata": {},
     "output_type": "execute_result"
    },
    {
     "data": {
      "image/png": "[encoded data removed]",
      "text/plain": [
       "<Figure size 432x288 with 1 Axes>"
      ]
     },
     "metadata": {
      "needs_background": "light"
     },
     "output_type": "display_data"
    }
   ],
   "source": [
    "plt.imshow(x[0].permute(1,2,0).cpu())"
   ]
  }
 ],
 "metadata": {
  "kernelspec": {
   "display_name": "torch",
   "language": "python",
   "name": "torch"
  },
  "language_info": {
   "codemirror_mode": {
    "name": "ipython",
    "version": 3
   },
   "file_extension": ".py",
   "mimetype": "text/x-python",
   "name": "python",
   "nbconvert_exporter": "python",
   "pygments_lexer": "ipython3",
   "version": "3.8.10"
  }
 },
 "nbformat": 4,
 "nbformat_minor": 5
}
