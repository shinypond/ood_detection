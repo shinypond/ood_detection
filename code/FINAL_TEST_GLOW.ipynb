{
 "cells": [
  {
   "cell_type": "markdown",
   "id": "present-arnold",
   "metadata": {},
   "source": [
    "# [ GLOW ] OOD Detection using FSS"
   ]
  },
  {
   "cell_type": "code",
   "execution_count": 1,
   "id": "dried-uzbekistan",
   "metadata": {},
   "outputs": [],
   "source": [
    "%load_ext autoreload\n",
    "%autoreload 2\n",
    "import os\n",
    "import sys\n",
    "sys.path.append(os.getcwd() + '/core')\n",
    "sys.path.append(os.getcwd() + '/core/train_GLOW') \n",
    "import numpy as np\n",
    "import pandas as pd\n",
    "import matplotlib.pyplot as plt\n",
    "import torch\n",
    "import torch.nn as nn\n",
    "\n",
    "import core.config as config\n",
    "from core.model_loader import load_pretrained_GLOW\n",
    "from core.data_loader import TRAIN_loader, TEST_loader\n",
    "from core.fisher_utils_GLOW import Calculate_fisher_GLOW, Calculate_score_GLOW, AUTO_GLOW\n",
    "from core.visualize import plot_hist, AUROC, plot_scores_all_layers"
   ]
  },
  {
   "cell_type": "markdown",
   "id": "latin-worship",
   "metadata": {},
   "source": [
    "# Define Global Variables & Initialize"
   ]
  },
  {
   "cell_type": "code",
   "execution_count": 2,
   "id": "liable-registrar",
   "metadata": {},
   "outputs": [],
   "source": [
    "# FISHER_invs : Fisher inverse matrices from calculating Fisher score (w.r.t. train-dist)\n",
    "FISHERs = {'cifar10': {}, 'fmnist': {}}\n",
    "         \n",
    "# NORMalize_FACtors : Normalizing Factor (w.r.t. train-dist)\n",
    "NORM_FACs = {'cifar10': {}, 'fmnist': {}}\n",
    "             \n",
    "# SCOREs : (Scalars) Scores from calculating Fisher score (w.r.t. target-dist)\n",
    "SCOREs = {'cifar10': {}, 'fmnist': {}}"
   ]
  },
  {
   "cell_type": "markdown",
   "id": "fuzzy-overall",
   "metadata": {},
   "source": [
    "# GLOW - CIFAR10"
   ]
  },
  {
   "cell_type": "markdown",
   "id": "e1eac4f0-88f2-4242-8550-40d4d64a5478",
   "metadata": {},
   "source": [
    "## 해체쇼 (Deprecated)"
   ]
  },
  {
   "cell_type": "code",
   "execution_count": 31,
   "id": "5d5b6101-3595-496f-8a91-d8c3b1d7982c",
   "metadata": {
    "jupyter": {
     "source_hidden": true
    },
    "tags": []
   },
   "outputs": [],
   "source": [
    "opt = config.GLOW_cifar10\n",
    "model = load_pretrained_GLOW(option=opt.train_dist)\n",
    "model.eval()\n",
    "\n",
    "# Disassemble !!!\n",
    "layers = {}\n",
    "for i in range(29):\n",
    "    if i in [0, 9, 19]:\n",
    "    #if i in [0, 33, 67]:\n",
    "        continue\n",
    "    layers[f'flow{i}'] = model.flow.layers[i]\n",
    "\n",
    "layers2 = {}\n",
    "for lname, layer in layers.items():\n",
    "    modules = dict(layer._modules)\n",
    "    for key in modules.keys():\n",
    "        layers2[f'{lname}_{key}'] = modules[key]\n",
    "\n",
    "layers3 = {}\n",
    "for lname, layer in layers2.items():\n",
    "    if lname.split('_')[1] in ['actnorm', 'invconv']:\n",
    "        continue\n",
    "    modules = dict(layer._modules)\n",
    "    conv_num = 0\n",
    "    act_num = 0\n",
    "    for key, value in modules.items():\n",
    "        if isinstance(value, nn.ReLU):\n",
    "            continue\n",
    "        modules2 = dict(value._modules)\n",
    "        for key2, value2 in modules2.items():\n",
    "            if key2 == 'conv':\n",
    "                conv_num += 1\n",
    "                key3 = key2 + str(conv_num)\n",
    "            elif key2 == 'actnorm':\n",
    "                act_num += 1\n",
    "                key3 = key2 + str(act_num)\n",
    "            layers3[f'{lname}_{key3}'] = modules2[key2]\n",
    "    \n",
    "layers4 = {}\n",
    "for key in layers2.keys():\n",
    "    if key[-5:] != 'block':\n",
    "        layers4[key] = layers2[key]\n",
    "    else:\n",
    "        for key2 in layers3.keys():\n",
    "            if key2[:len(key)] == key:\n",
    "                layers4[key2] = layers3[key2]\n",
    "    \n",
    "\n",
    "layers5 = {}\n",
    "for lname, layer in layers4.items():\n",
    "    attrs = layer._parameters.keys()\n",
    "    for attr in attrs:\n",
    "        x = getattr(layer, attr)\n",
    "        if x == None: # ex: empty bias in conv\n",
    "            continue\n",
    "        else:\n",
    "            layers5[f'{lname}_{attr}'] = x\n",
    "\n",
    "params = layers5\n",
    "    \n",
    "        \n",
    "        "
   ]
  },
  {
   "cell_type": "markdown",
   "id": "e08a33f3-8514-40aa-b922-06931e659a79",
   "metadata": {},
   "source": [
    "## [1] Load the model & Parameter Selection"
   ]
  },
  {
   "cell_type": "code",
   "execution_count": 3,
   "id": "1213e8c1-ac81-495a-a1f0-05142bdc9f10",
   "metadata": {},
   "outputs": [],
   "source": [
    "opt = config.GLOW_cifar10\n",
    "model = load_pretrained_GLOW(option=opt.train_dist)\n",
    "model.eval()\n",
    "\n",
    "params = {\n",
    "    'flow28_invconv_lower': model.flow.layers[28].invconv.lower,\n",
    "    'flow28_invconv_log_s': model.flow.layers[28].invconv.log_s,\n",
    "    'flow28_invconv_upper': model.flow.layers[28].invconv.upper,\n",
    "}"
   ]
  },
  {
   "cell_type": "markdown",
   "id": "c994c54f-c5ea-48d2-b8e0-90cf1c1a0369",
   "metadata": {},
   "source": [
    "## Additional Training (Deprecated)"
   ]
  },
  {
   "cell_type": "code",
   "execution_count": 92,
   "id": "7db81df6-a5bd-495b-98d2-e9984264f860",
   "metadata": {
    "collapsed": true,
    "jupyter": {
     "outputs_hidden": true,
     "source_hidden": true
    },
    "tags": []
   },
   "outputs": [
    {
     "name": "stdout",
     "output_type": "stream",
     "text": [
      "Files already downloaded and verified\n",
      "Epoch 01 mean_loss 21373.91 Elapsed time 0:04:00.977587\n"
     ]
    },
    {
     "ename": "KeyboardInterrupt",
     "evalue": "",
     "output_type": "error",
     "traceback": [
      "\u001b[1;31m---------------------------------------------------------------------------\u001b[0m",
      "\u001b[1;31mKeyboardInterrupt\u001b[0m                         Traceback (most recent call last)",
      "\u001b[1;32m<ipython-input-92-7c0b97018f56>\u001b[0m in \u001b[0;36m<module>\u001b[1;34m\u001b[0m\n\u001b[0;32m     17\u001b[0m     \u001b[1;32mfor\u001b[0m \u001b[0mi\u001b[0m\u001b[1;33m,\u001b[0m \u001b[1;33m(\u001b[0m\u001b[0mx\u001b[0m\u001b[1;33m,\u001b[0m \u001b[0m_\u001b[0m\u001b[1;33m)\u001b[0m \u001b[1;32min\u001b[0m \u001b[0menumerate\u001b[0m\u001b[1;33m(\u001b[0m\u001b[0mloader\u001b[0m\u001b[1;33m)\u001b[0m\u001b[1;33m:\u001b[0m\u001b[1;33m\u001b[0m\u001b[1;33m\u001b[0m\u001b[0m\n\u001b[0;32m     18\u001b[0m         \u001b[0mx\u001b[0m \u001b[1;33m=\u001b[0m \u001b[0mx\u001b[0m\u001b[1;33m.\u001b[0m\u001b[0mto\u001b[0m\u001b[1;33m(\u001b[0m\u001b[0mdevice\u001b[0m\u001b[1;33m)\u001b[0m\u001b[1;33m\u001b[0m\u001b[1;33m\u001b[0m\u001b[0m\n\u001b[1;32m---> 19\u001b[1;33m         \u001b[0mz\u001b[0m\u001b[1;33m,\u001b[0m \u001b[0mnll\u001b[0m\u001b[1;33m,\u001b[0m \u001b[0my_logits\u001b[0m \u001b[1;33m=\u001b[0m \u001b[0mmodel\u001b[0m\u001b[1;33m(\u001b[0m\u001b[0mx\u001b[0m\u001b[1;33m,\u001b[0m \u001b[1;32mNone\u001b[0m\u001b[1;33m)\u001b[0m\u001b[1;33m\u001b[0m\u001b[1;33m\u001b[0m\u001b[0m\n\u001b[0m\u001b[0;32m     20\u001b[0m         \u001b[0mloss\u001b[0m \u001b[1;33m=\u001b[0m \u001b[0mtorch\u001b[0m\u001b[1;33m.\u001b[0m\u001b[0mmean\u001b[0m\u001b[1;33m(\u001b[0m\u001b[0mnll\u001b[0m\u001b[1;33m)\u001b[0m\u001b[1;33m\u001b[0m\u001b[1;33m\u001b[0m\u001b[0m\n\u001b[0;32m     21\u001b[0m         \u001b[0moptimizer\u001b[0m\u001b[1;33m.\u001b[0m\u001b[0mzero_grad\u001b[0m\u001b[1;33m(\u001b[0m\u001b[1;33m)\u001b[0m\u001b[1;33m\u001b[0m\u001b[1;33m\u001b[0m\u001b[0m\n",
      "\u001b[1;32m~\\.conda\\envs\\torch\\lib\\site-packages\\torch\\nn\\modules\\module.py\u001b[0m in \u001b[0;36m_call_impl\u001b[1;34m(self, *input, **kwargs)\u001b[0m\n\u001b[0;32m    887\u001b[0m             \u001b[0mresult\u001b[0m \u001b[1;33m=\u001b[0m \u001b[0mself\u001b[0m\u001b[1;33m.\u001b[0m\u001b[0m_slow_forward\u001b[0m\u001b[1;33m(\u001b[0m\u001b[1;33m*\u001b[0m\u001b[0minput\u001b[0m\u001b[1;33m,\u001b[0m \u001b[1;33m**\u001b[0m\u001b[0mkwargs\u001b[0m\u001b[1;33m)\u001b[0m\u001b[1;33m\u001b[0m\u001b[1;33m\u001b[0m\u001b[0m\n\u001b[0;32m    888\u001b[0m         \u001b[1;32melse\u001b[0m\u001b[1;33m:\u001b[0m\u001b[1;33m\u001b[0m\u001b[1;33m\u001b[0m\u001b[0m\n\u001b[1;32m--> 889\u001b[1;33m             \u001b[0mresult\u001b[0m \u001b[1;33m=\u001b[0m \u001b[0mself\u001b[0m\u001b[1;33m.\u001b[0m\u001b[0mforward\u001b[0m\u001b[1;33m(\u001b[0m\u001b[1;33m*\u001b[0m\u001b[0minput\u001b[0m\u001b[1;33m,\u001b[0m \u001b[1;33m**\u001b[0m\u001b[0mkwargs\u001b[0m\u001b[1;33m)\u001b[0m\u001b[1;33m\u001b[0m\u001b[1;33m\u001b[0m\u001b[0m\n\u001b[0m\u001b[0;32m    890\u001b[0m         for hook in itertools.chain(\n\u001b[0;32m    891\u001b[0m                 \u001b[0m_global_forward_hooks\u001b[0m\u001b[1;33m.\u001b[0m\u001b[0mvalues\u001b[0m\u001b[1;33m(\u001b[0m\u001b[1;33m)\u001b[0m\u001b[1;33m,\u001b[0m\u001b[1;33m\u001b[0m\u001b[1;33m\u001b[0m\u001b[0m\n",
      "\u001b[1;32m~\\codes\\ood_detection\\code/core\\train_GLOW\\model.py\u001b[0m in \u001b[0;36mforward\u001b[1;34m(self, x, y_onehot, z, temperature, reverse)\u001b[0m\n\u001b[0;32m    265\u001b[0m             \u001b[1;32mreturn\u001b[0m \u001b[0mself\u001b[0m\u001b[1;33m.\u001b[0m\u001b[0mreverse_flow\u001b[0m\u001b[1;33m(\u001b[0m\u001b[0mz\u001b[0m\u001b[1;33m,\u001b[0m \u001b[0my_onehot\u001b[0m\u001b[1;33m,\u001b[0m \u001b[0mtemperature\u001b[0m\u001b[1;33m)\u001b[0m\u001b[1;33m\u001b[0m\u001b[1;33m\u001b[0m\u001b[0m\n\u001b[0;32m    266\u001b[0m         \u001b[1;32melse\u001b[0m\u001b[1;33m:\u001b[0m\u001b[1;33m\u001b[0m\u001b[1;33m\u001b[0m\u001b[0m\n\u001b[1;32m--> 267\u001b[1;33m             \u001b[1;32mreturn\u001b[0m \u001b[0mself\u001b[0m\u001b[1;33m.\u001b[0m\u001b[0mnormal_flow\u001b[0m\u001b[1;33m(\u001b[0m\u001b[0mx\u001b[0m\u001b[1;33m,\u001b[0m \u001b[0my_onehot\u001b[0m\u001b[1;33m)\u001b[0m\u001b[1;33m\u001b[0m\u001b[1;33m\u001b[0m\u001b[0m\n\u001b[0m\u001b[0;32m    268\u001b[0m \u001b[1;33m\u001b[0m\u001b[0m\n\u001b[0;32m    269\u001b[0m     \u001b[1;32mdef\u001b[0m \u001b[0mnormal_flow\u001b[0m\u001b[1;33m(\u001b[0m\u001b[0mself\u001b[0m\u001b[1;33m,\u001b[0m \u001b[0mx\u001b[0m\u001b[1;33m,\u001b[0m \u001b[0my_onehot\u001b[0m\u001b[1;33m)\u001b[0m\u001b[1;33m:\u001b[0m\u001b[1;33m\u001b[0m\u001b[1;33m\u001b[0m\u001b[0m\n",
      "\u001b[1;32m~\\codes\\ood_detection\\code/core\\train_GLOW\\model.py\u001b[0m in \u001b[0;36mnormal_flow\u001b[1;34m(self, x, y_onehot)\u001b[0m\n\u001b[0;32m    272\u001b[0m         \u001b[0mx\u001b[0m\u001b[1;33m,\u001b[0m \u001b[0mlogdet\u001b[0m \u001b[1;33m=\u001b[0m \u001b[0muniform_binning_correction\u001b[0m\u001b[1;33m(\u001b[0m\u001b[0mx\u001b[0m\u001b[1;33m)\u001b[0m\u001b[1;33m\u001b[0m\u001b[1;33m\u001b[0m\u001b[0m\n\u001b[0;32m    273\u001b[0m \u001b[1;33m\u001b[0m\u001b[0m\n\u001b[1;32m--> 274\u001b[1;33m         \u001b[0mz\u001b[0m\u001b[1;33m,\u001b[0m \u001b[0mobjective\u001b[0m \u001b[1;33m=\u001b[0m \u001b[0mself\u001b[0m\u001b[1;33m.\u001b[0m\u001b[0mflow\u001b[0m\u001b[1;33m(\u001b[0m\u001b[0mx\u001b[0m\u001b[1;33m,\u001b[0m \u001b[0mlogdet\u001b[0m\u001b[1;33m=\u001b[0m\u001b[0mlogdet\u001b[0m\u001b[1;33m,\u001b[0m \u001b[0mreverse\u001b[0m\u001b[1;33m=\u001b[0m\u001b[1;32mFalse\u001b[0m\u001b[1;33m)\u001b[0m\u001b[1;33m\u001b[0m\u001b[1;33m\u001b[0m\u001b[0m\n\u001b[0m\u001b[0;32m    275\u001b[0m \u001b[1;33m\u001b[0m\u001b[0m\n\u001b[0;32m    276\u001b[0m         \u001b[0mmean\u001b[0m\u001b[1;33m,\u001b[0m \u001b[0mlogs\u001b[0m \u001b[1;33m=\u001b[0m \u001b[0mself\u001b[0m\u001b[1;33m.\u001b[0m\u001b[0mprior\u001b[0m\u001b[1;33m(\u001b[0m\u001b[0mx\u001b[0m\u001b[1;33m,\u001b[0m \u001b[0my_onehot\u001b[0m\u001b[1;33m)\u001b[0m\u001b[1;33m\u001b[0m\u001b[1;33m\u001b[0m\u001b[0m\n",
      "\u001b[1;32m~\\.conda\\envs\\torch\\lib\\site-packages\\torch\\nn\\modules\\module.py\u001b[0m in \u001b[0;36m_call_impl\u001b[1;34m(self, *input, **kwargs)\u001b[0m\n\u001b[0;32m    887\u001b[0m             \u001b[0mresult\u001b[0m \u001b[1;33m=\u001b[0m \u001b[0mself\u001b[0m\u001b[1;33m.\u001b[0m\u001b[0m_slow_forward\u001b[0m\u001b[1;33m(\u001b[0m\u001b[1;33m*\u001b[0m\u001b[0minput\u001b[0m\u001b[1;33m,\u001b[0m \u001b[1;33m**\u001b[0m\u001b[0mkwargs\u001b[0m\u001b[1;33m)\u001b[0m\u001b[1;33m\u001b[0m\u001b[1;33m\u001b[0m\u001b[0m\n\u001b[0;32m    888\u001b[0m         \u001b[1;32melse\u001b[0m\u001b[1;33m:\u001b[0m\u001b[1;33m\u001b[0m\u001b[1;33m\u001b[0m\u001b[0m\n\u001b[1;32m--> 889\u001b[1;33m             \u001b[0mresult\u001b[0m \u001b[1;33m=\u001b[0m \u001b[0mself\u001b[0m\u001b[1;33m.\u001b[0m\u001b[0mforward\u001b[0m\u001b[1;33m(\u001b[0m\u001b[1;33m*\u001b[0m\u001b[0minput\u001b[0m\u001b[1;33m,\u001b[0m \u001b[1;33m**\u001b[0m\u001b[0mkwargs\u001b[0m\u001b[1;33m)\u001b[0m\u001b[1;33m\u001b[0m\u001b[1;33m\u001b[0m\u001b[0m\n\u001b[0m\u001b[0;32m    890\u001b[0m         for hook in itertools.chain(\n\u001b[0;32m    891\u001b[0m                 \u001b[0m_global_forward_hooks\u001b[0m\u001b[1;33m.\u001b[0m\u001b[0mvalues\u001b[0m\u001b[1;33m(\u001b[0m\u001b[1;33m)\u001b[0m\u001b[1;33m,\u001b[0m\u001b[1;33m\u001b[0m\u001b[1;33m\u001b[0m\u001b[0m\n",
      "\u001b[1;32m~\\codes\\ood_detection\\code/core\\train_GLOW\\model.py\u001b[0m in \u001b[0;36mforward\u001b[1;34m(self, input, logdet, reverse, temperature)\u001b[0m\n\u001b[0;32m    173\u001b[0m             \u001b[1;32mreturn\u001b[0m \u001b[0mself\u001b[0m\u001b[1;33m.\u001b[0m\u001b[0mdecode\u001b[0m\u001b[1;33m(\u001b[0m\u001b[0minput\u001b[0m\u001b[1;33m,\u001b[0m \u001b[0mtemperature\u001b[0m\u001b[1;33m)\u001b[0m\u001b[1;33m\u001b[0m\u001b[1;33m\u001b[0m\u001b[0m\n\u001b[0;32m    174\u001b[0m         \u001b[1;32melse\u001b[0m\u001b[1;33m:\u001b[0m\u001b[1;33m\u001b[0m\u001b[1;33m\u001b[0m\u001b[0m\n\u001b[1;32m--> 175\u001b[1;33m             \u001b[1;32mreturn\u001b[0m \u001b[0mself\u001b[0m\u001b[1;33m.\u001b[0m\u001b[0mencode\u001b[0m\u001b[1;33m(\u001b[0m\u001b[0minput\u001b[0m\u001b[1;33m,\u001b[0m \u001b[0mlogdet\u001b[0m\u001b[1;33m)\u001b[0m\u001b[1;33m\u001b[0m\u001b[1;33m\u001b[0m\u001b[0m\n\u001b[0m\u001b[0;32m    176\u001b[0m \u001b[1;33m\u001b[0m\u001b[0m\n\u001b[0;32m    177\u001b[0m     \u001b[1;32mdef\u001b[0m \u001b[0mencode\u001b[0m\u001b[1;33m(\u001b[0m\u001b[0mself\u001b[0m\u001b[1;33m,\u001b[0m \u001b[0mz\u001b[0m\u001b[1;33m,\u001b[0m \u001b[0mlogdet\u001b[0m\u001b[1;33m=\u001b[0m\u001b[1;36m0.0\u001b[0m\u001b[1;33m)\u001b[0m\u001b[1;33m:\u001b[0m\u001b[1;33m\u001b[0m\u001b[1;33m\u001b[0m\u001b[0m\n",
      "\u001b[1;32m~\\codes\\ood_detection\\code/core\\train_GLOW\\model.py\u001b[0m in \u001b[0;36mencode\u001b[1;34m(self, z, logdet)\u001b[0m\n\u001b[0;32m    177\u001b[0m     \u001b[1;32mdef\u001b[0m \u001b[0mencode\u001b[0m\u001b[1;33m(\u001b[0m\u001b[0mself\u001b[0m\u001b[1;33m,\u001b[0m \u001b[0mz\u001b[0m\u001b[1;33m,\u001b[0m \u001b[0mlogdet\u001b[0m\u001b[1;33m=\u001b[0m\u001b[1;36m0.0\u001b[0m\u001b[1;33m)\u001b[0m\u001b[1;33m:\u001b[0m\u001b[1;33m\u001b[0m\u001b[1;33m\u001b[0m\u001b[0m\n\u001b[0;32m    178\u001b[0m         \u001b[1;32mfor\u001b[0m \u001b[0mlayer\u001b[0m\u001b[1;33m,\u001b[0m \u001b[0mshape\u001b[0m \u001b[1;32min\u001b[0m \u001b[0mzip\u001b[0m\u001b[1;33m(\u001b[0m\u001b[0mself\u001b[0m\u001b[1;33m.\u001b[0m\u001b[0mlayers\u001b[0m\u001b[1;33m,\u001b[0m \u001b[0mself\u001b[0m\u001b[1;33m.\u001b[0m\u001b[0moutput_shapes\u001b[0m\u001b[1;33m)\u001b[0m\u001b[1;33m:\u001b[0m\u001b[1;33m\u001b[0m\u001b[1;33m\u001b[0m\u001b[0m\n\u001b[1;32m--> 179\u001b[1;33m             \u001b[0mz\u001b[0m\u001b[1;33m,\u001b[0m \u001b[0mlogdet\u001b[0m \u001b[1;33m=\u001b[0m \u001b[0mlayer\u001b[0m\u001b[1;33m(\u001b[0m\u001b[0mz\u001b[0m\u001b[1;33m,\u001b[0m \u001b[0mlogdet\u001b[0m\u001b[1;33m,\u001b[0m \u001b[0mreverse\u001b[0m\u001b[1;33m=\u001b[0m\u001b[1;32mFalse\u001b[0m\u001b[1;33m)\u001b[0m\u001b[1;33m\u001b[0m\u001b[1;33m\u001b[0m\u001b[0m\n\u001b[0m\u001b[0;32m    180\u001b[0m         \u001b[1;32mreturn\u001b[0m \u001b[0mz\u001b[0m\u001b[1;33m,\u001b[0m \u001b[0mlogdet\u001b[0m\u001b[1;33m\u001b[0m\u001b[1;33m\u001b[0m\u001b[0m\n\u001b[0;32m    181\u001b[0m \u001b[1;33m\u001b[0m\u001b[0m\n",
      "\u001b[1;32m~\\.conda\\envs\\torch\\lib\\site-packages\\torch\\nn\\modules\\module.py\u001b[0m in \u001b[0;36m_call_impl\u001b[1;34m(self, *input, **kwargs)\u001b[0m\n\u001b[0;32m    887\u001b[0m             \u001b[0mresult\u001b[0m \u001b[1;33m=\u001b[0m \u001b[0mself\u001b[0m\u001b[1;33m.\u001b[0m\u001b[0m_slow_forward\u001b[0m\u001b[1;33m(\u001b[0m\u001b[1;33m*\u001b[0m\u001b[0minput\u001b[0m\u001b[1;33m,\u001b[0m \u001b[1;33m**\u001b[0m\u001b[0mkwargs\u001b[0m\u001b[1;33m)\u001b[0m\u001b[1;33m\u001b[0m\u001b[1;33m\u001b[0m\u001b[0m\n\u001b[0;32m    888\u001b[0m         \u001b[1;32melse\u001b[0m\u001b[1;33m:\u001b[0m\u001b[1;33m\u001b[0m\u001b[1;33m\u001b[0m\u001b[0m\n\u001b[1;32m--> 889\u001b[1;33m             \u001b[0mresult\u001b[0m \u001b[1;33m=\u001b[0m \u001b[0mself\u001b[0m\u001b[1;33m.\u001b[0m\u001b[0mforward\u001b[0m\u001b[1;33m(\u001b[0m\u001b[1;33m*\u001b[0m\u001b[0minput\u001b[0m\u001b[1;33m,\u001b[0m \u001b[1;33m**\u001b[0m\u001b[0mkwargs\u001b[0m\u001b[1;33m)\u001b[0m\u001b[1;33m\u001b[0m\u001b[1;33m\u001b[0m\u001b[0m\n\u001b[0m\u001b[0;32m    890\u001b[0m         for hook in itertools.chain(\n\u001b[0;32m    891\u001b[0m                 \u001b[0m_global_forward_hooks\u001b[0m\u001b[1;33m.\u001b[0m\u001b[0mvalues\u001b[0m\u001b[1;33m(\u001b[0m\u001b[1;33m)\u001b[0m\u001b[1;33m,\u001b[0m\u001b[1;33m\u001b[0m\u001b[1;33m\u001b[0m\u001b[0m\n",
      "\u001b[1;32m~\\codes\\ood_detection\\code/core\\train_GLOW\\model.py\u001b[0m in \u001b[0;36mforward\u001b[1;34m(self, input, logdet, reverse)\u001b[0m\n\u001b[0;32m     68\u001b[0m     \u001b[1;32mdef\u001b[0m \u001b[0mforward\u001b[0m\u001b[1;33m(\u001b[0m\u001b[0mself\u001b[0m\u001b[1;33m,\u001b[0m \u001b[0minput\u001b[0m\u001b[1;33m,\u001b[0m \u001b[0mlogdet\u001b[0m\u001b[1;33m=\u001b[0m\u001b[1;32mNone\u001b[0m\u001b[1;33m,\u001b[0m \u001b[0mreverse\u001b[0m\u001b[1;33m=\u001b[0m\u001b[1;32mFalse\u001b[0m\u001b[1;33m)\u001b[0m\u001b[1;33m:\u001b[0m\u001b[1;33m\u001b[0m\u001b[1;33m\u001b[0m\u001b[0m\n\u001b[0;32m     69\u001b[0m         \u001b[1;32mif\u001b[0m \u001b[1;32mnot\u001b[0m \u001b[0mreverse\u001b[0m\u001b[1;33m:\u001b[0m\u001b[1;33m\u001b[0m\u001b[1;33m\u001b[0m\u001b[0m\n\u001b[1;32m---> 70\u001b[1;33m             \u001b[1;32mreturn\u001b[0m \u001b[0mself\u001b[0m\u001b[1;33m.\u001b[0m\u001b[0mnormal_flow\u001b[0m\u001b[1;33m(\u001b[0m\u001b[0minput\u001b[0m\u001b[1;33m,\u001b[0m \u001b[0mlogdet\u001b[0m\u001b[1;33m)\u001b[0m\u001b[1;33m\u001b[0m\u001b[1;33m\u001b[0m\u001b[0m\n\u001b[0m\u001b[0;32m     71\u001b[0m         \u001b[1;32melse\u001b[0m\u001b[1;33m:\u001b[0m\u001b[1;33m\u001b[0m\u001b[1;33m\u001b[0m\u001b[0m\n\u001b[0;32m     72\u001b[0m             \u001b[1;32mreturn\u001b[0m \u001b[0mself\u001b[0m\u001b[1;33m.\u001b[0m\u001b[0mreverse_flow\u001b[0m\u001b[1;33m(\u001b[0m\u001b[0minput\u001b[0m\u001b[1;33m,\u001b[0m \u001b[0mlogdet\u001b[0m\u001b[1;33m)\u001b[0m\u001b[1;33m\u001b[0m\u001b[1;33m\u001b[0m\u001b[0m\n",
      "\u001b[1;32m~\\codes\\ood_detection\\code/core\\train_GLOW\\model.py\u001b[0m in \u001b[0;36mnormal_flow\u001b[1;34m(self, input, logdet)\u001b[0m\n\u001b[0;32m     79\u001b[0m \u001b[1;33m\u001b[0m\u001b[0m\n\u001b[0;32m     80\u001b[0m         \u001b[1;31m# 2. permute\u001b[0m\u001b[1;33m\u001b[0m\u001b[1;33m\u001b[0m\u001b[1;33m\u001b[0m\u001b[0m\n\u001b[1;32m---> 81\u001b[1;33m         \u001b[0mz\u001b[0m\u001b[1;33m,\u001b[0m \u001b[0mlogdet\u001b[0m \u001b[1;33m=\u001b[0m \u001b[0mself\u001b[0m\u001b[1;33m.\u001b[0m\u001b[0mflow_permutation\u001b[0m\u001b[1;33m(\u001b[0m\u001b[0mz\u001b[0m\u001b[1;33m,\u001b[0m \u001b[0mlogdet\u001b[0m\u001b[1;33m,\u001b[0m \u001b[1;32mFalse\u001b[0m\u001b[1;33m)\u001b[0m\u001b[1;33m\u001b[0m\u001b[1;33m\u001b[0m\u001b[0m\n\u001b[0m\u001b[0;32m     82\u001b[0m \u001b[1;33m\u001b[0m\u001b[0m\n\u001b[0;32m     83\u001b[0m         \u001b[1;31m# 3. coupling\u001b[0m\u001b[1;33m\u001b[0m\u001b[1;33m\u001b[0m\u001b[1;33m\u001b[0m\u001b[0m\n",
      "\u001b[1;32m~\\codes\\ood_detection\\code/core\\train_GLOW\\model.py\u001b[0m in \u001b[0;36m<lambda>\u001b[1;34m(z, logdet, rev)\u001b[0m\n\u001b[0;32m     46\u001b[0m         \u001b[1;32mif\u001b[0m \u001b[0mflow_permutation\u001b[0m \u001b[1;33m==\u001b[0m \u001b[1;34m\"invconv\"\u001b[0m\u001b[1;33m:\u001b[0m\u001b[1;33m\u001b[0m\u001b[1;33m\u001b[0m\u001b[0m\n\u001b[0;32m     47\u001b[0m             \u001b[0mself\u001b[0m\u001b[1;33m.\u001b[0m\u001b[0minvconv\u001b[0m \u001b[1;33m=\u001b[0m \u001b[0mInvertibleConv1x1\u001b[0m\u001b[1;33m(\u001b[0m\u001b[0min_channels\u001b[0m\u001b[1;33m,\u001b[0m \u001b[0mLU_decomposed\u001b[0m\u001b[1;33m=\u001b[0m\u001b[0mLU_decomposed\u001b[0m\u001b[1;33m)\u001b[0m\u001b[1;33m\u001b[0m\u001b[1;33m\u001b[0m\u001b[0m\n\u001b[1;32m---> 48\u001b[1;33m             \u001b[0mself\u001b[0m\u001b[1;33m.\u001b[0m\u001b[0mflow_permutation\u001b[0m \u001b[1;33m=\u001b[0m \u001b[1;32mlambda\u001b[0m \u001b[0mz\u001b[0m\u001b[1;33m,\u001b[0m \u001b[0mlogdet\u001b[0m\u001b[1;33m,\u001b[0m \u001b[0mrev\u001b[0m\u001b[1;33m:\u001b[0m \u001b[0mself\u001b[0m\u001b[1;33m.\u001b[0m\u001b[0minvconv\u001b[0m\u001b[1;33m(\u001b[0m\u001b[0mz\u001b[0m\u001b[1;33m,\u001b[0m \u001b[0mlogdet\u001b[0m\u001b[1;33m,\u001b[0m \u001b[0mrev\u001b[0m\u001b[1;33m)\u001b[0m\u001b[1;33m\u001b[0m\u001b[1;33m\u001b[0m\u001b[0m\n\u001b[0m\u001b[0;32m     49\u001b[0m         \u001b[1;32melif\u001b[0m \u001b[0mflow_permutation\u001b[0m \u001b[1;33m==\u001b[0m \u001b[1;34m\"shuffle\"\u001b[0m\u001b[1;33m:\u001b[0m\u001b[1;33m\u001b[0m\u001b[1;33m\u001b[0m\u001b[0m\n\u001b[0;32m     50\u001b[0m             \u001b[0mself\u001b[0m\u001b[1;33m.\u001b[0m\u001b[0mshuffle\u001b[0m \u001b[1;33m=\u001b[0m \u001b[0mPermute2d\u001b[0m\u001b[1;33m(\u001b[0m\u001b[0min_channels\u001b[0m\u001b[1;33m,\u001b[0m \u001b[0mshuffle\u001b[0m\u001b[1;33m=\u001b[0m\u001b[1;32mTrue\u001b[0m\u001b[1;33m)\u001b[0m\u001b[1;33m\u001b[0m\u001b[1;33m\u001b[0m\u001b[0m\n",
      "\u001b[1;32m~\\.conda\\envs\\torch\\lib\\site-packages\\torch\\nn\\modules\\module.py\u001b[0m in \u001b[0;36m_call_impl\u001b[1;34m(self, *input, **kwargs)\u001b[0m\n\u001b[0;32m    887\u001b[0m             \u001b[0mresult\u001b[0m \u001b[1;33m=\u001b[0m \u001b[0mself\u001b[0m\u001b[1;33m.\u001b[0m\u001b[0m_slow_forward\u001b[0m\u001b[1;33m(\u001b[0m\u001b[1;33m*\u001b[0m\u001b[0minput\u001b[0m\u001b[1;33m,\u001b[0m \u001b[1;33m**\u001b[0m\u001b[0mkwargs\u001b[0m\u001b[1;33m)\u001b[0m\u001b[1;33m\u001b[0m\u001b[1;33m\u001b[0m\u001b[0m\n\u001b[0;32m    888\u001b[0m         \u001b[1;32melse\u001b[0m\u001b[1;33m:\u001b[0m\u001b[1;33m\u001b[0m\u001b[1;33m\u001b[0m\u001b[0m\n\u001b[1;32m--> 889\u001b[1;33m             \u001b[0mresult\u001b[0m \u001b[1;33m=\u001b[0m \u001b[0mself\u001b[0m\u001b[1;33m.\u001b[0m\u001b[0mforward\u001b[0m\u001b[1;33m(\u001b[0m\u001b[1;33m*\u001b[0m\u001b[0minput\u001b[0m\u001b[1;33m,\u001b[0m \u001b[1;33m**\u001b[0m\u001b[0mkwargs\u001b[0m\u001b[1;33m)\u001b[0m\u001b[1;33m\u001b[0m\u001b[1;33m\u001b[0m\u001b[0m\n\u001b[0m\u001b[0;32m    890\u001b[0m         for hook in itertools.chain(\n\u001b[0;32m    891\u001b[0m                 \u001b[0m_global_forward_hooks\u001b[0m\u001b[1;33m.\u001b[0m\u001b[0mvalues\u001b[0m\u001b[1;33m(\u001b[0m\u001b[1;33m)\u001b[0m\u001b[1;33m,\u001b[0m\u001b[1;33m\u001b[0m\u001b[1;33m\u001b[0m\u001b[0m\n",
      "\u001b[1;32m~\\codes\\ood_detection\\code/core/train_GLOW\\modules.py\u001b[0m in \u001b[0;36mforward\u001b[1;34m(self, input, logdet, reverse)\u001b[0m\n\u001b[0;32m    375\u001b[0m         \u001b[0mlog\u001b[0m\u001b[1;33m-\u001b[0m\u001b[0mdet\u001b[0m \u001b[1;33m=\u001b[0m \u001b[0mlog\u001b[0m\u001b[1;33m|\u001b[0m\u001b[0mabs\u001b[0m\u001b[1;33m(\u001b[0m\u001b[1;33m|\u001b[0m\u001b[0mW\u001b[0m\u001b[1;33m|\u001b[0m\u001b[1;33m)\u001b[0m\u001b[1;33m|\u001b[0m \u001b[1;33m*\u001b[0m \u001b[0mpixels\u001b[0m\u001b[1;33m\u001b[0m\u001b[1;33m\u001b[0m\u001b[0m\n\u001b[0;32m    376\u001b[0m         \"\"\"\n\u001b[1;32m--> 377\u001b[1;33m         \u001b[0mweight\u001b[0m\u001b[1;33m,\u001b[0m \u001b[0mdlogdet\u001b[0m \u001b[1;33m=\u001b[0m \u001b[0mself\u001b[0m\u001b[1;33m.\u001b[0m\u001b[0mget_weight\u001b[0m\u001b[1;33m(\u001b[0m\u001b[0minput\u001b[0m\u001b[1;33m,\u001b[0m \u001b[0mreverse\u001b[0m\u001b[1;33m)\u001b[0m\u001b[1;33m\u001b[0m\u001b[1;33m\u001b[0m\u001b[0m\n\u001b[0m\u001b[0;32m    378\u001b[0m \u001b[1;33m\u001b[0m\u001b[0m\n\u001b[0;32m    379\u001b[0m         \u001b[1;32mif\u001b[0m \u001b[1;32mnot\u001b[0m \u001b[0mreverse\u001b[0m\u001b[1;33m:\u001b[0m\u001b[1;33m\u001b[0m\u001b[1;33m\u001b[0m\u001b[0m\n",
      "\u001b[1;32m~\\codes\\ood_detection\\code/core/train_GLOW\\modules.py\u001b[0m in \u001b[0;36mget_weight\u001b[1;34m(self, input, reverse)\u001b[0m\n\u001b[0;32m    356\u001b[0m \u001b[1;33m\u001b[0m\u001b[0m\n\u001b[0;32m    357\u001b[0m             \u001b[0mu\u001b[0m \u001b[1;33m=\u001b[0m \u001b[0mself\u001b[0m\u001b[1;33m.\u001b[0m\u001b[0mupper\u001b[0m \u001b[1;33m*\u001b[0m \u001b[0mself\u001b[0m\u001b[1;33m.\u001b[0m\u001b[0ml_mask\u001b[0m\u001b[1;33m.\u001b[0m\u001b[0mtranspose\u001b[0m\u001b[1;33m(\u001b[0m\u001b[1;36m0\u001b[0m\u001b[1;33m,\u001b[0m \u001b[1;36m1\u001b[0m\u001b[1;33m)\u001b[0m\u001b[1;33m.\u001b[0m\u001b[0mcontiguous\u001b[0m\u001b[1;33m(\u001b[0m\u001b[1;33m)\u001b[0m\u001b[1;33m\u001b[0m\u001b[1;33m\u001b[0m\u001b[0m\n\u001b[1;32m--> 358\u001b[1;33m             \u001b[0mu\u001b[0m \u001b[1;33m+=\u001b[0m \u001b[0mtorch\u001b[0m\u001b[1;33m.\u001b[0m\u001b[0mdiag\u001b[0m\u001b[1;33m(\u001b[0m\u001b[0mself\u001b[0m\u001b[1;33m.\u001b[0m\u001b[0msign_s\u001b[0m \u001b[1;33m*\u001b[0m \u001b[0mtorch\u001b[0m\u001b[1;33m.\u001b[0m\u001b[0mexp\u001b[0m\u001b[1;33m(\u001b[0m\u001b[0mself\u001b[0m\u001b[1;33m.\u001b[0m\u001b[0mlog_s\u001b[0m\u001b[1;33m)\u001b[0m\u001b[1;33m)\u001b[0m\u001b[1;33m\u001b[0m\u001b[1;33m\u001b[0m\u001b[0m\n\u001b[0m\u001b[0;32m    359\u001b[0m \u001b[1;33m\u001b[0m\u001b[0m\n\u001b[0;32m    360\u001b[0m             \u001b[0mdlogdet\u001b[0m \u001b[1;33m=\u001b[0m \u001b[0mtorch\u001b[0m\u001b[1;33m.\u001b[0m\u001b[0msum\u001b[0m\u001b[1;33m(\u001b[0m\u001b[0mself\u001b[0m\u001b[1;33m.\u001b[0m\u001b[0mlog_s\u001b[0m\u001b[1;33m)\u001b[0m \u001b[1;33m*\u001b[0m \u001b[0mh\u001b[0m \u001b[1;33m*\u001b[0m \u001b[0mw\u001b[0m\u001b[1;33m\u001b[0m\u001b[1;33m\u001b[0m\u001b[0m\n",
      "\u001b[1;31mKeyboardInterrupt\u001b[0m: "
     ]
    }
   ],
   "source": [
    "for param in model.parameters():\n",
    "    param.requires_grad_(False)\n",
    "for param in model.flow.layers[28].invconv.parameters():\n",
    "    param.requires_grad_(True)\n",
    "\n",
    "import torch.optim as optim\n",
    "from torch.autograd import Variable\n",
    "from datetime import datetime\n",
    "\n",
    "device = 'cuda:0'\n",
    "optimizer = optim.Adamax(model.flow.layers[28].invconv.parameters(), lr=1e-4, weight_decay=0)\n",
    "loader = TRAIN_loader('cifar10')\n",
    "start = datetime.now()\n",
    "\n",
    "for epoch in range(10):\n",
    "    mean_loss = 0.\n",
    "    for i, (x, _) in enumerate(loader):\n",
    "        x = x.to(device)\n",
    "        z, nll, y_logits = model(x, None)\n",
    "        loss = torch.mean(nll)\n",
    "        optimizer.zero_grad()\n",
    "        loss.backward()\n",
    "        optimizer.step()\n",
    "        mean_loss = (mean_loss * i + loss.detach().item()) / (i + 1)\n",
    "        \n",
    "    now = datetime.now()\n",
    "    print(f'Epoch {epoch+1:02d} mean_loss {mean_loss:.2f} Elapsed time {now - start}')\n",
    "    \n",
    "    "
   ]
  },
  {
   "cell_type": "markdown",
   "id": "2b8a5373-8fac-4f6c-b11b-b4a24a2a002f",
   "metadata": {},
   "source": [
    "## [2] Compute Fisher inverse & Fisher score"
   ]
  },
  {
   "cell_type": "code",
   "execution_count": 4,
   "id": "familiar-kidney",
   "metadata": {},
   "outputs": [
    {
     "name": "stdout",
     "output_type": "stream",
     "text": [
      "Files already downloaded and verified\n"
     ]
    },
    {
     "name": "stderr",
     "output_type": "stream",
     "text": [
      "Calculate Fisher GLOW:  20%|██████████▍                                         | 9999/50000 [10:03<40:12, 16.58step/s]\n"
     ]
    },
    {
     "name": "stdout",
     "output_type": "stream",
     "text": [
      "Files already downloaded and verified\n"
     ]
    },
    {
     "name": "stderr",
     "output_type": "stream",
     "text": [
      "Calculate Score GLOW:  50%|██████████████████████████▍                          | 4999/10000 [05:04<05:04, 16.41step/s]\n"
     ]
    },
    {
     "name": "stdout",
     "output_type": "stream",
     "text": [
      "Using downloaded and verified file: ../data\\test_32x32.mat\n"
     ]
    },
    {
     "name": "stderr",
     "output_type": "stream",
     "text": [
      "Calculate Score GLOW:  19%|██████████▏                                          | 4999/26032 [05:03<21:16, 16.47step/s]\n",
      "Calculate Score GLOW:  26%|█████████████▊                                       | 4999/19141 [05:00<14:10, 16.64step/s]\n",
      "Calculate Score GLOW:  50%|██████████████████████████▍                          | 4999/10000 [05:02<05:02, 16.52step/s]\n"
     ]
    }
   ],
   "source": [
    "method = 'Vanilla'\n",
    "a, b, _scores = AUTO_GLOW(opt, model, params, max_iter=[10000, 5000], method=method)"
   ]
  },
  {
   "cell_type": "markdown",
   "id": "34ccb97f-e6a7-4c09-8828-3246fc55fdbb",
   "metadata": {},
   "source": [
    "## [3] Get AUROC"
   ]
  },
  {
   "cell_type": "code",
   "execution_count": 5,
   "id": "644c4c9a-2a80-4f7e-8d21-5bb7f1950231",
   "metadata": {},
   "outputs": [
    {
     "data": {
      "text/html": [
       "<div>\n",
       "<style scoped>\n",
       "    .dataframe tbody tr th:only-of-type {\n",
       "        vertical-align: middle;\n",
       "    }\n",
       "\n",
       "    .dataframe tbody tr th {\n",
       "        vertical-align: top;\n",
       "    }\n",
       "\n",
       "    .dataframe thead th {\n",
       "        text-align: right;\n",
       "    }\n",
       "</style>\n",
       "<table border=\"1\" class=\"dataframe\">\n",
       "  <thead>\n",
       "    <tr style=\"text-align: right;\">\n",
       "      <th></th>\n",
       "      <th>svhn</th>\n",
       "      <th>celeba</th>\n",
       "      <th>lsun</th>\n",
       "    </tr>\n",
       "  </thead>\n",
       "  <tbody>\n",
       "    <tr>\n",
       "      <th>flow28_invconv_lower</th>\n",
       "      <td>0.821185</td>\n",
       "      <td>0.697505</td>\n",
       "      <td>0.677916</td>\n",
       "    </tr>\n",
       "    <tr>\n",
       "      <th>flow28_invconv_log_s</th>\n",
       "      <td>0.830832</td>\n",
       "      <td>0.641544</td>\n",
       "      <td>0.671735</td>\n",
       "    </tr>\n",
       "    <tr>\n",
       "      <th>flow28_invconv_upper</th>\n",
       "      <td>0.874336</td>\n",
       "      <td>0.702612</td>\n",
       "      <td>0.723455</td>\n",
       "    </tr>\n",
       "  </tbody>\n",
       "</table>\n",
       "</div>"
      ],
      "text/plain": [
       "                          svhn    celeba      lsun\n",
       "flow28_invconv_lower  0.821185  0.697505  0.677916\n",
       "flow28_invconv_log_s  0.830832  0.641544  0.671735\n",
       "flow28_invconv_upper  0.874336  0.702612  0.723455"
      ]
     },
     "execution_count": 5,
     "metadata": {},
     "output_type": "execute_result"
    }
   ],
   "source": [
    "for pname in params.keys():\n",
    "    FISHERs[opt.train_dist][pname] = a[pname] \n",
    "    NORM_FACs[opt.train_dist][pname] = b[pname]\n",
    "for ood in opt.ood_list:\n",
    "    SCOREs[opt.train_dist][ood] = _scores[ood]\n",
    "\n",
    "# AUROC curve\n",
    "auroc = {}\n",
    "for pname in params.keys():\n",
    "    _auroc = {}\n",
    "    for ood in opt.ood_list:\n",
    "        args = [\n",
    "            SCOREs[opt.train_dist][opt.train_dist][pname],\n",
    "            SCOREs[opt.train_dist][ood][pname],\n",
    "        ]\n",
    "        labels = [opt.train_dist, ood]\n",
    "        _auroc[ood] = AUROC(*args, labels=labels, verbose=False)\n",
    "    auroc[pname] = _auroc\n",
    "    \n",
    "df = pd.DataFrame(auroc).T\n",
    "df = df.iloc[:, 1:]\n",
    "df"
   ]
  },
  {
   "cell_type": "code",
   "execution_count": 7,
   "id": "62e017c8-4e3a-4ec6-9864-8ee8ba21f4ae",
   "metadata": {},
   "outputs": [],
   "source": [
    "temp = {}\n",
    "for ood in opt.ood_list:\n",
    "    temp[ood] = SCOREs[opt.train_dist][ood].copy()"
   ]
  },
  {
   "cell_type": "code",
   "execution_count": 12,
   "id": "2fff5546-1288-4958-bbef-c7ff09a63477",
   "metadata": {},
   "outputs": [
    {
     "data": {
      "text/plain": [
       "{'cifar10': 0.5,\n",
       " 'svhn': 0.8743364599999999,\n",
       " 'celeba': 0.70261182,\n",
       " 'lsun': 0.72345466}"
      ]
     },
     "execution_count": 12,
     "metadata": {},
     "output_type": "execute_result"
    }
   ],
   "source": [
    "s = {}\n",
    "for ood in opt.ood_list:\n",
    "    try:\n",
    "        s[ood] += temp[ood][pname]\n",
    "    except:\n",
    "        s[ood] = temp[ood][pname]\n",
    "        \n",
    "auroc = {}\n",
    "for ood in opt.ood_list:\n",
    "    args = [s[opt.train_dist], s[ood]]\n",
    "    labels = [opt.train_dist, ood]\n",
    "    auroc[ood] = AUROC(*args, labels=labels, verbose=False)\n",
    "    \n",
    "auroc"
   ]
  },
  {
   "cell_type": "code",
   "execution_count": 28,
   "id": "12861974-a397-4272-ac6d-8bf94a83aac9",
   "metadata": {
    "tags": []
   },
   "outputs": [
    {
     "data": {
      "text/plain": [
       "{'cifar10': 0.5, 'svhn': 0.0, 'celeba': 0.0, 'lsun': 0.0}"
      ]
     },
     "execution_count": 28,
     "metadata": {},
     "output_type": "execute_result"
    }
   ],
   "source": [
    "auroc = {}\n",
    "for ood in opt.ood_list:\n",
    "    in_sum = 0\n",
    "    out_sum = 0\n",
    "    for pname in params.keys():\n",
    "        try:\n",
    "            in_sum += np.array(SCOREs[opt.train_dist][opt.train_dist][pname])\n",
    "            out_sum += np.array(SCOREs[opt.train_dist][ood][pname])\n",
    "        except:\n",
    "            in_sum = np.array(SCOREs[opt.train_dist][opt.train_dist][pname])\n",
    "            out_sum = np.array(SCOREs[opt.train_dist][ood][pname])\n",
    "    args = [\n",
    "        in_sum,\n",
    "        out_sum,\n",
    "    ]\n",
    "\n",
    "    labels = [opt.train_dist, ood]\n",
    "    \n",
    "    auroc[ood] = AUROC(*args, labels=labels, verbose=False)\n",
    "\n",
    "auroc"
   ]
  },
  {
   "cell_type": "code",
   "execution_count": 30,
   "id": "a6659f26-3f33-4556-8459-cd1cc4dc41bc",
   "metadata": {},
   "outputs": [
    {
     "name": "stdout",
     "output_type": "stream",
     "text": [
      "{'flow28_invconv_lower': array([0.01826269, 0.01861855, 0.01927181, ..., 0.01627278, 0.01769829,\n",
      "       0.0144948 ], dtype=float32), 'flow28_invconv_log_s': array([0.0017084 , 0.00178753, 0.00177009, ..., 0.00139408, 0.00165807,\n",
      "       0.00120105], dtype=float32), 'flow28_invconv_upper': array([0.0007756 , 0.00074737, 0.00085358, ..., 0.00080441, 0.00074704,\n",
      "       0.00074754], dtype=float32)}\n",
      "{'flow28_invconv_lower': array([0.00099169, 0.00085825, 0.00099795, ..., 0.00092485, 0.00108708,\n",
      "       0.00095772], dtype=float32), 'flow28_invconv_log_s': array([0.00248206, 0.00220631, 0.00212421, ..., 0.00149722, 0.00191713,\n",
      "       0.00188069], dtype=float32), 'flow28_invconv_upper': array([0.0008896 , 0.00078601, 0.00087852, ..., 0.00079614, 0.00095663,\n",
      "       0.00088242], dtype=float32)}\n"
     ]
    }
   ],
   "source": [
    "print(SCOREs[opt.train_dist]['cifar10'])\n",
    "print(SCOREs[opt.train_dist]['svhn'])"
   ]
  },
  {
   "cell_type": "code",
   "execution_count": 53,
   "id": "located-symbol",
   "metadata": {},
   "outputs": [],
   "source": [
    "x = list(df.index)\n",
    "xx = []\n",
    "for elt in x:\n",
    "    if elt.split('_')[1] == 'invconv':\n",
    "        if elt.split('_')[2] == 'lower':\n",
    "                xx.append(elt)"
   ]
  },
  {
   "cell_type": "code",
   "execution_count": 54,
   "id": "allied-treasurer",
   "metadata": {},
   "outputs": [
    {
     "data": {
      "text/plain": [
       "<matplotlib.legend.Legend at 0x186ad3cddf0>"
      ]
     },
     "execution_count": 54,
     "metadata": {},
     "output_type": "execute_result"
    },
    {
     "data": {
      "image/png": "[encoded data removed]",
      "text/plain": [
       "<Figure size 432x288 with 1 Axes>"
      ]
     },
     "metadata": {
      "needs_background": "light"
     },
     "output_type": "display_data"
    }
   ],
   "source": [
    "x = range(len(xx))\n",
    "plt.plot(x, df.loc[xx, 'svhn'], label='svhn')\n",
    "plt.plot(x, df.loc[xx, 'celeba'], label='celeba')\n",
    "plt.plot(x, df.loc[xx, 'lsun'], label='lsun')\n",
    "plt.grid()\n",
    "plt.legend()\n"
   ]
  },
  {
   "cell_type": "code",
   "execution_count": null,
   "id": "partial-earth",
   "metadata": {},
   "outputs": [],
   "source": []
  },
  {
   "cell_type": "markdown",
   "id": "victorian-gentleman",
   "metadata": {},
   "source": [
    "# GLOW - FMNIST"
   ]
  },
  {
   "cell_type": "markdown",
   "id": "be9b00b3-478f-41f3-81dd-d17ced77a847",
   "metadata": {},
   "source": [
    "## Load the model & Parameter Selection"
   ]
  },
  {
   "cell_type": "code",
   "execution_count": 166,
   "id": "plastic-fitting",
   "metadata": {},
   "outputs": [],
   "source": [
    "opt = config.GLOW_fmnist\n",
    "model = load_pretrained_GLOW(option=opt.train_dist)\n",
    "model.eval()\n",
    "\n",
    "layers = {}\n",
    "for i in range(29):\n",
    "    if i in [0, 9, 19]:\n",
    "    #if i in [0, 33, 67]:\n",
    "        continue\n",
    "    layers[f'flow{i}'] = model.flow.layers[i]\n",
    "\n",
    "layers2 = {}\n",
    "for lname, layer in layers.items():\n",
    "    modules = dict(layer._modules)\n",
    "    for key in modules.keys():\n",
    "        layers2[f'{lname}_{key}'] = modules[key]"
   ]
  },
  {
   "cell_type": "markdown",
   "id": "a2731452-bd65-4494-a192-913b4aff99c5",
   "metadata": {},
   "source": [
    "## Compute Fisher inverse & Fisher score"
   ]
  },
  {
   "cell_type": "code",
   "execution_count": 73,
   "id": "discrete-cookbook",
   "metadata": {},
   "outputs": [
    {
     "name": "stderr",
     "output_type": "stream",
     "text": [
      "Calculate Fisher GLOW:   0%|                                                               | 0/60000 [00:00<?, ?step/s]\n",
      "Calculate Score GLOW:   5%|██▋                                                   | 499/10000 [00:39<12:41, 12.48step/s]\n",
      "Calculate Score GLOW:   5%|██▋                                                   | 499/10000 [00:49<15:49, 10.00step/s]\n",
      "Calculate Score GLOW:   5%|██▋                                                   | 499/10000 [00:39<12:35, 12.58step/s]\n",
      "Calculate Score GLOW:   3%|█▍                                                    | 499/18724 [00:39<24:01, 12.64step/s]\n",
      "Calculate Score GLOW:   5%|██▋                                                   | 499/10000 [00:38<12:18, 12.86step/s]\n",
      "Calculate Score GLOW:   5%|██▋                                                   | 499/10000 [00:38<12:15, 12.91step/s]\n"
     ]
    }
   ],
   "source": [
    "method = 'Vanilla'\n",
    "a, b, _scores = AUTO_GLOW(opt, model, layers2, max_iter=[1, 500], method=method)"
   ]
  },
  {
   "cell_type": "markdown",
   "id": "cc8875e5-32c2-448d-bd2b-1b6cc3ef91e3",
   "metadata": {},
   "source": [
    "## Get AUROC"
   ]
  },
  {
   "cell_type": "code",
   "execution_count": 83,
   "id": "fiscal-hollywood",
   "metadata": {},
   "outputs": [
    {
     "data": {
      "text/html": [
       "<div>\n",
       "<style scoped>\n",
       "    .dataframe tbody tr th:only-of-type {\n",
       "        vertical-align: middle;\n",
       "    }\n",
       "\n",
       "    .dataframe tbody tr th {\n",
       "        vertical-align: top;\n",
       "    }\n",
       "\n",
       "    .dataframe thead th {\n",
       "        text-align: right;\n",
       "    }\n",
       "</style>\n",
       "<table border=\"1\" class=\"dataframe\">\n",
       "  <thead>\n",
       "    <tr style=\"text-align: right;\">\n",
       "      <th></th>\n",
       "      <th>mnist</th>\n",
       "      <th>kmnist</th>\n",
       "      <th>notmnist</th>\n",
       "      <th>constant</th>\n",
       "    </tr>\n",
       "  </thead>\n",
       "  <tbody>\n",
       "    <tr>\n",
       "      <th>flow1_actnorm</th>\n",
       "      <td>0.999956</td>\n",
       "      <td>0.999972</td>\n",
       "      <td>0.995712</td>\n",
       "      <td>0.999944</td>\n",
       "    </tr>\n",
       "    <tr>\n",
       "      <th>flow1_invconv</th>\n",
       "      <td>0.992520</td>\n",
       "      <td>0.982936</td>\n",
       "      <td>0.962584</td>\n",
       "      <td>0.968748</td>\n",
       "    </tr>\n",
       "    <tr>\n",
       "      <th>flow1_block</th>\n",
       "      <td>1.000000</td>\n",
       "      <td>1.000000</td>\n",
       "      <td>1.000000</td>\n",
       "      <td>1.000000</td>\n",
       "    </tr>\n",
       "    <tr>\n",
       "      <th>flow2_actnorm</th>\n",
       "      <td>0.999996</td>\n",
       "      <td>0.999996</td>\n",
       "      <td>0.998196</td>\n",
       "      <td>1.000000</td>\n",
       "    </tr>\n",
       "    <tr>\n",
       "      <th>flow2_invconv</th>\n",
       "      <td>0.999112</td>\n",
       "      <td>0.998556</td>\n",
       "      <td>0.975644</td>\n",
       "      <td>0.992816</td>\n",
       "    </tr>\n",
       "    <tr>\n",
       "      <th>...</th>\n",
       "      <td>...</td>\n",
       "      <td>...</td>\n",
       "      <td>...</td>\n",
       "      <td>...</td>\n",
       "    </tr>\n",
       "    <tr>\n",
       "      <th>flow27_invconv</th>\n",
       "      <td>0.061844</td>\n",
       "      <td>0.071596</td>\n",
       "      <td>0.370832</td>\n",
       "      <td>0.276684</td>\n",
       "    </tr>\n",
       "    <tr>\n",
       "      <th>flow27_block</th>\n",
       "      <td>0.972340</td>\n",
       "      <td>0.950224</td>\n",
       "      <td>0.983928</td>\n",
       "      <td>0.998192</td>\n",
       "    </tr>\n",
       "    <tr>\n",
       "      <th>flow28_actnorm</th>\n",
       "      <td>0.311968</td>\n",
       "      <td>0.437160</td>\n",
       "      <td>0.561520</td>\n",
       "      <td>0.597460</td>\n",
       "    </tr>\n",
       "    <tr>\n",
       "      <th>flow28_invconv</th>\n",
       "      <td>0.005700</td>\n",
       "      <td>0.031140</td>\n",
       "      <td>0.157432</td>\n",
       "      <td>0.068472</td>\n",
       "    </tr>\n",
       "    <tr>\n",
       "      <th>flow28_block</th>\n",
       "      <td>0.640320</td>\n",
       "      <td>0.753976</td>\n",
       "      <td>0.946744</td>\n",
       "      <td>0.885408</td>\n",
       "    </tr>\n",
       "  </tbody>\n",
       "</table>\n",
       "<p>72 rows × 4 columns</p>\n",
       "</div>"
      ],
      "text/plain": [
       "                   mnist    kmnist  notmnist  constant\n",
       "flow1_actnorm   0.999956  0.999972  0.995712  0.999944\n",
       "flow1_invconv   0.992520  0.982936  0.962584  0.968748\n",
       "flow1_block     1.000000  1.000000  1.000000  1.000000\n",
       "flow2_actnorm   0.999996  0.999996  0.998196  1.000000\n",
       "flow2_invconv   0.999112  0.998556  0.975644  0.992816\n",
       "...                  ...       ...       ...       ...\n",
       "flow27_invconv  0.061844  0.071596  0.370832  0.276684\n",
       "flow27_block    0.972340  0.950224  0.983928  0.998192\n",
       "flow28_actnorm  0.311968  0.437160  0.561520  0.597460\n",
       "flow28_invconv  0.005700  0.031140  0.157432  0.068472\n",
       "flow28_block    0.640320  0.753976  0.946744  0.885408\n",
       "\n",
       "[72 rows x 4 columns]"
      ]
     },
     "execution_count": 83,
     "metadata": {},
     "output_type": "execute_result"
    }
   ],
   "source": [
    "layers = layers2\n",
    "\n",
    "for lname in layers.keys():\n",
    "    FISHERs[train_dist][lname] = a[lname] \n",
    "    NORM_FACs[train_dist][lname] = b[lname]\n",
    "for ood in opt.ood_list:\n",
    "    SCOREs[train_dist][ood] = _scores[ood]\n",
    "\n",
    "# AUROC curve\n",
    "auroc = {}\n",
    "for lname in layers.keys():\n",
    "    _auroc = {}\n",
    "    for ood in opt.ood_list:\n",
    "        if ood == 'noise':\n",
    "            continue\n",
    "        args = [\n",
    "            SCOREs[train_dist][train_dist][lname],\n",
    "            SCOREs[train_dist][ood][lname],\n",
    "        ]\n",
    "        labels = [train_dist, ood]\n",
    "        _auroc[ood] = AUROC(*args, labels=labels, verbose=False)\n",
    "    auroc[lname] = _auroc\n",
    "    \n",
    "df = pd.DataFrame(auroc).T\n",
    "df = df.iloc[:, 1:]\n",
    "df"
   ]
  },
  {
   "cell_type": "code",
   "execution_count": 87,
   "id": "rising-grill",
   "metadata": {},
   "outputs": [],
   "source": [
    "x = list(df.index)\n",
    "xx = []\n",
    "for elt in x:\n",
    "    if elt.split('_')[1] == 'block':\n",
    "        xx.append(elt)"
   ]
  },
  {
   "cell_type": "code",
   "execution_count": 88,
   "id": "attended-alignment",
   "metadata": {},
   "outputs": [
    {
     "data": {
      "text/plain": [
       "<matplotlib.legend.Legend at 0x1f5ffbefe20>"
      ]
     },
     "execution_count": 88,
     "metadata": {},
     "output_type": "execute_result"
    },
    {
     "data": {
      "image/png": "[encoded data removed]",
      "text/plain": [
       "<Figure size 432x288 with 1 Axes>"
      ]
     },
     "metadata": {
      "needs_background": "light"
     },
     "output_type": "display_data"
    }
   ],
   "source": [
    "x = range(len(xx))\n",
    "plt.plot(x, df.loc[xx, 'mnist'], label='mnist')\n",
    "plt.plot(x, df.loc[xx, 'kmnist'], label='kmnist')\n",
    "plt.plot(x, df.loc[xx, 'notmnist'], label='notmnist')\n",
    "plt.plot(x, df.loc[xx, 'constant'], label='constant')\n",
    "plt.grid()\n",
    "plt.legend()"
   ]
  },
  {
   "cell_type": "markdown",
   "id": "39dbe69a-15da-438f-aa9b-157e52235e2d",
   "metadata": {},
   "source": [
    "## Check the reconstruction ability of GLOW"
   ]
  },
  {
   "cell_type": "code",
   "execution_count": 171,
   "id": "unable-basketball",
   "metadata": {},
   "outputs": [
    {
     "data": {
      "image/png": "[encoded data removed]",
      "text/plain": [
       "<Figure size 432x288 with 1 Axes>"
      ]
     },
     "metadata": {
      "needs_background": "light"
     },
     "output_type": "display_data"
    },
    {
     "data": {
      "image/png": "[encoded data removed]",
      "text/plain": [
       "<Figure size 432x288 with 1 Axes>"
      ]
     },
     "metadata": {
      "needs_background": "light"
     },
     "output_type": "display_data"
    },
    {
     "data": {
      "image/png": "[encoded data removed]",
      "text/plain": [
       "<Figure size 432x288 with 1 Axes>"
      ]
     },
     "metadata": {
      "needs_background": "light"
     },
     "output_type": "display_data"
    },
    {
     "data": {
      "image/png": "[encoded data removed]",
      "text/plain": [
       "<Figure size 432x288 with 1 Axes>"
      ]
     },
     "metadata": {
      "needs_background": "light"
     },
     "output_type": "display_data"
    }
   ],
   "source": [
    "def postprocess(x):\n",
    "    x = torch.clamp(x, -0.5, 0.5)\n",
    "    x += 0.5\n",
    "    x = x * 256\n",
    "    return torch.clamp(x, 0, 255).byte()\n",
    "\n",
    "loader = TEST_loader('fmnist', 'fmnist', shuffle=False, is_glow=True)\n",
    "for i, x in enumerate(loader):\n",
    "    try:\n",
    "        x, _ = x\n",
    "    except:\n",
    "        pass\n",
    "    y = postprocess(x)\n",
    "    plt.figure()\n",
    "    plt.imshow(y[0].permute(1, 2, 0).cpu())\n",
    "    x = x.to('cuda')\n",
    "    z, _, _ = model(x = x)\n",
    "    x = model(z=z, temperature=0.75, reverse=True)\n",
    "    y = postprocess(x)\n",
    "    plt.figure()\n",
    "    plt.imshow(y[0].permute(1, 2, 0).cpu())\n",
    "    if i == 1:\n",
    "        break\n",
    "plt.show()"
   ]
  },
  {
   "cell_type": "code",
   "execution_count": 104,
   "id": "nuclear-arlington",
   "metadata": {},
   "outputs": [
    {
     "data": {
      "text/plain": [
       "<matplotlib.image.AxesImage at 0x1f5c9795e20>"
      ]
     },
     "execution_count": 104,
     "metadata": {},
     "output_type": "execute_result"
    },
    {
     "data": {
      "image/png": "[encoded data removed]",
      "text/plain": [
       "<Figure size 432x288 with 1 Axes>"
      ]
     },
     "metadata": {
      "needs_background": "light"
     },
     "output_type": "display_data"
    }
   ],
   "source": [
    "plt.imshow(x[0].permute(1,2,0).cpu())"
   ]
  }
 ],
 "metadata": {
  "kernelspec": {
   "display_name": "torch",
   "language": "python",
   "name": "torch"
  },
  "language_info": {
   "codemirror_mode": {
    "name": "ipython",
    "version": 3
   },
   "file_extension": ".py",
   "mimetype": "text/x-python",
   "name": "python",
   "nbconvert_exporter": "python",
   "pygments_lexer": "ipython3",
   "version": "3.8.10"
  }
 },
 "nbformat": 4,
 "nbformat_minor": 5
}
