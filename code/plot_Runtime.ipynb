{
 "cells": [
  {
   "cell_type": "code",
   "execution_count": 2,
   "id": "e8d6d747-b5f7-49f5-8379-369253059401",
   "metadata": {},
   "outputs": [
    {
     "name": "stdout",
     "output_type": "stream",
     "text": [
      "The autoreload extension is already loaded. To reload it, use:\n",
      "  %reload_ext autoreload\n"
     ]
    }
   ],
   "source": [
    "%load_ext autoreload\n",
    "%autoreload 2\n",
    "import numpy as np\n",
    "import pandas as pd\n",
    "import matplotlib.pyplot as plt"
   ]
  },
  {
   "cell_type": "code",
   "execution_count": 1,
   "id": "211ac7d2-18e4-4b14-a1b3-837555c94320",
   "metadata": {},
   "outputs": [],
   "source": [
    "Runtime = {}\n",
    "overall_auroc = {}"
   ]
  },
  {
   "cell_type": "code",
   "execution_count": null,
   "id": "e463f5a7-426f-405b-a8c8-6e6b018a75dd",
   "metadata": {},
   "outputs": [],
   "source": [
    "Runtime['cifar10'] = {\n",
    "    'ROSE': 113.10, # see all layers in Encoder\n",
    "    'ROSE_last': ,\n",
    "    'LR(E)': 2.52,\n",
    "    'LR(Z)': ,\n",
    "    'LRatio': 150.73,\n",
    "    'IC_png': 246.49,\n",
    "}\n",
    "\n",
    "overall_auroc['cifar10'] = {\n",
    "    'ROSE': 0.918,\n",
    "    'ROSE_last' : ,\n",
    "    'LR(E)': 0.913,\n",
    "    'LR(Z)': ,\n",
    "    'LRatio': 0.602,\n",
    "    'IC_png': 0.826,\n",
    "}"
   ]
  },
  {
   "cell_type": "code",
   "execution_count": null,
   "id": "5dbe077e-46d0-452a-b036-2b79b5b49b15",
   "metadata": {},
   "outputs": [],
   "source": [
    "Runtime['fmnist'] = {\n",
    "    'ROSE': , # see all layers in Encoder\n",
    "    'ROSE_last': ,\n",
    "    'LR(E)': 2.69,\n",
    "    'LR(Z)': ,\n",
    "    'LRatio': 253.60,\n",
    "    'IC_png': ,\n",
    "}\n",
    "\n",
    "overall_auroc['fmnist'] = {\n",
    "    'ROSE': 0.998,\n",
    "    'ROSE_last' : ,\n",
    "    'LR(E)': 0.993,\n",
    "    'LR(Z)': ,\n",
    "    'LRatio': ,\n",
    "    'IC_png': 0.874,\n",
    "}"
   ]
  }
 ],
 "metadata": {
  "kernelspec": {
   "display_name": "torch",
   "language": "python",
   "name": "torch"
  },
  "language_info": {
   "codemirror_mode": {
    "name": "ipython",
    "version": 3
   },
   "file_extension": ".py",
   "mimetype": "text/x-python",
   "name": "python",
   "nbconvert_exporter": "python",
   "pygments_lexer": "ipython3",
   "version": "3.8.10"
  }
 },
 "nbformat": 4,
 "nbformat_minor": 5
}
