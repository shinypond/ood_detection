{
 "cells": [
  {
   "cell_type": "code",
   "execution_count": 120,
   "id": "e8d6d747-b5f7-49f5-8379-369253059401",
   "metadata": {},
   "outputs": [
    {
     "name": "stdout",
     "output_type": "stream",
     "text": [
      "The autoreload extension is already loaded. To reload it, use:\n",
      "  %reload_ext autoreload\n"
     ]
    }
   ],
   "source": [
    "%load_ext autoreload\n",
    "%autoreload 2\n",
    "import numpy as np\n",
    "import pandas as pd\n",
    "import matplotlib.pyplot as plt\n",
    "import matplotlib.patches as patches\n",
    "\n",
    "plt.rcParams['font.family'] = 'Dejavu Sans'"
   ]
  },
  {
   "cell_type": "code",
   "execution_count": 3,
   "id": "211ac7d2-18e4-4b14-a1b3-837555c94320",
   "metadata": {},
   "outputs": [],
   "source": [
    "Runtime = {}\n",
    "overall_auroc = {}"
   ]
  },
  {
   "cell_type": "code",
   "execution_count": 4,
   "id": "e463f5a7-426f-405b-a8c8-6e6b018a75dd",
   "metadata": {},
   "outputs": [],
   "source": [
    "Runtime['cifar10'] = {\n",
    "    'ROSE': 113.10, # see all layers in Encoder\n",
    "    #'ROSE_last': 170.81,\n",
    "    'LR(E)': 2.52,\n",
    "    #'LR(Z)': ,\n",
    "    'LRatio': 150.73,\n",
    "    'IC(png)': 240.85,\n",
    "    'IC(jp2)': 134.78,\n",
    "}\n",
    "\n",
    "overall_auroc['cifar10'] = {\n",
    "    'ROSE': 0.918,\n",
    "    #'ROSE_last' : ,\n",
    "    'LR(E)': 0.913,\n",
    "    #'LR(Z)': 0.675,\n",
    "    'LRatio': 0.602,\n",
    "    'IC(png)': 0.826,\n",
    "    'IC(jp2)': 0.763,\n",
    "}"
   ]
  },
  {
   "cell_type": "code",
   "execution_count": 144,
   "id": "aac3a137-229b-47ed-b14b-bc3a761a2738",
   "metadata": {},
   "outputs": [
    {
     "data": {
      "image/png": "[encoded data removed]",
      "text/plain": [
       "<Figure size 648x432 with 1 Axes>"
      ]
     },
     "metadata": {
      "needs_background": "light"
     },
     "output_type": "display_data"
    }
   ],
   "source": [
    "x = Runtime['cifar10']\n",
    "y = overall_auroc['cifar10']\n",
    "\n",
    "fig = plt.figure(figsize=(9, 6))\n",
    "ax = fig.add_subplot(111)\n",
    "ax.grid(False)\n",
    "ax.set_xlim([0, 250])\n",
    "ax.set_ylim([0.57, 1.0])\n",
    "ax.set_yticks([0.6, 0.7, 0.8, 0.9, 1.0])\n",
    "ax.scatter(x.values(), y.values(), color='r', s=25)\n",
    "ax.tick_params(axis='x', labelsize=13)\n",
    "ax.tick_params(axis='y', labelsize=13)\n",
    "\n",
    "ax.axvline(x=30, color='b', linestyle='--')\n",
    "\n",
    "textstr = 'Likelihood\\nRegret'\n",
    "props = dict(boxstyle='round', facecolor='wheat', alpha=0.0)\n",
    "ax.text(0.07, 0.90, textstr, transform=ax.transAxes, fontsize=12,\n",
    "        verticalalignment='top', bbox=props, ha='center')\n",
    "\n",
    "textstr = 'ROSE (ours)'\n",
    "props = dict(boxstyle='round', facecolor='wheat', alpha=0.0)\n",
    "ax.text(0.46, 0.87, textstr, transform=ax.transAxes, fontsize=12,\n",
    "        verticalalignment='top', bbox=props, ha='center')\n",
    "\n",
    "textstr = 'IC (png)'\n",
    "props = dict(boxstyle='round', facecolor='wheat', alpha=0.0)\n",
    "ax.text(0.94, 0.66, textstr, transform=ax.transAxes, fontsize=12,\n",
    "        verticalalignment='top', bbox=props, ha='center')\n",
    "\n",
    "textstr = 'IC (jp2)'\n",
    "props = dict(boxstyle='round', facecolor='wheat', alpha=0.0)\n",
    "ax.text(0.54, 0.52, textstr, transform=ax.transAxes, fontsize=12,\n",
    "        verticalalignment='top', bbox=props, ha='center')\n",
    "\n",
    "textstr = 'Likelihood\\nRatio'\n",
    "props = dict(boxstyle='round', facecolor='wheat', alpha=0.0)\n",
    "ax.text(0.61, 0.18, textstr, transform=ax.transAxes, fontsize=12,\n",
    "        verticalalignment='top', bbox=props, ha='center')\n",
    "\n",
    "ax.add_patch(\n",
    "    patches.Arrow(\n",
    "        30, 0.65,\n",
    "        40, 0,\n",
    "        width=0.08,\n",
    "        edgecolor='black',\n",
    "        facecolor='black',\n",
    "    ))\n",
    "textstr = 'Real-Time Detection'\n",
    "props = dict(boxstyle='round', facecolor='wheat', alpha=0.0)\n",
    "ax.text(0.27, 0.3, textstr, transform=ax.transAxes, fontsize=13,\n",
    "        verticalalignment='top', bbox=props, ha='center', fontstyle='italic')\n",
    "\n",
    "ax.set_xlabel('Num of Images processed / second', fontsize=15)\n",
    "ax.set_ylabel('AUROC for Overall dataset', fontsize=15)\n",
    "plt.show()\n",
    "\n",
    "fig.savefig('./images/runtime/VAE_runtime.png')"
   ]
  },
  {
   "cell_type": "code",
   "execution_count": null,
   "id": "ef17eb07-6c76-4ec9-ab64-5416c695e90c",
   "metadata": {},
   "outputs": [],
   "source": []
  },
  {
   "cell_type": "code",
   "execution_count": null,
   "id": "8ad6525b-f1d1-434a-b8ee-5ca9ef926640",
   "metadata": {},
   "outputs": [],
   "source": []
  },
  {
   "cell_type": "code",
   "execution_count": null,
   "id": "509a6687-f4c5-49c0-9c6f-846f646ffcd4",
   "metadata": {},
   "outputs": [],
   "source": []
  },
  {
   "cell_type": "code",
   "execution_count": null,
   "id": "5dbe077e-46d0-452a-b036-2b79b5b49b15",
   "metadata": {},
   "outputs": [],
   "source": [
    "Runtime['fmnist'] = {\n",
    "    'ROSE': , # see all layers in Encoder\n",
    "    #'ROSE_last': ,\n",
    "    'LR(E)': 2.69,\n",
    "    #'LR(Z)': 4.97,\n",
    "    'LRatio': 253.60,\n",
    "    'IC(png)': 414.65,\n",
    "    'IC(jp2)': 208.53,\n",
    "}\n",
    "\n",
    "overall_auroc['fmnist'] = {\n",
    "    'ROSE': 0.998,\n",
    "    #'ROSE_last' : ,\n",
    "    'LR(E)': 0.993,\n",
    "    #'LR(Z)': 0.699,\n",
    "    'LRatio': 0.873,\n",
    "    'IC(png)': 0.874,\n",
    "    'IC(jp2)': 0.879,\n",
    "}"
   ]
  }
 ],
 "metadata": {
  "kernelspec": {
   "display_name": "torch",
   "language": "python",
   "name": "torch"
  },
  "language_info": {
   "codemirror_mode": {
    "name": "ipython",
    "version": 3
   },
   "file_extension": ".py",
   "mimetype": "text/x-python",
   "name": "python",
   "nbconvert_exporter": "python",
   "pygments_lexer": "ipython3",
   "version": "3.8.10"
  }
 },
 "nbformat": 4,
 "nbformat_minor": 5
}
