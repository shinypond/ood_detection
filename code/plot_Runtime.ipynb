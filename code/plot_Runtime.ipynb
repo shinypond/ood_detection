{
 "cells": [
  {
   "cell_type": "code",
   "execution_count": 2,
   "id": "e8d6d747-b5f7-49f5-8379-369253059401",
   "metadata": {},
   "outputs": [
    {
     "name": "stdout",
     "output_type": "stream",
     "text": [
      "The autoreload extension is already loaded. To reload it, use:\n",
      "  %reload_ext autoreload\n"
     ]
    }
   ],
   "source": [
    "%load_ext autoreload\n",
    "%autoreload 2\n",
    "import numpy as np\n",
    "import pandas as pd\n",
    "import matplotlib.pyplot as plt"
   ]
  },
  {
   "cell_type": "code",
   "execution_count": null,
   "id": "e463f5a7-426f-405b-a8c8-6e6b018a75dd",
   "metadata": {},
   "outputs": [],
   "source": [
    "Runtime = {\n",
    "    'ROSE': 107.99, # SMW multiplier = 4\n",
    "    'ROSE_D': 117.54,\n",
    "    'IC_png': 225.50,\n",
    "    'LR(E)': 2.48,\n",
    "    'LR(Z)': 3.88,\n",
    "    'LRatio': 145.63,\n",
    "}\n",
    "\n",
    "auroc = {\n",
    "    'ROSE': 0.822,\n",
    "    'ROSE_D' : 0.800,\n",
    "    'IC_png': 0.793,\n",
    "    'LR(E)': 0.846,\n",
    "    'LR(Z)': 0.674,\n",
    "    'LRatio': 0.458,\n",
    "}"
   ]
  }
 ],
 "metadata": {
  "kernelspec": {
   "display_name": "torch",
   "language": "python",
   "name": "torch"
  },
  "language_info": {
   "codemirror_mode": {
    "name": "ipython",
    "version": 3
   },
   "file_extension": ".py",
   "mimetype": "text/x-python",
   "name": "python",
   "nbconvert_exporter": "python",
   "pygments_lexer": "ipython3",
   "version": "3.8.10"
  }
 },
 "nbformat": 4,
 "nbformat_minor": 5
}
