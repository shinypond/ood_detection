{
 "cells": [
  {
   "cell_type": "code",
   "execution_count": 1,
   "id": "1f5b7b5e-716d-480c-b583-1b323bbb19f7",
   "metadata": {},
   "outputs": [],
   "source": [
    "%load_ext autoreload\n",
    "%autoreload 2\n",
    "import os\n",
    "import sys\n",
    "sys.path.append(os.getcwd() + '/core')\n",
    "import numpy as np\n",
    "import pandas as pd\n",
    "import matplotlib.pyplot as plt\n",
    "from sklearn import metrics\n",
    "\n",
    "import config"
   ]
  },
  {
   "cell_type": "code",
   "execution_count": 5,
   "id": "4ce9aa0d-4e84-4866-9825-4514b1c6fbbf",
   "metadata": {},
   "outputs": [
    {
     "name": "stdout",
     "output_type": "stream",
     "text": [
      "cifar10 0.5\n",
      "svhn 0.9733326585545048\n",
      "celeba 0.44151040082315973\n",
      "lsun 0.4233847573676023\n",
      "mnist 0.9998510741100073\n",
      "fmnist 0.9997017213569426\n",
      "notmnist 0.9983717092066381\n",
      "noise 1.0\n",
      "constant 1.0\n",
      "overall 0.7785003326699097\n"
     ]
    }
   ],
   "source": [
    "model = 'IC(jp2)_GLOW'\n",
    "opt = config.GLOW_cifar10\n",
    "\n",
    "indist_ = np.load(f'./npy/{model}/{opt.train_dist}_{opt.train_dist}.npy')\n",
    "for ood in opt.ood_list:\n",
    "    ood_ = np.load(f'./npy/{model}/{opt.train_dist}_{ood}.npy')\n",
    "    ood_[ood_ > 1e+30] = 1e+30\n",
    "    ood_[ood_ < -1e+30] = -1e+30\n",
    "    combined = -np.concatenate((indist_, ood_)) # For LRatio, please set the sign (+).\n",
    "    label_1 = np.ones(len(indist_))\n",
    "    label_2 = np.zeros(len(ood_))\n",
    "    label = np.concatenate((label_1, label_2))\n",
    "    precision, recall, thresholds = metrics.precision_recall_curve(label, combined)\n",
    "    auprc = metrics.average_precision_score(label, combined)\n",
    "    print(ood, auprc)\n",
    "    #plt.plot(recall, precision, marker='.')\n",
    "    #plt.show()"
   ]
  }
 ],
 "metadata": {
  "kernelspec": {
   "display_name": "torch",
   "language": "python",
   "name": "torch"
  },
  "language_info": {
   "codemirror_mode": {
    "name": "ipython",
    "version": 3
   },
   "file_extension": ".py",
   "mimetype": "text/x-python",
   "name": "python",
   "nbconvert_exporter": "python",
   "pygments_lexer": "ipython3",
   "version": "3.8.10"
  }
 },
 "nbformat": 4,
 "nbformat_minor": 5
}
