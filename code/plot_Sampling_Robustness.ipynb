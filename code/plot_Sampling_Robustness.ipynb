{
 "cells": [
  {
   "cell_type": "code",
   "execution_count": 18,
   "id": "9d914db8-ce51-40ac-a11f-81cd73736c1b",
   "metadata": {},
   "outputs": [
    {
     "name": "stdout",
     "output_type": "stream",
     "text": [
      "The autoreload extension is already loaded. To reload it, use:\n",
      "  %reload_ext autoreload\n"
     ]
    },
    {
     "data": {
      "text/plain": [
       "<torch._C.Generator at 0x2e517135050>"
      ]
     },
     "execution_count": 18,
     "metadata": {},
     "output_type": "execute_result"
    }
   ],
   "source": [
    "%load_ext autoreload\n",
    "%autoreload 2\n",
    "import os\n",
    "import sys\n",
    "sys.path.append(os.getcwd() + '/core')\n",
    "sys.path.append(os.getcwd() + '/core/train_GLOW') \n",
    "import numpy as np\n",
    "import pandas as pd\n",
    "import random\n",
    "import matplotlib.pyplot as plt\n",
    "import seaborn as sns\n",
    "import torch\n",
    "import torch.nn as nn\n",
    "from datetime import datetime\n",
    "\n",
    "import core.config as config\n",
    "from core.model_loader import load_pretrained_VAE\n",
    "from core.data_loader import TRAIN_loader, TEST_loader\n",
    "from core.custom_loss import KL_div, VAE_loss_pixel\n",
    "from core.fisher_utils_VAE import Calculate_fisher_VAE, Calculate_score_VAE, AUTO_VAE\n",
    "from core.fisher_utils_VAE import Calculate_fisher_VAE_ekfac, Calculate_score_VAE_ekfac\n",
    "from core.visualize import plot_hist, AUROC, plot_scores_all_layers\n",
    "\n",
    "# fix a random seed\n",
    "seed = 2021\n",
    "random.seed(seed)\n",
    "np.random.seed(seed)\n",
    "torch.manual_seed(seed)"
   ]
  },
  {
   "cell_type": "code",
   "execution_count": 2,
   "id": "d81c61c1-024b-4edf-bbe9-057a2f55cccb",
   "metadata": {},
   "outputs": [],
   "source": [
    "opt = config.VAE_cifar10\n",
    "netE, netG = load_pretrained_VAE(option=opt.train_dist, num=1, ngf=64, nz=200, beta=1, augment='hflip', epoch=100)\n",
    "netE.eval()\n",
    "netG.eval()\n",
    "modules = [] # Write the name of modules you want to see"
   ]
  },
  {
   "cell_type": "code",
   "execution_count": 3,
   "id": "1eb0566a-1c8d-49ef-bef7-fd472ce576da",
   "metadata": {
    "scrolled": true,
    "tags": []
   },
   "outputs": [
    {
     "name": "stdout",
     "output_type": "stream",
     "text": [
      "Files already downloaded and verified\n"
     ]
    },
    {
     "name": "stderr",
     "output_type": "stream",
     "text": [
      "Calculate A, B:   0%|                                                                      | 0/50000 [00:00<?, ?step/s]"
     ]
    },
    {
     "name": "stdout",
     "output_type": "stream",
     "text": [
      "(0): Conv2d(256, 200, kernel_size=(4, 4), stride=(1, 1))\n",
      "(1): Conv2d(256, 200, kernel_size=(4, 4), stride=(1, 1))\n",
      "(2): Conv2d(3, 64, kernel_size=(4, 4), stride=(2, 2), padding=(1, 1), bias=False)\n",
      "(3): Conv2d(64, 128, kernel_size=(4, 4), stride=(2, 2), padding=(1, 1), bias=False)\n",
      "(4): Conv2d(128, 256, kernel_size=(4, 4), stride=(2, 2), padding=(1, 1), bias=False)\n"
     ]
    },
    {
     "name": "stderr",
     "output_type": "stream",
     "text": [
      "C:\\Users\\shinypond\\.conda\\envs\\torch\\lib\\site-packages\\torch\\nn\\modules\\module.py:795: UserWarning: Using a non-full backward hook when the forward contains multiple autograd Nodes is deprecated and will be removed in future versions. This hook will be missing some grad_input. Please use register_full_backward_hook to get the documented behavior.\n",
      "  warnings.warn(\"Using a non-full backward hook when the forward contains multiple autograd Nodes \"\n",
      "Calculate A, B:  20%|███████████▌                                              | 9999/50000 [01:04<04:16, 155.75step/s]\n"
     ]
    },
    {
     "name": "stdout",
     "output_type": "stream",
     "text": [
      "Files already downloaded and verified\n"
     ]
    },
    {
     "name": "stderr",
     "output_type": "stream",
     "text": [
      "Calculate Fisher Inverse:  20%|█████████▌                                      | 9999/50000 [01:11<04:45, 140.29step/s]\n"
     ]
    },
    {
     "name": "stdout",
     "output_type": "stream",
     "text": [
      "Files already downloaded and verified\n"
     ]
    },
    {
     "name": "stderr",
     "output_type": "stream",
     "text": [
      "Calculate Score of cifar10(train):  20%|███████▊                               | 9999/50000 [01:28<05:54, 112.94step/s]\n"
     ]
    },
    {
     "name": "stdout",
     "output_type": "stream",
     "text": [
      "Files already downloaded and verified\n"
     ]
    },
    {
     "name": "stderr",
     "output_type": "stream",
     "text": [
      "Calculate Score of cifar10:  50%|██████████████████████▉                       | 4999/10000 [00:44<00:44, 111.96step/s]\n",
      "Calculate Score of overall:   0%|                                                          | 0/10000 [00:00<?, ?step/s]C:\\Users\\shinypond\\.conda\\envs\\torch\\lib\\site-packages\\torch\\nn\\modules\\module.py:795: UserWarning: Using a non-full backward hook when the forward contains multiple autograd Nodes is deprecated and will be removed in future versions. This hook will be missing some grad_input. Please use register_full_backward_hook to get the documented behavior.\n",
      "  warnings.warn(\"Using a non-full backward hook when the forward contains multiple autograd Nodes \"\n",
      "Calculate Score of overall:   0%|                                                | 11/10000 [00:00<01:36, 104.05step/s]"
     ]
    },
    {
     "name": "stdout",
     "output_type": "stream",
     "text": [
      "Average Inference Time : 0.008934626 seconds\n",
      "Average #Images Processed : 111.92410292271887 Images\n",
      "cifar10/cifar10 0.5\n"
     ]
    },
    {
     "name": "stderr",
     "output_type": "stream",
     "text": [
      "Calculate Score of overall:  50%|██████████████████████▉                       | 4999/10000 [00:45<00:45, 108.77step/s]\n"
     ]
    },
    {
     "name": "stdout",
     "output_type": "stream",
     "text": [
      "cifar10/overall 0.91656596\n",
      "Files already downloaded and verified\n"
     ]
    },
    {
     "name": "stderr",
     "output_type": "stream",
     "text": [
      "Calculate A, B:   0%|                                                                      | 0/50000 [00:00<?, ?step/s]C:\\Users\\shinypond\\.conda\\envs\\torch\\lib\\site-packages\\torch\\nn\\modules\\module.py:795: UserWarning: Using a non-full backward hook when the forward contains multiple autograd Nodes is deprecated and will be removed in future versions. This hook will be missing some grad_input. Please use register_full_backward_hook to get the documented behavior.\n",
      "  warnings.warn(\"Using a non-full backward hook when the forward contains multiple autograd Nodes \"\n",
      "Calculate A, B:   0%|                                                            | 12/50000 [00:00<07:05, 117.37step/s]"
     ]
    },
    {
     "name": "stdout",
     "output_type": "stream",
     "text": [
      "(0): Conv2d(256, 200, kernel_size=(4, 4), stride=(1, 1))\n",
      "(1): Conv2d(256, 200, kernel_size=(4, 4), stride=(1, 1))\n",
      "(2): Conv2d(3, 64, kernel_size=(4, 4), stride=(2, 2), padding=(1, 1), bias=False)\n",
      "(3): Conv2d(64, 128, kernel_size=(4, 4), stride=(2, 2), padding=(1, 1), bias=False)\n",
      "(4): Conv2d(128, 256, kernel_size=(4, 4), stride=(2, 2), padding=(1, 1), bias=False)\n"
     ]
    },
    {
     "name": "stderr",
     "output_type": "stream",
     "text": [
      "Calculate A, B:  20%|███████████▌                                              | 9999/50000 [01:21<05:24, 123.19step/s]\n"
     ]
    },
    {
     "name": "stdout",
     "output_type": "stream",
     "text": [
      "Files already downloaded and verified\n"
     ]
    },
    {
     "name": "stderr",
     "output_type": "stream",
     "text": [
      "Calculate Fisher Inverse:  20%|█████████▌                                      | 9999/50000 [01:31<06:05, 109.39step/s]\n"
     ]
    },
    {
     "name": "stdout",
     "output_type": "stream",
     "text": [
      "Files already downloaded and verified\n"
     ]
    },
    {
     "name": "stderr",
     "output_type": "stream",
     "text": [
      "Calculate Score of cifar10(train):  20%|███████▉                                | 9999/50000 [01:47<07:09, 93.08step/s]\n"
     ]
    },
    {
     "name": "stdout",
     "output_type": "stream",
     "text": [
      "Files already downloaded and verified\n"
     ]
    },
    {
     "name": "stderr",
     "output_type": "stream",
     "text": [
      "Calculate Score of cifar10:  50%|███████████████████████▍                       | 4999/10000 [00:53<00:53, 93.59step/s]\n",
      "Calculate Score of overall:   0%|                                                          | 0/10000 [00:00<?, ?step/s]C:\\Users\\shinypond\\.conda\\envs\\torch\\lib\\site-packages\\torch\\nn\\modules\\module.py:795: UserWarning: Using a non-full backward hook when the forward contains multiple autograd Nodes is deprecated and will be removed in future versions. This hook will be missing some grad_input. Please use register_full_backward_hook to get the documented behavior.\n",
      "  warnings.warn(\"Using a non-full backward hook when the forward contains multiple autograd Nodes \"\n",
      "Calculate Score of overall:   0%|                                                 | 10/10000 [00:00<01:49, 91.15step/s]"
     ]
    },
    {
     "name": "stdout",
     "output_type": "stream",
     "text": [
      "Average Inference Time : 0.0106880556 seconds\n",
      "Average #Images Processed : 93.562387530993 Images\n",
      "cifar10/cifar10 0.5\n"
     ]
    },
    {
     "name": "stderr",
     "output_type": "stream",
     "text": [
      "Calculate Score of overall:  50%|███████████████████████▍                       | 4999/10000 [00:54<00:54, 90.98step/s]"
     ]
    },
    {
     "name": "stdout",
     "output_type": "stream",
     "text": [
      "cifar10/overall 0.9180019399999999\n"
     ]
    },
    {
     "name": "stderr",
     "output_type": "stream",
     "text": [
      "\n"
     ]
    }
   ],
   "source": [
    "#results = {}\n",
    "start = datetime.now()\n",
    "sampling = 10000\n",
    "for i in [8, 9]:\n",
    "    auroc = {}\n",
    "    SCOREs = {}\n",
    "\n",
    "    U_A, U_B, S, mean, std = Calculate_fisher_VAE_ekfac(netE, netG, opt, select_modules=modules, max_iter=sampling, seed=2021+i+sampling)\n",
    "\n",
    "    for ood in [opt.train_dist, 'overall']:\n",
    "        score = Calculate_score_VAE_ekfac(netE, netG, opt, U_A, U_B, S, ood, max_iter=5000, seed=2021+i+sampling)\n",
    "        temp = []\n",
    "        for name in score.keys():\n",
    "            a = np.array(score[name])\n",
    "            a = (a - mean[name]) / std[name]  \n",
    "            temp.append(a) \n",
    "        score = np.max(np.concatenate(temp, 1), 1)\n",
    "        SCOREs[ood] = score\n",
    "        args = [SCOREs[opt.train_dist], SCOREs[ood]]\n",
    "        labels = [opt.train_dist, ood]\n",
    "        auroc[ood] = AUROC(*args, labels=labels, verbose=False)\n",
    "        print(f'{opt.train_dist}/{ood} {auroc[ood]}')\n",
    "\n",
    "        if ood == 'overall':\n",
    "            np.save(f'./temp/{opt.train_dist}_sampling_{sampling}_{i}.npy', np.array([auroc[ood]]))\n",
    "\n",
    "\n"
   ]
  },
  {
   "cell_type": "code",
   "execution_count": 123,
   "id": "2d4fadb9-ee56-4743-882a-af8a2d145b4f",
   "metadata": {},
   "outputs": [
    {
     "data": {
      "text/plain": [
       "count    10.000000\n",
       "mean      0.998432\n",
       "std       0.000307\n",
       "min       0.997790\n",
       "25%       0.998361\n",
       "50%       0.998393\n",
       "75%       0.998622\n",
       "max       0.998942\n",
       "Name: auroc, dtype: float64"
      ]
     },
     "execution_count": 123,
     "metadata": {},
     "output_type": "execute_result"
    }
   ],
   "source": [
    "dist = 'fmnist'\n",
    "s = 10000\n",
    "df.loc[df['Sampling'] == s].loc[df['In-dist'] == dist].iloc[:, 0].describe()"
   ]
  },
  {
   "cell_type": "code",
   "execution_count": 142,
   "id": "8562bdb8-ba4d-442f-a536-034a9ee41546",
   "metadata": {},
   "outputs": [
    {
     "data": {
      "image/png": "[encoded data removed]",
      "text/plain": [
       "<Figure size 648x432 with 1 Axes>"
      ]
     },
     "metadata": {
      "needs_background": "light"
     },
     "output_type": "display_data"
    }
   ],
   "source": [
    "df = {'auroc': [], 'In-dist': [], 'Sampling': []}\n",
    "for dist in ['cifar10', 'fmnist']:\n",
    "    for sampling in [10, 100, 1000, 10000]:\n",
    "        path = f'./temp/{dist}_sampling_{sampling}.npy'\n",
    "        array = np.load(path)\n",
    "        for i in range(len(array)):\n",
    "            df['auroc'].append(array[i])\n",
    "            df['In-dist'].append(dist)\n",
    "            df['Sampling'].append(sampling)\n",
    "df = pd.DataFrame(df)\n",
    "\n",
    "fig = plt.figure(figsize=(9, 6))\n",
    "ax = fig.add_subplot(111)\n",
    "ax.tick_params(axis='x', labelsize=18)\n",
    "ax.tick_params(axis='y', labelsize=18)\n",
    "#ax.axvline(x=0.5, color='purple', linestyle='dashdot')\n",
    "#ax.axvline(x=1.5, color='purple', linestyle='dashdot')\n",
    "#ax.axvline(x=2.5, color='purple', linestyle='dashdot')\n",
    "# CIFAR10\n",
    "ax.plot([0.0, 0.6], [0.7952, 0.8160], c='r', linestyle='--', linewidth=2)\n",
    "ax.plot([0.0, 0.6], [0.8393, 0.8282], c='r', linestyle='--', linewidth=2)\n",
    "ax.plot([1.0, 1.6], [0.8160, 0.8340], c='r', linestyle='--', linewidth=2)\n",
    "ax.plot([1.0, 1.6], [0.8282, 0.8404], c='r', linestyle='--', linewidth=2)\n",
    "ax.plot([2.0, 2.6], [0.8340, 0.9180], c='r', linestyle='--', linewidth=2)\n",
    "ax.plot([2.0, 2.6], [0.8404, 0.9198], c='r', linestyle='--', linewidth=2)\n",
    "textstr = 'CIFAR-10'\n",
    "props = dict(boxstyle='round', facecolor='wheat', alpha=0.0)\n",
    "ax.text(0.82, 0.48, textstr, transform=ax.transAxes, fontsize=20,\n",
    "        verticalalignment='top', bbox=props, ha='center')\n",
    "# FMNIST\n",
    "ax.plot([0.4, 1.0], [0.9233, 0.9828], c='b', linestyle='--', linewidth=2)\n",
    "ax.plot([0.4, 1.0], [0.9483, 0.9877], c='b', linestyle='--', linewidth=2)\n",
    "ax.plot([1.4, 2.0], [0.9828, 0.9964], c='b', linestyle='--', linewidth=2)\n",
    "ax.plot([1.4, 2.0], [0.9877, 0.9970], c='b', linestyle='--', linewidth=2)\n",
    "ax.plot([2.4, 3.0], [0.9964, 0.9984], c='b', linestyle='--', linewidth=2)\n",
    "ax.plot([2.4, 3.0], [0.9970, 0.9986], c='b', linestyle='--', linewidth=2)\n",
    "textstr = 'FMNIST'\n",
    "props = dict(boxstyle='round', facecolor='wheat', alpha=0.0)\n",
    "ax.text(0.6, 0.88, textstr, transform=ax.transAxes, fontsize=20,\n",
    "        verticalalignment='top', bbox=props, ha='center')\n",
    "\n",
    "ax.grid()\n",
    "ax.set_axisbelow(True)\n",
    "\n",
    "\n",
    "mypal = {'cifar10': 'r', 'fmnist': 'b'}\n",
    "ax = sns.boxplot(x='Sampling', y='auroc', hue='In-dist', data=df, palette=mypal)\n",
    "\n",
    "ax.set_xlabel('Number of given In-distribution Samples ', fontsize=18)\n",
    "ax.set_ylabel('AUROC for Overall dataset', fontsize=18)\n",
    "plt.legend([],[], frameon=False)\n",
    "plt.show()\n",
    "fig.savefig(f'./images/robust_sampling/robust_sampling.png', dpi=400)"
   ]
  }
 ],
 "metadata": {
  "kernelspec": {
   "display_name": "torch",
   "language": "python",
   "name": "torch"
  },
  "language_info": {
   "codemirror_mode": {
    "name": "ipython",
    "version": 3
   },
   "file_extension": ".py",
   "mimetype": "text/x-python",
   "name": "python",
   "nbconvert_exporter": "python",
   "pygments_lexer": "ipython3",
   "version": "3.8.10"
  }
 },
 "nbformat": 4,
 "nbformat_minor": 5
}
