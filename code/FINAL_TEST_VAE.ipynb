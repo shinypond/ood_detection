{
 "cells": [
  {
   "cell_type": "markdown",
   "id": "a89f01d4",
   "metadata": {},
   "source": [
    "# [ VAE ] OOD Detection using FSS"
   ]
  },
  {
   "cell_type": "code",
   "execution_count": 1,
   "id": "3dc001a3",
   "metadata": {},
   "outputs": [],
   "source": [
    "%load_ext autoreload\n",
    "%autoreload 2\n",
    "import os\n",
    "import sys\n",
    "sys.path.append(os.getcwd() + '/core')\n",
    "sys.path.append(os.getcwd() + '/core/train_GLOW') \n",
    "import numpy as np\n",
    "import pandas as pd\n",
    "import matplotlib.pyplot as plt\n",
    "import torch\n",
    "import torch.nn as nn\n",
    "\n",
    "import core.config as config\n",
    "from core.model_loader import load_pretrained_VAE\n",
    "from core.data_loader import TRAIN_loader, TEST_loader\n",
    "from core.custom_loss import KL_div, VAE_loss_pixel\n",
    "from core.fisher_utils_VAE import Calculate_fisher_VAE, Calculate_score_VAE, AUTO_VAE\n",
    "from core.visualize import plot_hist, AUROC, plot_scores_all_layers"
   ]
  },
  {
   "cell_type": "markdown",
   "id": "1c77b7b4",
   "metadata": {},
   "source": [
    "# Define Global Variables & Initialize"
   ]
  },
  {
   "cell_type": "code",
   "execution_count": 2,
   "id": "fcfa3835",
   "metadata": {},
   "outputs": [],
   "source": [
    "# FISHER_invs : Fisher inverse matrices from calculating Fisher score (w.r.t. train-dist)\n",
    "FISHERs = {'cifar10': {}, 'fmnist': {}}\n",
    "         \n",
    "# NORMalize_FACtors : Normalizing Factor (w.r.t. train-dist)\n",
    "NORM_FACs = {'cifar10': {}, 'fmnist': {}}\n",
    "             \n",
    "# SCOREs : (Scalars) Scores from calculating Fisher score (w.r.t. target-dist)\n",
    "SCOREs = {'cifar10': {}, 'fmnist': {}}\n"
   ]
  },
  {
   "cell_type": "markdown",
   "id": "ea096942",
   "metadata": {},
   "source": [
    "# VAE-CIFAR10"
   ]
  },
  {
   "cell_type": "code",
   "execution_count": 3,
   "id": "0bd8c0bf",
   "metadata": {},
   "outputs": [],
   "source": [
    "opt = config.VAE_cifar10\n",
    "netE, netG = load_pretrained_VAE(option=opt.train_dist, ngf=64, nz=200, beta=1, augment='hflip', epoch=100)\n",
    "netE.eval()\n",
    "netG.eval()\n",
    "\n",
    "params = {\n",
    "    #'Emain0_w': netE.main[0].weight,\n",
    "    #'Emain1_w': netE.main[1].weight,\n",
    "    #'Emain1_b': netE.main[1].bias,\n",
    "    #'Emain3_w': netE.main[3].weight,\n",
    "    #'Emain4_w': netE.main[4].weight,\n",
    "    #'Emain4_b': netE.main[4].bias,\n",
    "    #'Emain6_w': netE.main[6].weight,\n",
    "    #'Emain7_w': netE.main[7].weight,\n",
    "    #'Emain7_b': netE.main[7].bias,\n",
    "    'Econv1_w': netE.conv1.weight,\n",
    "    #'Econv1_b': netE.conv1.bias,\n",
    "    #'Econv2_w': netE.conv2.weight,\n",
    "    #'Econv2_b': netE.conv2.bias,\n",
    "    #'Gmain0_w': netG.main[0].weight,\n",
    "    #'Gmain1_w': netG.main[1].weight,\n",
    "    #'Gmain1_b': netG.main[1].bias,\n",
    "    #'Gmain3_w': netG.main[3].weight,\n",
    "    #'Gmain4_w': netG.main[4].weight,\n",
    "    #'Gmain4_b': netG.main[4].bias,\n",
    "    #'Gmain6_w': netG.main[6].weight,\n",
    "    #'Gmain7_w': netG.main[7].weight,\n",
    "    #'Gmain7_b': netG.main[7].bias,\n",
    "    #'Gmain9_w': netG.main[9].weight,\n",
    "}\n"
   ]
  },
  {
   "cell_type": "markdown",
   "id": "980eb33d-7c7e-41de-b1be-76cb19319166",
   "metadata": {},
   "source": [
    "# 추가훈련"
   ]
  },
  {
   "cell_type": "code",
   "execution_count": 4,
   "id": "274b2190-ce41-44da-97ba-12623c1cd27e",
   "metadata": {
    "collapsed": true,
    "jupyter": {
     "outputs_hidden": true,
     "source_hidden": true
    },
    "tags": []
   },
   "outputs": [
    {
     "name": "stdout",
     "output_type": "stream",
     "text": [
      "Files already downloaded and verified\n"
     ]
    },
    {
     "name": "stderr",
     "output_type": "stream",
     "text": [
      "100%|████████████████████████████████████████████████████████████████████████████████| 782/782 [00:16<00:00, 48.87it/s]\n",
      "  0%|                                                                                          | 0/782 [00:00<?, ?it/s]"
     ]
    },
    {
     "name": "stdout",
     "output_type": "stream",
     "text": [
      "Epoch 01 recon 11375.67 kl 430.14 Elapsed time 0:00:16.005411\n"
     ]
    },
    {
     "name": "stderr",
     "output_type": "stream",
     "text": [
      "100%|████████████████████████████████████████████████████████████████████████████████| 782/782 [00:15<00:00, 48.98it/s]\n",
      "  0%|                                                                                          | 0/782 [00:00<?, ?it/s]"
     ]
    },
    {
     "name": "stdout",
     "output_type": "stream",
     "text": [
      "Epoch 02 recon 11371.84 kl 430.75 Elapsed time 0:00:31.971946\n"
     ]
    },
    {
     "name": "stderr",
     "output_type": "stream",
     "text": [
      "100%|████████████████████████████████████████████████████████████████████████████████| 782/782 [00:14<00:00, 53.15it/s]\n",
      "  0%|                                                                                          | 0/782 [00:00<?, ?it/s]"
     ]
    },
    {
     "name": "stdout",
     "output_type": "stream",
     "text": [
      "Epoch 03 recon 11369.52 kl 431.22 Elapsed time 0:00:46.685615\n"
     ]
    },
    {
     "name": "stderr",
     "output_type": "stream",
     "text": [
      "100%|████████████████████████████████████████████████████████████████████████████████| 782/782 [00:14<00:00, 53.08it/s]\n",
      "  0%|                                                                                          | 0/782 [00:00<?, ?it/s]"
     ]
    },
    {
     "name": "stdout",
     "output_type": "stream",
     "text": [
      "Epoch 04 recon 11367.82 kl 431.60 Elapsed time 0:01:01.419246\n"
     ]
    },
    {
     "name": "stderr",
     "output_type": "stream",
     "text": [
      "100%|████████████████████████████████████████████████████████████████████████████████| 782/782 [00:14<00:00, 52.97it/s]\n",
      "  0%|                                                                                          | 0/782 [00:00<?, ?it/s]"
     ]
    },
    {
     "name": "stdout",
     "output_type": "stream",
     "text": [
      "Epoch 05 recon 11366.53 kl 431.91 Elapsed time 0:01:16.184542\n"
     ]
    },
    {
     "name": "stderr",
     "output_type": "stream",
     "text": [
      "100%|████████████████████████████████████████████████████████████████████████████████| 782/782 [00:14<00:00, 52.91it/s]\n",
      "  0%|                                                                                          | 0/782 [00:00<?, ?it/s]"
     ]
    },
    {
     "name": "stdout",
     "output_type": "stream",
     "text": [
      "Epoch 06 recon 11365.53 kl 432.18 Elapsed time 0:01:30.965257\n"
     ]
    },
    {
     "name": "stderr",
     "output_type": "stream",
     "text": [
      "100%|████████████████████████████████████████████████████████████████████████████████| 782/782 [00:14<00:00, 52.74it/s]\n",
      "  0%|                                                                                          | 0/782 [00:00<?, ?it/s]"
     ]
    },
    {
     "name": "stdout",
     "output_type": "stream",
     "text": [
      "Epoch 07 recon 11364.68 kl 432.41 Elapsed time 0:01:45.793521\n"
     ]
    },
    {
     "name": "stderr",
     "output_type": "stream",
     "text": [
      "100%|████████████████████████████████████████████████████████████████████████████████| 782/782 [00:14<00:00, 52.76it/s]\n",
      "  0%|                                                                                          | 0/782 [00:00<?, ?it/s]"
     ]
    },
    {
     "name": "stdout",
     "output_type": "stream",
     "text": [
      "Epoch 08 recon 11363.96 kl 432.61 Elapsed time 0:02:00.617246\n"
     ]
    },
    {
     "name": "stderr",
     "output_type": "stream",
     "text": [
      "100%|████████████████████████████████████████████████████████████████████████████████| 782/782 [00:14<00:00, 52.80it/s]\n",
      "  0%|                                                                                          | 0/782 [00:00<?, ?it/s]"
     ]
    },
    {
     "name": "stdout",
     "output_type": "stream",
     "text": [
      "Epoch 09 recon 11363.32 kl 432.80 Elapsed time 0:02:15.429313\n"
     ]
    },
    {
     "name": "stderr",
     "output_type": "stream",
     "text": [
      "100%|████████████████████████████████████████████████████████████████████████████████| 782/782 [00:14<00:00, 52.68it/s]"
     ]
    },
    {
     "name": "stdout",
     "output_type": "stream",
     "text": [
      "Epoch 10 recon 11362.75 kl 432.96 Elapsed time 0:02:30.273580\n"
     ]
    },
    {
     "name": "stderr",
     "output_type": "stream",
     "text": [
      "\n"
     ]
    }
   ],
   "source": [
    "for param in netE.parameters():\n",
    "    param.requires_grad_(False)\n",
    "for param in netG.parameters():\n",
    "    param.requires_grad_(False)\n",
    "for param in netE.conv1.parameters():\n",
    "    param.requires_grad_(True)\n",
    "#for param in netE.conv2.parameters():\n",
    "#    param.requires_grad_(True)\n",
    "\n",
    "import torch.optim as optim\n",
    "from torch.autograd import Variable\n",
    "from datetime import datetime\n",
    "from tqdm import tqdm\n",
    "\n",
    "device = 'cuda:0'\n",
    "optimizer = optim.Adam(netE.conv1.parameters(), lr=5e-5, weight_decay=0)\n",
    "loss_fn = nn.CrossEntropyLoss(reduction='none')\n",
    "rec_l, kl = [], []\n",
    "loader = TRAIN_loader('cifar10', augment=True, batch_size=64)\n",
    "start = datetime.now()\n",
    "\n",
    "for epoch in range(10):\n",
    "    mean_loss = 0.\n",
    "    for i, (x, _) in enumerate(tqdm(loader)):\n",
    "        x = x.to(device)\n",
    "        b = x.size(0)\n",
    "        target = Variable(x.data.view(-1) * 255).long()\n",
    "        [z, mu, logvar] = netE(x)\n",
    "        recon = netG(z)\n",
    "        recon = recon.contiguous()\n",
    "        recon = recon.view(-1, 256)\n",
    "        recl = loss_fn(recon, target)\n",
    "        recl = torch.sum(recl) / b\n",
    "        kld = KL_div(mu, logvar)\n",
    "        loss = recl + 1 * kld.mean()\n",
    "        \n",
    "        optimizer.zero_grad()\n",
    "        total_loss = loss\n",
    "        loss.backward(retain_graph=True)\n",
    "        optimizer.step()\n",
    "        rec_l.append(recl.detach().item())\n",
    "        kl.append(kld.mean().detach().item())\n",
    "        mean_loss = (mean_loss * i + loss.detach().item()) / (i + 1)\n",
    "        \n",
    "    now = datetime.now()\n",
    "    print(f'Epoch {epoch+1:02d} recon {np.mean(rec_l):.2f} kl {np.mean(kl):.2f} Elapsed time {now - start}')\n",
    "    \n",
    "    "
   ]
  },
  {
   "cell_type": "code",
   "execution_count": 10,
   "id": "16fed25d",
   "metadata": {},
   "outputs": [
    {
     "name": "stdout",
     "output_type": "stream",
     "text": [
      "Files already downloaded and verified\n"
     ]
    },
    {
     "name": "stderr",
     "output_type": "stream",
     "text": [
      "Calculate Fisher VAE:   2%|█                                                     | 999/50000 [00:10<08:21, 97.78step/s]\n"
     ]
    },
    {
     "name": "stdout",
     "output_type": "stream",
     "text": [
      "Files already downloaded and verified\n"
     ]
    },
    {
     "name": "stderr",
     "output_type": "stream",
     "text": [
      "Calculate Score VAE:  10%|█████▍                                                | 999/10000 [00:09<01:28, 102.23step/s]\n"
     ]
    },
    {
     "name": "stdout",
     "output_type": "stream",
     "text": [
      "Using downloaded and verified file: ../data\\test_32x32.mat\n"
     ]
    },
    {
     "name": "stderr",
     "output_type": "stream",
     "text": [
      "Calculate Score VAE:   4%|██                                                     | 999/26032 [00:10<04:14, 98.53step/s]\n",
      "Calculate Score VAE:   5%|██▊                                                   | 999/19141 [00:09<02:47, 108.23step/s]\n",
      "Calculate Score VAE:  10%|█████▍                                                | 999/10000 [00:09<01:29, 101.03step/s]\n"
     ]
    },
    {
     "name": "stdout",
     "output_type": "stream",
     "text": [
      "Files already downloaded and verified\n"
     ]
    },
    {
     "name": "stderr",
     "output_type": "stream",
     "text": [
      "Calculate Score VAE:  10%|█████▍                                                | 999/10000 [00:09<01:28, 102.12step/s]\n",
      "Calculate Score VAE:  10%|█████▍                                                | 999/10000 [00:09<01:21, 110.62step/s]\n",
      "Calculate Score VAE:  10%|█████▍                                                | 999/10000 [00:09<01:21, 110.37step/s]\n",
      "Calculate Score VAE:  10%|█████▍                                                | 999/10000 [00:09<01:21, 110.24step/s]\n"
     ]
    },
    {
     "name": "stdout",
     "output_type": "stream",
     "text": [
      "Files already downloaded and verified\n"
     ]
    },
    {
     "name": "stderr",
     "output_type": "stream",
     "text": [
      "Calculate Score VAE:   8%|████                                                  | 999/13180 [00:09<01:59, 101.88step/s]\n",
      "Calculate Score VAE:   5%|██▉                                                   | 999/18724 [00:08<02:34, 114.45step/s]\n",
      "Calculate Score VAE:   8%|████▎                                                 | 999/12630 [00:09<01:45, 110.73step/s]\n",
      "Calculate Score VAE:  10%|█████▍                                                | 999/10000 [00:07<01:11, 126.33step/s]\n",
      "Calculate Score VAE:  10%|█████▍                                                | 999/10000 [00:07<01:11, 125.84step/s]\n"
     ]
    }
   ],
   "source": [
    "a, b, _scores = AUTO_VAE(opt, netE, netG, params, max_iter=[1000, 1000], loss_type='ELBO_pixel', method='Vanilla')"
   ]
  },
  {
   "cell_type": "code",
   "execution_count": 11,
   "id": "dcedf805",
   "metadata": {},
   "outputs": [],
   "source": [
    "for pname in params.keys():\n",
    "    FISHERs[opt.train_dist][pname] = a[pname] \n",
    "    NORM_FACs[opt.train_dist][pname] = b[pname]\n",
    "    pass\n",
    "for ood in opt.ood_list:\n",
    "    SCOREs[opt.train_dist][ood] = _scores[ood]"
   ]
  },
  {
   "cell_type": "code",
   "execution_count": 12,
   "id": "2d7e109a",
   "metadata": {},
   "outputs": [
    {
     "data": {
      "text/plain": [
       "{'Econv1_w': {'cifar10': 0.49999999999999994,\n",
       "  'svhn': 0.9032479999999999,\n",
       "  'celeba': 0.718142,\n",
       "  'lsun': 0.49095799999999995,\n",
       "  'cifar100': 0.541376,\n",
       "  'mnist': 0.997136,\n",
       "  'fmnist': 0.980405,\n",
       "  'kmnist': 0.9949110000000001,\n",
       "  'omniglot': 0.9697380000000001,\n",
       "  'notmnist': 0.987737,\n",
       "  'trafficsign': 0.7392920000000001,\n",
       "  'noise': 0.170525,\n",
       "  'constant': 0.980683}}"
      ]
     },
     "execution_count": 12,
     "metadata": {},
     "output_type": "execute_result"
    }
   ],
   "source": [
    "# AUROC curve\n",
    "auroc = {}\n",
    "for pname in params.keys():\n",
    "    _auroc = {}\n",
    "    for ood in opt.ood_list:\n",
    "        args = [\n",
    "            SCOREs[opt.train_dist][opt.train_dist][pname],\n",
    "            SCOREs[opt.train_dist][ood][pname],\n",
    "        ]\n",
    "        labels = [opt.train_dist, ood]\n",
    "        _auroc[ood] = AUROC(*args, labels=labels, verbose=False)\n",
    "    auroc[pname] = _auroc\n",
    "    \n",
    "auroc"
   ]
  },
  {
   "cell_type": "code",
   "execution_count": 6,
   "id": "6ee154ea",
   "metadata": {},
   "outputs": [],
   "source": [
    "# Just show scores\n",
    "# plot_scores_all_layers(train_dist, params, SCOREs, opt, save=True)\n"
   ]
  },
  {
   "cell_type": "code",
   "execution_count": 8,
   "id": "c1db0ce5-633e-4439-b0a0-1b8f58ccebcc",
   "metadata": {},
   "outputs": [
    {
     "name": "stdout",
     "output_type": "stream",
     "text": [
      "Files already downloaded and verified\n"
     ]
    },
    {
     "data": {
      "image/png": "[encoded data removed]",
      "text/plain": [
       "<Figure size 432x288 with 1 Axes>"
      ]
     },
     "metadata": {
      "needs_background": "light"
     },
     "output_type": "display_data"
    },
    {
     "data": {
      "image/png": "[encoded data removed]",
      "text/plain": [
       "<Figure size 432x288 with 1 Axes>"
      ]
     },
     "metadata": {
      "needs_background": "light"
     },
     "output_type": "display_data"
    },
    {
     "data": {
      "image/png": "[encoded data removed]",
      "text/plain": [
       "<Figure size 432x288 with 1 Axes>"
      ]
     },
     "metadata": {
      "needs_background": "light"
     },
     "output_type": "display_data"
    },
    {
     "data": {
      "image/png": "[encoded data removed]",
      "text/plain": [
       "<Figure size 432x288 with 1 Axes>"
      ]
     },
     "metadata": {
      "needs_background": "light"
     },
     "output_type": "display_data"
    },
    {
     "data": {
      "image/png": "[encoded data removed]",
      "text/plain": [
       "<Figure size 432x288 with 1 Axes>"
      ]
     },
     "metadata": {
      "needs_background": "light"
     },
     "output_type": "display_data"
    },
    {
     "data": {
      "image/png": "[encoded data removed]",
      "text/plain": [
       "<Figure size 432x288 with 1 Axes>"
      ]
     },
     "metadata": {
      "needs_background": "light"
     },
     "output_type": "display_data"
    },
    {
     "data": {
      "image/png": "[encoded data removed]",
      "text/plain": [
       "<Figure size 432x288 with 1 Axes>"
      ]
     },
     "metadata": {
      "needs_background": "light"
     },
     "output_type": "display_data"
    },
    {
     "data": {
      "image/png": "[encoded data removed]",
      "text/plain": [
       "<Figure size 432x288 with 1 Axes>"
      ]
     },
     "metadata": {
      "needs_background": "light"
     },
     "output_type": "display_data"
    },
    {
     "data": {
      "image/png": "[encoded data removed]",
      "text/plain": [
       "<Figure size 432x288 with 1 Axes>"
      ]
     },
     "metadata": {
      "needs_background": "light"
     },
     "output_type": "display_data"
    },
    {
     "data": {
      "image/png": "[encoded data removed]",
      "text/plain": [
       "<Figure size 432x288 with 1 Axes>"
      ]
     },
     "metadata": {
      "needs_background": "light"
     },
     "output_type": "display_data"
    },
    {
     "data": {
      "image/png": "[encoded data removed]",
      "text/plain": [
       "<Figure size 432x288 with 1 Axes>"
      ]
     },
     "metadata": {
      "needs_background": "light"
     },
     "output_type": "display_data"
    },
    {
     "data": {
      "image/png": "[encoded data removed]",
      "text/plain": [
       "<Figure size 432x288 with 1 Axes>"
      ]
     },
     "metadata": {
      "needs_background": "light"
     },
     "output_type": "display_data"
    }
   ],
   "source": [
    "loader = TEST_loader('cifar10', 'cifar10')\n",
    "for i,(x,_) in enumerate(loader):\n",
    "    z, mu, logvar = netE(x.cuda())\n",
    "    y = netG(z)\n",
    "    plt.figure()\n",
    "    plt.imshow(x[0].permute(1,2,0).detach().cpu())\n",
    "    plt.show()\n",
    "    plt.figure()\n",
    "    plt.imshow(torch.argmax(y,4)[0].permute(1,2,0).detach().cpu())\n",
    "    plt.show()\n",
    "    if i==5:\n",
    "        break"
   ]
  },
  {
   "cell_type": "code",
   "execution_count": null,
   "id": "745bf7e9-ae02-4bf6-b1a6-60c61a688e7d",
   "metadata": {},
   "outputs": [],
   "source": []
  },
  {
   "cell_type": "code",
   "execution_count": null,
   "id": "0369ae21",
   "metadata": {},
   "outputs": [],
   "source": []
  },
  {
   "cell_type": "markdown",
   "id": "d6bd4adc",
   "metadata": {},
   "source": [
    "# VAE-FMNIST"
   ]
  },
  {
   "cell_type": "code",
   "execution_count": 14,
   "id": "bafc7fd6",
   "metadata": {},
   "outputs": [],
   "source": [
    "opt = config.VAE_fmnist\n",
    "netE, netG = load_pretrained_VAE(option=opt.train_dist, ngf=32, nz=100, beta=1, augment='hflip', epoch=100)\n",
    "netE.eval()\n",
    "netG.eval()\n",
    "\n",
    "params = {\n",
    "    #'Emain0_w': netE.main[0].weight,\n",
    "    #'Emain1_w': netE.main[1].weight,\n",
    "    #'Emain1_b': netE.main[1].bias,\n",
    "    #'Emain3_w': netE.main[3].weight,\n",
    "    #'Emain4_w': netE.main[4].weight,\n",
    "    #'Emain4_b': netE.main[4].bias,\n",
    "    #'Emain6_w': netE.main[6].weight,\n",
    "    #'Emain7_w': netE.main[7].weight,\n",
    "    #'Emain7_b': netE.main[7].bias,\n",
    "    'Econv1_w': netE.conv1.weight,\n",
    "    #'Econv1_b': netE.conv1.bias,\n",
    "    #'Econv2_w': netE.conv2.weight,\n",
    "    #'Econv2_b': netE.conv2.bias,\n",
    "    #'Gmain0_w': netG.main[0].weight,\n",
    "    #'Gmain1_w': netG.main[1].weight,\n",
    "    #'Gmain1_b': netG.main[1].bias,\n",
    "    #'Gmain3_w': netG.main[3].weight,\n",
    "    #'Gmain4_w': netG.main[4].weight,\n",
    "    #'Gmain4_b': netG.main[4].bias,\n",
    "    #'Gmain6_w': netG.main[6].weight,\n",
    "    #'Gmain7_w': netG.main[7].weight,\n",
    "    #'Gmain7_b': netG.main[7].bias,\n",
    "    #'Gmain9_w': netG.main[9].weight,\n",
    "}"
   ]
  },
  {
   "cell_type": "markdown",
   "id": "e5d8b5ce-d4af-4f12-bcb7-3c29e368bb07",
   "metadata": {},
   "source": [
    "# 추가훈련"
   ]
  },
  {
   "cell_type": "code",
   "execution_count": 13,
   "id": "07541350-4886-450d-ac0a-a96902a5e9e0",
   "metadata": {
    "collapsed": true,
    "jupyter": {
     "outputs_hidden": true,
     "source_hidden": true
    },
    "tags": []
   },
   "outputs": [
    {
     "ename": "KeyboardInterrupt",
     "evalue": "",
     "output_type": "error",
     "traceback": [
      "\u001b[1;31m---------------------------------------------------------------------------\u001b[0m",
      "\u001b[1;31mKeyboardInterrupt\u001b[0m                         Traceback (most recent call last)",
      "\u001b[1;32m<ipython-input-13-8bd76cce3302>\u001b[0m in \u001b[0;36m<module>\u001b[1;34m\u001b[0m\n\u001b[0;32m     26\u001b[0m         \u001b[0mtarget\u001b[0m \u001b[1;33m=\u001b[0m \u001b[0mVariable\u001b[0m\u001b[1;33m(\u001b[0m\u001b[0mx\u001b[0m\u001b[1;33m.\u001b[0m\u001b[0mdata\u001b[0m\u001b[1;33m.\u001b[0m\u001b[0mview\u001b[0m\u001b[1;33m(\u001b[0m\u001b[1;33m-\u001b[0m\u001b[1;36m1\u001b[0m\u001b[1;33m)\u001b[0m \u001b[1;33m*\u001b[0m \u001b[1;36m255\u001b[0m\u001b[1;33m)\u001b[0m\u001b[1;33m.\u001b[0m\u001b[0mlong\u001b[0m\u001b[1;33m(\u001b[0m\u001b[1;33m)\u001b[0m\u001b[1;33m\u001b[0m\u001b[1;33m\u001b[0m\u001b[0m\n\u001b[0;32m     27\u001b[0m         \u001b[1;33m[\u001b[0m\u001b[0mz\u001b[0m\u001b[1;33m,\u001b[0m \u001b[0mmu\u001b[0m\u001b[1;33m,\u001b[0m \u001b[0mlogvar\u001b[0m\u001b[1;33m]\u001b[0m \u001b[1;33m=\u001b[0m \u001b[0mnetE\u001b[0m\u001b[1;33m(\u001b[0m\u001b[0mx\u001b[0m\u001b[1;33m)\u001b[0m\u001b[1;33m\u001b[0m\u001b[1;33m\u001b[0m\u001b[0m\n\u001b[1;32m---> 28\u001b[1;33m         \u001b[0mrecon\u001b[0m \u001b[1;33m=\u001b[0m \u001b[0mnetG\u001b[0m\u001b[1;33m(\u001b[0m\u001b[0mz\u001b[0m\u001b[1;33m)\u001b[0m\u001b[1;33m\u001b[0m\u001b[1;33m\u001b[0m\u001b[0m\n\u001b[0m\u001b[0;32m     29\u001b[0m         \u001b[0mrecon\u001b[0m \u001b[1;33m=\u001b[0m \u001b[0mrecon\u001b[0m\u001b[1;33m.\u001b[0m\u001b[0mcontiguous\u001b[0m\u001b[1;33m(\u001b[0m\u001b[1;33m)\u001b[0m\u001b[1;33m\u001b[0m\u001b[1;33m\u001b[0m\u001b[0m\n\u001b[0;32m     30\u001b[0m         \u001b[0mrecon\u001b[0m \u001b[1;33m=\u001b[0m \u001b[0mrecon\u001b[0m\u001b[1;33m.\u001b[0m\u001b[0mview\u001b[0m\u001b[1;33m(\u001b[0m\u001b[1;33m-\u001b[0m\u001b[1;36m1\u001b[0m\u001b[1;33m,\u001b[0m \u001b[1;36m256\u001b[0m\u001b[1;33m)\u001b[0m\u001b[1;33m\u001b[0m\u001b[1;33m\u001b[0m\u001b[0m\n",
      "\u001b[1;32m~\\.conda\\envs\\torch\\lib\\site-packages\\torch\\nn\\modules\\module.py\u001b[0m in \u001b[0;36m_call_impl\u001b[1;34m(self, *input, **kwargs)\u001b[0m\n\u001b[0;32m    887\u001b[0m             \u001b[0mresult\u001b[0m \u001b[1;33m=\u001b[0m \u001b[0mself\u001b[0m\u001b[1;33m.\u001b[0m\u001b[0m_slow_forward\u001b[0m\u001b[1;33m(\u001b[0m\u001b[1;33m*\u001b[0m\u001b[0minput\u001b[0m\u001b[1;33m,\u001b[0m \u001b[1;33m**\u001b[0m\u001b[0mkwargs\u001b[0m\u001b[1;33m)\u001b[0m\u001b[1;33m\u001b[0m\u001b[1;33m\u001b[0m\u001b[0m\n\u001b[0;32m    888\u001b[0m         \u001b[1;32melse\u001b[0m\u001b[1;33m:\u001b[0m\u001b[1;33m\u001b[0m\u001b[1;33m\u001b[0m\u001b[0m\n\u001b[1;32m--> 889\u001b[1;33m             \u001b[0mresult\u001b[0m \u001b[1;33m=\u001b[0m \u001b[0mself\u001b[0m\u001b[1;33m.\u001b[0m\u001b[0mforward\u001b[0m\u001b[1;33m(\u001b[0m\u001b[1;33m*\u001b[0m\u001b[0minput\u001b[0m\u001b[1;33m,\u001b[0m \u001b[1;33m**\u001b[0m\u001b[0mkwargs\u001b[0m\u001b[1;33m)\u001b[0m\u001b[1;33m\u001b[0m\u001b[1;33m\u001b[0m\u001b[0m\n\u001b[0m\u001b[0;32m    890\u001b[0m         for hook in itertools.chain(\n\u001b[0;32m    891\u001b[0m                 \u001b[0m_global_forward_hooks\u001b[0m\u001b[1;33m.\u001b[0m\u001b[0mvalues\u001b[0m\u001b[1;33m(\u001b[0m\u001b[1;33m)\u001b[0m\u001b[1;33m,\u001b[0m\u001b[1;33m\u001b[0m\u001b[1;33m\u001b[0m\u001b[0m\n",
      "\u001b[1;32m~\\codes\\ood_detection\\code/core\\train_VAE\\DCGAN_VAE_pixel.py\u001b[0m in \u001b[0;36mforward\u001b[1;34m(self, input)\u001b[0m\n\u001b[0;32m     89\u001b[0m             \u001b[0moutput\u001b[0m \u001b[1;33m=\u001b[0m \u001b[0moutput\u001b[0m\u001b[1;33m.\u001b[0m\u001b[0mpermute\u001b[0m\u001b[1;33m(\u001b[0m\u001b[1;36m0\u001b[0m\u001b[1;33m,\u001b[0m \u001b[1;36m1\u001b[0m\u001b[1;33m,\u001b[0m \u001b[1;36m3\u001b[0m\u001b[1;33m,\u001b[0m \u001b[1;36m4\u001b[0m\u001b[1;33m,\u001b[0m \u001b[1;36m2\u001b[0m\u001b[1;33m)\u001b[0m\u001b[1;33m\u001b[0m\u001b[1;33m\u001b[0m\u001b[0m\n\u001b[0;32m     90\u001b[0m         \u001b[1;32melse\u001b[0m\u001b[1;33m:\u001b[0m\u001b[1;33m\u001b[0m\u001b[1;33m\u001b[0m\u001b[0m\n\u001b[1;32m---> 91\u001b[1;33m             \u001b[0moutput\u001b[0m \u001b[1;33m=\u001b[0m \u001b[0mself\u001b[0m\u001b[1;33m.\u001b[0m\u001b[0mmain\u001b[0m\u001b[1;33m(\u001b[0m\u001b[0minput\u001b[0m\u001b[1;33m)\u001b[0m\u001b[1;33m\u001b[0m\u001b[1;33m\u001b[0m\u001b[0m\n\u001b[0m\u001b[0;32m     92\u001b[0m             \u001b[0moutput\u001b[0m \u001b[1;33m=\u001b[0m \u001b[0moutput\u001b[0m\u001b[1;33m.\u001b[0m\u001b[0mview\u001b[0m\u001b[1;33m(\u001b[0m\u001b[1;33m-\u001b[0m\u001b[1;36m1\u001b[0m\u001b[1;33m,\u001b[0m \u001b[0mself\u001b[0m\u001b[1;33m.\u001b[0m\u001b[0mnc\u001b[0m\u001b[1;33m,\u001b[0m \u001b[1;36m256\u001b[0m\u001b[1;33m,\u001b[0m \u001b[0mself\u001b[0m\u001b[1;33m.\u001b[0m\u001b[0misize\u001b[0m\u001b[1;33m,\u001b[0m \u001b[0mself\u001b[0m\u001b[1;33m.\u001b[0m\u001b[0misize\u001b[0m\u001b[1;33m)\u001b[0m\u001b[1;33m\u001b[0m\u001b[1;33m\u001b[0m\u001b[0m\n\u001b[0;32m     93\u001b[0m             \u001b[0moutput\u001b[0m \u001b[1;33m=\u001b[0m \u001b[0moutput\u001b[0m\u001b[1;33m.\u001b[0m\u001b[0mpermute\u001b[0m\u001b[1;33m(\u001b[0m\u001b[1;36m0\u001b[0m\u001b[1;33m,\u001b[0m \u001b[1;36m1\u001b[0m\u001b[1;33m,\u001b[0m \u001b[1;36m3\u001b[0m\u001b[1;33m,\u001b[0m \u001b[1;36m4\u001b[0m\u001b[1;33m,\u001b[0m \u001b[1;36m2\u001b[0m\u001b[1;33m)\u001b[0m\u001b[1;33m\u001b[0m\u001b[1;33m\u001b[0m\u001b[0m\n",
      "\u001b[1;32m~\\.conda\\envs\\torch\\lib\\site-packages\\torch\\nn\\modules\\module.py\u001b[0m in \u001b[0;36m_call_impl\u001b[1;34m(self, *input, **kwargs)\u001b[0m\n\u001b[0;32m    887\u001b[0m             \u001b[0mresult\u001b[0m \u001b[1;33m=\u001b[0m \u001b[0mself\u001b[0m\u001b[1;33m.\u001b[0m\u001b[0m_slow_forward\u001b[0m\u001b[1;33m(\u001b[0m\u001b[1;33m*\u001b[0m\u001b[0minput\u001b[0m\u001b[1;33m,\u001b[0m \u001b[1;33m**\u001b[0m\u001b[0mkwargs\u001b[0m\u001b[1;33m)\u001b[0m\u001b[1;33m\u001b[0m\u001b[1;33m\u001b[0m\u001b[0m\n\u001b[0;32m    888\u001b[0m         \u001b[1;32melse\u001b[0m\u001b[1;33m:\u001b[0m\u001b[1;33m\u001b[0m\u001b[1;33m\u001b[0m\u001b[0m\n\u001b[1;32m--> 889\u001b[1;33m             \u001b[0mresult\u001b[0m \u001b[1;33m=\u001b[0m \u001b[0mself\u001b[0m\u001b[1;33m.\u001b[0m\u001b[0mforward\u001b[0m\u001b[1;33m(\u001b[0m\u001b[1;33m*\u001b[0m\u001b[0minput\u001b[0m\u001b[1;33m,\u001b[0m \u001b[1;33m**\u001b[0m\u001b[0mkwargs\u001b[0m\u001b[1;33m)\u001b[0m\u001b[1;33m\u001b[0m\u001b[1;33m\u001b[0m\u001b[0m\n\u001b[0m\u001b[0;32m    890\u001b[0m         for hook in itertools.chain(\n\u001b[0;32m    891\u001b[0m                 \u001b[0m_global_forward_hooks\u001b[0m\u001b[1;33m.\u001b[0m\u001b[0mvalues\u001b[0m\u001b[1;33m(\u001b[0m\u001b[1;33m)\u001b[0m\u001b[1;33m,\u001b[0m\u001b[1;33m\u001b[0m\u001b[1;33m\u001b[0m\u001b[0m\n",
      "\u001b[1;32m~\\.conda\\envs\\torch\\lib\\site-packages\\torch\\nn\\modules\\container.py\u001b[0m in \u001b[0;36mforward\u001b[1;34m(self, input)\u001b[0m\n\u001b[0;32m    117\u001b[0m     \u001b[1;32mdef\u001b[0m \u001b[0mforward\u001b[0m\u001b[1;33m(\u001b[0m\u001b[0mself\u001b[0m\u001b[1;33m,\u001b[0m \u001b[0minput\u001b[0m\u001b[1;33m)\u001b[0m\u001b[1;33m:\u001b[0m\u001b[1;33m\u001b[0m\u001b[1;33m\u001b[0m\u001b[0m\n\u001b[0;32m    118\u001b[0m         \u001b[1;32mfor\u001b[0m \u001b[0mmodule\u001b[0m \u001b[1;32min\u001b[0m \u001b[0mself\u001b[0m\u001b[1;33m:\u001b[0m\u001b[1;33m\u001b[0m\u001b[1;33m\u001b[0m\u001b[0m\n\u001b[1;32m--> 119\u001b[1;33m             \u001b[0minput\u001b[0m \u001b[1;33m=\u001b[0m \u001b[0mmodule\u001b[0m\u001b[1;33m(\u001b[0m\u001b[0minput\u001b[0m\u001b[1;33m)\u001b[0m\u001b[1;33m\u001b[0m\u001b[1;33m\u001b[0m\u001b[0m\n\u001b[0m\u001b[0;32m    120\u001b[0m         \u001b[1;32mreturn\u001b[0m \u001b[0minput\u001b[0m\u001b[1;33m\u001b[0m\u001b[1;33m\u001b[0m\u001b[0m\n\u001b[0;32m    121\u001b[0m \u001b[1;33m\u001b[0m\u001b[0m\n",
      "\u001b[1;32m~\\.conda\\envs\\torch\\lib\\site-packages\\torch\\nn\\modules\\module.py\u001b[0m in \u001b[0;36m_call_impl\u001b[1;34m(self, *input, **kwargs)\u001b[0m\n\u001b[0;32m    887\u001b[0m             \u001b[0mresult\u001b[0m \u001b[1;33m=\u001b[0m \u001b[0mself\u001b[0m\u001b[1;33m.\u001b[0m\u001b[0m_slow_forward\u001b[0m\u001b[1;33m(\u001b[0m\u001b[1;33m*\u001b[0m\u001b[0minput\u001b[0m\u001b[1;33m,\u001b[0m \u001b[1;33m**\u001b[0m\u001b[0mkwargs\u001b[0m\u001b[1;33m)\u001b[0m\u001b[1;33m\u001b[0m\u001b[1;33m\u001b[0m\u001b[0m\n\u001b[0;32m    888\u001b[0m         \u001b[1;32melse\u001b[0m\u001b[1;33m:\u001b[0m\u001b[1;33m\u001b[0m\u001b[1;33m\u001b[0m\u001b[0m\n\u001b[1;32m--> 889\u001b[1;33m             \u001b[0mresult\u001b[0m \u001b[1;33m=\u001b[0m \u001b[0mself\u001b[0m\u001b[1;33m.\u001b[0m\u001b[0mforward\u001b[0m\u001b[1;33m(\u001b[0m\u001b[1;33m*\u001b[0m\u001b[0minput\u001b[0m\u001b[1;33m,\u001b[0m \u001b[1;33m**\u001b[0m\u001b[0mkwargs\u001b[0m\u001b[1;33m)\u001b[0m\u001b[1;33m\u001b[0m\u001b[1;33m\u001b[0m\u001b[0m\n\u001b[0m\u001b[0;32m    890\u001b[0m         for hook in itertools.chain(\n\u001b[0;32m    891\u001b[0m                 \u001b[0m_global_forward_hooks\u001b[0m\u001b[1;33m.\u001b[0m\u001b[0mvalues\u001b[0m\u001b[1;33m(\u001b[0m\u001b[1;33m)\u001b[0m\u001b[1;33m,\u001b[0m\u001b[1;33m\u001b[0m\u001b[1;33m\u001b[0m\u001b[0m\n",
      "\u001b[1;32m~\\.conda\\envs\\torch\\lib\\site-packages\\torch\\nn\\modules\\conv.py\u001b[0m in \u001b[0;36mforward\u001b[1;34m(self, input, output_size)\u001b[0m\n\u001b[0;32m    838\u001b[0m             input, output_size, self.stride, self.padding, self.kernel_size, self.dilation)  # type: ignore\n\u001b[0;32m    839\u001b[0m \u001b[1;33m\u001b[0m\u001b[0m\n\u001b[1;32m--> 840\u001b[1;33m         return F.conv_transpose2d(\n\u001b[0m\u001b[0;32m    841\u001b[0m             \u001b[0minput\u001b[0m\u001b[1;33m,\u001b[0m \u001b[0mself\u001b[0m\u001b[1;33m.\u001b[0m\u001b[0mweight\u001b[0m\u001b[1;33m,\u001b[0m \u001b[0mself\u001b[0m\u001b[1;33m.\u001b[0m\u001b[0mbias\u001b[0m\u001b[1;33m,\u001b[0m \u001b[0mself\u001b[0m\u001b[1;33m.\u001b[0m\u001b[0mstride\u001b[0m\u001b[1;33m,\u001b[0m \u001b[0mself\u001b[0m\u001b[1;33m.\u001b[0m\u001b[0mpadding\u001b[0m\u001b[1;33m,\u001b[0m\u001b[1;33m\u001b[0m\u001b[1;33m\u001b[0m\u001b[0m\n\u001b[0;32m    842\u001b[0m             output_padding, self.groups, self.dilation)\n",
      "\u001b[1;31mKeyboardInterrupt\u001b[0m: "
     ]
    }
   ],
   "source": [
    "for param in netE.parameters():\n",
    "    param.requires_grad_(False)\n",
    "for param in netG.parameters():\n",
    "    param.requires_grad_(False)\n",
    "for param in netE.conv1.parameters():\n",
    "    param.requires_grad_(True)\n",
    "#for param in netE.conv2.parameters():\n",
    "#    param.requires_grad_(True)\n",
    "\n",
    "import torch.optim as optim\n",
    "from torch.autograd import Variable\n",
    "from datetime import datetime\n",
    "\n",
    "device = 'cuda:0'\n",
    "optimizer = optim.Adam(netE.conv1.parameters(), lr=5e-5, weight_decay=0)\n",
    "loss_fn = nn.CrossEntropyLoss(reduction='none')\n",
    "rec_l, kl = [], []\n",
    "loader = TRAIN_loader('fmnist', 'fmnist')\n",
    "start = datetime.now()\n",
    "\n",
    "for epoch in range(10):\n",
    "    mean_loss = 0.\n",
    "    for i, (x, _) in enumerate(loader):\n",
    "        x = x.to(device)\n",
    "        b = x.size(0)\n",
    "        target = Variable(x.data.view(-1) * 255).long()\n",
    "        [z, mu, logvar] = netE(x)\n",
    "        recon = netG(z)\n",
    "        recon = recon.contiguous()\n",
    "        recon = recon.view(-1, 256)\n",
    "        recl = loss_fn(recon, target)\n",
    "        recl = torch.sum(recl) / b\n",
    "        kld = KL_div(mu, logvar)\n",
    "        loss = recl + 1 * kld.mean()\n",
    "        \n",
    "        optimizer.zero_grad()\n",
    "        total_loss = loss\n",
    "        loss.backward(retain_graph=True)\n",
    "        optimizer.step()\n",
    "        rec_l.append(recl.detach().item())\n",
    "        kl.append(kld.mean().detach().item())\n",
    "        mean_loss = (mean_loss * i + loss.detach().item()) / (i + 1)\n",
    "        \n",
    "    now = datetime.now()\n",
    "    print(f'Epoch {epoch+1:02d} recon {np.mean(rec_l):.2f} kl {np.mean(kl):.2f} Elapsed time {now - start}')\n",
    "    \n",
    "    "
   ]
  },
  {
   "cell_type": "code",
   "execution_count": 15,
   "id": "02326099",
   "metadata": {},
   "outputs": [
    {
     "name": "stderr",
     "output_type": "stream",
     "text": [
      "Calculate Fisher VAE:   2%|▉                                                    | 999/60000 [00:05<05:05, 192.86step/s]\n",
      "Calculate Score VAE:   5%|██▋                                                   | 499/10000 [00:03<01:00, 158.19step/s]\n"
     ]
    },
    {
     "name": "stdout",
     "output_type": "stream",
     "text": [
      "Using downloaded and verified file: ../data\\test_32x32.mat\n"
     ]
    },
    {
     "name": "stderr",
     "output_type": "stream",
     "text": [
      "Calculate Score VAE:   2%|█                                                     | 499/26032 [00:04<03:48, 111.69step/s]\n",
      "Calculate Score VAE:   3%|█▍                                                    | 499/19141 [00:02<01:48, 171.52step/s]\n",
      "Calculate Score VAE:   5%|██▋                                                   | 499/10000 [00:03<01:01, 154.96step/s]\n"
     ]
    },
    {
     "name": "stdout",
     "output_type": "stream",
     "text": [
      "Files already downloaded and verified\n"
     ]
    },
    {
     "name": "stderr",
     "output_type": "stream",
     "text": [
      "Calculate Score VAE:   5%|██▋                                                   | 499/10000 [00:04<01:17, 122.17step/s]\n"
     ]
    },
    {
     "name": "stdout",
     "output_type": "stream",
     "text": [
      "Files already downloaded and verified\n"
     ]
    },
    {
     "name": "stderr",
     "output_type": "stream",
     "text": [
      "Calculate Score VAE:   5%|██▋                                                   | 499/10000 [00:04<01:17, 122.31step/s]\n",
      "Calculate Score VAE:   5%|██▋                                                   | 499/10000 [00:03<01:00, 157.40step/s]\n",
      "Calculate Score VAE:   5%|██▋                                                   | 499/10000 [00:03<01:00, 157.05step/s]\n"
     ]
    },
    {
     "name": "stdout",
     "output_type": "stream",
     "text": [
      "Files already downloaded and verified\n"
     ]
    },
    {
     "name": "stderr",
     "output_type": "stream",
     "text": [
      "Calculate Score VAE:   4%|██                                                    | 499/13180 [00:03<01:39, 127.99step/s]\n",
      "Calculate Score VAE:   3%|█▍                                                    | 499/18724 [00:02<01:36, 189.14step/s]\n",
      "Calculate Score VAE:   5%|██▋                                                   | 499/10000 [00:02<00:42, 225.52step/s]\n",
      "Calculate Score VAE:   5%|██▋                                                   | 499/10000 [00:02<00:42, 225.44step/s]\n"
     ]
    }
   ],
   "source": [
    "a, b, _scores = AUTO_VAE(opt, netE, netG, params, max_iter=[1000, 500], loss_type='ELBO_pixel', method='Vanilla')"
   ]
  },
  {
   "cell_type": "code",
   "execution_count": 16,
   "id": "7fa73096",
   "metadata": {},
   "outputs": [],
   "source": [
    "for pname in params.keys():\n",
    "    FISHERs[opt.train_dist][pname] = a[pname] \n",
    "    NORM_FACs[opt.train_dist][pname] = b[pname]\n",
    "for ood in opt.ood_list:\n",
    "    SCOREs[opt.train_dist][ood] = _scores[ood]"
   ]
  },
  {
   "cell_type": "code",
   "execution_count": 17,
   "id": "10182208",
   "metadata": {},
   "outputs": [
    {
     "data": {
      "text/plain": [
       "{'Econv1_w': {'fmnist': 0.5,\n",
       "  'svhn': 0.9986119999999999,\n",
       "  'celeba': 0.9945280000000001,\n",
       "  'lsun': 0.997316,\n",
       "  'cifar10': 0.995068,\n",
       "  'cifar100': 0.995388,\n",
       "  'mnist': 0.974432,\n",
       "  'kmnist': 0.983492,\n",
       "  'omniglot': 1.0,\n",
       "  'notmnist': 0.996924,\n",
       "  'noise': 0.972576,\n",
       "  'constant': 0.996012}}"
      ]
     },
     "execution_count": 17,
     "metadata": {},
     "output_type": "execute_result"
    }
   ],
   "source": [
    "# AUROC curve\n",
    "auroc = {}\n",
    "for pname in params.keys():\n",
    "    _auroc = {}\n",
    "    for ood in opt.ood_list:\n",
    "        args = [\n",
    "            SCOREs[opt.train_dist][opt.train_dist][pname],\n",
    "            SCOREs[opt.train_dist][ood][pname],\n",
    "        ]\n",
    "        labels = [opt.train_dist, ood]\n",
    "        _auroc[ood] = AUROC(*args, labels=labels, verbose=False)\n",
    "    auroc[pname] = _auroc\n",
    "    \n",
    "auroc"
   ]
  },
  {
   "cell_type": "code",
   "execution_count": 9,
   "id": "49fd13d3",
   "metadata": {},
   "outputs": [],
   "source": [
    "# Just show scores\n",
    "# plot_scores_all_layers(train_dist, params, SCOREs, opt, save=True)"
   ]
  },
  {
   "cell_type": "code",
   "execution_count": null,
   "id": "b23c0f5b",
   "metadata": {},
   "outputs": [],
   "source": []
  }
 ],
 "metadata": {
  "kernelspec": {
   "display_name": "torch",
   "language": "python",
   "name": "torch"
  },
  "language_info": {
   "codemirror_mode": {
    "name": "ipython",
    "version": 3
   },
   "file_extension": ".py",
   "mimetype": "text/x-python",
   "name": "python",
   "nbconvert_exporter": "python",
   "pygments_lexer": "ipython3",
   "version": "3.8.10"
  }
 },
 "nbformat": 4,
 "nbformat_minor": 5
}
