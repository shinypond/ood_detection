{
 "cells": [
  {
   "cell_type": "markdown",
   "id": "a89f01d4",
   "metadata": {},
   "source": [
    "# [ VAE ] OOD Detection using FSS"
   ]
  },
  {
   "cell_type": "code",
   "execution_count": 1,
   "id": "3dc001a3",
   "metadata": {},
   "outputs": [
    {
     "data": {
      "text/plain": [
       "<torch._C.Generator at 0x224f07d3030>"
      ]
     },
     "execution_count": 1,
     "metadata": {},
     "output_type": "execute_result"
    }
   ],
   "source": [
    "%load_ext autoreload\n",
    "%autoreload 2\n",
    "import os\n",
    "import sys\n",
    "sys.path.append(os.getcwd() + '/core')\n",
    "sys.path.append(os.getcwd() + '/core/train_GLOW') \n",
    "import numpy as np\n",
    "import pandas as pd\n",
    "import random\n",
    "import matplotlib.pyplot as plt\n",
    "import torch\n",
    "import torch.nn as nn\n",
    "\n",
    "import core.config as config\n",
    "from core.model_loader import load_pretrained_VAE\n",
    "from core.data_loader import TRAIN_loader, TEST_loader\n",
    "from core.custom_loss import KL_div, VAE_loss_pixel\n",
    "from core.fisher_utils_VAE import Calculate_fisher_VAE, Calculate_score_VAE, AUTO_VAE\n",
    "from core.fisher_utils_VAE import Calculate_fisher_VAE_ekfac, Calculate_score_VAE_ekfac\n",
    "from core.visualize import plot_hist, AUROC, plot_scores_all_layers\n",
    "\n",
    "# fix a random seed\n",
    "seed = 2021\n",
    "random.seed(seed)\n",
    "np.random.seed(seed)\n",
    "torch.manual_seed(seed)"
   ]
  },
  {
   "cell_type": "markdown",
   "id": "ea096942",
   "metadata": {},
   "source": [
    "# VAE - CIFAR10 & FMNIST"
   ]
  },
  {
   "cell_type": "markdown",
   "id": "55cb9927-da7f-41ce-a700-053ea6e71fcd",
   "metadata": {},
   "source": [
    "## [1] Load the model & Parameter Selection"
   ]
  },
  {
   "cell_type": "code",
   "execution_count": 2,
   "id": "0bd8c0bf",
   "metadata": {},
   "outputs": [],
   "source": [
    "opt = config.VAE_fmnist\n",
    "netE, netG = load_pretrained_VAE(option=opt.train_dist, num=1, ngf=32, nz=100, beta=1, augment='hflip', epoch=100)\n",
    "netE.eval()\n",
    "netG.eval()\n",
    "modules = [] # Write the name of modules you want to see"
   ]
  },
  {
   "cell_type": "markdown",
   "id": "b0131716-fe6d-4b7c-a362-39bc11f9321b",
   "metadata": {},
   "source": [
    "## [2] Compute ROSE via EKFAC"
   ]
  },
  {
   "cell_type": "code",
   "execution_count": 3,
   "id": "4f3cb0d6-402c-489a-abe1-8a6fb1355455",
   "metadata": {},
   "outputs": [
    {
     "name": "stderr",
     "output_type": "stream",
     "text": [
      "Calculate A, B:   0%|                                                                                                                                                                                                                           | 0/60000 [00:00<?, ?step/s]"
     ]
    },
    {
     "name": "stdout",
     "output_type": "stream",
     "text": [
      "(0): Conv2d(128, 100, kernel_size=(4, 4), stride=(1, 1))\n",
      "(1): Conv2d(128, 100, kernel_size=(4, 4), stride=(1, 1))\n",
      "(2): Conv2d(1, 32, kernel_size=(4, 4), stride=(2, 2), padding=(1, 1), bias=False)\n",
      "(3): Conv2d(32, 64, kernel_size=(4, 4), stride=(2, 2), padding=(1, 1), bias=False)\n",
      "(4): Conv2d(64, 128, kernel_size=(4, 4), stride=(2, 2), padding=(1, 1), bias=False)\n"
     ]
    },
    {
     "name": "stderr",
     "output_type": "stream",
     "text": [
      "C:\\Users\\shinypond\\.conda\\envs\\torch\\lib\\site-packages\\torch\\nn\\modules\\module.py:795: UserWarning: Using a non-full backward hook when the forward contains multiple autograd Nodes is deprecated and will be removed in future versions. This hook will be missing some grad_input. Please use register_full_backward_hook to get the documented behavior.\n",
      "  warnings.warn(\"Using a non-full backward hook when the forward contains multiple autograd Nodes \"\n",
      "Calculate A, B:   0%|                                                                                                                                                                                                                 | 9/60000 [00:01<3:12:52,  5.18step/s]\n",
      "Calculate Fisher Inverse:   0%|                                                                                                                                                                                                        | 9/60000 [00:00<07:05, 141.00step/s]\n",
      "Calculate Score of fmnist(train):   0%|                                                                                                                                                                                                | 9/60000 [00:00<07:45, 128.91step/s]\n",
      "Calculate Score of fmnist:  50%|█████████████████████████████████████████████████████████████████████████████████████████████████▉                                                                                                  | 4999/10000 [00:32<00:32, 153.76step/s]\n"
     ]
    },
    {
     "name": "stdout",
     "output_type": "stream",
     "text": [
      "Average Inference Time : 0.006507169399999999 seconds\n",
      "Average #Images Processed : 153.67665086450648 Images\n",
      "fmnist/fmnist 0.5\n",
      "Using downloaded and verified file: ../data\\test_32x32.mat\n"
     ]
    },
    {
     "name": "stderr",
     "output_type": "stream",
     "text": [
      "Calculate Score of svhn:   0%|                                                                                                                                                                                                                  | 0/26032 [00:00<?, ?step/s]C:\\Users\\shinypond\\.conda\\envs\\torch\\lib\\site-packages\\torch\\nn\\modules\\module.py:795: UserWarning: Using a non-full backward hook when the forward contains multiple autograd Nodes is deprecated and will be removed in future versions. This hook will be missing some grad_input. Please use register_full_backward_hook to get the documented behavior.\n",
      "  warnings.warn(\"Using a non-full backward hook when the forward contains multiple autograd Nodes \"\n",
      "Calculate Score of svhn:  19%|██████████████████████████████████████                                                                                                                                                                | 4999/26032 [00:32<02:17, 153.31step/s]\n",
      "Calculate Score of celeba:   0%|                                                                                                                                                                                                                | 0/19141 [00:00<?, ?step/s]C:\\Users\\shinypond\\.conda\\envs\\torch\\lib\\site-packages\\torch\\nn\\modules\\module.py:795: UserWarning: Using a non-full backward hook when the forward contains multiple autograd Nodes is deprecated and will be removed in future versions. This hook will be missing some grad_input. Please use register_full_backward_hook to get the documented behavior.\n",
      "  warnings.warn(\"Using a non-full backward hook when the forward contains multiple autograd Nodes \"\n",
      "Calculate Score of celeba:   0%|▏                                                                                                                                                                                                     | 13/19141 [00:00<02:36, 122.58step/s]"
     ]
    },
    {
     "name": "stdout",
     "output_type": "stream",
     "text": [
      "fmnist/svhn 0.86070914\n"
     ]
    },
    {
     "name": "stderr",
     "output_type": "stream",
     "text": [
      "Calculate Score of celeba:  26%|███████████████████████████████████████████████████▏                                                                                                                                                | 4999/19141 [00:39<01:50, 127.82step/s]\n",
      "Calculate Score of lsun:   0%|                                                                                                                                                                                                                  | 0/10000 [00:00<?, ?step/s]C:\\Users\\shinypond\\.conda\\envs\\torch\\lib\\site-packages\\torch\\nn\\modules\\module.py:795: UserWarning: Using a non-full backward hook when the forward contains multiple autograd Nodes is deprecated and will be removed in future versions. This hook will be missing some grad_input. Please use register_full_backward_hook to get the documented behavior.\n",
      "  warnings.warn(\"Using a non-full backward hook when the forward contains multiple autograd Nodes \"\n",
      "Calculate Score of lsun:   0%|▏                                                                                                                                                                                                       | 12/10000 [00:00<01:30, 110.50step/s]"
     ]
    },
    {
     "name": "stdout",
     "output_type": "stream",
     "text": [
      "fmnist/celeba 0.8478572\n"
     ]
    },
    {
     "name": "stderr",
     "output_type": "stream",
     "text": [
      "Calculate Score of lsun:  50%|██████████████████████████████████████████████████████████████████████████████████████████████████▉                                                                                                   | 4999/10000 [00:42<00:42, 116.46step/s]\n"
     ]
    },
    {
     "name": "stdout",
     "output_type": "stream",
     "text": [
      "fmnist/lsun 0.8039178600000001\n",
      "Files already downloaded and verified\n"
     ]
    },
    {
     "name": "stderr",
     "output_type": "stream",
     "text": [
      "Calculate Score of cifar10:   0%|                                                                                                                                                                                                               | 0/10000 [00:00<?, ?step/s]C:\\Users\\shinypond\\.conda\\envs\\torch\\lib\\site-packages\\torch\\nn\\modules\\module.py:795: UserWarning: Using a non-full backward hook when the forward contains multiple autograd Nodes is deprecated and will be removed in future versions. This hook will be missing some grad_input. Please use register_full_backward_hook to get the documented behavior.\n",
      "  warnings.warn(\"Using a non-full backward hook when the forward contains multiple autograd Nodes \"\n",
      "Calculate Score of cifar10:  50%|█████████████████████████████████████████████████████████████████████████████████████████████████▍                                                                                                 | 4999/10000 [00:32<00:32, 152.75step/s]\n",
      "Calculate Score of mnist:   0%|                                                                                                                                                                                                                 | 0/10000 [00:00<?, ?step/s]C:\\Users\\shinypond\\.conda\\envs\\torch\\lib\\site-packages\\torch\\nn\\modules\\module.py:795: UserWarning: Using a non-full backward hook when the forward contains multiple autograd Nodes is deprecated and will be removed in future versions. This hook will be missing some grad_input. Please use register_full_backward_hook to get the documented behavior.\n",
      "  warnings.warn(\"Using a non-full backward hook when the forward contains multiple autograd Nodes \"\n",
      "Calculate Score of mnist:   0%|▎                                                                                                                                                                                                      | 16/10000 [00:00<01:05, 151.35step/s]"
     ]
    },
    {
     "name": "stdout",
     "output_type": "stream",
     "text": [
      "fmnist/cifar10 0.79301164\n"
     ]
    },
    {
     "name": "stderr",
     "output_type": "stream",
     "text": [
      "Calculate Score of mnist:  50%|██████████████████████████████████████████████████████████████████████████████████████████████████▍                                                                                                  | 4999/10000 [00:32<00:32, 153.33step/s]\n",
      "Calculate Score of kmnist:   0%|                                                                                                                                                                                                                | 0/10000 [00:00<?, ?step/s]C:\\Users\\shinypond\\.conda\\envs\\torch\\lib\\site-packages\\torch\\nn\\modules\\module.py:795: UserWarning: Using a non-full backward hook when the forward contains multiple autograd Nodes is deprecated and will be removed in future versions. This hook will be missing some grad_input. Please use register_full_backward_hook to get the documented behavior.\n",
      "  warnings.warn(\"Using a non-full backward hook when the forward contains multiple autograd Nodes \"\n",
      "Calculate Score of kmnist:   0%|▎                                                                                                                                                                                                     | 16/10000 [00:00<01:05, 152.74step/s]"
     ]
    },
    {
     "name": "stdout",
     "output_type": "stream",
     "text": [
      "fmnist/mnist 0.78559516\n"
     ]
    },
    {
     "name": "stderr",
     "output_type": "stream",
     "text": [
      "Calculate Score of kmnist:  50%|█████████████████████████████████████████████████████████████████████████████████████████████████▉                                                                                                  | 4999/10000 [00:32<00:32, 154.38step/s]\n"
     ]
    },
    {
     "name": "stdout",
     "output_type": "stream",
     "text": [
      "fmnist/kmnist 0.81641324\n",
      "Files already downloaded and verified\n"
     ]
    },
    {
     "name": "stderr",
     "output_type": "stream",
     "text": [
      "Calculate Score of omniglot:   0%|                                                                                                                                                                                                              | 0/13180 [00:00<?, ?step/s]C:\\Users\\shinypond\\.conda\\envs\\torch\\lib\\site-packages\\torch\\nn\\modules\\module.py:795: UserWarning: Using a non-full backward hook when the forward contains multiple autograd Nodes is deprecated and will be removed in future versions. This hook will be missing some grad_input. Please use register_full_backward_hook to get the documented behavior.\n",
      "  warnings.warn(\"Using a non-full backward hook when the forward contains multiple autograd Nodes \"\n",
      "Calculate Score of omniglot:  38%|█████████████████████████████████████████████████████████████████████████▌                                                                                                                        | 4999/13180 [00:36<00:59, 137.41step/s]\n",
      "Calculate Score of notmnist:   0%|                                                                                                                                                                                                              | 0/18724 [00:00<?, ?step/s]C:\\Users\\shinypond\\.conda\\envs\\torch\\lib\\site-packages\\torch\\nn\\modules\\module.py:795: UserWarning: Using a non-full backward hook when the forward contains multiple autograd Nodes is deprecated and will be removed in future versions. This hook will be missing some grad_input. Please use register_full_backward_hook to get the documented behavior.\n",
      "  warnings.warn(\"Using a non-full backward hook when the forward contains multiple autograd Nodes \"\n",
      "Calculate Score of notmnist:   0%|▏                                                                                                                                                                                                   | 14/18724 [00:00<02:19, 134.30step/s]"
     ]
    },
    {
     "name": "stdout",
     "output_type": "stream",
     "text": [
      "fmnist/omniglot 0.99999856\n"
     ]
    },
    {
     "name": "stderr",
     "output_type": "stream",
     "text": [
      "Calculate Score of notmnist:  27%|███████████████████████████████████████████████████▊                                                                                                                                              | 4999/18724 [00:36<01:40, 136.82step/s]\n",
      "Calculate Score of noise:   0%|                                                                                                                                                                                                                 | 0/10000 [00:00<?, ?step/s]C:\\Users\\shinypond\\.conda\\envs\\torch\\lib\\site-packages\\torch\\nn\\modules\\module.py:795: UserWarning: Using a non-full backward hook when the forward contains multiple autograd Nodes is deprecated and will be removed in future versions. This hook will be missing some grad_input. Please use register_full_backward_hook to get the documented behavior.\n",
      "  warnings.warn(\"Using a non-full backward hook when the forward contains multiple autograd Nodes \"\n",
      "Calculate Score of noise:   0%|▎                                                                                                                                                                                                      | 15/10000 [00:00<01:09, 144.58step/s]"
     ]
    },
    {
     "name": "stdout",
     "output_type": "stream",
     "text": [
      "fmnist/notmnist 0.9804207199999999\n"
     ]
    },
    {
     "name": "stderr",
     "output_type": "stream",
     "text": [
      "Calculate Score of noise:  50%|██████████████████████████████████████████████████████████████████████████████████████████████████▍                                                                                                  | 4999/10000 [00:32<00:32, 155.67step/s]\n",
      "Calculate Score of constant:   0%|                                                                                                                                                                                                              | 0/10000 [00:00<?, ?step/s]C:\\Users\\shinypond\\.conda\\envs\\torch\\lib\\site-packages\\torch\\nn\\modules\\module.py:795: UserWarning: Using a non-full backward hook when the forward contains multiple autograd Nodes is deprecated and will be removed in future versions. This hook will be missing some grad_input. Please use register_full_backward_hook to get the documented behavior.\n",
      "  warnings.warn(\"Using a non-full backward hook when the forward contains multiple autograd Nodes \"\n",
      "Calculate Score of constant:   0%|▎                                                                                                                                                                                                   | 16/10000 [00:00<01:03, 156.79step/s]"
     ]
    },
    {
     "name": "stdout",
     "output_type": "stream",
     "text": [
      "fmnist/noise 0.39719102\n"
     ]
    },
    {
     "name": "stderr",
     "output_type": "stream",
     "text": [
      "Calculate Score of constant:  50%|████████████████████████████████████████████████████████████████████████████████████████████████▉                                                                                                 | 4999/10000 [00:32<00:32, 155.77step/s]\n",
      "Calculate Score of overall:   0%|                                                                                                                                                                                                               | 0/10000 [00:00<?, ?step/s]C:\\Users\\shinypond\\.conda\\envs\\torch\\lib\\site-packages\\torch\\nn\\modules\\module.py:795: UserWarning: Using a non-full backward hook when the forward contains multiple autograd Nodes is deprecated and will be removed in future versions. This hook will be missing some grad_input. Please use register_full_backward_hook to get the documented behavior.\n",
      "  warnings.warn(\"Using a non-full backward hook when the forward contains multiple autograd Nodes \"\n",
      "Calculate Score of overall:   0%|▎                                                                                                                                                                                                    | 14/10000 [00:00<01:15, 132.36step/s]"
     ]
    },
    {
     "name": "stdout",
     "output_type": "stream",
     "text": [
      "fmnist/constant 0.89083464\n"
     ]
    },
    {
     "name": "stderr",
     "output_type": "stream",
     "text": [
      "Calculate Score of overall:  50%|█████████████████████████████████████████████████████████████████████████████████████████████████▍                                                                                                 | 4999/10000 [00:36<00:36, 135.45step/s]"
     ]
    },
    {
     "name": "stdout",
     "output_type": "stream",
     "text": [
      "fmnist/overall 0.81548312\n"
     ]
    },
    {
     "name": "stderr",
     "output_type": "stream",
     "text": [
      "\n"
     ]
    },
    {
     "data": {
      "text/plain": [
       "{'fmnist': 0.5,\n",
       " 'svhn': 0.86070914,\n",
       " 'celeba': 0.8478572,\n",
       " 'lsun': 0.8039178600000001,\n",
       " 'cifar10': 0.79301164,\n",
       " 'mnist': 0.78559516,\n",
       " 'kmnist': 0.81641324,\n",
       " 'omniglot': 0.99999856,\n",
       " 'notmnist': 0.9804207199999999,\n",
       " 'noise': 0.39719102,\n",
       " 'constant': 0.89083464,\n",
       " 'overall': 0.81548312}"
      ]
     },
     "execution_count": 3,
     "metadata": {},
     "output_type": "execute_result"
    }
   ],
   "source": [
    "method = 'ekfac(max)'\n",
    "auroc = {}\n",
    "SCOREs = {}\n",
    "\n",
    "U_A, U_B, S, mean, std = Calculate_fisher_VAE_ekfac(netE, netG, opt, select_modules=modules, max_iter=10)\n",
    "\n",
    "for ood in opt.ood_list:\n",
    "    score = Calculate_score_VAE_ekfac(netE, netG, opt, U_A, U_B, S, ood, max_iter=5000)\n",
    "    temp = []\n",
    "    for name in score.keys():\n",
    "        a = np.array(score[name])\n",
    "        a = (a - mean[name]) / std[name]  \n",
    "        #a /= std[name]  \n",
    "        temp.append(a) \n",
    "        #plt.figure()\n",
    "        #plt.title(f'{opt.train_dist}_{ood}_{name}')\n",
    "        #plt.hist(a, bins=100)\n",
    "        #plt.show()\n",
    "    score = np.max(np.concatenate(temp, 1), 1)\n",
    "    SCOREs[ood] = score\n",
    "    args = [SCOREs[opt.train_dist], SCOREs[ood]]\n",
    "    labels = [opt.train_dist, ood]\n",
    "    auroc[ood] = AUROC(*args, labels=labels, verbose=False)\n",
    "    print(f'{opt.train_dist}/{ood} {auroc[ood]}')\n",
    "auroc\n",
    "    "
   ]
  },
  {
   "cell_type": "code",
   "execution_count": null,
   "id": "5a8b76d4-6a57-4129-8ad2-83c5a4253069",
   "metadata": {},
   "outputs": [],
   "source": [
    "# Sampling Robustness (Overall AUROC)\n",
    "\n",
    "Sampling['fmnist'] = {\n",
    "    '10': 0.815,\n",
    "    '50': ,\n",
    "    '100': ,\n",
    "    '500': ,\n",
    "    '1000': ,\n",
    "    '5000': ,\n",
    "    '10000': ,\n",
    "}\n",
    "\n",
    "Sampling['cifar10'] = {\n",
    "    '10': 0.815,\n",
    "    '50': ,\n",
    "    '100': ,\n",
    "    '500': ,\n",
    "    '1000': ,\n",
    "    '5000': ,\n",
    "    '10000': ,\n",
    "}"
   ]
  },
  {
   "cell_type": "markdown",
   "id": "f30876e8-51d5-429f-8b14-03fcc9357559",
   "metadata": {},
   "source": [
    "## [3] Save the result score (see the directory npy/ROSE)"
   ]
  },
  {
   "cell_type": "code",
   "execution_count": 7,
   "id": "aca0743a-9061-4eb8-b911-74e302178936",
   "metadata": {},
   "outputs": [],
   "source": [
    "for ood in opt.ood_list:\n",
    "    score_path = f'./npy/ROSE/VAE_{opt.train_dist}/{opt.train_dist}_{ood}_{method}.npy'\n",
    "    np.save(score_path, SCOREs[ood])"
   ]
  },
  {
   "cell_type": "markdown",
   "id": "4b3c25e9-94bc-414c-9462-aa54b89204ae",
   "metadata": {},
   "source": [
    "## [4] View scores for each layer"
   ]
  },
  {
   "cell_type": "code",
   "execution_count": 8,
   "id": "6ee154ea",
   "metadata": {},
   "outputs": [],
   "source": [
    "# Just show scores\n",
    "# plot_scores_all_layers(train_dist, params, SCOREs, opt, save=True)\n"
   ]
  },
  {
   "cell_type": "markdown",
   "id": "b60775fa-ac43-44b0-8a02-47b20d53073f",
   "metadata": {},
   "source": [
    "## [5] Check the reconstruction ability of VAE"
   ]
  },
  {
   "cell_type": "code",
   "execution_count": 9,
   "id": "c1db0ce5-633e-4439-b0a0-1b8f58ccebcc",
   "metadata": {},
   "outputs": [
    {
     "name": "stdout",
     "output_type": "stream",
     "text": [
      "Files already downloaded and verified\n"
     ]
    },
    {
     "data": {
      "image/png": "[encoded data removed]",
      "text/plain": [
       "<Figure size 432x288 with 1 Axes>"
      ]
     },
     "metadata": {
      "needs_background": "light"
     },
     "output_type": "display_data"
    },
    {
     "data": {
      "image/png": "[encoded data removed]",
      "text/plain": [
       "<Figure size 432x288 with 1 Axes>"
      ]
     },
     "metadata": {
      "needs_background": "light"
     },
     "output_type": "display_data"
    }
   ],
   "source": [
    "# Check the ability of reconstruction\n",
    "loader = TEST_loader('cifar10', 'cifar10')\n",
    "for i,(x,_) in enumerate(loader):\n",
    "    z, mu, logvar = netE(x.cuda())\n",
    "    y = netG(z)\n",
    "    plt.figure()\n",
    "    plt.imshow(x[0].permute(1, 2, 0).detach().cpu())\n",
    "    plt.show()\n",
    "    plt.figure()\n",
    "    plt.imshow(torch.argmax(y, 4)[0].permute(1, 2, 0).detach().cpu())\n",
    "    plt.show()\n",
    "    if i == 0:\n",
    "        break"
   ]
  },
  {
   "cell_type": "code",
   "execution_count": null,
   "id": "745bf7e9-ae02-4bf6-b1a6-60c61a688e7d",
   "metadata": {},
   "outputs": [],
   "source": []
  },
  {
   "cell_type": "code",
   "execution_count": null,
   "id": "0369ae21",
   "metadata": {},
   "outputs": [],
   "source": []
  }
 ],
 "metadata": {
  "kernelspec": {
   "display_name": "torch",
   "language": "python",
   "name": "torch"
  },
  "language_info": {
   "codemirror_mode": {
    "name": "ipython",
    "version": 3
   },
   "file_extension": ".py",
   "mimetype": "text/x-python",
   "name": "python",
   "nbconvert_exporter": "python",
   "pygments_lexer": "ipython3",
   "version": "3.8.10"
  }
 },
 "nbformat": 4,
 "nbformat_minor": 5
}
