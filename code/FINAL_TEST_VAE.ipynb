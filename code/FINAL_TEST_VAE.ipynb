{
 "cells": [
  {
   "cell_type": "markdown",
   "id": "a89f01d4",
   "metadata": {},
   "source": [
    "# [ VAE ] OOD Detection using FSS"
   ]
  },
  {
   "cell_type": "code",
   "execution_count": 1,
   "id": "3dc001a3",
   "metadata": {},
   "outputs": [
    {
     "data": {
      "text/plain": [
       "<torch._C.Generator at 0x7fc17427b050>"
      ]
     },
     "execution_count": 1,
     "metadata": {},
     "output_type": "execute_result"
    }
   ],
   "source": [
    "%load_ext autoreload\n",
    "%autoreload 2\n",
    "import os\n",
    "import sys\n",
    "sys.path.append(os.getcwd() + '/core')\n",
    "sys.path.append(os.getcwd() + '/core/train_GLOW') \n",
    "import numpy as np\n",
    "import pandas as pd\n",
    "import random\n",
    "import matplotlib.pyplot as plt\n",
    "import torch\n",
    "import torch.nn as nn\n",
    "\n",
    "import core.config as config\n",
    "from core.model_loader import load_pretrained_VAE\n",
    "from core.data_loader import TRAIN_loader, TEST_loader\n",
    "from core.custom_loss import KL_div, VAE_loss_pixel\n",
    "from core.fisher_utils_VAE import Calculate_fisher_VAE, Calculate_score_VAE, AUTO_VAE, Calculate_fisher_VAE_ekfac, Calculate_score_VAE_ekfac\n",
    "from core.visualize import plot_hist, AUROC, plot_scores_all_layers\n",
    "\n",
    "# fix a random seed\n",
    "random.seed(2021)\n",
    "np.random.seed(2021)\n",
    "torch.manual_seed(2021)"
   ]
  },
  {
   "cell_type": "markdown",
   "id": "1c77b7b4",
   "metadata": {},
   "source": [
    "# Define Global Variables & Initialize"
   ]
  },
  {
   "cell_type": "code",
   "execution_count": 18,
   "id": "83d7d06a-baf0-4f8e-a3a7-01a475fd3ce1",
   "metadata": {},
   "outputs": [
    {
     "name": "stdout",
     "output_type": "stream",
     "text": [
      "Files already downloaded and verified\n"
     ]
    },
    {
     "data": {
      "image/png": "[encoded data removed]",
      "text/plain": [
       "<Figure size 432x288 with 1 Axes>"
      ]
     },
     "metadata": {
      "needs_background": "light"
     },
     "output_type": "display_data"
    },
    {
     "name": "stdout",
     "output_type": "stream",
     "text": [
      "Files already downloaded and verified\n"
     ]
    },
    {
     "data": {
      "image/png": "[encoded data removed]",
      "text/plain": [
       "<Figure size 432x288 with 1 Axes>"
      ]
     },
     "metadata": {
      "needs_background": "light"
     },
     "output_type": "display_data"
    }
   ],
   "source": [
    "torch.manual_seed(2021)\n",
    "random.seed(2021)\n",
    "dataloader = TRAIN_loader(option=opt.train_dist, is_glow=False, batch_size=1)\n",
    "for i, x in enumerate(dataloader):\n",
    "    try:\n",
    "        x, _ = x\n",
    "    except:\n",
    "        pass\n",
    "    plt.figure()\n",
    "    plt.imshow(x[0].permute(1, 2, 0))\n",
    "    plt.show()\n",
    "    \n",
    "    if i >= 0:\n",
    "        break\n",
    "        \n",
    "torch.manual_seed(2021)\n",
    "random.seed(2021)\n",
    "dataloader = TRAIN_loader(option=opt.train_dist, is_glow=False, batch_size=1)\n",
    "for i, x in enumerate(dataloader):\n",
    "    try:\n",
    "        x, _ = x\n",
    "    except:\n",
    "        pass\n",
    "    plt.figure()\n",
    "    plt.imshow(x[0].permute(1, 2, 0))\n",
    "    plt.show()\n",
    "    \n",
    "    if i >= 0:\n",
    "        break"
   ]
  },
  {
   "cell_type": "code",
   "execution_count": 2,
   "id": "fcfa3835",
   "metadata": {},
   "outputs": [],
   "source": [
    "# FISHER_invs : Fisher inverse matrices from calculating Fisher score (w.r.t. train-dist)\n",
    "FISHERs = {'cifar10': {}, 'fmnist': {}}\n",
    "         \n",
    "# NORMalize_FACtors : Normalizing Factor (w.r.t. train-dist)\n",
    "NORM_FACs = {'cifar10': {}, 'fmnist': {}}\n",
    "             \n",
    "# SCOREs : (Scalars) Scores from calculating Fisher score (w.r.t. target-dist)\n",
    "SCOREs = {'cifar10': {}, 'fmnist': {}}\n"
   ]
  },
  {
   "cell_type": "markdown",
   "id": "ea096942",
   "metadata": {},
   "source": [
    "# VAE - CIFAR10 & FMNIST"
   ]
  },
  {
   "cell_type": "markdown",
   "id": "55cb9927-da7f-41ce-a700-053ea6e71fcd",
   "metadata": {},
   "source": [
    "## [1] Load the model & Parameter Selection"
   ]
  },
  {
   "cell_type": "code",
   "execution_count": 2,
   "id": "0bd8c0bf",
   "metadata": {},
   "outputs": [],
   "source": [
    "opt = config.VAE_cifar10\n",
    "netE, netG = load_pretrained_VAE(option=opt.train_dist, ngf=64, nz=200, beta=1, augment='hflip', epoch=100)\n",
    "netE.eval()\n",
    "netG.eval()\n",
    "\n",
    "params = {\n",
    "    #'Emain0_w': netE.main[0].weight,\n",
    "    #'Emain1_w': netE.main[1].weight,\n",
    "    #'Emain1_b': netE.main[1].bias,\n",
    "    #'Emain3_w': netE.main[3].weight,\n",
    "    #'Emain4_w': netE.main[4].weight,\n",
    "    #'Emain4_b': netE.main[4].bias,\n",
    "    #'Emain6_w': netE.main[6].weight,\n",
    "    #'Emain7_w': netE.main[7].weight,\n",
    "    #'Emain7_b': netE.main[7].bias,\n",
    "    'Econv1_w': netE.conv1.weight,\n",
    "    #'Econv1_b': netE.conv1.bias,\n",
    "    #'Econv2_w': netE.conv2.weight,\n",
    "    #'Econv2_b': netE.conv2.bias,\n",
    "    #'Gmain0_w': netG.main[0].weight,\n",
    "    #'Gmain1_w': netG.main[1].weight,\n",
    "    #'Gmain1_b': netG.main[1].bias,\n",
    "    #'Gmain3_w': netG.main[3].weight,\n",
    "    #'Gmain4_w': netG.main[4].weight,\n",
    "    #'Gmain4_b': netG.main[4].bias,\n",
    "    #'Gmain6_w': netG.main[6].weight,\n",
    "    #'Gmain7_w': netG.main[7].weight,\n",
    "    #'Gmain7_b': netG.main[7].bias,\n",
    "    #'Gmain9_w': netG.main[9].weight,\n",
    "}\n"
   ]
  },
  {
   "cell_type": "markdown",
   "id": "b0131716-fe6d-4b7c-a362-39bc11f9321b",
   "metadata": {},
   "source": [
    "## [2] Compute ROSE via EKFAC"
   ]
  },
  {
   "cell_type": "code",
   "execution_count": 4,
   "id": "2761f532-3c6d-4f0f-bc48-e212e35a084a",
   "metadata": {},
   "outputs": [
    {
     "name": "stdout",
     "output_type": "stream",
     "text": [
      "Files already downloaded and verified\n"
     ]
    },
    {
     "name": "stderr",
     "output_type": "stream",
     "text": [
      "Calculate A, B:   0%|          | 0/50000 [00:00<?, ?step/s]/home/shinypond/anaconda3/envs/ycy/lib/python3.7/site-packages/torch/nn/modules/module.py:795: UserWarning: Using a non-full backward hook when the forward contains multiple autograd Nodes is deprecated and will be removed in future versions. This hook will be missing some grad_input. Please use register_full_backward_hook to get the documented behavior.\n",
      "  warnings.warn(\"Using a non-full backward hook when the forward contains multiple autograd Nodes \"\n",
      "Calculate A, B:  20%|█▉        | 9999/50000 [01:02<04:09, 160.64step/s]\n",
      "Calculate Fisher VAE by EKFAC:  20%|█▉        | 9999/50000 [01:18<05:15, 126.75step/s]\n",
      "Calculate Fisher VAE by EKFAC:  29%|██▉       | 14512/50000 [02:03<05:03, 117.10step/s]\n"
     ]
    },
    {
     "ename": "KeyboardInterrupt",
     "evalue": "",
     "output_type": "error",
     "traceback": [
      "\u001b[0;31m---------------------------------------------------------------------------\u001b[0m",
      "\u001b[0;31mKeyboardInterrupt\u001b[0m                         Traceback (most recent call last)",
      "\u001b[0;32m<ipython-input-4-995b21f9c46f>\u001b[0m in \u001b[0;36m<module>\u001b[0;34m\u001b[0m\n\u001b[1;32m      3\u001b[0m \u001b[0mSCOREs\u001b[0m \u001b[0;34m=\u001b[0m \u001b[0;34m{\u001b[0m\u001b[0;34m}\u001b[0m\u001b[0;34m\u001b[0m\u001b[0;34m\u001b[0m\u001b[0m\n\u001b[1;32m      4\u001b[0m \u001b[0mtrainloader\u001b[0m \u001b[0;34m=\u001b[0m \u001b[0mTRAIN_loader\u001b[0m\u001b[0;34m(\u001b[0m\u001b[0mopt\u001b[0m\u001b[0;34m.\u001b[0m\u001b[0mtrain_dist\u001b[0m\u001b[0;34m,\u001b[0m \u001b[0mshuffle\u001b[0m\u001b[0;34m=\u001b[0m\u001b[0;32mTrue\u001b[0m\u001b[0;34m)\u001b[0m\u001b[0;34m\u001b[0m\u001b[0;34m\u001b[0m\u001b[0m\n\u001b[0;32m----> 5\u001b[0;31m \u001b[0mU_A\u001b[0m\u001b[0;34m,\u001b[0m \u001b[0mU_B\u001b[0m\u001b[0;34m,\u001b[0m \u001b[0mS\u001b[0m\u001b[0;34m,\u001b[0m \u001b[0mmean\u001b[0m\u001b[0;34m,\u001b[0m \u001b[0mstd\u001b[0m \u001b[0;34m=\u001b[0m \u001b[0mCalculate_fisher_VAE_ekfac\u001b[0m\u001b[0;34m(\u001b[0m\u001b[0mnetE\u001b[0m\u001b[0;34m,\u001b[0m \u001b[0mnetG\u001b[0m\u001b[0;34m,\u001b[0m \u001b[0mtrainloader\u001b[0m\u001b[0;34m,\u001b[0m \u001b[0mparams\u001b[0m\u001b[0;34m,\u001b[0m \u001b[0mopt\u001b[0m\u001b[0;34m,\u001b[0m \u001b[0mmax_iter\u001b[0m\u001b[0;34m=\u001b[0m\u001b[0;36m10000\u001b[0m\u001b[0;34m)\u001b[0m\u001b[0;34m\u001b[0m\u001b[0;34m\u001b[0m\u001b[0m\n\u001b[0m\u001b[1;32m      6\u001b[0m \u001b[0;34m\u001b[0m\u001b[0m\n\u001b[1;32m      7\u001b[0m \u001b[0;32mfor\u001b[0m \u001b[0mood\u001b[0m \u001b[0;32min\u001b[0m \u001b[0mopt\u001b[0m\u001b[0;34m.\u001b[0m\u001b[0mood_list\u001b[0m\u001b[0;34m:\u001b[0m\u001b[0;34m\u001b[0m\u001b[0;34m\u001b[0m\u001b[0m\n",
      "\u001b[0;32m~/codes/ood_detection/code/core/fisher_utils_VAE.py\u001b[0m in \u001b[0;36mCalculate_fisher_VAE_ekfac\u001b[0;34m(netE, netG, dataloader, params, opt, max_iter, loss_type)\u001b[0m\n\u001b[1;32m    172\u001b[0m                 \u001b[0mtemp\u001b[0m \u001b[0;34m=\u001b[0m \u001b[0mtorch\u001b[0m\u001b[0;34m.\u001b[0m\u001b[0mmm\u001b[0m\u001b[0;34m(\u001b[0m\u001b[0mtorch\u001b[0m\u001b[0;34m.\u001b[0m\u001b[0mmm\u001b[0m\u001b[0;34m(\u001b[0m\u001b[0mU_B\u001b[0m\u001b[0;34m[\u001b[0m\u001b[0mname\u001b[0m\u001b[0;34m]\u001b[0m\u001b[0;34m.\u001b[0m\u001b[0mT\u001b[0m\u001b[0;34m,\u001b[0m \u001b[0mGRAD\u001b[0m\u001b[0;34m)\u001b[0m\u001b[0;34m,\u001b[0m \u001b[0mU_A\u001b[0m\u001b[0;34m[\u001b[0m\u001b[0mname\u001b[0m\u001b[0;34m]\u001b[0m\u001b[0;34m)\u001b[0m\u001b[0;34m.\u001b[0m\u001b[0mview\u001b[0m\u001b[0;34m(\u001b[0m\u001b[0;34m-\u001b[0m\u001b[0;36m1\u001b[0m\u001b[0;34m,\u001b[0m \u001b[0;36m1\u001b[0m\u001b[0;34m)\u001b[0m\u001b[0;34m\u001b[0m\u001b[0;34m\u001b[0m\u001b[0m\n\u001b[1;32m    173\u001b[0m                 \u001b[0ms\u001b[0m \u001b[0;34m=\u001b[0m \u001b[0mtemp\u001b[0m \u001b[0;34m/\u001b[0m \u001b[0;34m(\u001b[0m\u001b[0mS\u001b[0m\u001b[0;34m[\u001b[0m\u001b[0mname\u001b[0m\u001b[0;34m]\u001b[0m\u001b[0;34m.\u001b[0m\u001b[0mview\u001b[0m\u001b[0;34m(\u001b[0m\u001b[0;34m-\u001b[0m\u001b[0;36m1\u001b[0m\u001b[0;34m,\u001b[0m \u001b[0;36m1\u001b[0m\u001b[0;34m)\u001b[0m \u001b[0;34m+\u001b[0m \u001b[0;36m1e-8\u001b[0m\u001b[0;34m)\u001b[0m\u001b[0;34m\u001b[0m\u001b[0;34m\u001b[0m\u001b[0m\n\u001b[0;32m--> 174\u001b[0;31m                 \u001b[0ms\u001b[0m \u001b[0;34m=\u001b[0m \u001b[0mtorch\u001b[0m\u001b[0;34m.\u001b[0m\u001b[0mmm\u001b[0m\u001b[0;34m(\u001b[0m\u001b[0mtemp\u001b[0m\u001b[0;34m.\u001b[0m\u001b[0mT\u001b[0m\u001b[0;34m,\u001b[0m \u001b[0ms\u001b[0m\u001b[0;34m)\u001b[0m\u001b[0;34m.\u001b[0m\u001b[0mdetach\u001b[0m\u001b[0;34m(\u001b[0m\u001b[0;34m)\u001b[0m\u001b[0;34m.\u001b[0m\u001b[0mcpu\u001b[0m\u001b[0;34m(\u001b[0m\u001b[0;34m)\u001b[0m\u001b[0;34m.\u001b[0m\u001b[0mnumpy\u001b[0m\u001b[0;34m(\u001b[0m\u001b[0;34m)\u001b[0m\u001b[0;34m.\u001b[0m\u001b[0mreshape\u001b[0m\u001b[0;34m(\u001b[0m\u001b[0;34m-\u001b[0m\u001b[0;36m1\u001b[0m\u001b[0;34m)\u001b[0m\u001b[0;34m\u001b[0m\u001b[0;34m\u001b[0m\u001b[0m\n\u001b[0m\u001b[1;32m    175\u001b[0m \u001b[0;34m\u001b[0m\u001b[0m\n\u001b[1;32m    176\u001b[0m                 \u001b[0;32mif\u001b[0m \u001b[0mname\u001b[0m \u001b[0;32min\u001b[0m \u001b[0mtrain_score\u001b[0m\u001b[0;34m.\u001b[0m\u001b[0mkeys\u001b[0m\u001b[0;34m(\u001b[0m\u001b[0;34m)\u001b[0m\u001b[0;34m:\u001b[0m\u001b[0;34m\u001b[0m\u001b[0;34m\u001b[0m\u001b[0m\n",
      "\u001b[0;31mKeyboardInterrupt\u001b[0m: "
     ]
    }
   ],
   "source": [
    "method = 'ekfac(max)'\n",
    "auroc = {}\n",
    "SCOREs = {}\n",
    "trainloader = TRAIN_loader(opt.train_dist, shuffle=True)\n",
    "U_A, U_B, S, mean, std = Calculate_fisher_VAE_ekfac(netE, netG, trainloader, params, opt, max_iter=10000)\n",
    "\n",
    "for ood in opt.ood_list:\n",
    "    testloader = TEST_loader(opt.train_dist, ood, shuffle=True)\n",
    "    score = Calculate_score_VAE_ekfac(netE, netG, testloader, params, opt, U_A, U_B, S, ood, max_iter=5000)\n",
    "    temp = []\n",
    "    for name in score.keys():\n",
    "        a = np.array(score[name])\n",
    "        #for name2, module in netE.named_modules():\n",
    "        #    if name == name2:\n",
    "        #        k = 0\n",
    "        #        for param in module.parameters():\n",
    "        #            k += np.array(param.shape).prod()\n",
    "        a = (a - mean[name]) / std[name]  \n",
    "        temp.append(a) \n",
    "        plt.figure()\n",
    "        plt.title(f'{opt.train_dist}_{ood}_{name}')\n",
    "        plt.hist(a, bins=100)\n",
    "        plt.show()\n",
    "    score = np.max(np.concatenate(temp, 1), 1)\n",
    "    SCOREs[ood] = score\n",
    "    args = [SCOREs[opt.train_dist], SCOREs[ood]]\n",
    "    labels = [opt.train_dist, ood]\n",
    "    auroc[ood] = AUROC(*args, labels=labels, verbose=False)\n",
    "auroc\n",
    "    "
   ]
  },
  {
   "cell_type": "markdown",
   "id": "f30876e8-51d5-429f-8b14-03fcc9357559",
   "metadata": {},
   "source": [
    "## [3] Save the result score (see the directory npy/ROSE)"
   ]
  },
  {
   "cell_type": "code",
   "execution_count": 5,
   "id": "aca0743a-9061-4eb8-b911-74e302178936",
   "metadata": {},
   "outputs": [],
   "source": [
    "for ood in opt.ood_list:\n",
    "    score_path = f'./npy/ROSE/VAE_{opt.train_dist}/{opt.train_dist}_{ood}_{method}.npy'\n",
    "    np.save(score_path, SCOREs[ood])"
   ]
  },
  {
   "cell_type": "markdown",
   "id": "4b3c25e9-94bc-414c-9462-aa54b89204ae",
   "metadata": {},
   "source": [
    "## [4] View scores for each layer"
   ]
  },
  {
   "cell_type": "code",
   "execution_count": 8,
   "id": "6ee154ea",
   "metadata": {},
   "outputs": [],
   "source": [
    "# Just show scores\n",
    "# plot_scores_all_layers(train_dist, params, SCOREs, opt, save=True)\n"
   ]
  },
  {
   "cell_type": "markdown",
   "id": "b60775fa-ac43-44b0-8a02-47b20d53073f",
   "metadata": {},
   "source": [
    "## [5] Check the reconstruction ability of VAE"
   ]
  },
  {
   "cell_type": "code",
   "execution_count": 9,
   "id": "c1db0ce5-633e-4439-b0a0-1b8f58ccebcc",
   "metadata": {},
   "outputs": [
    {
     "name": "stdout",
     "output_type": "stream",
     "text": [
      "Files already downloaded and verified\n"
     ]
    },
    {
     "data": {
      "image/png": "[encoded data removed]",
      "text/plain": [
       "<Figure size 432x288 with 1 Axes>"
      ]
     },
     "metadata": {
      "needs_background": "light"
     },
     "output_type": "display_data"
    },
    {
     "data": {
      "image/png": "[encoded data removed]",
      "text/plain": [
       "<Figure size 432x288 with 1 Axes>"
      ]
     },
     "metadata": {
      "needs_background": "light"
     },
     "output_type": "display_data"
    }
   ],
   "source": [
    "# Check the ability of reconstruction\n",
    "loader = TEST_loader('cifar10', 'cifar10')\n",
    "for i,(x,_) in enumerate(loader):\n",
    "    z, mu, logvar = netE(x.cuda())\n",
    "    y = netG(z)\n",
    "    plt.figure()\n",
    "    plt.imshow(x[0].permute(1, 2, 0).detach().cpu())\n",
    "    plt.show()\n",
    "    plt.figure()\n",
    "    plt.imshow(torch.argmax(y, 4)[0].permute(1, 2, 0).detach().cpu())\n",
    "    plt.show()\n",
    "    if i == 0:\n",
    "        break"
   ]
  },
  {
   "cell_type": "code",
   "execution_count": null,
   "id": "745bf7e9-ae02-4bf6-b1a6-60c61a688e7d",
   "metadata": {},
   "outputs": [],
   "source": []
  },
  {
   "cell_type": "code",
   "execution_count": null,
   "id": "0369ae21",
   "metadata": {},
   "outputs": [],
   "source": []
  }
 ],
 "metadata": {
  "kernelspec": {
   "display_name": "ycy",
   "language": "python",
   "name": "ycy"
  },
  "language_info": {
   "codemirror_mode": {
    "name": "ipython",
    "version": 3
   },
   "file_extension": ".py",
   "mimetype": "text/x-python",
   "name": "python",
   "nbconvert_exporter": "python",
   "pygments_lexer": "ipython3",
   "version": "3.7.10"
  }
 },
 "nbformat": 4,
 "nbformat_minor": 5
}
