{
 "cells": [
  {
   "cell_type": "markdown",
   "id": "a89f01d4",
   "metadata": {},
   "source": [
    "# [ VAE ] OOD Detection using FSS"
   ]
  },
  {
   "cell_type": "code",
   "execution_count": 1,
   "id": "3dc001a3",
   "metadata": {},
   "outputs": [],
   "source": [
    "%load_ext autoreload\n",
    "%autoreload 2\n",
    "import os\n",
    "import sys\n",
    "sys.path.append(os.getcwd() + '/core')\n",
    "sys.path.append(os.getcwd() + '/core/train_GLOW') \n",
    "import numpy as np\n",
    "import pandas as pd\n",
    "import matplotlib.pyplot as plt\n",
    "import torch\n",
    "import torch.nn as nn\n",
    "\n",
    "import core.config as config\n",
    "from core.model_loader import load_pretrained_VAE\n",
    "from core.data_loader import TRAIN_loader, TEST_loader\n",
    "from core.custom_loss import KL_div, VAE_loss_pixel\n",
    "from core.fisher_utils_VAE import Calculate_fisher_VAE, Calculate_score_VAE, AUTO_VAE\n",
    "from core.visualize import plot_hist, AUROC, plot_scores_all_layers"
   ]
  },
  {
   "cell_type": "markdown",
   "id": "1c77b7b4",
   "metadata": {},
   "source": [
    "# Define Global Variables & Initialize"
   ]
  },
  {
   "cell_type": "code",
   "execution_count": 2,
   "id": "fcfa3835",
   "metadata": {},
   "outputs": [],
   "source": [
    "# FISHER_invs : Fisher inverse matrices from calculating Fisher score (w.r.t. train-dist)\n",
    "FISHERs = {'cifar10': {}, 'fmnist': {}}\n",
    "         \n",
    "# NORMalize_FACtors : Normalizing Factor (w.r.t. train-dist)\n",
    "NORM_FACs = {'cifar10': {}, 'fmnist': {}}\n",
    "             \n",
    "# SCOREs : (Scalars) Scores from calculating Fisher score (w.r.t. target-dist)\n",
    "SCOREs = {'cifar10': {}, 'fmnist': {}}\n"
   ]
  },
  {
   "cell_type": "markdown",
   "id": "ea096942",
   "metadata": {},
   "source": [
    "# VAE-CIFAR10"
   ]
  },
  {
   "cell_type": "code",
   "execution_count": 5,
   "id": "0bd8c0bf",
   "metadata": {},
   "outputs": [],
   "source": [
    "opt = config.VAE_cifar10\n",
    "netE, netG = load_pretrained_VAE(option=opt.train_dist, ngf=64, nz=200, beta=1, augment='hflip', epoch=100)\n",
    "netE.eval()\n",
    "netG.eval()\n",
    "\n",
    "params = {\n",
    "    #'Emain0_w': netE.main[0].weight,\n",
    "    #'Emain1_w': netE.main[1].weight,\n",
    "    #'Emain1_b': netE.main[1].bias,\n",
    "    #'Emain3_w': netE.main[3].weight,\n",
    "    #'Emain4_w': netE.main[4].weight,\n",
    "    #'Emain4_b': netE.main[4].bias,\n",
    "    #'Emain6_w': netE.main[6].weight,\n",
    "    #'Emain7_w': netE.main[7].weight,\n",
    "    #'Emain7_b': netE.main[7].bias,\n",
    "    'Econv1_w': netE.conv1.weight,\n",
    "    #'Econv1_b': netE.conv1.bias,\n",
    "    #'Econv2_w': netE.conv2.weight,\n",
    "    #'Econv2_b': netE.conv2.bias,\n",
    "    #'Gmain0_w': netG.main[0].weight,\n",
    "    #'Gmain1_w': netG.main[1].weight,\n",
    "    #'Gmain1_b': netG.main[1].bias,\n",
    "    #'Gmain3_w': netG.main[3].weight,\n",
    "    #'Gmain4_w': netG.main[4].weight,\n",
    "    #'Gmain4_b': netG.main[4].bias,\n",
    "    #'Gmain6_w': netG.main[6].weight,\n",
    "    #'Gmain7_w': netG.main[7].weight,\n",
    "    #'Gmain7_b': netG.main[7].bias,\n",
    "    #'Gmain9_w': netG.main[9].weight,\n",
    "}\n"
   ]
  },
  {
   "cell_type": "markdown",
   "id": "980eb33d-7c7e-41de-b1be-76cb19319166",
   "metadata": {},
   "source": [
    "# 추가훈련"
   ]
  },
  {
   "cell_type": "code",
   "execution_count": 4,
   "id": "274b2190-ce41-44da-97ba-12623c1cd27e",
   "metadata": {
    "collapsed": true,
    "jupyter": {
     "outputs_hidden": true,
     "source_hidden": true
    },
    "tags": []
   },
   "outputs": [
    {
     "name": "stdout",
     "output_type": "stream",
     "text": [
      "Files already downloaded and verified\n"
     ]
    },
    {
     "name": "stderr",
     "output_type": "stream",
     "text": [
      "100%|████████████████████████████████████████████████████████████████████████████████| 782/782 [00:16<00:00, 48.87it/s]\n",
      "  0%|                                                                                          | 0/782 [00:00<?, ?it/s]"
     ]
    },
    {
     "name": "stdout",
     "output_type": "stream",
     "text": [
      "Epoch 01 recon 11375.67 kl 430.14 Elapsed time 0:00:16.005411\n"
     ]
    },
    {
     "name": "stderr",
     "output_type": "stream",
     "text": [
      "100%|████████████████████████████████████████████████████████████████████████████████| 782/782 [00:15<00:00, 48.98it/s]\n",
      "  0%|                                                                                          | 0/782 [00:00<?, ?it/s]"
     ]
    },
    {
     "name": "stdout",
     "output_type": "stream",
     "text": [
      "Epoch 02 recon 11371.84 kl 430.75 Elapsed time 0:00:31.971946\n"
     ]
    },
    {
     "name": "stderr",
     "output_type": "stream",
     "text": [
      "100%|████████████████████████████████████████████████████████████████████████████████| 782/782 [00:14<00:00, 53.15it/s]\n",
      "  0%|                                                                                          | 0/782 [00:00<?, ?it/s]"
     ]
    },
    {
     "name": "stdout",
     "output_type": "stream",
     "text": [
      "Epoch 03 recon 11369.52 kl 431.22 Elapsed time 0:00:46.685615\n"
     ]
    },
    {
     "name": "stderr",
     "output_type": "stream",
     "text": [
      "100%|████████████████████████████████████████████████████████████████████████████████| 782/782 [00:14<00:00, 53.08it/s]\n",
      "  0%|                                                                                          | 0/782 [00:00<?, ?it/s]"
     ]
    },
    {
     "name": "stdout",
     "output_type": "stream",
     "text": [
      "Epoch 04 recon 11367.82 kl 431.60 Elapsed time 0:01:01.419246\n"
     ]
    },
    {
     "name": "stderr",
     "output_type": "stream",
     "text": [
      "100%|████████████████████████████████████████████████████████████████████████████████| 782/782 [00:14<00:00, 52.97it/s]\n",
      "  0%|                                                                                          | 0/782 [00:00<?, ?it/s]"
     ]
    },
    {
     "name": "stdout",
     "output_type": "stream",
     "text": [
      "Epoch 05 recon 11366.53 kl 431.91 Elapsed time 0:01:16.184542\n"
     ]
    },
    {
     "name": "stderr",
     "output_type": "stream",
     "text": [
      "100%|████████████████████████████████████████████████████████████████████████████████| 782/782 [00:14<00:00, 52.91it/s]\n",
      "  0%|                                                                                          | 0/782 [00:00<?, ?it/s]"
     ]
    },
    {
     "name": "stdout",
     "output_type": "stream",
     "text": [
      "Epoch 06 recon 11365.53 kl 432.18 Elapsed time 0:01:30.965257\n"
     ]
    },
    {
     "name": "stderr",
     "output_type": "stream",
     "text": [
      "100%|████████████████████████████████████████████████████████████████████████████████| 782/782 [00:14<00:00, 52.74it/s]\n",
      "  0%|                                                                                          | 0/782 [00:00<?, ?it/s]"
     ]
    },
    {
     "name": "stdout",
     "output_type": "stream",
     "text": [
      "Epoch 07 recon 11364.68 kl 432.41 Elapsed time 0:01:45.793521\n"
     ]
    },
    {
     "name": "stderr",
     "output_type": "stream",
     "text": [
      "100%|████████████████████████████████████████████████████████████████████████████████| 782/782 [00:14<00:00, 52.76it/s]\n",
      "  0%|                                                                                          | 0/782 [00:00<?, ?it/s]"
     ]
    },
    {
     "name": "stdout",
     "output_type": "stream",
     "text": [
      "Epoch 08 recon 11363.96 kl 432.61 Elapsed time 0:02:00.617246\n"
     ]
    },
    {
     "name": "stderr",
     "output_type": "stream",
     "text": [
      "100%|████████████████████████████████████████████████████████████████████████████████| 782/782 [00:14<00:00, 52.80it/s]\n",
      "  0%|                                                                                          | 0/782 [00:00<?, ?it/s]"
     ]
    },
    {
     "name": "stdout",
     "output_type": "stream",
     "text": [
      "Epoch 09 recon 11363.32 kl 432.80 Elapsed time 0:02:15.429313\n"
     ]
    },
    {
     "name": "stderr",
     "output_type": "stream",
     "text": [
      "100%|████████████████████████████████████████████████████████████████████████████████| 782/782 [00:14<00:00, 52.68it/s]"
     ]
    },
    {
     "name": "stdout",
     "output_type": "stream",
     "text": [
      "Epoch 10 recon 11362.75 kl 432.96 Elapsed time 0:02:30.273580\n"
     ]
    },
    {
     "name": "stderr",
     "output_type": "stream",
     "text": [
      "\n"
     ]
    }
   ],
   "source": [
    "for param in netE.parameters():\n",
    "    param.requires_grad_(False)\n",
    "for param in netG.parameters():\n",
    "    param.requires_grad_(False)\n",
    "for param in netE.conv1.parameters():\n",
    "    param.requires_grad_(True)\n",
    "#for param in netE.conv2.parameters():\n",
    "#    param.requires_grad_(True)\n",
    "\n",
    "import torch.optim as optim\n",
    "from torch.autograd import Variable\n",
    "from datetime import datetime\n",
    "from tqdm import tqdm\n",
    "\n",
    "device = 'cuda:0'\n",
    "optimizer = optim.Adam(netE.conv1.parameters(), lr=5e-5, weight_decay=0)\n",
    "loss_fn = nn.CrossEntropyLoss(reduction='none')\n",
    "rec_l, kl = [], []\n",
    "loader = TRAIN_loader('cifar10', augment=True, batch_size=64)\n",
    "start = datetime.now()\n",
    "\n",
    "for epoch in range(10):\n",
    "    mean_loss = 0.\n",
    "    for i, (x, _) in enumerate(tqdm(loader)):\n",
    "        x = x.to(device)\n",
    "        b = x.size(0)\n",
    "        target = Variable(x.data.view(-1) * 255).long()\n",
    "        [z, mu, logvar] = netE(x)\n",
    "        recon = netG(z)\n",
    "        recon = recon.contiguous()\n",
    "        recon = recon.view(-1, 256)\n",
    "        recl = loss_fn(recon, target)\n",
    "        recl = torch.sum(recl) / b\n",
    "        kld = KL_div(mu, logvar)\n",
    "        loss = recl + 1 * kld.mean()\n",
    "        \n",
    "        optimizer.zero_grad()\n",
    "        total_loss = loss\n",
    "        loss.backward(retain_graph=True)\n",
    "        optimizer.step()\n",
    "        rec_l.append(recl.detach().item())\n",
    "        kl.append(kld.mean().detach().item())\n",
    "        mean_loss = (mean_loss * i + loss.detach().item()) / (i + 1)\n",
    "        \n",
    "    now = datetime.now()\n",
    "    print(f'Epoch {epoch+1:02d} recon {np.mean(rec_l):.2f} kl {np.mean(kl):.2f} Elapsed time {now - start}')\n",
    "    \n",
    "    "
   ]
  },
  {
   "cell_type": "code",
   "execution_count": 7,
   "id": "16fed25d",
   "metadata": {},
   "outputs": [
    {
     "name": "stdout",
     "output_type": "stream",
     "text": [
      "Files already downloaded and verified\n"
     ]
    },
    {
     "name": "stderr",
     "output_type": "stream",
     "text": [
      "Calculate Fisher VAE:   0%|                                                      | 9/50000 [00:02<4:17:01,  3.24step/s]\n"
     ]
    },
    {
     "name": "stdout",
     "output_type": "stream",
     "text": [
      "Files already downloaded and verified\n"
     ]
    },
    {
     "name": "stderr",
     "output_type": "stream",
     "text": [
      "Calculate Score VAE:  10%|█████▍                                                 | 999/10000 [00:23<03:29, 42.98step/s]\n"
     ]
    },
    {
     "name": "stdout",
     "output_type": "stream",
     "text": [
      "Using downloaded and verified file: ../data\\test_32x32.mat\n"
     ]
    },
    {
     "name": "stderr",
     "output_type": "stream",
     "text": [
      "Calculate Score VAE:   4%|██                                                     | 999/26032 [00:23<09:51, 42.31step/s]\n",
      "Calculate Score VAE:   5%|██▊                                                    | 999/19141 [00:22<06:54, 43.75step/s]\n",
      "Calculate Score VAE:  10%|█████▍                                                 | 999/10000 [00:23<03:33, 42.15step/s]\n"
     ]
    },
    {
     "name": "stdout",
     "output_type": "stream",
     "text": [
      "Files already downloaded and verified\n"
     ]
    },
    {
     "name": "stderr",
     "output_type": "stream",
     "text": [
      "Calculate Score VAE:  10%|█████▍                                                 | 999/10000 [00:23<03:32, 42.30step/s]\n",
      "Calculate Score VAE:  10%|█████▍                                                 | 999/10000 [00:22<03:25, 43.87step/s]\n",
      "Calculate Score VAE:  10%|█████▍                                                 | 999/10000 [00:22<03:25, 43.76step/s]\n",
      "Calculate Score VAE:  10%|█████▍                                                 | 999/10000 [00:22<03:26, 43.67step/s]\n"
     ]
    },
    {
     "name": "stdout",
     "output_type": "stream",
     "text": [
      "Files already downloaded and verified\n"
     ]
    },
    {
     "name": "stderr",
     "output_type": "stream",
     "text": [
      "Calculate Score VAE:   8%|████▏                                                  | 999/13180 [00:23<04:46, 42.46step/s]\n",
      "Calculate Score VAE:   5%|██▉                                                    | 999/18724 [00:22<06:38, 44.50step/s]\n",
      "Calculate Score VAE:   8%|████▎                                                  | 999/12630 [00:22<04:25, 43.75step/s]\n",
      "Calculate Score VAE:  10%|█████▍                                                 | 999/10000 [00:21<03:16, 45.88step/s]\n",
      "Calculate Score VAE:  10%|█████▍                                                 | 999/10000 [00:21<03:15, 45.93step/s]\n"
     ]
    }
   ],
   "source": [
    "a, b, _scores = AUTO_VAE(opt, netE, netG, params, max_iter=[10, 1000], loss_type='ELBO_pixel', method='Vanilla')"
   ]
  },
  {
   "cell_type": "code",
   "execution_count": 11,
   "id": "dcedf805",
   "metadata": {},
   "outputs": [],
   "source": [
    "for pname in params.keys():\n",
    "    #FISHERs[opt.train_dist][pname] = a[pname] \n",
    "    #NORM_FACs[opt.train_dist][pname] = b[pname]\n",
    "    pass\n",
    "for ood in opt.ood_list:\n",
    "    SCOREs[opt.train_dist][ood] = _scores[ood]"
   ]
  },
  {
   "cell_type": "code",
   "execution_count": 12,
   "id": "2d7e109a",
   "metadata": {},
   "outputs": [
    {
     "data": {
      "text/plain": [
       "{'Econv1_w': {'cifar10': 0.49999999999999994,\n",
       "  'svhn': 0.7574559999999999,\n",
       "  'celeba': 0.581585,\n",
       "  'lsun': 0.5073019999999999,\n",
       "  'cifar100': 0.494632,\n",
       "  'mnist': 0.907841,\n",
       "  'fmnist': 0.869656,\n",
       "  'kmnist': 0.9121130000000001,\n",
       "  'omniglot': 0.993495,\n",
       "  'notmnist': 0.928892,\n",
       "  'trafficsign': 0.533332,\n",
       "  'noise': 0.591475,\n",
       "  'constant': 0.912907}}"
      ]
     },
     "execution_count": 12,
     "metadata": {},
     "output_type": "execute_result"
    }
   ],
   "source": [
    "# AUROC curve\n",
    "auroc = {}\n",
    "for pname in params.keys():\n",
    "    _auroc = {}\n",
    "    for ood in opt.ood_list:\n",
    "        args = [\n",
    "            SCOREs[opt.train_dist][opt.train_dist][pname],\n",
    "            SCOREs[opt.train_dist][ood][pname],\n",
    "        ]\n",
    "        labels = [opt.train_dist, ood]\n",
    "        _auroc[ood] = AUROC(*args, labels=labels, verbose=False)\n",
    "    auroc[pname] = _auroc\n",
    "    \n",
    "auroc"
   ]
  },
  {
   "cell_type": "code",
   "execution_count": 6,
   "id": "6ee154ea",
   "metadata": {},
   "outputs": [],
   "source": [
    "# Just show scores\n",
    "# plot_scores_all_layers(train_dist, params, SCOREs, opt, save=True)\n"
   ]
  },
  {
   "cell_type": "code",
   "execution_count": null,
   "id": "0369ae21",
   "metadata": {},
   "outputs": [],
   "source": []
  },
  {
   "cell_type": "markdown",
   "id": "d6bd4adc",
   "metadata": {},
   "source": [
    "# VAE-FMNIST"
   ]
  },
  {
   "cell_type": "code",
   "execution_count": 3,
   "id": "bafc7fd6",
   "metadata": {},
   "outputs": [],
   "source": [
    "opt = config.VAE_fmnist\n",
    "netE, netG = load_pretrained_VAE(option=opt.train_dist, ngf=32, nz=100, beta=1, augment='hflip', epoch=100)\n",
    "netE.eval()\n",
    "netG.eval()\n",
    "\n",
    "params = {\n",
    "    #'Emain0_w': netE.main[0].weight,\n",
    "    #'Emain1_w': netE.main[1].weight,\n",
    "    #'Emain1_b': netE.main[1].bias,\n",
    "    #'Emain3_w': netE.main[3].weight,\n",
    "    #'Emain4_w': netE.main[4].weight,\n",
    "    #'Emain4_b': netE.main[4].bias,\n",
    "    #'Emain6_w': netE.main[6].weight,\n",
    "    #'Emain7_w': netE.main[7].weight,\n",
    "    #'Emain7_b': netE.main[7].bias,\n",
    "    'Econv1_w': netE.conv1.weight,\n",
    "    #'Econv1_b': netE.conv1.bias,\n",
    "    #'Econv2_w': netE.conv2.weight,\n",
    "    #'Econv2_b': netE.conv2.bias,\n",
    "    #'Gmain0_w': netG.main[0].weight,\n",
    "    #'Gmain1_w': netG.main[1].weight,\n",
    "    #'Gmain1_b': netG.main[1].bias,\n",
    "    #'Gmain3_w': netG.main[3].weight,\n",
    "    #'Gmain4_w': netG.main[4].weight,\n",
    "    #'Gmain4_b': netG.main[4].bias,\n",
    "    #'Gmain6_w': netG.main[6].weight,\n",
    "    #'Gmain7_w': netG.main[7].weight,\n",
    "    #'Gmain7_b': netG.main[7].bias,\n",
    "    #'Gmain9_w': netG.main[9].weight,\n",
    "}"
   ]
  },
  {
   "cell_type": "code",
   "execution_count": 5,
   "id": "07541350-4886-450d-ac0a-a96902a5e9e0",
   "metadata": {},
   "outputs": [
    {
     "name": "stdout",
     "output_type": "stream",
     "text": [
      "Epoch 01 recon 2145.25 kl 146.29 Elapsed time 0:00:32.395625\n",
      "Epoch 02 recon 2144.09 kl 146.47 Elapsed time 0:01:04.396823\n",
      "Epoch 03 recon 2143.23 kl 146.61 Elapsed time 0:01:37.149608\n",
      "Epoch 04 recon 2142.58 kl 146.72 Elapsed time 0:02:09.070494\n",
      "Epoch 05 recon 2142.03 kl 146.82 Elapsed time 0:02:41.094448\n",
      "Epoch 06 recon 2141.61 kl 146.90 Elapsed time 0:03:12.810576\n",
      "Epoch 07 recon 2141.14 kl 146.98 Elapsed time 0:03:44.436634\n",
      "Epoch 08 recon 2140.74 kl 147.05 Elapsed time 0:04:15.897414\n",
      "Epoch 09 recon 2140.37 kl 147.12 Elapsed time 0:04:47.259621\n",
      "Epoch 10 recon 2140.01 kl 147.18 Elapsed time 0:05:18.747113\n"
     ]
    }
   ],
   "source": [
    "for param in netE.parameters():\n",
    "    param.requires_grad_(False)\n",
    "for param in netG.parameters():\n",
    "    param.requires_grad_(False)\n",
    "for param in netE.conv1.parameters():\n",
    "    param.requires_grad_(True)\n",
    "#for param in netE.conv2.parameters():\n",
    "#    param.requires_grad_(True)\n",
    "\n",
    "import torch.optim as optim\n",
    "from torch.autograd import Variable\n",
    "from datetime import datetime\n",
    "\n",
    "device = 'cuda:0'\n",
    "optimizer = optim.Adam(netE.conv1.parameters(), lr=5e-5, weight_decay=0)\n",
    "loss_fn = nn.CrossEntropyLoss(reduction='none')\n",
    "rec_l, kl = [], []\n",
    "loader = TRAIN_loader('fmnist', 'fmnist')\n",
    "start = datetime.now()\n",
    "\n",
    "for epoch in range(10):\n",
    "    mean_loss = 0.\n",
    "    for i, (x, _) in enumerate(loader):\n",
    "        x = x.to(device)\n",
    "        b = x.size(0)\n",
    "        target = Variable(x.data.view(-1) * 255).long()\n",
    "        [z, mu, logvar] = netE(x)\n",
    "        recon = netG(z)\n",
    "        recon = recon.contiguous()\n",
    "        recon = recon.view(-1, 256)\n",
    "        recl = loss_fn(recon, target)\n",
    "        recl = torch.sum(recl) / b\n",
    "        kld = KL_div(mu, logvar)\n",
    "        loss = recl + 1 * kld.mean()\n",
    "        \n",
    "        optimizer.zero_grad()\n",
    "        total_loss = loss\n",
    "        loss.backward(retain_graph=True)\n",
    "        optimizer.step()\n",
    "        rec_l.append(recl.detach().item())\n",
    "        kl.append(kld.mean().detach().item())\n",
    "        mean_loss = (mean_loss * i + loss.detach().item()) / (i + 1)\n",
    "        \n",
    "    now = datetime.now()\n",
    "    print(f'Epoch {epoch+1:02d} recon {np.mean(rec_l):.2f} kl {np.mean(kl):.2f} Elapsed time {now - start}')\n",
    "    \n",
    "    "
   ]
  },
  {
   "cell_type": "code",
   "execution_count": 4,
   "id": "02326099",
   "metadata": {},
   "outputs": [
    {
     "name": "stderr",
     "output_type": "stream",
     "text": [
      "Calculate Fisher VAE:  17%|████████▊                                            | 9999/60000 [03:12<16:05, 51.81step/s]\n",
      "Calculate Score VAE:  50%|██████████████████████████▍                          | 4999/10000 [00:36<00:36, 137.65step/s]\n"
     ]
    },
    {
     "name": "stdout",
     "output_type": "stream",
     "text": [
      "Using downloaded and verified file: ../data\\test_32x32.mat\n"
     ]
    },
    {
     "name": "stderr",
     "output_type": "stream",
     "text": [
      "Calculate Score VAE:  19%|██████████▏                                          | 4999/26032 [00:37<02:37, 133.34step/s]\n",
      "Calculate Score VAE:  26%|█████████████▊                                       | 4999/19141 [00:39<01:53, 125.15step/s]\n",
      "Calculate Score VAE:  50%|██████████████████████████▍                          | 4999/10000 [00:42<00:42, 117.00step/s]\n"
     ]
    },
    {
     "name": "stdout",
     "output_type": "stream",
     "text": [
      "Files already downloaded and verified\n"
     ]
    },
    {
     "name": "stderr",
     "output_type": "stream",
     "text": [
      "Calculate Score VAE:  50%|██████████████████████████▍                          | 4999/10000 [00:37<00:37, 134.57step/s]\n"
     ]
    },
    {
     "name": "stdout",
     "output_type": "stream",
     "text": [
      "Files already downloaded and verified\n"
     ]
    },
    {
     "name": "stderr",
     "output_type": "stream",
     "text": [
      "Calculate Score VAE:  50%|██████████████████████████▍                          | 4999/10000 [00:37<00:37, 134.36step/s]\n",
      "Calculate Score VAE:  50%|██████████████████████████▍                          | 4999/10000 [00:36<00:36, 138.28step/s]\n",
      "Calculate Score VAE:  50%|██████████████████████████▍                          | 4999/10000 [00:36<00:36, 138.25step/s]\n"
     ]
    },
    {
     "name": "stdout",
     "output_type": "stream",
     "text": [
      "Files already downloaded and verified\n"
     ]
    },
    {
     "name": "stderr",
     "output_type": "stream",
     "text": [
      "Calculate Score VAE:  38%|████████████████████                                 | 4999/13180 [00:37<01:00, 134.43step/s]\n",
      "Calculate Score VAE:  27%|██████████████▏                                      | 4999/18724 [00:37<01:43, 132.16step/s]\n",
      "Calculate Score VAE:  50%|██████████████████████████▍                          | 4999/10000 [00:34<00:34, 144.35step/s]\n",
      "Calculate Score VAE:  50%|██████████████████████████▍                          | 4999/10000 [00:34<00:34, 144.27step/s]\n"
     ]
    }
   ],
   "source": [
    "a, b, _scores = AUTO_VAE(opt, netE, netG, params, max_iter=[10000, 5000], loss_type='ELBO_pixel', method='SMW')"
   ]
  },
  {
   "cell_type": "code",
   "execution_count": 7,
   "id": "7fa73096",
   "metadata": {},
   "outputs": [],
   "source": [
    "for pname in params.keys():\n",
    "    FISHERs[opt.train_dist][pname] = a[pname] \n",
    "    NORM_FACs[opt.train_dist][pname] = b[pname]\n",
    "for ood in opt.ood_list:\n",
    "    SCOREs[opt.train_dist][ood] = _scores[ood]"
   ]
  },
  {
   "cell_type": "code",
   "execution_count": 8,
   "id": "10182208",
   "metadata": {},
   "outputs": [
    {
     "data": {
      "text/plain": [
       "{'Econv1_w': {'fmnist': 0.5,\n",
       "  'svhn': 0.9969616800000001,\n",
       "  'celeba': 0.99908208,\n",
       "  'lsun': 0.99571948,\n",
       "  'cifar10': 0.9981044400000001,\n",
       "  'cifar100': 0.99747032,\n",
       "  'mnist': 0.99382972,\n",
       "  'kmnist': 0.9967750400000001,\n",
       "  'omniglot': 1.0,\n",
       "  'notmnist': 0.9998774,\n",
       "  'noise': 0.9905497600000001,\n",
       "  'constant': 0.9966937200000001}}"
      ]
     },
     "execution_count": 8,
     "metadata": {},
     "output_type": "execute_result"
    }
   ],
   "source": [
    "# AUROC curve\n",
    "auroc = {}\n",
    "for pname in params.keys():\n",
    "    _auroc = {}\n",
    "    for ood in opt.ood_list:\n",
    "        args = [\n",
    "            SCOREs[opt.train_dist][opt.train_dist][pname],\n",
    "            SCOREs[opt.train_dist][ood][pname],\n",
    "        ]\n",
    "        labels = [opt.train_dist, ood]\n",
    "        _auroc[ood] = AUROC(*args, labels=labels, verbose=False)\n",
    "    auroc[pname] = _auroc\n",
    "    \n",
    "auroc"
   ]
  },
  {
   "cell_type": "code",
   "execution_count": 9,
   "id": "49fd13d3",
   "metadata": {},
   "outputs": [],
   "source": [
    "# Just show scores\n",
    "# plot_scores_all_layers(train_dist, params, SCOREs, opt, save=True)"
   ]
  },
  {
   "cell_type": "code",
   "execution_count": null,
   "id": "b23c0f5b",
   "metadata": {},
   "outputs": [],
   "source": []
  }
 ],
 "metadata": {
  "kernelspec": {
   "display_name": "torch",
   "language": "python",
   "name": "torch"
  },
  "language_info": {
   "codemirror_mode": {
    "name": "ipython",
    "version": 3
   },
   "file_extension": ".py",
   "mimetype": "text/x-python",
   "name": "python",
   "nbconvert_exporter": "python",
   "pygments_lexer": "ipython3",
   "version": "3.8.10"
  }
 },
 "nbformat": 4,
 "nbformat_minor": 5
}
