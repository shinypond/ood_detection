{
 "cells": [
  {
   "cell_type": "markdown",
   "id": "77b5e36c",
   "metadata": {},
   "source": [
    "# [ VAE ] OOD Detection using FSS"
   ]
  },
  {
   "cell_type": "code",
   "execution_count": 13,
   "id": "8d904a6c",
   "metadata": {},
   "outputs": [
    {
     "name": "stdout",
     "output_type": "stream",
     "text": [
      "The autoreload extension is already loaded. To reload it, use:\n",
      "  %reload_ext autoreload\n"
     ]
    },
    {
     "ename": "ModuleNotFoundError",
     "evalue": "No module named 'torch'",
     "output_type": "error",
     "traceback": [
      "\u001b[1;31m---------------------------------------------------------------------------\u001b[0m",
      "\u001b[1;31mModuleNotFoundError\u001b[0m                       Traceback (most recent call last)",
      "\u001b[1;32m<ipython-input-13-eafaede2248f>\u001b[0m in \u001b[0;36m<module>\u001b[1;34m\u001b[0m\n\u001b[0;32m      8\u001b[0m \u001b[1;32mimport\u001b[0m \u001b[0mpandas\u001b[0m \u001b[1;32mas\u001b[0m \u001b[0mpd\u001b[0m\u001b[1;33m\u001b[0m\u001b[1;33m\u001b[0m\u001b[0m\n\u001b[0;32m      9\u001b[0m \u001b[1;32mimport\u001b[0m \u001b[0mmatplotlib\u001b[0m\u001b[1;33m.\u001b[0m\u001b[0mpyplot\u001b[0m \u001b[1;32mas\u001b[0m \u001b[0mplt\u001b[0m\u001b[1;33m\u001b[0m\u001b[1;33m\u001b[0m\u001b[0m\n\u001b[1;32m---> 10\u001b[1;33m \u001b[1;32mimport\u001b[0m \u001b[0mtorch\u001b[0m\u001b[1;33m\u001b[0m\u001b[1;33m\u001b[0m\u001b[0m\n\u001b[0m\u001b[0;32m     11\u001b[0m \u001b[1;32mimport\u001b[0m \u001b[0mtorch\u001b[0m\u001b[1;33m.\u001b[0m\u001b[0mnn\u001b[0m \u001b[1;32mas\u001b[0m \u001b[0mnn\u001b[0m\u001b[1;33m\u001b[0m\u001b[1;33m\u001b[0m\u001b[0m\n\u001b[0;32m     12\u001b[0m \u001b[1;33m\u001b[0m\u001b[0m\n",
      "\u001b[1;31mModuleNotFoundError\u001b[0m: No module named 'torch'"
     ]
    }
   ],
   "source": [
    "%load_ext autoreload\n",
    "%autoreload 2\n",
    "import os\n",
    "import sys\n",
    "sys.path.append(os.getcwd() + '/core')\n",
    "sys.path.append(os.getcwd() + '/core/train_GLOW') \n",
    "import numpy as np\n",
    "import pandas as pd\n",
    "import matplotlib.pyplot as plt\n",
    "import torch\n",
    "import torch.nn as nn\n",
    "\n",
    "import core.config as config\n",
    "from core.model_loader import load_pretrained_VAE\n",
    "from core.data_loader import TRAIN_loader, TEST_loader\n",
    "from core.custom_loss import KL_div, VAE_loss_pixel\n",
    "from core.fisher_utils_VAE import Calculate_fisher_VAE, Calculate_score_VAE, AUTO_VAE\n",
    "from core.visualize import plot_hist, AUROC, plot_scores_all_layers"
   ]
  },
  {
   "cell_type": "markdown",
   "id": "17a0c12f",
   "metadata": {},
   "source": [
    "# Define Global Variables & Initialize"
   ]
  },
  {
   "cell_type": "code",
   "execution_count": 8,
   "id": "29770916",
   "metadata": {},
   "outputs": [],
   "source": [
    "# FISHER_invs : Fisher inverse matrices from calculating Fisher score (w.r.t. train-dist)\n",
    "FISHERs = {'cifar10': {}, 'fmnist': {}}\n",
    "         \n",
    "# NORMalize_FACtors : Normalizing Factor (w.r.t. train-dist)\n",
    "NORM_FACs = {'cifar10': {}, 'fmnist': {}}\n",
    "             \n",
    "# SCOREs : (Scalars) Scores from calculating Fisher score (w.r.t. target-dist)\n",
    "SCOREs = {'cifar10': {}, 'fmnist': {}}\n"
   ]
  },
  {
   "cell_type": "markdown",
   "id": "dc1affd0",
   "metadata": {},
   "source": [
    "# VAE-CIFAR10"
   ]
  },
  {
   "cell_type": "code",
   "execution_count": 9,
   "id": "b549632b",
   "metadata": {},
   "outputs": [],
   "source": [
    "opt = config.VAE_cifar10\n",
    "netE, netG = load_pretrained_VAE(option=opt.train_dist, ngf=64, nz=100, beta=1)\n",
    "netE.eval()\n",
    "netG.eval()\n",
    "\n",
    "params = {\n",
    "    #'Emain0_w': netE.main[0].weight,\n",
    "    #'Emain1_w': netE.main[1].weight,\n",
    "    #'Emain1_b': netE.main[1].bias,\n",
    "    #'Emain3_w': netE.main[3].weight,\n",
    "    #'Emain4_w': netE.main[4].weight,\n",
    "    #'Emain4_b': netE.main[4].bias,\n",
    "    #'Emain6_w': netE.main[6].weight,\n",
    "    #'Emain7_w': netE.main[7].weight,\n",
    "    #'Emain7_b': netE.main[7].bias,\n",
    "    'Econv1_w': netE.conv1.weight,\n",
    "    #'Econv1_b': netE.conv1.bias,\n",
    "    #'Econv2_w': netE.conv2.weight,\n",
    "    #'Econv2_b': netE.conv2.bias,\n",
    "    #'Gmain0_w': netG.main[0].weight,\n",
    "    #'Gmain1_w': netG.main[1].weight,\n",
    "    #'Gmain1_b': netG.main[1].bias,\n",
    "    #'Gmain3_w': netG.main[3].weight,\n",
    "    #'Gmain4_w': netG.main[4].weight,\n",
    "    #'Gmain4_b': netG.main[4].bias,\n",
    "    #'Gmain6_w': netG.main[6].weight,\n",
    "    #'Gmain7_w': netG.main[7].weight,\n",
    "    #'Gmain7_b': netG.main[7].bias,\n",
    "    #'Gmain9_w': netG.main[9].weight,\n",
    "}\n"
   ]
  },
  {
   "cell_type": "code",
   "execution_count": 10,
   "id": "ee804b9e",
   "metadata": {},
   "outputs": [
    {
     "name": "stdout",
     "output_type": "stream",
     "text": [
      "Files already downloaded and verified\n"
     ]
    },
    {
     "name": "stderr",
     "output_type": "stream",
     "text": [
      "Calculate Fisher VAE:   2%|█                                                    | 999/50000 [00:09<07:59, 102.19step/s]\n"
     ]
    },
    {
     "name": "stdout",
     "output_type": "stream",
     "text": [
      "Files already downloaded and verified\n"
     ]
    },
    {
     "name": "stderr",
     "output_type": "stream",
     "text": [
      "Calculate Score VAE:  10%|█████▍                                                | 999/10000 [00:09<01:24, 107.00step/s]\n",
      "Calculate Score VAE:  10%|█████▍                                                | 999/10000 [00:09<01:28, 101.79step/s]\n"
     ]
    }
   ],
   "source": [
    "a, b, _scores = AUTO_VAE(opt, netE, netG, params, max_iter=[1000, 1000], loss_type='ELBO_pixel', method='Vanilla')"
   ]
  },
  {
   "cell_type": "code",
   "execution_count": 11,
   "id": "3e8a85b6",
   "metadata": {},
   "outputs": [],
   "source": [
    "for pname in params.keys():\n",
    "    FISHERs[opt.train_dist][pname] = a[pname] \n",
    "    NORM_FACs[opt.train_dist][pname] = b[pname]\n",
    "for ood in opt.ood_list:\n",
    "    SCOREs[opt.train_dist][ood] = _scores[ood]"
   ]
  },
  {
   "cell_type": "code",
   "execution_count": 12,
   "id": "1c26608c",
   "metadata": {},
   "outputs": [
    {
     "data": {
      "text/plain": [
       "{'Econv1_w': {'cifar10': 0.49999999999999994, 'lsun': 0.473313}}"
      ]
     },
     "execution_count": 12,
     "metadata": {},
     "output_type": "execute_result"
    }
   ],
   "source": [
    "# AUROC curve\n",
    "auroc = {}\n",
    "for pname in params.keys():\n",
    "    _auroc = {}\n",
    "    for ood in opt.ood_list:\n",
    "        args = [\n",
    "            SCOREs[opt.train_dist][opt.train_dist][pname],\n",
    "            SCOREs[opt.train_dist][ood][pname],\n",
    "        ]\n",
    "        labels = [opt.train_dist, ood]\n",
    "        _auroc[ood] = AUROC(*args, labels=labels, verbose=False)\n",
    "    auroc[pname] = _auroc\n",
    "    \n",
    "auroc"
   ]
  },
  {
   "cell_type": "code",
   "execution_count": 6,
   "id": "36dcbff6",
   "metadata": {},
   "outputs": [],
   "source": [
    "# Just show scores\n",
    "# plot_scores_all_layers(train_dist, params, SCOREs, opt, save=True)\n"
   ]
  },
  {
   "cell_type": "code",
   "execution_count": null,
   "id": "52b64a5e",
   "metadata": {},
   "outputs": [],
   "source": []
  },
  {
   "cell_type": "markdown",
   "id": "11bfe5a5",
   "metadata": {},
   "source": [
    "# VAE-FMNIST"
   ]
  },
  {
   "cell_type": "code",
   "execution_count": 4,
   "id": "d9f9e821",
   "metadata": {},
   "outputs": [],
   "source": [
    "opt = config.VAE_fmnist\n",
    "netE, netG = load_pretrained_VAE(option=opt.train_dist, ngf=32, nz=100, beta=1)\n",
    "netE.eval()\n",
    "netG.eval()\n",
    "\n",
    "params = {\n",
    "    #'Emain0_w': netE.main[0].weight,\n",
    "    #'Emain1_w': netE.main[1].weight,\n",
    "    #'Emain1_b': netE.main[1].bias,\n",
    "    #'Emain3_w': netE.main[3].weight,\n",
    "    #'Emain4_w': netE.main[4].weight,\n",
    "    #'Emain4_b': netE.main[4].bias,\n",
    "    #'Emain6_w': netE.main[6].weight,\n",
    "    #'Emain7_w': netE.main[7].weight,\n",
    "    #'Emain7_b': netE.main[7].bias,\n",
    "    'Econv1_w': netE.conv1.weight,\n",
    "    #'Econv1_b': netE.conv1.bias,\n",
    "    #'Econv2_w': netE.conv2.weight,\n",
    "    #'Econv2_b': netE.conv2.bias,\n",
    "    #'Gmain0_w': netG.main[0].weight,\n",
    "    #'Gmain1_w': netG.main[1].weight,\n",
    "    #'Gmain1_b': netG.main[1].bias,\n",
    "    #'Gmain3_w': netG.main[3].weight,\n",
    "    #'Gmain4_w': netG.main[4].weight,\n",
    "    #'Gmain4_b': netG.main[4].bias,\n",
    "    #'Gmain6_w': netG.main[6].weight,\n",
    "    #'Gmain7_w': netG.main[7].weight,\n",
    "    #'Gmain7_b': netG.main[7].bias,\n",
    "    #'Gmain9_w': netG.main[9].weight,\n",
    "}"
   ]
  },
  {
   "cell_type": "code",
   "execution_count": 7,
   "id": "1189327d",
   "metadata": {},
   "outputs": [
    {
     "name": "stderr",
     "output_type": "stream",
     "text": [
      "Calculate Fisher VAE:  17%|████████▋                                           | 9999/60000 [01:35<07:56, 105.00step/s]\n",
      "Calculate Score VAE:  50%|██████████████████████████▍                          | 4999/10000 [00:33<00:33, 148.39step/s]\n"
     ]
    },
    {
     "name": "stdout",
     "output_type": "stream",
     "text": [
      "Using downloaded and verified file: ../data\\test_32x32.mat\n"
     ]
    },
    {
     "name": "stderr",
     "output_type": "stream",
     "text": [
      "Calculate Score VAE:  19%|██████████▏                                          | 4999/26032 [00:35<02:27, 142.63step/s]\n",
      "Calculate Score VAE:  26%|█████████████▊                                       | 4999/19141 [00:42<02:01, 116.51step/s]\n",
      "Calculate Score VAE: 100%|██████████████████████████████████████████████████████| 3000/3000 [00:27<00:00, 108.14step/s]\n"
     ]
    },
    {
     "name": "stdout",
     "output_type": "stream",
     "text": [
      "Files already downloaded and verified\n"
     ]
    },
    {
     "name": "stderr",
     "output_type": "stream",
     "text": [
      "Calculate Score VAE:  50%|██████████████████████████▍                          | 4999/10000 [00:34<00:34, 143.65step/s]\n"
     ]
    },
    {
     "name": "stdout",
     "output_type": "stream",
     "text": [
      "Files already downloaded and verified\n"
     ]
    },
    {
     "name": "stderr",
     "output_type": "stream",
     "text": [
      "Calculate Score VAE:  50%|██████████████████████████▍                          | 4999/10000 [00:34<00:34, 144.94step/s]\n",
      "Calculate Score VAE:  50%|██████████████████████████▍                          | 4999/10000 [00:33<00:33, 148.50step/s]\n",
      "Calculate Score VAE:  50%|██████████████████████████▍                          | 4999/10000 [00:33<00:33, 148.55step/s]\n"
     ]
    },
    {
     "name": "stdout",
     "output_type": "stream",
     "text": [
      "Files already downloaded and verified\n"
     ]
    },
    {
     "name": "stderr",
     "output_type": "stream",
     "text": [
      "Calculate Score VAE:  38%|████████████████████                                 | 4999/13180 [00:34<00:56, 144.67step/s]\n",
      "Calculate Score VAE:  27%|██████████████▏                                      | 4999/18724 [00:37<01:43, 132.63step/s]\n",
      "Calculate Score VAE:  50%|██████████████████████████▍                          | 4999/10000 [00:32<00:32, 154.69step/s]\n",
      "Calculate Score VAE:  50%|██████████████████████████▍                          | 4999/10000 [00:32<00:32, 154.88step/s]\n"
     ]
    }
   ],
   "source": [
    "a, b, _scores = AUTO_VAE(opt, netE, netG, params, max_iter=[10000, 5000], loss_type='ELBO_pixel', method='SMW')"
   ]
  },
  {
   "cell_type": "code",
   "execution_count": 9,
   "id": "0a1653b2",
   "metadata": {},
   "outputs": [],
   "source": [
    "for pname in params.keys():\n",
    "    FISHERs[opt.train_dist][pname] = a[pname] \n",
    "    NORM_FACs[opt.train_dist][pname] = b[pname]\n",
    "for ood in opt.ood_list:\n",
    "    SCOREs[opt.train_dist][ood] = _scores[ood]"
   ]
  },
  {
   "cell_type": "code",
   "execution_count": 11,
   "id": "a1763629",
   "metadata": {},
   "outputs": [
    {
     "data": {
      "text/plain": [
       "{'Econv1_w': {'fmnist': 0.5,\n",
       "  'svhn': 0.9998754000000001,\n",
       "  'celeba': 0.99931916,\n",
       "  'lsun': 0.9989489333333333,\n",
       "  'cifar10': 0.99863984,\n",
       "  'cifar100': 0.9984999600000001,\n",
       "  'mnist': 0.99330204,\n",
       "  'kmnist': 0.99609384,\n",
       "  'omniglot': 1.0,\n",
       "  'notmnist': 0.99976164,\n",
       "  'noise': 0.9811936,\n",
       "  'constant': 0.99809412}}"
      ]
     },
     "execution_count": 11,
     "metadata": {},
     "output_type": "execute_result"
    }
   ],
   "source": [
    "# AUROC curve\n",
    "auroc = {}\n",
    "for pname in params.keys():\n",
    "    _auroc = {}\n",
    "    for ood in opt.ood_list:\n",
    "        args = [\n",
    "            SCOREs[opt.train_dist][opt.train_dist][pname],\n",
    "            SCOREs[opt.train_dist][ood][pname],\n",
    "        ]\n",
    "        labels = [opt.train_dist, ood]\n",
    "        _auroc[ood] = AUROC(*args, labels=labels, verbose=False)\n",
    "    auroc[pname] = _auroc\n",
    "    \n",
    "auroc"
   ]
  },
  {
   "cell_type": "code",
   "execution_count": null,
   "id": "59f8761a",
   "metadata": {},
   "outputs": [],
   "source": [
    "# Just show scores\n",
    "# plot_scores_all_layers(train_dist, params, SCOREs, opt, save=True)"
   ]
  },
  {
   "cell_type": "code",
   "execution_count": null,
   "id": "9d26c77c",
   "metadata": {},
   "outputs": [],
   "source": []
  }
 ],
 "metadata": {
  "kernelspec": {
   "display_name": "torch",
   "language": "python",
   "name": "torch"
  },
  "language_info": {
   "codemirror_mode": {
    "name": "ipython",
    "version": 3
   },
   "file_extension": ".py",
   "mimetype": "text/x-python",
   "name": "python",
   "nbconvert_exporter": "python",
   "pygments_lexer": "ipython3",
   "version": "3.8.5"
  }
 },
 "nbformat": 4,
 "nbformat_minor": 5
}
