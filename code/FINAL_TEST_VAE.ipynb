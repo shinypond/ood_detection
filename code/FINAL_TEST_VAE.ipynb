{
 "cells": [
  {
   "cell_type": "markdown",
   "id": "republican-anniversary",
   "metadata": {},
   "source": [
    "# [ VAE ] OOD Detection usin FSS"
   ]
  },
  {
   "cell_type": "code",
   "execution_count": 1,
   "id": "marine-advantage",
   "metadata": {},
   "outputs": [],
   "source": [
    "%load_ext autoreload\n",
    "%autoreload 2\n",
    "import os\n",
    "import sys\n",
    "sys.path.append(os.getcwd() + '/core')\n",
    "sys.path.append(os.getcwd() + '/core/train_GLOW') \n",
    "import numpy as np\n",
    "import pandas as pd\n",
    "import matplotlib.pyplot as plt\n",
    "import torch\n",
    "import torch.nn as nn\n",
    "\n",
    "import core.config as config\n",
    "from core.model_loader import load_pretrained_VAE\n",
    "from core.data_loader import TRAIN_loader, TEST_loader\n",
    "from core.custom_loss import KL_div, VAE_loss_pixel\n",
    "from core.fisher_utils_VAE import Calculate_fisher_VAE, Calculate_score_VAE\n",
    "from core.fisher_utils_VAE import AUTO_VAE\n",
    "from core.visualize import plot_hist, AUROC, plot_scores_all_layers"
   ]
  },
  {
   "cell_type": "markdown",
   "id": "graphic-ideal",
   "metadata": {},
   "source": [
    "# Define Global Variables & Initialize"
   ]
  },
  {
   "cell_type": "code",
   "execution_count": 2,
   "id": "dress-password",
   "metadata": {},
   "outputs": [],
   "source": [
    "# FISHER_invs : Fisher inverse matrices from calculating Fisher score (w.r.t. train-dist)\n",
    "FISHERs = {'cifar10': {}, 'fmnist': {}}\n",
    "         \n",
    "# NORMalize_FACtors : Normalizing Factor (w.r.t. train-dist)\n",
    "NORM_FACs = {'cifar10': {}, 'fmnist': {}}\n",
    "             \n",
    "# SCOREs : (Scalars) Scores from calculating Fisher score (w.r.t. target-dist)\n",
    "SCOREs = {'cifar10': {}, 'fmnist': {}}\n"
   ]
  },
  {
   "cell_type": "markdown",
   "id": "valid-conditioning",
   "metadata": {},
   "source": [
    "# VAE-CIFAR10"
   ]
  },
  {
   "cell_type": "code",
   "execution_count": 3,
   "id": "functional-clause",
   "metadata": {},
   "outputs": [],
   "source": [
    "opt = config.VAE_cifar10\n",
    "netE, netG = load_pretrained_VAE(option=opt.train_dist, ngf=64, nz=200, beta=1)\n",
    "netE.eval()\n",
    "netG.eval()\n",
    "\n",
    "params = {\n",
    "    #'Emain0_w': netE.main[0].weight,\n",
    "    #'Emain1_w': netE.main[1].weight,\n",
    "    #'Emain1_b': netE.main[1].bias,\n",
    "    #'Emain3_w': netE.main[3].weight,\n",
    "    #'Emain4_w': netE.main[4].weight,\n",
    "    #'Emain4_b': netE.main[4].bias,\n",
    "    #'Emain6_w': netE.main[6].weight,\n",
    "    #'Emain7_w': netE.main[7].weight,\n",
    "    #'Emain7_b': netE.main[7].bias,\n",
    "    'Econv1_w': netE.conv1.weight,\n",
    "    #'Econv1_b': netE.conv1.bias,\n",
    "    #'Econv2_w': netE.conv2.weight,\n",
    "    #'Econv2_b': netE.conv2.bias,\n",
    "    #'Gmain0_w': netG.main[0].weight,\n",
    "    #'Gmain1_w': netG.main[1].weight,\n",
    "    #'Gmain1_b': netG.main[1].bias,\n",
    "    #'Gmain3_w': netG.main[3].weight,\n",
    "    #'Gmain4_w': netG.main[4].weight,\n",
    "    #'Gmain4_b': netG.main[4].bias,\n",
    "    #'Gmain6_w': netG.main[6].weight,\n",
    "    #'Gmain7_w': netG.main[7].weight,\n",
    "    #'Gmain7_b': netG.main[7].bias,\n",
    "    #'Gmain9_w': netG.main[9].weight,\n",
    "}\n"
   ]
  },
  {
   "cell_type": "code",
   "execution_count": 4,
   "id": "behind-washer",
   "metadata": {},
   "outputs": [
    {
     "name": "stdout",
     "output_type": "stream",
     "text": [
      "Files already downloaded and verified\n"
     ]
    },
    {
     "name": "stderr",
     "output_type": "stream",
     "text": [
      "Calculate Fisher VAE:  20%|██████████▌                                          | 9999/50000 [06:03<24:14, 27.50step/s]\n"
     ]
    },
    {
     "name": "stdout",
     "output_type": "stream",
     "text": [
      "Files already downloaded and verified\n"
     ]
    },
    {
     "name": "stderr",
     "output_type": "stream",
     "text": [
      "Calculate Score VAE:  50%|██████████████████████████▉                           | 4999/10000 [01:01<01:01, 81.75step/s]\n"
     ]
    },
    {
     "name": "stdout",
     "output_type": "stream",
     "text": [
      "Using downloaded and verified file: ../data\\test_32x32.mat\n"
     ]
    },
    {
     "name": "stderr",
     "output_type": "stream",
     "text": [
      "Calculate Score VAE:  19%|██████████▎                                           | 4999/26032 [01:01<04:19, 81.16step/s]\n",
      "Calculate Score VAE:  26%|██████████████                                        | 4999/19141 [01:06<03:07, 75.57step/s]\n",
      "Calculate Score VAE: 100%|███████████████████████████████████████████████████████| 3000/3000 [00:40<00:00, 73.72step/s]\n"
     ]
    },
    {
     "name": "stdout",
     "output_type": "stream",
     "text": [
      "Files already downloaded and verified\n"
     ]
    },
    {
     "name": "stderr",
     "output_type": "stream",
     "text": [
      "Calculate Score VAE:  50%|██████████████████████████▉                           | 4999/10000 [01:01<01:01, 81.81step/s]\n",
      "Calculate Score VAE:  50%|██████████████████████████▉                           | 4999/10000 [01:00<01:00, 82.67step/s]\n",
      "Calculate Score VAE:  50%|██████████████████████████▉                           | 4999/10000 [01:00<01:00, 82.43step/s]\n",
      "Calculate Score VAE:  50%|██████████████████████████▉                           | 4999/10000 [01:00<01:00, 82.74step/s]\n"
     ]
    },
    {
     "name": "stdout",
     "output_type": "stream",
     "text": [
      "Files already downloaded and verified\n"
     ]
    },
    {
     "name": "stderr",
     "output_type": "stream",
     "text": [
      "Calculate Score VAE:  38%|████████████████████▍                                 | 4999/13180 [01:01<01:40, 81.49step/s]\n",
      "Calculate Score VAE:  27%|██████████████▍                                       | 4999/18724 [01:03<02:54, 78.72step/s]\n",
      "Calculate Score VAE:  50%|██████████████████████████▉                           | 4999/10000 [00:59<00:59, 84.67step/s]\n",
      "Calculate Score VAE:  50%|██████████████████████████▉                           | 4999/10000 [00:59<00:59, 84.04step/s]\n"
     ]
    }
   ],
   "source": [
    "a, b, _scores = AUTO_VAE(opt, netE, netG, params, max_iter=[10000, 5000], loss_type='ELBO_pixel', method='SMW')"
   ]
  },
  {
   "cell_type": "code",
   "execution_count": 5,
   "id": "catholic-lover",
   "metadata": {},
   "outputs": [],
   "source": [
    "for pname in params.keys():\n",
    "    FISHERs[opt.train_dist][pname] = a[pname] \n",
    "    NORM_FACs[opt.train_dist][pname] = b[pname]\n",
    "for ood in opt.ood_list:\n",
    "    SCOREs[opt.train_dist][ood] = _scores[ood]"
   ]
  },
  {
   "cell_type": "code",
   "execution_count": 6,
   "id": "stretch-trainer",
   "metadata": {},
   "outputs": [
    {
     "data": {
      "text/plain": [
       "{'Econv1_w': {'cifar10': 0.5,\n",
       "  'svhn': 0.9230489800000001,\n",
       "  'celeba': 0.84459114,\n",
       "  'lsun': 0.5722578,\n",
       "  'cifar100': 0.55827958,\n",
       "  'mnist': 0.99933812,\n",
       "  'fmnist': 0.99551616,\n",
       "  'kmnist': 0.9993796399999999,\n",
       "  'omniglot': 0.9905913199999998,\n",
       "  'notmnist': 0.9977025599999999,\n",
       "  'noise': 0.25670298,\n",
       "  'constant': 0.9945456799999999}}"
      ]
     },
     "execution_count": 6,
     "metadata": {},
     "output_type": "execute_result"
    }
   ],
   "source": [
    "# AUROC curve\n",
    "auroc = {}\n",
    "for pname in params.keys():\n",
    "    _auroc = {}\n",
    "    for ood in opt.ood_list:\n",
    "        args = [\n",
    "            SCOREs[opt.train_dist][opt.train_dist][pname],\n",
    "            SCOREs[opt.train_dist][ood][pname],\n",
    "        ]\n",
    "        labels = [opt.train_dist, ood]\n",
    "        _auroc[ood] = AUROC(*args, labels=labels, verbose=False)\n",
    "    auroc[pname] = _auroc\n",
    "    \n",
    "auroc"
   ]
  },
  {
   "cell_type": "code",
   "execution_count": 6,
   "id": "concrete-holmes",
   "metadata": {},
   "outputs": [],
   "source": [
    "# Just show scores\n",
    "# plot_scores_all_layers(train_dist, params, SCOREs, opt, save=True)\n"
   ]
  },
  {
   "cell_type": "code",
   "execution_count": null,
   "id": "integrated-implementation",
   "metadata": {},
   "outputs": [],
   "source": []
  },
  {
   "cell_type": "markdown",
   "id": "overhead-vanilla",
   "metadata": {},
   "source": [
    "# VAE-FMNIST"
   ]
  },
  {
   "cell_type": "code",
   "execution_count": 4,
   "id": "fallen-agenda",
   "metadata": {},
   "outputs": [],
   "source": [
    "opt = config.VAE_fmnist\n",
    "netE, netG = load_pretrained_VAE(option=opt.train_dist, ngf=32, nz=100, beta=1)\n",
    "netE.eval()\n",
    "netG.eval()\n",
    "\n",
    "params = {\n",
    "    #'Emain0_w': netE.main[0].weight,\n",
    "    #'Emain1_w': netE.main[1].weight,\n",
    "    #'Emain1_b': netE.main[1].bias,\n",
    "    #'Emain3_w': netE.main[3].weight,\n",
    "    #'Emain4_w': netE.main[4].weight,\n",
    "    #'Emain4_b': netE.main[4].bias,\n",
    "    #'Emain6_w': netE.main[6].weight,\n",
    "    #'Emain7_w': netE.main[7].weight,\n",
    "    #'Emain7_b': netE.main[7].bias,\n",
    "    'Econv1_w': netE.conv1.weight,\n",
    "    #'Econv1_b': netE.conv1.bias,\n",
    "    #'Econv2_w': netE.conv2.weight,\n",
    "    #'Econv2_b': netE.conv2.bias,\n",
    "    #'Gmain0_w': netG.main[0].weight,\n",
    "    #'Gmain1_w': netG.main[1].weight,\n",
    "    #'Gmain1_b': netG.main[1].bias,\n",
    "    #'Gmain3_w': netG.main[3].weight,\n",
    "    #'Gmain4_w': netG.main[4].weight,\n",
    "    #'Gmain4_b': netG.main[4].bias,\n",
    "    #'Gmain6_w': netG.main[6].weight,\n",
    "    #'Gmain7_w': netG.main[7].weight,\n",
    "    #'Gmain7_b': netG.main[7].bias,\n",
    "    #'Gmain9_w': netG.main[9].weight,\n",
    "}"
   ]
  },
  {
   "cell_type": "code",
   "execution_count": 7,
   "id": "biological-forth",
   "metadata": {},
   "outputs": [
    {
     "name": "stderr",
     "output_type": "stream",
     "text": [
      "Calculate Fisher VAE:  17%|████████▋                                           | 9999/60000 [01:35<07:56, 105.00step/s]\n",
      "Calculate Score VAE:  50%|██████████████████████████▍                          | 4999/10000 [00:33<00:33, 148.39step/s]\n"
     ]
    },
    {
     "name": "stdout",
     "output_type": "stream",
     "text": [
      "Using downloaded and verified file: ../data\\test_32x32.mat\n"
     ]
    },
    {
     "name": "stderr",
     "output_type": "stream",
     "text": [
      "Calculate Score VAE:  19%|██████████▏                                          | 4999/26032 [00:35<02:27, 142.63step/s]\n",
      "Calculate Score VAE:  26%|█████████████▊                                       | 4999/19141 [00:42<02:01, 116.51step/s]\n",
      "Calculate Score VAE: 100%|██████████████████████████████████████████████████████| 3000/3000 [00:27<00:00, 108.14step/s]\n"
     ]
    },
    {
     "name": "stdout",
     "output_type": "stream",
     "text": [
      "Files already downloaded and verified\n"
     ]
    },
    {
     "name": "stderr",
     "output_type": "stream",
     "text": [
      "Calculate Score VAE:  50%|██████████████████████████▍                          | 4999/10000 [00:34<00:34, 143.65step/s]\n"
     ]
    },
    {
     "name": "stdout",
     "output_type": "stream",
     "text": [
      "Files already downloaded and verified\n"
     ]
    },
    {
     "name": "stderr",
     "output_type": "stream",
     "text": [
      "Calculate Score VAE:  50%|██████████████████████████▍                          | 4999/10000 [00:34<00:34, 144.94step/s]\n",
      "Calculate Score VAE:  50%|██████████████████████████▍                          | 4999/10000 [00:33<00:33, 148.50step/s]\n",
      "Calculate Score VAE:  50%|██████████████████████████▍                          | 4999/10000 [00:33<00:33, 148.55step/s]\n"
     ]
    },
    {
     "name": "stdout",
     "output_type": "stream",
     "text": [
      "Files already downloaded and verified\n"
     ]
    },
    {
     "name": "stderr",
     "output_type": "stream",
     "text": [
      "Calculate Score VAE:  38%|████████████████████                                 | 4999/13180 [00:34<00:56, 144.67step/s]\n",
      "Calculate Score VAE:  27%|██████████████▏                                      | 4999/18724 [00:37<01:43, 132.63step/s]\n",
      "Calculate Score VAE:  50%|██████████████████████████▍                          | 4999/10000 [00:32<00:32, 154.69step/s]\n",
      "Calculate Score VAE:  50%|██████████████████████████▍                          | 4999/10000 [00:32<00:32, 154.88step/s]\n"
     ]
    }
   ],
   "source": [
    "a, b, _scores = AUTO_VAE(opt, netE, netG, params, max_iter=[10000, 5000], loss_type='ELBO_pixel', method='SMW')"
   ]
  },
  {
   "cell_type": "code",
   "execution_count": 9,
   "id": "painted-substance",
   "metadata": {},
   "outputs": [],
   "source": [
    "for pname in params.keys():\n",
    "    FISHERs[opt.train_dist][pname] = a[pname] \n",
    "    NORM_FACs[opt.train_dist][pname] = b[pname]\n",
    "for ood in opt.ood_list:\n",
    "    SCOREs[opt.train_dist][ood] = _scores[ood]"
   ]
  },
  {
   "cell_type": "code",
   "execution_count": 11,
   "id": "appreciated-clerk",
   "metadata": {},
   "outputs": [
    {
     "data": {
      "text/plain": [
       "{'Econv1_w': {'fmnist': 0.5,\n",
       "  'svhn': 0.9998754000000001,\n",
       "  'celeba': 0.99931916,\n",
       "  'lsun': 0.9989489333333333,\n",
       "  'cifar10': 0.99863984,\n",
       "  'cifar100': 0.9984999600000001,\n",
       "  'mnist': 0.99330204,\n",
       "  'kmnist': 0.99609384,\n",
       "  'omniglot': 1.0,\n",
       "  'notmnist': 0.99976164,\n",
       "  'noise': 0.9811936,\n",
       "  'constant': 0.99809412}}"
      ]
     },
     "execution_count": 11,
     "metadata": {},
     "output_type": "execute_result"
    }
   ],
   "source": [
    "# AUROC curve\n",
    "auroc = {}\n",
    "for pname in params.keys():\n",
    "    _auroc = {}\n",
    "    for ood in opt.ood_list:\n",
    "        args = [\n",
    "            SCOREs[opt.train_dist][opt.train_dist][pname],\n",
    "            SCOREs[opt.train_dist][ood][pname],\n",
    "        ]\n",
    "        labels = [opt.train_dist, ood]\n",
    "        _auroc[ood] = AUROC(*args, labels=labels, verbose=False)\n",
    "    auroc[pname] = _auroc\n",
    "    \n",
    "auroc"
   ]
  },
  {
   "cell_type": "code",
   "execution_count": null,
   "id": "conventional-disaster",
   "metadata": {},
   "outputs": [],
   "source": [
    "# Just show scores\n",
    "# plot_scores_all_layers(train_dist, params, SCOREs, opt, save=True)"
   ]
  },
  {
   "cell_type": "code",
   "execution_count": null,
   "id": "major-craps",
   "metadata": {},
   "outputs": [],
   "source": []
  }
 ],
 "metadata": {
  "kernelspec": {
   "display_name": "ycy",
   "language": "python",
   "name": "ycy"
  },
  "language_info": {
   "codemirror_mode": {
    "name": "ipython",
    "version": 3
   },
   "file_extension": ".py",
   "mimetype": "text/x-python",
   "name": "python",
   "nbconvert_exporter": "python",
   "pygments_lexer": "ipython3",
   "version": "3.8.5"
  }
 },
 "nbformat": 4,
 "nbformat_minor": 5
}
