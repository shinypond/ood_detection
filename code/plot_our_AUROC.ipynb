{
 "cells": [
  {
   "cell_type": "code",
   "execution_count": 1,
   "id": "eed79419-82a0-42c3-9bf2-d98d8d290507",
   "metadata": {},
   "outputs": [],
   "source": [
    "%load_ext autoreload\n",
    "%autoreload 2\n",
    "import os\n",
    "import sys\n",
    "sys.path.append(os.getcwd() + '/core')\n",
    "import numpy as np\n",
    "import pandas as pd\n",
    "import matplotlib.pyplot as plt\n",
    "\n",
    "from visualize import AUROC\n",
    "import config"
   ]
  },
  {
   "cell_type": "code",
   "execution_count": 24,
   "id": "fde83ae7-3d0e-418b-9e83-fde771f4414d",
   "metadata": {},
   "outputs": [
    {
     "data": {
      "text/plain": [
       "array([ 17.091173, 161.8462  ,  58.216686, ..., 135.55653 , 175.08392 ,\n",
       "        46.07462 ], dtype=float32)"
      ]
     },
     "execution_count": 24,
     "metadata": {},
     "output_type": "execute_result"
    }
   ],
   "source": [
    "vanilla = np.load(f'./FSS_npy/VAE_cifar10/cifar10_svhn_Vanilla.npy', allow_pickle=True)\n",
    "smw = np.load(f'./FSS_npy/VAE_cifar10/cifar10_svhn_SMW.npy')\n",
    "\n",
    "smw"
   ]
  }
 ],
 "metadata": {
  "kernelspec": {
   "display_name": "torch",
   "language": "python",
   "name": "torch"
  },
  "language_info": {
   "codemirror_mode": {
    "name": "ipython",
    "version": 3
   },
   "file_extension": ".py",
   "mimetype": "text/x-python",
   "name": "python",
   "nbconvert_exporter": "python",
   "pygments_lexer": "ipython3",
   "version": "3.8.10"
  }
 },
 "nbformat": 4,
 "nbformat_minor": 5
}
