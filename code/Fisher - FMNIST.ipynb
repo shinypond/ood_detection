{
 "cells": [
  {
   "cell_type": "code",
   "execution_count": 12,
   "metadata": {},
   "outputs": [],
   "source": [
    "%load_ext autoreload\n",
    "%autoreload 2\n",
    "import numpy as np\n",
    "import torch\n",
    "from torch import nn\n",
    "import torch\n",
    "from basic_CNN import basic_CNN as CNN\n",
    "import argparse\n",
    "import numpy as np\n",
    "import torch\n",
    "import torch.nn as nn\n",
    "import torch.nn.parallel\n",
    "import torch.backends.cudnn as cudnn\n",
    "import torch.optim as optim\n",
    "import torch.utils.data\n",
    "import torchvision.datasets as dset\n",
    "import torchvision.transforms as transforms\n",
    "from torch.autograd import Variable\n",
    "import torch.nn.functional as F\n",
    "from torchvision.datasets import ImageFolder\n",
    "import matplotlib.pyplot as plt"
   ]
  },
  {
   "cell_type": "markdown",
   "metadata": {},
   "source": [
    "# Setting"
   ]
  },
  {
   "cell_type": "code",
   "execution_count": 13,
   "metadata": {},
   "outputs": [
    {
     "data": {
      "text/plain": [
       "<torch._C.Generator at 0x1a80a359510>"
      ]
     },
     "execution_count": 13,
     "metadata": {},
     "output_type": "execute_result"
    }
   ],
   "source": [
    "class config:\n",
    "    dataroot = '../data'\n",
    "    workers = 1\n",
    "    imageSize = 32\n",
    "    nc = 1 # input image channels\n",
    "    ngpu = 1\n",
    "    state_cnn = '../saved_models/Supervised_fmnist/cnn.pth'\n",
    "    batch_size = 1\n",
    "    train_batchsize = 1\n",
    "    num_samples=20\n",
    "opt = config\n",
    "\n",
    "np.random.seed(1234)\n",
    "torch.manual_seed(1234)\n",
    "#torch.backends.cudnn.deterministic = True\n",
    "#torch.set_deterministic(True)"
   ]
  },
  {
   "cell_type": "markdown",
   "metadata": {},
   "source": [
    "# DataLoader"
   ]
  },
  {
   "cell_type": "code",
   "execution_count": 14,
   "metadata": {
    "scrolled": true
   },
   "outputs": [
    {
     "data": {
      "text/plain": [
       "basic_CNN(\n",
       "  (layer1): Sequential(\n",
       "    (0): Conv2d(1, 32, kernel_size=(3, 3), stride=(1, 1), padding=(1, 1))\n",
       "    (1): ReLU()\n",
       "    (2): MaxPool2d(kernel_size=2, stride=2, padding=0, dilation=1, ceil_mode=False)\n",
       "  )\n",
       "  (layer2): Sequential(\n",
       "    (0): Conv2d(32, 64, kernel_size=(3, 3), stride=(1, 1), padding=(1, 1))\n",
       "    (1): ReLU()\n",
       "    (2): MaxPool2d(kernel_size=2, stride=2, padding=0, dilation=1, ceil_mode=False)\n",
       "  )\n",
       "  (layer3): Sequential(\n",
       "    (0): Conv2d(64, 128, kernel_size=(3, 3), stride=(1, 1), padding=(1, 1))\n",
       "    (1): ReLU()\n",
       "    (2): MaxPool2d(kernel_size=2, stride=2, padding=0, dilation=1, ceil_mode=False)\n",
       "  )\n",
       "  (fc1): Linear(in_features=2048, out_features=625, bias=True)\n",
       "  (layer4): Sequential(\n",
       "    (0): Linear(in_features=2048, out_features=625, bias=True)\n",
       "    (1): ReLU()\n",
       "  )\n",
       "  (fc2): Linear(in_features=625, out_features=10, bias=True)\n",
       ")"
      ]
     },
     "execution_count": 14,
     "metadata": {},
     "output_type": "execute_result"
    }
   ],
   "source": [
    "device = 'cuda:0' if torch.cuda.is_available() else 'cpu'\n",
    "\n",
    "cnn = CNN(opt.imageSize, opt.nc).to(device)\n",
    "state_cnn = torch.load(opt.state_cnn, map_location = device)\n",
    "cnn.load_state_dict(state_cnn)\n",
    "\n",
    "cnn.eval()"
   ]
  },
  {
   "cell_type": "code",
   "execution_count": 15,
   "metadata": {
    "scrolled": true
   },
   "outputs": [],
   "source": [
    "dataset_fmnist = dset.FashionMNIST(root=opt.dataroot, train=False, download=True, transform=transforms.Compose([\n",
    "                                transforms.Resize((opt.imageSize)),\n",
    "                                transforms.ToTensor(),\n",
    "                            ]))\n",
    "test_loader_fmnist = torch.utils.data.DataLoader(dataset_fmnist, batch_size=opt.batch_size,\n",
    "                                            shuffle=False, num_workers=int(opt.workers))\n",
    "    \n",
    "dataset_mnist = dset.MNIST(root=opt.dataroot, train=False, download=True, transform=transforms.Compose([\n",
    "                                transforms.Resize((opt.imageSize,opt.imageSize)),\n",
    "                                transforms.ToTensor(),\n",
    "                            ]))\n",
    "\n",
    "test_loader_mnist = torch.utils.data.DataLoader(dataset_mnist, batch_size=opt.batch_size,\n",
    "                                            shuffle=False, num_workers=int(opt.workers))"
   ]
  },
  {
   "cell_type": "code",
   "execution_count": 16,
   "metadata": {},
   "outputs": [
    {
     "data": {
      "text/plain": [
       "0.9285"
      ]
     },
     "execution_count": 16,
     "metadata": {},
     "output_type": "execute_result"
    }
   ],
   "source": [
    "acc = 0\n",
    "for i, (x,y) in enumerate(test_loader_fmnist):\n",
    "    pred = cnn(x.float().cuda())\n",
    "    if torch.argmax(pred).detach().cpu() == y:\n",
    "        acc += 1\n",
    "    if i==10000:\n",
    "        break\n",
    "acc/10000"
   ]
  },
  {
   "cell_type": "markdown",
   "metadata": {},
   "source": [
    "# Basic Gradient Method"
   ]
  },
  {
   "cell_type": "code",
   "execution_count": 17,
   "metadata": {},
   "outputs": [],
   "source": [
    "optimizer = optim.SGD(cnn.parameters(), lr=0, momentum=0)\n",
    "loss_fn = nn.CrossEntropyLoss(reduction='mean')"
   ]
  },
  {
   "cell_type": "code",
   "execution_count": 26,
   "metadata": {},
   "outputs": [],
   "source": [
    "fmnist_Gradients = []\n",
    "for i, (x, y) in enumerate(test_loader_fmnist):\n",
    "    x = x.to(device)\n",
    "    y = y.to(device)\n",
    "    y_pred = cnn(x)\n",
    "    optimizer.zero_grad()\n",
    "    loss = loss_fn(y_pred, y)\n",
    "    loss.backward()\n",
    "    gradient_val = sum([torch.norm(p.grad)**2 for p in cnn.parameters()])\n",
    "    fmnist_Gradients.append(gradient_val.detach().cpu().numpy())\n",
    "    if i%3000==2999:\n",
    "        break\n",
    "        \n",
    "fmnist_Gradients = np.array(fmnist_Gradients) / 100"
   ]
  },
  {
   "cell_type": "code",
   "execution_count": 27,
   "metadata": {},
   "outputs": [],
   "source": [
    "mnist_Gradients = []\n",
    "for i, (x, y) in enumerate(test_loader_mnist):\n",
    "    x = x.to(device)\n",
    "    y = y.to(device)\n",
    "    y_pred = cnn(x)\n",
    "    optimizer.zero_grad()\n",
    "    loss = loss_fn(y_pred, y)\n",
    "    loss.backward()\n",
    "    gradient_val = sum([torch.norm(p.grad)**2 for p in cnn.parameters()])\n",
    "    mnist_Gradients.append(gradient_val.detach().cpu().numpy())\n",
    "    if i%3000==2999:\n",
    "        break\n",
    "        \n",
    "mnist_Gradients = np.array(mnist_Gradients) / 100"
   ]
  },
  {
   "cell_type": "code",
   "execution_count": 33,
   "metadata": {},
   "outputs": [
    {
     "data": {
      "image/png": "[encoded data removed]",
      "text/plain": [
       "<Figure size 864x576 with 1 Axes>"
      ]
     },
     "metadata": {
      "needs_background": "light"
     },
     "output_type": "display_data"
    }
   ],
   "source": [
    "fig = plt.figure(figsize=(12, 8))\n",
    "plt.hist(fmnist_Gradients, bins=100, label='fmnist_gradients')\n",
    "plt.hist(mnist_Gradients, bins=100, alpha=0.5, label='mnist_gradients')\n",
    "plt.legend()\n",
    "plt.show()"
   ]
  },
  {
   "cell_type": "code",
   "execution_count": 34,
   "metadata": {},
   "outputs": [
    {
     "name": "stdout",
     "output_type": "stream",
     "text": [
      "AUC for Gradient Norm is:  0.9556939999999999\n"
     ]
    },
    {
     "data": {
      "text/plain": [
       "[<matplotlib.lines.Line2D at 0x1a9c506bee0>]"
      ]
     },
     "execution_count": 34,
     "metadata": {},
     "output_type": "execute_result"
    },
    {
     "data": {
      "image/png": "[encoded data removed]",
      "text/plain": [
       "<Figure size 432x288 with 1 Axes>"
      ]
     },
     "metadata": {
      "needs_background": "light"
     },
     "output_type": "display_data"
    }
   ],
   "source": [
    "from sklearn import metrics\n",
    "\n",
    "combined = np.concatenate((fmnist_Gradients, mnist_Gradients))\n",
    "label_1 = np.ones(len(fmnist_Gradients))\n",
    "label_2 = np.zeros(len(mnist_Gradients))\n",
    "label = np.concatenate((label_1, label_2))\n",
    "\n",
    "fpr, tpr, thresholds = metrics.roc_curve(label, combined, pos_label=0)\n",
    "\n",
    "rocauc = metrics.auc(fpr, tpr)\n",
    "print('AUC for Gradient Norm is: ', rocauc)\n",
    "plt.plot(fpr, tpr)"
   ]
  },
  {
   "cell_type": "markdown",
   "metadata": {},
   "source": [
    "# Naive Fisher Information"
   ]
  },
  {
   "cell_type": "code",
   "execution_count": 35,
   "metadata": {},
   "outputs": [],
   "source": [
    "dicts = [cnn.fc2]"
   ]
  },
  {
   "cell_type": "code",
   "execution_count": 36,
   "metadata": {},
   "outputs": [],
   "source": [
    "dataset_fmnist_train = dset.FashionMNIST(root=opt.dataroot, train=True, download=True, transform=transforms.Compose([\n",
    "                                transforms.Resize((opt.imageSize)),\n",
    "                                transforms.ToTensor(),\n",
    "                            ]))\n",
    "dataloader_fmnist = torch.utils.data.DataLoader(dataset_fmnist_train, batch_size=opt.train_batchsize,\n",
    "                                                shuffle=True, num_workers=int(opt.workers))"
   ]
  },
  {
   "cell_type": "code",
   "execution_count": 38,
   "metadata": {},
   "outputs": [],
   "source": [
    "optimizer = optim.SGD(cnn.parameters(), lr=0,momentum=0)\n",
    "loss_fn = nn.CrossEntropyLoss(reduction = 'mean')\n",
    "\n",
    "for i, (x, y) in enumerate(dataloader_fmnist):\n",
    "    optimizer.zero_grad()\n",
    "    x = x.to(device)\n",
    "    y = y.to(device)\n",
    "    y_pred = cnn(x)\n",
    "    optimizer.zero_grad()\n",
    "    loss = loss_fn(y_pred, y)\n",
    "    loss.backward()\n",
    "    grads = []\n",
    "    for x in dicts:\n",
    "        for param in x.parameters():\n",
    "            grads.append(param.grad.view(-1)**2) \n",
    "    grads = torch.cat(grads)\n",
    "    if i!=0:\n",
    "        Grads = (i*Grads + grads)/(i+1)\n",
    "    else:\n",
    "        Grads = grads\n",
    "\n",
    "Grads = torch.sqrt(Grads)\n",
    "Grads = 1000*Grads+0.0001\n",
    "Grads = Grads.detach().cpu().numpy()"
   ]
  },
  {
   "cell_type": "code",
   "execution_count": null,
   "metadata": {
    "scrolled": true
   },
   "outputs": [],
   "source": [
    "plt.hist(np.where(Grads.detach().cpu()>2000, 2000, Grads.detach().cpu()), bins=100)"
   ]
  },
  {
   "cell_type": "code",
   "execution_count": 34,
   "metadata": {
    "scrolled": true
   },
   "outputs": [],
   "source": [
    "temp=10\n",
    "fmnist_Gradients = []\n",
    "for i, (x, _) in enumerate(test_loader_fmnist):\n",
    "    x = x.to(device)\n",
    "    y_pred = cnn(x)\n",
    "    y = torch.argmax(y_pred, dim=1)\n",
    "    optimizer.zero_grad()\n",
    "    loss = loss_fn(y_pred/temp, y)\n",
    "    loss.backward()\n",
    "    grads = []\n",
    "    for x in dicts:\n",
    "        for param in x.parameters():\n",
    "            grads.append(param.grad.view(-1)**2) \n",
    "    grads = torch.cat(grads)\n",
    "    gradient_val = torch.norm(grads/Grads)\n",
    "    fmnist_Gradients.append(gradient_val.detach().cpu())\n",
    "    if i%3000==2999:\n",
    "        break"
   ]
  },
  {
   "cell_type": "code",
   "execution_count": 35,
   "metadata": {},
   "outputs": [],
   "source": [
    "mnist_Gradients = []\n",
    "for i, (x, _) in enumerate(test_loader_mnist):\n",
    "    x = x.to(device)\n",
    "    y_pred = cnn(x)\n",
    "    y = torch.argmax(y_pred, dim=1)\n",
    "    optimizer.zero_grad()\n",
    "    loss = loss_fn(y_pred/temp, y)\n",
    "    loss.backward()\n",
    "    grads = []\n",
    "    for x in dicts:\n",
    "        for param in x.parameters():\n",
    "            grads.append(param.grad.view(-1)**2) \n",
    "    grads = torch.cat(grads)\n",
    "    gradient_val = torch.norm(grads/Grads)\n",
    "    mnist_Gradients.append(gradient_val.detach().cpu())\n",
    "    if i%3000==2999:\n",
    "        break"
   ]
  },
  {
   "cell_type": "code",
   "execution_count": 36,
   "metadata": {
    "scrolled": true
   },
   "outputs": [
    {
     "data": {
      "text/plain": [
       "(0, 5)"
      ]
     },
     "execution_count": 36,
     "metadata": {},
     "output_type": "execute_result"
    },
    {
     "data": {
      "image/png": "[encoded data removed]",
      "text/plain": [
       "<Figure size 432x288 with 1 Axes>"
      ]
     },
     "metadata": {
      "needs_background": "light"
     },
     "output_type": "display_data"
    }
   ],
   "source": [
    "import matplotlib.pyplot as plt\n",
    "fmnist_Gradients = torch.tensor(fmnist_Gradients)\n",
    "plt.hist(fmnist_Gradients, bins=100)\n",
    "\n",
    "mnist_Gradients = torch.tensor(mnist_Gradients)\n",
    "plt.hist(mnist_Gradients, bins=400, alpha=0.5)\n",
    "plt.xlim(0,5)"
   ]
  },
  {
   "cell_type": "code",
   "execution_count": 37,
   "metadata": {},
   "outputs": [
    {
     "name": "stdout",
     "output_type": "stream",
     "text": [
      "AUC for Gradient Norm is:  0.9924385555555555\n"
     ]
    },
    {
     "data": {
      "text/plain": [
       "[<matplotlib.lines.Line2D at 0x1fcb0fbfac8>]"
      ]
     },
     "execution_count": 37,
     "metadata": {},
     "output_type": "execute_result"
    },
    {
     "data": {
      "image/png": "[encoded data removed]",
      "text/plain": [
       "<Figure size 432x288 with 1 Axes>"
      ]
     },
     "metadata": {
      "needs_background": "light"
     },
     "output_type": "display_data"
    }
   ],
   "source": [
    "from sklearn import metrics\n",
    "\n",
    "combined = np.concatenate((fmnist_Gradients, mnist_Gradients))\n",
    "label_1 = np.ones(len(fmnist_Gradients))\n",
    "label_2 = np.zeros(len(mnist_Gradients))\n",
    "label = np.concatenate((label_1, label_2))\n",
    "\n",
    "fpr, tpr, thresholds = metrics.roc_curve(label, combined, pos_label=0)\n",
    "\n",
    "#plot_roc_curve(fpr, tpr)\n",
    "\n",
    "rocauc = metrics.auc(fpr, tpr)\n",
    "print('AUC for Gradient Norm is: ', rocauc)\n",
    "plt.plot(fpr, tpr)"
   ]
  },
  {
   "cell_type": "code",
   "execution_count": null,
   "metadata": {},
   "outputs": [],
   "source": [
    "# 버려 밑으론"
   ]
  },
  {
   "cell_type": "code",
   "execution_count": null,
   "metadata": {},
   "outputs": [],
   "source": []
  },
  {
   "cell_type": "markdown",
   "metadata": {},
   "source": [
    "# Score test v2"
   ]
  },
  {
   "cell_type": "code",
   "execution_count": 33,
   "metadata": {},
   "outputs": [],
   "source": [
    "optimizer = optim.SGD(cnn.parameters(), lr=0,momentum=0)\n",
    "loss_fn = nn.CrossEntropyLoss(reduction = 'mean')\n",
    "\n",
    "for i, (x, y) in enumerate(dataloader_fmnist):\n",
    "    optimizer.zero_grad()\n",
    "    x = x.to(device)\n",
    "    y = y.to(device)\n",
    "    y_pred = cnn(x)\n",
    "    optimizer.zero_grad()\n",
    "    loss = loss_fn(y_pred, y)\n",
    "    loss.backward()\n",
    "    gradsq = []\n",
    "    grads = []\n",
    "    for param in cnn.parameters():\n",
    "        gradsq.append(param.grad.view(-1)**2)\n",
    "        grads.append(param.grad.view(-1))\n",
    "    gradsq = torch.cat(gradsq)\n",
    "    grads = torch.cat(grads)\n",
    "    if i!=0:\n",
    "        Gradsq = (i*Gradsq + gradsq)/(i+1)\n",
    "        Grads = (i*Grads + grads)/(i+1)\n",
    "    else:\n",
    "        Gradsq = gradsq\n",
    "        Grads = grads"
   ]
  },
  {
   "cell_type": "code",
   "execution_count": 42,
   "metadata": {},
   "outputs": [],
   "source": [
    "fmnist_Gradients = []\n",
    "for i, (x, y) in enumerate(test_loader_fmnist):\n",
    "    x = x.to(device)\n",
    "    y = y.to(device)\n",
    "    y_pred = cnn(x)\n",
    "    optimizer.zero_grad()\n",
    "    loss = loss_fn(y_pred, y)\n",
    "    loss.backward()\n",
    "    grads = []\n",
    "    gradsq = []\n",
    "    for param in cnn.parameters():\n",
    "        grads.append(param.grad.view(-1))\n",
    "        gradsq.append(param.grad.view(-1)**2)\n",
    "    grads = torch.cat(grads)\n",
    "    gradsq = torch.cat(gradsq)\n",
    "    Fisher = torch.sqrt(gradsq+1e4*Gradsq+1e-4)\n",
    "    gradient_val = torch.norm(grads/Fisher)\n",
    "    fmnist_Gradients.append(gradient_val.detach().cpu())\n",
    "    if i%3000==2999:\n",
    "        break"
   ]
  },
  {
   "cell_type": "code",
   "execution_count": 43,
   "metadata": {},
   "outputs": [],
   "source": [
    "mnist_Gradients = []\n",
    "for i, (x, y) in enumerate(test_loader_mnist):\n",
    "    x = x.to(device)\n",
    "    y = y.to(device)\n",
    "    y_pred = cnn(x)\n",
    "    optimizer.zero_grad()\n",
    "    loss = loss_fn(y_pred, y)\n",
    "    loss.backward()\n",
    "    grads = []\n",
    "    gradsq = []\n",
    "    for param in cnn.parameters():\n",
    "        grads.append(param.grad.view(-1))\n",
    "        gradsq.append(param.grad.view(-1)**2)\n",
    "    grads = torch.cat(grads)\n",
    "    gradsq = torch.cat(gradsq)\n",
    "    Fisher = torch.sqrt(gradsq+1e4*Gradsq+1e-4)\n",
    "    gradient_val = torch.norm(grads/Fisher)\n",
    "    mnist_Gradients.append(gradient_val.detach().cpu())\n",
    "    if i%3000==2999:\n",
    "        break"
   ]
  },
  {
   "cell_type": "code",
   "execution_count": 44,
   "metadata": {},
   "outputs": [
    {
     "data": {
      "text/plain": [
       "(array([131.,  21.,  13.,  10.,   9.,   4.,   5.,   3.,  11.,   6.,   4.,\n",
       "          3.,   8.,   3.,   4.,   4.,   2.,   1.,   2.,   7.,   5.,   1.,\n",
       "          6.,   4.,   6.,   6.,   3.,   2.,   1.,   3.,   3.,   5.,   2.,\n",
       "          4.,   2.,   2.,   5.,   3.,   3.,   1.,   3.,   3.,   6.,   1.,\n",
       "          2.,   4.,   1.,   2.,   2.,   3.,   2.,   0.,   3.,   4.,   5.,\n",
       "          4.,   7.,   4.,   6.,   1.,   2.,   6.,   1.,   0.,   4.,   3.,\n",
       "          8.,   7.,   6.,  11.,   3.,   5.,   9.,   9.,  10.,  10.,  13.,\n",
       "         17.,  16.,  13.,  24.,  36.,  40.,  59.,  94., 116., 166., 176.,\n",
       "        246., 249., 279., 237., 207., 200., 153., 109.,  49.,  17.,   5.,\n",
       "          4.]),\n",
       " array([2.37450559e-10, 4.38079691e+00, 8.76159382e+00, 1.31423903e+01,\n",
       "        1.75231876e+01, 2.19039841e+01, 2.62847805e+01, 3.06655769e+01,\n",
       "        3.50463753e+01, 3.94271698e+01, 4.38079681e+01, 4.81887665e+01,\n",
       "        5.25695610e+01, 5.69503593e+01, 6.13311539e+01, 6.57119522e+01,\n",
       "        7.00927505e+01, 7.44735489e+01, 7.88543396e+01, 8.32351379e+01,\n",
       "        8.76159363e+01, 9.19967346e+01, 9.63775330e+01, 1.00758324e+02,\n",
       "        1.05139122e+02, 1.09519920e+02, 1.13900719e+02, 1.18281517e+02,\n",
       "        1.22662308e+02, 1.27043106e+02, 1.31423904e+02, 1.35804703e+02,\n",
       "        1.40185501e+02, 1.44566299e+02, 1.48947098e+02, 1.53327896e+02,\n",
       "        1.57708679e+02, 1.62089478e+02, 1.66470276e+02, 1.70851074e+02,\n",
       "        1.75231873e+02, 1.79612671e+02, 1.83993469e+02, 1.88374268e+02,\n",
       "        1.92755066e+02, 1.97135864e+02, 2.01516647e+02, 2.05897446e+02,\n",
       "        2.10278244e+02, 2.14659042e+02, 2.19039841e+02, 2.23420639e+02,\n",
       "        2.27801437e+02, 2.32182236e+02, 2.36563034e+02, 2.40943832e+02,\n",
       "        2.45324615e+02, 2.49705414e+02, 2.54086212e+02, 2.58467010e+02,\n",
       "        2.62847809e+02, 2.67228607e+02, 2.71609406e+02, 2.75990204e+02,\n",
       "        2.80371002e+02, 2.84751801e+02, 2.89132599e+02, 2.93513397e+02,\n",
       "        2.97894196e+02, 3.02274994e+02, 3.06655792e+02, 3.11036560e+02,\n",
       "        3.15417358e+02, 3.19798157e+02, 3.24178955e+02, 3.28559753e+02,\n",
       "        3.32940552e+02, 3.37321350e+02, 3.41702148e+02, 3.46082947e+02,\n",
       "        3.50463745e+02, 3.54844543e+02, 3.59225342e+02, 3.63606140e+02,\n",
       "        3.67986938e+02, 3.72367737e+02, 3.76748535e+02, 3.81129333e+02,\n",
       "        3.85510132e+02, 3.89890930e+02, 3.94271729e+02, 3.98652496e+02,\n",
       "        4.03033295e+02, 4.07414093e+02, 4.11794891e+02, 4.16175690e+02,\n",
       "        4.20556488e+02, 4.24937286e+02, 4.29318085e+02, 4.33698883e+02,\n",
       "        4.38079681e+02], dtype=float32),\n",
       " <a list of 100 Patch objects>)"
      ]
     },
     "execution_count": 44,
     "metadata": {},
     "output_type": "execute_result"
    },
    {
     "data": {
      "image/png": "[encoded data removed]",
      "text/plain": [
       "<Figure size 432x288 with 1 Axes>"
      ]
     },
     "metadata": {
      "needs_background": "light"
     },
     "output_type": "display_data"
    }
   ],
   "source": [
    "import matplotlib.pyplot as plt\n",
    "fmnist_Gradients = torch.tensor(fmnist_Gradients)\n",
    "plt.hist(fmnist_Gradients, bins=10)\n",
    "\n",
    "mnist_Gradients = torch.tensor(mnist_Gradients)\n",
    "plt.hist(mnist_Gradients, bins=100, alpha=0.5)"
   ]
  },
  {
   "cell_type": "code",
   "execution_count": 45,
   "metadata": {},
   "outputs": [
    {
     "name": "stdout",
     "output_type": "stream",
     "text": [
      "AUC for Gradient Norm is:  0.9660128888888888\n"
     ]
    },
    {
     "data": {
      "text/plain": [
       "[<matplotlib.lines.Line2D at 0x216bcdca748>]"
      ]
     },
     "execution_count": 45,
     "metadata": {},
     "output_type": "execute_result"
    },
    {
     "data": {
      "image/png": "[encoded data removed]",
      "text/plain": [
       "<Figure size 432x288 with 1 Axes>"
      ]
     },
     "metadata": {
      "needs_background": "light"
     },
     "output_type": "display_data"
    }
   ],
   "source": [
    "from sklearn import metrics\n",
    "\n",
    "combined = np.concatenate((fmnist_Gradients, mnist_Gradients))\n",
    "label_1 = np.ones(len(fmnist_Gradients))\n",
    "label_2 = np.zeros(len(mnist_Gradients))\n",
    "label = np.concatenate((label_1, label_2))\n",
    "\n",
    "fpr, tpr, thresholds = metrics.roc_curve(label, combined, pos_label=0)\n",
    "\n",
    "#plot_roc_curve(fpr, tpr)\n",
    "\n",
    "rocauc = metrics.auc(fpr, tpr)\n",
    "print('AUC for Gradient Norm is: ', rocauc)\n",
    "plt.plot(fpr, tpr)"
   ]
  },
  {
   "cell_type": "code",
   "execution_count": null,
   "metadata": {},
   "outputs": [],
   "source": []
  }
 ],
 "metadata": {
  "kernelspec": {
   "display_name": "ycy",
   "language": "python",
   "name": "ycy"
  },
  "language_info": {
   "codemirror_mode": {
    "name": "ipython",
    "version": 3
   },
   "file_extension": ".py",
   "mimetype": "text/x-python",
   "name": "python",
   "nbconvert_exporter": "python",
   "pygments_lexer": "ipython3",
   "version": "3.8.5"
  }
 },
 "nbformat": 4,
 "nbformat_minor": 4
}
